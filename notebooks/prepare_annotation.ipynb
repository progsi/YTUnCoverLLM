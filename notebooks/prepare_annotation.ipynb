{
 "cells": [
  {
   "cell_type": "markdown",
   "metadata": {},
   "source": [
    "# Prepare SHS100K"
   ]
  },
  {
   "cell_type": "code",
   "execution_count": 57,
   "metadata": {},
   "outputs": [],
   "source": [
    "import pandas as pd\n",
    "\n",
    "SEPARATOR = \" (SEP) \"\n",
    "\n",
    "data = pd.read_parquet(\"../data/shs100k2_biotag.parquet\")\n",
    "\n",
    "# filter\n",
    "data = data.loc[(~data.NER_TAGS.apply(lambda x: \"B-Artist\" in x)) | (~data.NER_TAGS.apply(lambda x: \"B-WoA\" in x)),\n",
    "          [\"split\", \"set_id\", \"yt_id\", \"title\", \"performer\", \"video_title\", \n",
    "           \"channel_name\", \"description\"]]\n",
    "\n",
    "# WE OMIT JOINING ALL COLUMNS TO REDUCE ANNOTATION EFFORT\n",
    "# data[\"yt_metadata\"] = data[[\"video_title\", \"channel_name\", \"description\"]].agg(SEPARATOR.join, axis=1)\n",
    "\n",
    "data[\"video_title\"] = data[\"video_title\"].str.replace(\"\\n\", \" \").str.replace(\"\\t\", \" \").str.replace(\"\\r\", \" \")\n",
    "\n",
    "# write to disk\n",
    "data[[\"yt_id\", \"title\", \"performer\", \"video_title\"]].astype(str).agg(SEPARATOR.join, axis=1).to_csv(\n",
    "    \"../data/shs100k2_nonmatched.txt\")\n"
   ]
  },
  {
   "cell_type": "markdown",
   "metadata": {},
   "source": [
    "# Prepare Da-Tacos"
   ]
  },
  {
   "cell_type": "code",
   "execution_count": 55,
   "metadata": {},
   "outputs": [],
   "source": [
    "data = pd.read_parquet(\"../data/datacos_biotag.parquet\").drop(\"ver_id\", axis=1)\n",
    "\n",
    "# write to disk for annot\n",
    "data = data.loc[(~data.NER_TAGS.apply(lambda x: \"B-Artist\" in x)) | (~data.NER_TAGS.apply(lambda x: \"B-WoA\" in x)),\n",
    "          [\"set_id\", \"yt_id\", \"title_perf\", \"performer_perf\", \"title_work\", \"performer_work\", \"video_title\", \n",
    "           \"channel_name\", \"description\"]]\n",
    "\n",
    "data[\"video_title\"] = data[\"video_title\"].str.replace(\"\\n\", \" \").str.replace(\"\\t\", \" \").str.replace(\"\\r\", \" \")\n",
    "\n",
    "# write to disk\n",
    "data[[\"yt_id\", \"title_perf\", \"performer_perf\", \"video_title\"]].astype(str).agg(SEPARATOR.join, axis=1).to_csv(\n",
    "    \"../data/datacos_nonmatched.txt\")\n"
   ]
  }
 ],
 "metadata": {
  "kernelspec": {
   "display_name": "torch21",
   "language": "python",
   "name": "python3"
  },
  "language_info": {
   "codemirror_mode": {
    "name": "ipython",
    "version": 3
   },
   "file_extension": ".py",
   "mimetype": "text/x-python",
   "name": "python",
   "nbconvert_exporter": "python",
   "pygments_lexer": "ipython3",
   "version": "3.11.5"
  }
 },
 "nbformat": 4,
 "nbformat_minor": 2
}
