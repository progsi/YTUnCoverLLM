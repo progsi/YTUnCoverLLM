{
 "cells": [
  {
   "cell_type": "code",
   "execution_count": 46,
   "metadata": {},
   "outputs": [],
   "source": [
    "import pandas as pd\n",
    "\n",
    "data = pd.read_parquet(\"../data/dataset/shs100k2/data.parquet\")\n",
    "data[\"performer_single\"] = data.performer.apply(lambda x: x[0] if len(x) > 0 else '')\n",
    "cols = ['set_id', 'yt_id', 'title', 'performer', 'performer_single', 'viewcount', 'split', 'TEXT', 'IOB']\n",
    "data = data[cols]\n",
    "\n",
    "# get and preprocess wikidata\n",
    "cols = [\"link\", \"name\", \"sitelinks\"]\n",
    "data_groups = pd.read_json(\"../data/wikidata/groups.json\")\n",
    "data_groups.musicalGroupLabel = data_groups.musicalGroupLabel.str.lower()\n",
    "data_groups.columns = cols\n",
    "data_groups[\"type\"] = \"Group\"\n",
    "\n",
    "data_humans1 = pd.read_json(\"../data/wikidata/humans1.json\")\n",
    "data_humans1.personLabel = data_humans1.personLabel.str.lower()\n",
    "data_humans1.columns = cols\n",
    "data_humans1[\"type\"] = \"Person\"\n",
    "\n",
    "data_wikidata = pd.concat([data_groups, data_humans1], axis=0, ignore_index=True).drop_duplicates(subset=\"link\")\n"
   ]
  },
  {
   "cell_type": "code",
   "execution_count": 65,
   "metadata": {},
   "outputs": [
    {
     "data": {
      "text/html": [
       "<div>\n",
       "<style scoped>\n",
       "    .dataframe tbody tr th:only-of-type {\n",
       "        vertical-align: middle;\n",
       "    }\n",
       "\n",
       "    .dataframe tbody tr th {\n",
       "        vertical-align: top;\n",
       "    }\n",
       "\n",
       "    .dataframe thead th {\n",
       "        text-align: right;\n",
       "    }\n",
       "</style>\n",
       "<table border=\"1\" class=\"dataframe\">\n",
       "  <thead>\n",
       "    <tr style=\"text-align: right;\">\n",
       "      <th></th>\n",
       "      <th>link</th>\n",
       "      <th>name</th>\n",
       "      <th>sitelinks</th>\n",
       "      <th>type</th>\n",
       "    </tr>\n",
       "  </thead>\n",
       "  <tbody>\n",
       "    <tr>\n",
       "      <th>0</th>\n",
       "      <td>http://www.wikidata.org/entity/Q11036</td>\n",
       "      <td>the rolling stones</td>\n",
       "      <td>270</td>\n",
       "      <td>Group</td>\n",
       "    </tr>\n",
       "    <tr>\n",
       "      <th>1</th>\n",
       "      <td>http://www.wikidata.org/entity/Q1299</td>\n",
       "      <td>the beatles</td>\n",
       "      <td>237</td>\n",
       "      <td>Group</td>\n",
       "    </tr>\n",
       "    <tr>\n",
       "      <th>2</th>\n",
       "      <td>http://www.wikidata.org/entity/Q2331</td>\n",
       "      <td>led zeppelin</td>\n",
       "      <td>234</td>\n",
       "      <td>Group</td>\n",
       "    </tr>\n",
       "    <tr>\n",
       "      <th>3</th>\n",
       "      <td>http://www.wikidata.org/entity/Q11649</td>\n",
       "      <td>nirvana</td>\n",
       "      <td>226</td>\n",
       "      <td>Group</td>\n",
       "    </tr>\n",
       "    <tr>\n",
       "      <th>4</th>\n",
       "      <td>http://www.wikidata.org/entity/Q45188</td>\n",
       "      <td>coldplay</td>\n",
       "      <td>202</td>\n",
       "      <td>Group</td>\n",
       "    </tr>\n",
       "    <tr>\n",
       "      <th>...</th>\n",
       "      <td>...</td>\n",
       "      <td>...</td>\n",
       "      <td>...</td>\n",
       "      <td>...</td>\n",
       "    </tr>\n",
       "    <tr>\n",
       "      <th>19995</th>\n",
       "      <td>http://www.wikidata.org/entity/Q2545626</td>\n",
       "      <td>brett reed</td>\n",
       "      <td>7</td>\n",
       "      <td>Person</td>\n",
       "    </tr>\n",
       "    <tr>\n",
       "      <th>19996</th>\n",
       "      <td>http://www.wikidata.org/entity/Q2609394</td>\n",
       "      <td>branden steineckert</td>\n",
       "      <td>7</td>\n",
       "      <td>Person</td>\n",
       "    </tr>\n",
       "    <tr>\n",
       "      <th>19997</th>\n",
       "      <td>http://www.wikidata.org/entity/Q2642706</td>\n",
       "      <td>tomas asklund</td>\n",
       "      <td>7</td>\n",
       "      <td>Person</td>\n",
       "    </tr>\n",
       "    <tr>\n",
       "      <th>19998</th>\n",
       "      <td>http://www.wikidata.org/entity/Q7356419</td>\n",
       "      <td>rod de'ath</td>\n",
       "      <td>7</td>\n",
       "      <td>Person</td>\n",
       "    </tr>\n",
       "    <tr>\n",
       "      <th>19999</th>\n",
       "      <td>http://www.wikidata.org/entity/Q7358318</td>\n",
       "      <td>roger hawkins</td>\n",
       "      <td>7</td>\n",
       "      <td>Person</td>\n",
       "    </tr>\n",
       "  </tbody>\n",
       "</table>\n",
       "<p>20000 rows × 4 columns</p>\n",
       "</div>"
      ],
      "text/plain": [
       "                                          link                 name  \\\n",
       "0        http://www.wikidata.org/entity/Q11036   the rolling stones   \n",
       "1         http://www.wikidata.org/entity/Q1299          the beatles   \n",
       "2         http://www.wikidata.org/entity/Q2331         led zeppelin   \n",
       "3        http://www.wikidata.org/entity/Q11649              nirvana   \n",
       "4        http://www.wikidata.org/entity/Q45188             coldplay   \n",
       "...                                        ...                  ...   \n",
       "19995  http://www.wikidata.org/entity/Q2545626           brett reed   \n",
       "19996  http://www.wikidata.org/entity/Q2609394  branden steineckert   \n",
       "19997  http://www.wikidata.org/entity/Q2642706        tomas asklund   \n",
       "19998  http://www.wikidata.org/entity/Q7356419           rod de'ath   \n",
       "19999  http://www.wikidata.org/entity/Q7358318        roger hawkins   \n",
       "\n",
       "       sitelinks    type  \n",
       "0            270   Group  \n",
       "1            237   Group  \n",
       "2            234   Group  \n",
       "3            226   Group  \n",
       "4            202   Group  \n",
       "...          ...     ...  \n",
       "19995          7  Person  \n",
       "19996          7  Person  \n",
       "19997          7  Person  \n",
       "19998          7  Person  \n",
       "19999          7  Person  \n",
       "\n",
       "[20000 rows x 4 columns]"
      ]
     },
     "execution_count": 65,
     "metadata": {},
     "output_type": "execute_result"
    }
   ],
   "source": [
    "data_wikidata"
   ]
  },
  {
   "cell_type": "code",
   "execution_count": 49,
   "metadata": {},
   "outputs": [],
   "source": [
    "data = pd.merge(data, data_wikidata, how=\"left\", left_on=\"performer_single\", right_on=\"name\")\n"
   ]
  },
  {
   "cell_type": "code",
   "execution_count": 64,
   "metadata": {},
   "outputs": [
    {
     "data": {
      "text/plain": [
       "543                 leonard nimoy\n",
       "72302                     fjellis\n",
       "5017                          she\n",
       "9480                    max roach\n",
       "49730               fabulous four\n",
       "60911                 pure orange\n",
       "40687                guy mitchell\n",
       "67441                roland white\n",
       "41492               robert knight\n",
       "56116    the swing easy orchestra\n",
       "3864                   joe bataan\n",
       "5330                 johnny adams\n",
       "75820        the sound of feeling\n",
       "1310                 steve marcus\n",
       "23192                  joyce cobb\n",
       "11501      billy \"crash\" craddock\n",
       "62486                    monkey 3\n",
       "11115              jesse crawford\n",
       "24833               billy jackson\n",
       "73487                   angeleyes\n",
       "25152           sandra mihanovich\n",
       "6858               ronnie ronalde\n",
       "74733                junior brown\n",
       "27153                      creamy\n",
       "29157                ladi geisler\n",
       "29547                elodie frege\n",
       "7459           the crowe brothers\n",
       "51798          crystal jacqueline\n",
       "2019                    frankie j\n",
       "47566                 the archies\n",
       "Name: performer_single, dtype: object"
      ]
     },
     "execution_count": 64,
     "metadata": {},
     "output_type": "execute_result"
    }
   ],
   "source": [
    "data.loc[data.name.isna(),\"performer_single\"].drop_duplicates().sample(60).head(30)\n"
   ]
  },
  {
   "cell_type": "code",
   "execution_count": 5,
   "metadata": {},
   "outputs": [
    {
     "data": {
      "text/html": [
       "<div>\n",
       "<style scoped>\n",
       "    .dataframe tbody tr th:only-of-type {\n",
       "        vertical-align: middle;\n",
       "    }\n",
       "\n",
       "    .dataframe tbody tr th {\n",
       "        vertical-align: top;\n",
       "    }\n",
       "\n",
       "    .dataframe thead th {\n",
       "        text-align: right;\n",
       "    }\n",
       "</style>\n",
       "<table border=\"1\" class=\"dataframe\">\n",
       "  <thead>\n",
       "    <tr style=\"text-align: right;\">\n",
       "      <th></th>\n",
       "      <th>person</th>\n",
       "      <th>personLabel</th>\n",
       "      <th>sitelinks</th>\n",
       "    </tr>\n",
       "  </thead>\n",
       "  <tbody>\n",
       "    <tr>\n",
       "      <th>0</th>\n",
       "      <td>http://www.wikidata.org/entity/Q254</td>\n",
       "      <td>Wolfgang Amadeus Mozart</td>\n",
       "      <td>518</td>\n",
       "    </tr>\n",
       "    <tr>\n",
       "      <th>1</th>\n",
       "      <td>http://www.wikidata.org/entity/Q2599</td>\n",
       "      <td>Paul McCartney</td>\n",
       "      <td>432</td>\n",
       "    </tr>\n",
       "    <tr>\n",
       "      <th>2</th>\n",
       "      <td>http://www.wikidata.org/entity/Q5383</td>\n",
       "      <td>David Bowie</td>\n",
       "      <td>390</td>\n",
       "    </tr>\n",
       "    <tr>\n",
       "      <th>3</th>\n",
       "      <td>http://www.wikidata.org/entity/Q23215</td>\n",
       "      <td>Adele</td>\n",
       "      <td>375</td>\n",
       "    </tr>\n",
       "    <tr>\n",
       "      <th>4</th>\n",
       "      <td>http://www.wikidata.org/entity/Q1203</td>\n",
       "      <td>John Lennon</td>\n",
       "      <td>354</td>\n",
       "    </tr>\n",
       "    <tr>\n",
       "      <th>...</th>\n",
       "      <td>...</td>\n",
       "      <td>...</td>\n",
       "      <td>...</td>\n",
       "    </tr>\n",
       "    <tr>\n",
       "      <th>9995</th>\n",
       "      <td>http://www.wikidata.org/entity/Q2545626</td>\n",
       "      <td>Brett Reed</td>\n",
       "      <td>7</td>\n",
       "    </tr>\n",
       "    <tr>\n",
       "      <th>9996</th>\n",
       "      <td>http://www.wikidata.org/entity/Q2609394</td>\n",
       "      <td>Branden Steineckert</td>\n",
       "      <td>7</td>\n",
       "    </tr>\n",
       "    <tr>\n",
       "      <th>9997</th>\n",
       "      <td>http://www.wikidata.org/entity/Q2642706</td>\n",
       "      <td>Tomas Asklund</td>\n",
       "      <td>7</td>\n",
       "    </tr>\n",
       "    <tr>\n",
       "      <th>9998</th>\n",
       "      <td>http://www.wikidata.org/entity/Q7356419</td>\n",
       "      <td>Rod de'Ath</td>\n",
       "      <td>7</td>\n",
       "    </tr>\n",
       "    <tr>\n",
       "      <th>9999</th>\n",
       "      <td>http://www.wikidata.org/entity/Q7358318</td>\n",
       "      <td>Roger Hawkins</td>\n",
       "      <td>7</td>\n",
       "    </tr>\n",
       "  </tbody>\n",
       "</table>\n",
       "<p>10000 rows × 3 columns</p>\n",
       "</div>"
      ],
      "text/plain": [
       "                                       person              personLabel  \\\n",
       "0         http://www.wikidata.org/entity/Q254  Wolfgang Amadeus Mozart   \n",
       "1        http://www.wikidata.org/entity/Q2599           Paul McCartney   \n",
       "2        http://www.wikidata.org/entity/Q5383              David Bowie   \n",
       "3       http://www.wikidata.org/entity/Q23215                    Adele   \n",
       "4        http://www.wikidata.org/entity/Q1203              John Lennon   \n",
       "...                                       ...                      ...   \n",
       "9995  http://www.wikidata.org/entity/Q2545626               Brett Reed   \n",
       "9996  http://www.wikidata.org/entity/Q2609394      Branden Steineckert   \n",
       "9997  http://www.wikidata.org/entity/Q2642706            Tomas Asklund   \n",
       "9998  http://www.wikidata.org/entity/Q7356419               Rod de'Ath   \n",
       "9999  http://www.wikidata.org/entity/Q7358318            Roger Hawkins   \n",
       "\n",
       "      sitelinks  \n",
       "0           518  \n",
       "1           432  \n",
       "2           390  \n",
       "3           375  \n",
       "4           354  \n",
       "...         ...  \n",
       "9995          7  \n",
       "9996          7  \n",
       "9997          7  \n",
       "9998          7  \n",
       "9999          7  \n",
       "\n",
       "[10000 rows x 3 columns]"
      ]
     },
     "execution_count": 5,
     "metadata": {},
     "output_type": "execute_result"
    }
   ],
   "source": [
    "data_humans1"
   ]
  },
  {
   "cell_type": "code",
   "execution_count": 24,
   "metadata": {},
   "outputs": [
    {
     "ename": "ModuleNotFoundError",
     "evalue": "No module named 'qwikidata'",
     "output_type": "error",
     "traceback": [
      "\u001b[0;31m---------------------------------------------------------------------------\u001b[0m",
      "\u001b[0;31mModuleNotFoundError\u001b[0m                       Traceback (most recent call last)",
      "Cell \u001b[0;32mIn[24], line 1\u001b[0m\n\u001b[0;32m----> 1\u001b[0m \u001b[38;5;28;01mimport\u001b[39;00m \u001b[38;5;21;01mqwikidata\u001b[39;00m\n",
      "\u001b[0;31mModuleNotFoundError\u001b[0m: No module named 'qwikidata'"
     ]
    }
   ],
   "source": [
    "import qwikidata\n"
   ]
  },
  {
   "cell_type": "code",
   "execution_count": 2,
   "metadata": {},
   "outputs": [],
   "source": [
    "from qwikidata.entity import WikidataItem, WikidataLexeme, WikidataProperty\n",
    "from qwikidata.linked_data_interface import get_entity_dict_from_api\n"
   ]
  },
  {
   "cell_type": "code",
   "execution_count": 13,
   "metadata": {},
   "outputs": [
    {
     "data": {
      "text/plain": [
       "0       The Rolling Stones\n",
       "1              The Beatles\n",
       "2             Led Zeppelin\n",
       "3                  Nirvana\n",
       "4                 Coldplay\n",
       "               ...        \n",
       "9995      Blankey Jet City\n",
       "9996                  Echt\n",
       "9997             Sun Caged\n",
       "9998           Machine Men\n",
       "9999               Van She\n",
       "Name: musicalGroupLabel, Length: 10000, dtype: object"
      ]
     },
     "execution_count": 13,
     "metadata": {},
     "output_type": "execute_result"
    }
   ],
   "source": [
    "data_groups.musicalGroupLabel"
   ]
  },
  {
   "cell_type": "code",
   "execution_count": 6,
   "metadata": {},
   "outputs": [
    {
     "data": {
      "text/plain": [
       "{'head': {'vars': ['group', 'groupLabel', 'sitelinks']},\n",
       " 'results': {'bindings': [{'group': {'type': 'uri',\n",
       "     'value': 'http://www.wikidata.org/entity/Q396'},\n",
       "    'groupLabel': {'xml:lang': 'en', 'type': 'literal', 'value': 'U2'},\n",
       "    'sitelinks': {'datatype': 'http://www.w3.org/2001/XMLSchema#integer',\n",
       "     'type': 'literal',\n",
       "     'value': '115'}}]}}"
      ]
     },
     "execution_count": 6,
     "metadata": {},
     "output_type": "execute_result"
    }
   ],
   "source": [
    "query_musicgroup(\"U2\")\n"
   ]
  },
  {
   "cell_type": "code",
   "execution_count": 1,
   "metadata": {},
   "outputs": [],
   "source": []
  }
 ],
 "metadata": {
  "kernelspec": {
   "display_name": "torch21",
   "language": "python",
   "name": "python3"
  },
  "language_info": {
   "codemirror_mode": {
    "name": "ipython",
    "version": 3
   },
   "file_extension": ".py",
   "mimetype": "text/x-python",
   "name": "python",
   "nbconvert_exporter": "python",
   "pygments_lexer": "ipython3",
   "version": "3.11.5"
  }
 },
 "nbformat": 4,
 "nbformat_minor": 2
}
