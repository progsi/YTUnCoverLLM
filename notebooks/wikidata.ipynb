{
 "cells": [
  {
   "cell_type": "markdown",
   "metadata": {},
   "source": [
    "# Read Dataset"
   ]
  },
  {
   "cell_type": "code",
   "execution_count": 36,
   "metadata": {},
   "outputs": [],
   "source": [
    "import numpy as np\n",
    "import pandas as pd\n",
    "import os\n",
    "\n",
    "pd.options.mode.chained_assignment = None  # default='warn'\n",
    "\n",
    "# read dataset\n",
    "data = pd.read_parquet(\"../data/dataset/shs100k2/data.parquet\")[\n",
    "    ['set_id', 'ver_id', 'yt_id', 'title', 'performer', 'split', 'part',\n",
    "       'video_title', 'viewcount', 'human_annotated']\n",
    "]\n",
    "data = data.explode(\"title\").explode(\"performer\")\n",
    "data.title = data.title.str.lower()\n"
   ]
  },
  {
   "cell_type": "markdown",
   "metadata": {},
   "source": [
    "# Load prepared Wikidata or process Dump"
   ]
  },
  {
   "cell_type": "code",
   "execution_count": 37,
   "metadata": {},
   "outputs": [],
   "source": [
    "if not os.path.isfile(\"../data/intermediate/wikidata.parquet\"):\n",
    "\n",
    "    def preprocess_dump(data: pd.DataFrame) -> pd.DataFrame:\n",
    "        # basic preprocessing\n",
    "        def get_english_name_or_first(label_dict):\n",
    "            en_name = label_dict.get(\"en\")\n",
    "            if en_name:\n",
    "                name = en_name.get(\"value\").lower()\n",
    "            else:\n",
    "                other_names = list(label_dict.values())\n",
    "                if len(other_names) > 0:\n",
    "                    name = list(label_dict.values())[0][\"value\"]\n",
    "                else:\n",
    "                    name = \"\"\n",
    "            return name\n",
    "        data[\"name\"] = data.labels.apply(get_english_name_or_first)\n",
    "        data[\"nsitelinks\"] = data.sitelinks.apply(len)\n",
    "        data = data[[\"id\", \"name\", \"nsitelinks\"]]\n",
    "        return data    \n",
    "\n",
    "    # groups\n",
    "    data_groups = pd.read_json(\"/data/groups.ndjson\", lines=True)\n",
    "    data_groups = preprocess_dump(data_groups)\n",
    "    data_groups[\"type\"] = \"Group\"\n",
    "\n",
    "    # humans\n",
    "    data_solo = pd.read_json(\"/data/soloartists.ndjson\", lines=True)\n",
    "    data_solo = preprocess_dump(data_solo)\n",
    "    data_solo[\"type\"] = \"Human\"\n",
    "\n",
    "    # works\n",
    "    data_works = pd.read_json(\"/data/works.ndjson\", lines=True).dropna(subset=\"labels\")\n",
    "    data_works = preprocess_dump(data_works)\n",
    "    data_works[\"type\"] = \"Work\"\n",
    "\n",
    "    data_wikidata = pd.concat([data_groups, data_solo, data_works], axis=0, ignore_index=True).drop_duplicates(subset=\"id\")\n",
    "    data_wikidata.to_parquet(\"../data/intermediate/wikidata.parquet\")\n",
    "else:\n",
    "\n",
    "    data_wikidata = pd.read_parquet(\"../data/intermediate/wikidata.parquet\")\n",
    "\n",
    "if not \"exposure\" in data_wikidata.columns:\n",
    "    def compute_exposure(data: pd.DataFrame) -> pd.DataFrame:\n",
    "        # rank\n",
    "        def get_rank(data: pd.DataFrame, column: str) -> pd.Series:\n",
    "            data = data.sort_values(by=column, ascending=False)\n",
    "            ranks = data[column].rank(method='min', ascending=False)\n",
    "            return ranks\n",
    "        data[\"rank\"] = get_rank(data, \"nsitelinks\")\n",
    "\n",
    "        #  exposure\n",
    "\n",
    "        def exposure(rank, S):\n",
    "            return np.log(S) - np.log(rank)\n",
    "        data[\"exposure\"] = data[\"rank\"].apply(lambda x: exposure(x, len(data)))\n",
    "\n",
    "        return data\n",
    "\n",
    "    data_wikidata = compute_exposure(data_wikidata)\n"
   ]
  },
  {
   "cell_type": "markdown",
   "metadata": {},
   "source": [
    "# Analysis"
   ]
  },
  {
   "cell_type": "code",
   "execution_count": 38,
   "metadata": {},
   "outputs": [
    {
     "data": {
      "text/plain": [
       "type\n",
       "Human    362406\n",
       "Work     323348\n",
       "Group    105704\n",
       "Name: count, dtype: int64"
      ]
     },
     "execution_count": 38,
     "metadata": {},
     "output_type": "execute_result"
    }
   ],
   "source": [
    "data_wikidata.type.value_counts()"
   ]
  },
  {
   "cell_type": "code",
   "execution_count": 39,
   "metadata": {},
   "outputs": [
    {
     "data": {
      "text/html": [
       "<div>\n",
       "<style scoped>\n",
       "    .dataframe tbody tr th:only-of-type {\n",
       "        vertical-align: middle;\n",
       "    }\n",
       "\n",
       "    .dataframe tbody tr th {\n",
       "        vertical-align: top;\n",
       "    }\n",
       "\n",
       "    .dataframe thead th {\n",
       "        text-align: right;\n",
       "    }\n",
       "</style>\n",
       "<table border=\"1\" class=\"dataframe\">\n",
       "  <thead>\n",
       "    <tr style=\"text-align: right;\">\n",
       "      <th></th>\n",
       "      <th>id</th>\n",
       "      <th>name</th>\n",
       "      <th>nsitelinks</th>\n",
       "      <th>type</th>\n",
       "      <th>rank</th>\n",
       "      <th>exposure</th>\n",
       "    </tr>\n",
       "  </thead>\n",
       "  <tbody>\n",
       "    <tr>\n",
       "      <th>290297</th>\n",
       "      <td>Q1177254</td>\n",
       "      <td>david woodard</td>\n",
       "      <td>319</td>\n",
       "      <td>Human</td>\n",
       "      <td>1.0</td>\n",
       "      <td>13.581632</td>\n",
       "    </tr>\n",
       "    <tr>\n",
       "      <th>422959</th>\n",
       "      <td>Q2831</td>\n",
       "      <td>michael jackson</td>\n",
       "      <td>310</td>\n",
       "      <td>Human</td>\n",
       "      <td>2.0</td>\n",
       "      <td>12.888485</td>\n",
       "    </tr>\n",
       "    <tr>\n",
       "      <th>377075</th>\n",
       "      <td>Q762</td>\n",
       "      <td>leonardo da vinci</td>\n",
       "      <td>297</td>\n",
       "      <td>Human</td>\n",
       "      <td>3.0</td>\n",
       "      <td>12.483020</td>\n",
       "    </tr>\n",
       "    <tr>\n",
       "      <th>196207</th>\n",
       "      <td>Q5879</td>\n",
       "      <td>johann wolfgang von goethe</td>\n",
       "      <td>267</td>\n",
       "      <td>Human</td>\n",
       "      <td>4.0</td>\n",
       "      <td>12.195338</td>\n",
       "    </tr>\n",
       "    <tr>\n",
       "      <th>377073</th>\n",
       "      <td>Q255</td>\n",
       "      <td>ludwig van beethoven</td>\n",
       "      <td>259</td>\n",
       "      <td>Human</td>\n",
       "      <td>5.0</td>\n",
       "      <td>11.972194</td>\n",
       "    </tr>\n",
       "    <tr>\n",
       "      <th>331657</th>\n",
       "      <td>Q254</td>\n",
       "      <td>wolfgang amadeus mozart</td>\n",
       "      <td>259</td>\n",
       "      <td>Human</td>\n",
       "      <td>5.0</td>\n",
       "      <td>11.972194</td>\n",
       "    </tr>\n",
       "    <tr>\n",
       "      <th>286393</th>\n",
       "      <td>Q1339</td>\n",
       "      <td>johann sebastian bach</td>\n",
       "      <td>250</td>\n",
       "      <td>Human</td>\n",
       "      <td>7.0</td>\n",
       "      <td>11.635722</td>\n",
       "    </tr>\n",
       "    <tr>\n",
       "      <th>196199</th>\n",
       "      <td>Q882</td>\n",
       "      <td>charlie chaplin</td>\n",
       "      <td>247</td>\n",
       "      <td>Human</td>\n",
       "      <td>8.0</td>\n",
       "      <td>11.502191</td>\n",
       "    </tr>\n",
       "    <tr>\n",
       "      <th>331682</th>\n",
       "      <td>Q9358</td>\n",
       "      <td>friedrich nietzsche</td>\n",
       "      <td>242</td>\n",
       "      <td>Human</td>\n",
       "      <td>9.0</td>\n",
       "      <td>11.384408</td>\n",
       "    </tr>\n",
       "    <tr>\n",
       "      <th>105733</th>\n",
       "      <td>Q9554</td>\n",
       "      <td>martin luther</td>\n",
       "      <td>240</td>\n",
       "      <td>Human</td>\n",
       "      <td>10.0</td>\n",
       "      <td>11.279047</td>\n",
       "    </tr>\n",
       "  </tbody>\n",
       "</table>\n",
       "</div>"
      ],
      "text/plain": [
       "              id                        name  nsitelinks   type  rank  \\\n",
       "290297  Q1177254               david woodard         319  Human   1.0   \n",
       "422959     Q2831             michael jackson         310  Human   2.0   \n",
       "377075      Q762           leonardo da vinci         297  Human   3.0   \n",
       "196207     Q5879  johann wolfgang von goethe         267  Human   4.0   \n",
       "377073      Q255        ludwig van beethoven         259  Human   5.0   \n",
       "331657      Q254     wolfgang amadeus mozart         259  Human   5.0   \n",
       "286393     Q1339       johann sebastian bach         250  Human   7.0   \n",
       "196199      Q882             charlie chaplin         247  Human   8.0   \n",
       "331682     Q9358         friedrich nietzsche         242  Human   9.0   \n",
       "105733     Q9554               martin luther         240  Human  10.0   \n",
       "\n",
       "         exposure  \n",
       "290297  13.581632  \n",
       "422959  12.888485  \n",
       "377075  12.483020  \n",
       "196207  12.195338  \n",
       "377073  11.972194  \n",
       "331657  11.972194  \n",
       "286393  11.635722  \n",
       "196199  11.502191  \n",
       "331682  11.384408  \n",
       "105733  11.279047  "
      ]
     },
     "execution_count": 39,
     "metadata": {},
     "output_type": "execute_result"
    }
   ],
   "source": [
    "data_wikidata.sort_values(by=\"nsitelinks\", ascending=False).head(10)\n"
   ]
  },
  {
   "cell_type": "code",
   "execution_count": 40,
   "metadata": {},
   "outputs": [
    {
     "name": "stderr",
     "output_type": "stream",
     "text": [
      "/data/miniconda3/envs/torch21/lib/python3.11/site-packages/seaborn/_base.py:949: FutureWarning: When grouping with a length-1 list-like, you will need to pass a length-1 tuple to get_group in a future version of pandas. Pass `(name,)` instead of `name` to silence this warning.\n",
      "  data_subset = grouped_data.get_group(pd_key)\n",
      "/data/miniconda3/envs/torch21/lib/python3.11/site-packages/seaborn/_base.py:949: FutureWarning: When grouping with a length-1 list-like, you will need to pass a length-1 tuple to get_group in a future version of pandas. Pass `(name,)` instead of `name` to silence this warning.\n",
      "  data_subset = grouped_data.get_group(pd_key)\n",
      "/data/miniconda3/envs/torch21/lib/python3.11/site-packages/seaborn/_base.py:949: FutureWarning: When grouping with a length-1 list-like, you will need to pass a length-1 tuple to get_group in a future version of pandas. Pass `(name,)` instead of `name` to silence this warning.\n",
      "  data_subset = grouped_data.get_group(pd_key)\n"
     ]
    },
    {
     "data": {
      "text/plain": [
       "(0.0, 50.0)"
      ]
     },
     "execution_count": 40,
     "metadata": {},
     "output_type": "execute_result"
    },
    {
     "data": {
      "image/png": "[encoded data removed]",
      "text/plain": [
       "<Figure size 640x480 with 1 Axes>"
      ]
     },
     "metadata": {},
     "output_type": "display_data"
    }
   ],
   "source": [
    "import seaborn as sns\n",
    "import matplotlib.pyplot as plt\n",
    "\n",
    "sns.kdeplot(data_wikidata, x=\"nsitelinks\", hue=\"type\")\n",
    "plt.xlim(0,50)\n"
   ]
  },
  {
   "cell_type": "markdown",
   "metadata": {},
   "source": [
    "# Merge "
   ]
  },
  {
   "cell_type": "code",
   "execution_count": 41,
   "metadata": {},
   "outputs": [
    {
     "name": "stdout",
     "output_type": "stream",
     "text": [
      "45616 not matched\n",
      "5 random non-matched artists:\n"
     ]
    },
    {
     "data": {
      "text/plain": [
       "['rationals',\n",
       " 'rebel rousers',\n",
       " 'big time orchestra',\n",
       " 'derailers',\n",
       " 'billy murray-ed smalle']"
      ]
     },
     "execution_count": 41,
     "metadata": {},
     "output_type": "execute_result"
    }
   ],
   "source": [
    "data_artists = pd.merge(\n",
    "        data, \n",
    "        data_wikidata.loc[data_wikidata.type.isin([\"Group\", \"Human\"])].add_suffix(\"_wd\"), \n",
    "        left_on=\"performer\", right_on=\"name_wd\", how=\"left\")\n",
    "\n",
    "id_cols = ['set_id', 'ver_id', 'yt_id', 'title', 'performer', 'split', 'part', 'human_annotated']\n",
    "agg_cols = ['id_wd', 'name_wd', 'nsitelinks_wd', 'type_wd', 'rank_wd', 'exposure_wd']\n",
    "\n",
    "\n",
    "data_artists = data_artists[id_cols+agg_cols].groupby(id_cols, as_index=False).agg(\n",
    "    {'id_wd': lambda x: list(x), 'type_wd': lambda x: list(x), \n",
    "     'nsitelinks_wd': [\"min\", \"median\", \"max\"], \n",
    "      'rank_wd': [\"min\", \"median\", \"max\"], 'exposure_wd': [\"min\", \"median\", \"max\"]})\n",
    "\n",
    "n=5\n",
    "mask_na = data_artists[('nsitelinks_wd', 'max')].isna()\n",
    "print(f\"{len(data_artists[mask_na])} not matched\")\n",
    "print(f\"{n} random non-matched artists:\")\n",
    "data_artists.loc[mask_na].sample(n).performer.to_list()\n"
   ]
  },
  {
   "cell_type": "code",
   "execution_count": 42,
   "metadata": {},
   "outputs": [
    {
     "name": "stdout",
     "output_type": "stream",
     "text": [
      "72317 not matched\n",
      "5 random non-matched works:\n"
     ]
    },
    {
     "data": {
      "text/plain": [
       "[\"ninety-nine and a half (won't do)\",\n",
       " 'cross road blues',\n",
       " 'ole guapa',\n",
       " \"ain't that lovin' you baby\",\n",
       " 'sweet love on my mind']"
      ]
     },
     "execution_count": 42,
     "metadata": {},
     "output_type": "execute_result"
    }
   ],
   "source": [
    "data_works = pd.merge(\n",
    "    data,\n",
    "    data_wikidata.loc[data_wikidata.type == \"Work\"].add_suffix(\"_wd\"),\n",
    "    left_on=\"title\", right_on=\"name_wd\", how=\"left\")\n",
    "\n",
    "id_cols = ['set_id', 'ver_id', 'yt_id', 'title', 'performer', 'split', 'part', 'human_annotated']\n",
    "agg_cols = ['id_wd', 'nsitelinks_wd', 'type_wd', 'rank_wd', 'exposure_wd']\n",
    "\n",
    "data_works = data_works[id_cols+agg_cols].groupby(id_cols, as_index=False).agg(\n",
    "    {'id_wd': lambda x: list(x), 'type_wd': lambda x: list(x), \n",
    "     'nsitelinks_wd': [\"min\", \"median\", \"max\"], \n",
    "      'rank_wd': [\"min\", \"median\", \"max\"], 'exposure_wd': [\"min\", \"median\", \"max\"]})\n",
    "\n",
    "n=5\n",
    "mask_na = data_works[(\"exposure_wd\", \"max\")].isna()\n",
    "print(f\"{len(data_works[mask_na])} not matched\")\n",
    "print(f\"{n} random non-matched works:\")\n",
    "data_works.loc[mask_na].sample(n).title.to_list()\n",
    "\n"
   ]
  },
  {
   "cell_type": "code",
   "execution_count": 62,
   "metadata": {},
   "outputs": [],
   "source": [
    "\n",
    "__artists = data_artists[[\"set_id\", \"yt_id\", \"performer\", \"nsitelinks_wd\", \"exposure_wd\"]].dropna().drop_duplicates()\n",
    "wd_cols = [\"set_id\", \"yt_id\", \"name\", \"sitelinks_min\", \"sitelinks_median\", \"sitelinks_max\", \"exposure_min\", \"exposure_median\", \"exposure_max\"]\n",
    "__artists.columns = wd_cols\n",
    "__artists[\"Entity\"] = \"Artist\"\n",
    "\n",
    "__works = data_works[[\"set_id\", \"yt_id\", \"title\", \"nsitelinks_wd\", \"exposure_wd\"]].dropna().drop_duplicates()\n",
    "__works.columns = wd_cols\n",
    "__works[\"Entity\"] = \"WoA\"\n",
    "\n",
    "data_merged = pd.concat([__artists, __works])\n",
    "data_merged = data_merged.groupby(\n",
    "    [\"set_id\", \"name\", \"Entity\", \"sitelinks_min\", \"sitelinks_median\", \"sitelinks_max\", \"exposure_min\", \n",
    "     \"exposure_median\", \"exposure_max\"], as_index=False).agg(list)\n",
    "data_merged.to_json(\"../data/intermediate/shs100k2_exposure.json\", lines=True, orient=\"records\")\n"
   ]
  },
  {
   "cell_type": "code",
   "execution_count": 55,
   "metadata": {},
   "outputs": [
    {
     "name": "stderr",
     "output_type": "stream",
     "text": [
      "/data/miniconda3/envs/torch21/lib/python3.11/site-packages/seaborn/_base.py:949: FutureWarning: When grouping with a length-1 list-like, you will need to pass a length-1 tuple to get_group in a future version of pandas. Pass `(name,)` instead of `name` to silence this warning.\n",
      "  data_subset = grouped_data.get_group(pd_key)\n",
      "/data/miniconda3/envs/torch21/lib/python3.11/site-packages/seaborn/_base.py:949: FutureWarning: When grouping with a length-1 list-like, you will need to pass a length-1 tuple to get_group in a future version of pandas. Pass `(name,)` instead of `name` to silence this warning.\n",
      "  data_subset = grouped_data.get_group(pd_key)\n",
      "/data/miniconda3/envs/torch21/lib/python3.11/site-packages/seaborn/_base.py:949: FutureWarning: When grouping with a length-1 list-like, you will need to pass a length-1 tuple to get_group in a future version of pandas. Pass `(name,)` instead of `name` to silence this warning.\n",
      "  data_subset = grouped_data.get_group(pd_key)\n"
     ]
    },
    {
     "data": {
      "image/png": "[encoded data removed]",
      "text/plain": [
       "<Figure size 640x480 with 1 Axes>"
      ]
     },
     "metadata": {},
     "output_type": "display_data"
    }
   ],
   "source": [
    "import seaborn as sns\n",
    "import matplotlib.pyplot as plt\n",
    "\n",
    "sns.kdeplot(data_merged, x=\"exposure_max\", hue=\"Entity\")\n",
    "plt.xlabel(\"Exposure\")\n",
    "plt.savefig(\"../figures/kde_exposure.pdf\")\n",
    "plt.show()\n"
   ]
  },
  {
   "cell_type": "code",
   "execution_count": 56,
   "metadata": {},
   "outputs": [],
   "source": [
    "our_artists = data_merged.loc[data_merged.Entity == \"Artist\"].name.to_list()\n",
    "our_woas = data_merged.loc[data_merged.Entity == \"WoA\"].name.to_list()\n"
   ]
  },
  {
   "cell_type": "markdown",
   "metadata": {},
   "source": [
    "# Check overlap with MuscRecoNER"
   ]
  },
  {
   "cell_type": "markdown",
   "metadata": {},
   "source": [
    "### Load MusicRecoNER"
   ]
  },
  {
   "cell_type": "code",
   "execution_count": 57,
   "metadata": {},
   "outputs": [],
   "source": [
    "import pandas as pd\n",
    "\n",
    "data_reconer = pd.DataFrame()\n",
    "\n",
    "for i in range(1, 5):\n",
    "    __data = pd.read_csv(f\"../baseline/music-ner-eacl2023/data/dataset{i}/ground-truth_linked.csv\")\n",
    "    __data[\"subset\"] = f\"dataset{i}\"\n",
    "    data_reconer = pd.concat([data_reconer, __data])\n"
   ]
  },
  {
   "cell_type": "code",
   "execution_count": 58,
   "metadata": {},
   "outputs": [],
   "source": [
    "import sys\n",
    "sys.path.append(\"..\")\n",
    "from preprocessing.Utils import remove_brackets_and_all_content\n",
    "\n",
    "data_reconer[\"wiki_name_normalized\"] = data_reconer.wiki_name.str.lower().str.replace(\"_\", \" \").apply(\n",
    "    lambda x: remove_brackets_and_all_content(x) if isinstance(x, str) else x)\n"
   ]
  },
  {
   "cell_type": "markdown",
   "metadata": {},
   "source": [
    "# Stratified Joint Datasets --> Reddit+SHS-YT"
   ]
  },
  {
   "cell_type": "code",
   "execution_count": 59,
   "metadata": {},
   "outputs": [
    {
     "data": {
      "text/plain": [
       "set_id\n",
       "False    1860\n",
       "True      338\n",
       "Name: count, dtype: int64"
      ]
     },
     "execution_count": 59,
     "metadata": {},
     "output_type": "execute_result"
    }
   ],
   "source": [
    "mapping = data_merged[[\"Entity\", \"name\", \"set_id\"]].set_index([\"Entity\", \"name\"]).to_dict()[\"set_id\"]\n",
    "\n",
    "# add our set_id\n",
    "data_reconer[\"set_id\"] = data_reconer.apply(lambda x: mapping.get((x.type, x.wiki_name_normalized)), axis=1)\n",
    "data_reconer[\"set_id\"].notna().value_counts()\n"
   ]
  },
  {
   "cell_type": "code",
   "execution_count": 15,
   "metadata": {},
   "outputs": [],
   "source": [
    "from src.Utils import read_IOB_file\n",
    "\n",
    "def get_music_reconer(path: str = \"../data/dataset/reddit\"):\n",
    "    data = pd.DataFrame()\n",
    "    for i in range(1, 5):\n",
    "        words, tags = read_IOB_file(os.path.join(path, f\"dataset{i}/test.IOB\"))\n",
    "        __data = pd.DataFrame()\n",
    "        __data[\"query\"] = [' '.join(ws) for ws in words]\n",
    "        __data[\"IOB\"] = tags\n",
    "        __data[\"dataset\"] = f\"dataset{i}\"\n",
    "        __data[\"idx\"] = [i for i in range(len(__data))]\n",
    "\n",
    "        data = pd.concat([data, __data])\n",
    "    return data\n",
    "\n",
    "data_reconer = pd.merge(get_music_reconer(), data_reconer, on=\"query\", how=\"left\")\n",
    "data_reconer[\"TEXT\"] = data_reconer[\"query\"].str.split()\n",
    "data_reconer[\"id\"] = data_reconer.apply(lambda x: x.dataset + '_' + str(x.idx), axis=1)\n",
    "data_reconer[\"Origin\"] = \"Reddit\"\n"
   ]
  },
  {
   "cell_type": "code",
   "execution_count": 16,
   "metadata": {},
   "outputs": [],
   "source": [
    "data_ours = pd.read_parquet(\"../data/dataset/shs100k2/data.parquet\").query(\"human_annotated\")\n",
    "data_ours[\"id\"] = data_ours.apply(lambda x: str(x.set_id) + '_' + x.yt_id, axis=1)\n",
    "data_ours[\"Origin\"] = \"YouTube\"\n"
   ]
  },
  {
   "cell_type": "code",
   "execution_count": 17,
   "metadata": {},
   "outputs": [],
   "source": [
    "data_joint = pd.concat([\n",
    "    data_ours[[\"id\", \"set_id\", \"Origin\", \"TEXT\", \"IOB\"]],\n",
    "    data_reconer[[\"id\", \"set_id\", \"Origin\", \"TEXT\", \"IOB\"]]\n",
    "    ])\n"
   ]
  },
  {
   "cell_type": "code",
   "execution_count": 28,
   "metadata": {},
   "outputs": [
    {
     "name": "stdout",
     "output_type": "stream",
     "text": [
      "Fold 0:\n",
      "Overlap in Groups: False\n",
      "train size 2634\n",
      "test size 660\n",
      "Fold 1:\n",
      "Overlap in Groups: False\n",
      "train size 2634\n",
      "test size 660\n",
      "Fold 2:\n",
      "Overlap in Groups: False\n",
      "train size 2636\n",
      "test size 658\n",
      "Fold 3:\n",
      "Overlap in Groups: False\n",
      "train size 2636\n",
      "test size 658\n",
      "Fold 4:\n",
      "Overlap in Groups: False\n",
      "train size 2636\n",
      "test size 658\n"
     ]
    }
   ],
   "source": [
    "import numpy as np\n",
    "from sklearn.model_selection import StratifiedGroupKFold\n",
    "from sklearn.model_selection import GroupKFold\n",
    "\n",
    "def kfold(data: pd.DataFrame, k: int = 5, stratify_origin: bool = True) -> pd.DataFrame:\n",
    "\n",
    "    def fillna_unique(series: pd.Series) -> pd.Series:\n",
    "        dummies = series.index + series.max()\n",
    "        mask = series.isna()\n",
    "        series.loc[mask] = dummies.values[mask]\n",
    "        return series\n",
    "\n",
    "    # Origin\n",
    "    y = (data.Origin == \"YouTube\").values.astype(int)\n",
    "\n",
    "    # Class ID\n",
    "    groups = fillna_unique(data.set_id).values\n",
    "    X = data.index\n",
    "\n",
    "    if stratify_origin:\n",
    "        kfs = StratifiedGroupKFold(n_splits=k)\n",
    "    else:\n",
    "        kfs = GroupKFold(n_splits=k)\n",
    "\n",
    "    data[\"subset\"] = None\n",
    "    for i, (train_index, test_index) in enumerate(kfs.split(X, y, groups)):\n",
    "        print(f\"Fold {i}:\")\n",
    "        overlap = np.intersect1d(groups[train_index], groups[test_index])\n",
    "        print(f\"Overlap in Groups: {len(overlap) > 0}\")\n",
    "        print(\"train size\", len(groups[train_index]))\n",
    "        print(\"test size\", len(groups[test_index]))\n",
    "        data.iloc[test_index, data.columns.get_loc(\"subset\")] = i + 1\n",
    "    return data\n",
    "\n",
    "data_joint = kfold(data_joint, stratify_origin=True)\n"
   ]
  },
  {
   "cell_type": "markdown",
   "metadata": {},
   "source": [
    "# Write Reddit+SHSYT dataset"
   ]
  },
  {
   "cell_type": "code",
   "execution_count": 29,
   "metadata": {},
   "outputs": [],
   "source": [
    "import os\n",
    "from preprocessing.Utils import write_biotag\n",
    "\n",
    "base_path = \"../data/dataset/reddit+shsyt\"\n",
    "\n",
    "for i in data_joint.subset.unique():\n",
    "    subset_path = os.path.join(base_path, f\"dataset{i}\")\n",
    "    os.makedirs(subset_path, exist_ok=True)\n",
    "    write_biotag(data_joint.loc[data_joint.subset == i], os.path.join(subset_path, \"test.IOB\"), \"IOB\")\n",
    "    write_biotag(data_joint.loc[data_joint.subset != i], os.path.join(subset_path, \"train.IOB\"), \"IOB\")\n",
    "\n",
    "data_joint.to_parquet(\"../data/dataset/reddit+shsyt/data.parquet\")\n"
   ]
  },
  {
   "cell_type": "code",
   "execution_count": 35,
   "metadata": {},
   "outputs": [
    {
     "name": "stdout",
     "output_type": "stream",
     "text": [
      "Fold 0:\n",
      "Overlap in Groups: False\n",
      "train size 490\n",
      "test size 123\n",
      "Fold 1:\n",
      "Overlap in Groups: False\n",
      "train size 490\n",
      "test size 123\n",
      "Fold 2:\n",
      "Overlap in Groups: False\n",
      "train size 490\n",
      "test size 123\n",
      "Fold 3:\n",
      "Overlap in Groups: False\n",
      "train size 491\n",
      "test size 122\n",
      "Fold 4:\n",
      "Overlap in Groups: False\n",
      "train size 491\n",
      "test size 122\n"
     ]
    }
   ],
   "source": [
    "data = data_joint.loc[data_joint.Origin == \"YouTube\"]\n",
    "data = kfold(data, k=5, stratify_origin=False)\n",
    "\n",
    "base_path = \"../data/dataset/shsyt/\"    \n",
    "os.makedirs(base_path, exist_ok=True)\n",
    "\n",
    "for i in data_joint.subset.unique():\n",
    "    subset_path = os.path.join(base_path, f\"dataset{i}\")\n",
    "    os.makedirs(subset_path, exist_ok=True)\n",
    "    write_biotag(data.loc[data.subset == i], os.path.join(subset_path, \"test.IOB\"), \"IOB\")\n",
    "    write_biotag(data.loc[data.subset != i], os.path.join(subset_path, \"train.IOB\"), \"IOB\")\n",
    "\n",
    "data.to_parquet(os.path.join(base_path, \"data.parquet\"))\n"
   ]
  },
  {
   "cell_type": "code",
   "execution_count": 23,
   "metadata": {},
   "outputs": [
    {
     "name": "stdout",
     "output_type": "stream",
     "text": [
      "Fold 0:\n",
      "Overlap in Groups: False\n",
      "train size 2634\n",
      "test size 660\n",
      "Fold 1:\n",
      "Overlap in Groups: False\n",
      "train size 2634\n",
      "test size 660\n",
      "Fold 2:\n",
      "Overlap in Groups: False\n",
      "train size 2636\n",
      "test size 658\n",
      "Fold 3:\n",
      "Overlap in Groups: False\n",
      "train size 2636\n",
      "test size 658\n",
      "Fold 4:\n",
      "Overlap in Groups: False\n",
      "train size 2636\n",
      "test size 658\n"
     ]
    },
    {
     "data": {
      "text/html": [
       "<div>\n",
       "<style scoped>\n",
       "    .dataframe tbody tr th:only-of-type {\n",
       "        vertical-align: middle;\n",
       "    }\n",
       "\n",
       "    .dataframe tbody tr th {\n",
       "        vertical-align: top;\n",
       "    }\n",
       "\n",
       "    .dataframe thead th {\n",
       "        text-align: right;\n",
       "    }\n",
       "</style>\n",
       "<table border=\"1\" class=\"dataframe\">\n",
       "  <thead>\n",
       "    <tr style=\"text-align: right;\">\n",
       "      <th></th>\n",
       "      <th>set_id</th>\n",
       "      <th>ver_id</th>\n",
       "      <th>yt_id</th>\n",
       "      <th>title</th>\n",
       "      <th>performer</th>\n",
       "      <th>split</th>\n",
       "      <th>part</th>\n",
       "      <th>video_title</th>\n",
       "      <th>viewcount</th>\n",
       "      <th>human_annotated</th>\n",
       "      <th>subset</th>\n",
       "    </tr>\n",
       "  </thead>\n",
       "  <tbody>\n",
       "    <tr>\n",
       "      <th>0</th>\n",
       "      <td>21</td>\n",
       "      <td>1</td>\n",
       "      <td>gORyrU1xQpg</td>\n",
       "      <td>yesterday</td>\n",
       "      <td>marianne faithfull</td>\n",
       "      <td>TEST</td>\n",
       "      <td>both_100</td>\n",
       "      <td>Marianne Faithfull - Yesterday (with lyrics)</td>\n",
       "      <td>239623.0</td>\n",
       "      <td>False</td>\n",
       "      <td>4</td>\n",
       "    </tr>\n",
       "    <tr>\n",
       "      <th>1</th>\n",
       "      <td>21</td>\n",
       "      <td>2</td>\n",
       "      <td>jQhC3bMMLmw</td>\n",
       "      <td>yesterday</td>\n",
       "      <td>matt monro</td>\n",
       "      <td>TEST</td>\n",
       "      <td>both_100</td>\n",
       "      <td>MATT MONRO - YESTERDAY</td>\n",
       "      <td>948972.0</td>\n",
       "      <td>False</td>\n",
       "      <td>4</td>\n",
       "    </tr>\n",
       "    <tr>\n",
       "      <th>4</th>\n",
       "      <td>21</td>\n",
       "      <td>5</td>\n",
       "      <td>eI3-EVEU51s</td>\n",
       "      <td>yesterday</td>\n",
       "      <td>the hollyridge strings</td>\n",
       "      <td>TEST</td>\n",
       "      <td>medium</td>\n",
       "      <td>Hollyridge Strings - Yesterday</td>\n",
       "      <td>22431.0</td>\n",
       "      <td>False</td>\n",
       "      <td>1</td>\n",
       "    </tr>\n",
       "    <tr>\n",
       "      <th>4</th>\n",
       "      <td>21</td>\n",
       "      <td>5</td>\n",
       "      <td>eI3-EVEU51s</td>\n",
       "      <td>yesterday</td>\n",
       "      <td>hollyridge strings</td>\n",
       "      <td>TEST</td>\n",
       "      <td>medium</td>\n",
       "      <td>Hollyridge Strings - Yesterday</td>\n",
       "      <td>22431.0</td>\n",
       "      <td>False</td>\n",
       "      <td>1</td>\n",
       "    </tr>\n",
       "    <tr>\n",
       "      <th>5</th>\n",
       "      <td>21</td>\n",
       "      <td>6</td>\n",
       "      <td>ew1y-gvO_NM</td>\n",
       "      <td>yesterday</td>\n",
       "      <td>cilla black</td>\n",
       "      <td>TEST</td>\n",
       "      <td>both_100</td>\n",
       "      <td>Cilla Black ::::: Yesterday.</td>\n",
       "      <td>10711.0</td>\n",
       "      <td>False</td>\n",
       "      <td>1</td>\n",
       "    </tr>\n",
       "    <tr>\n",
       "      <th>...</th>\n",
       "      <td>...</td>\n",
       "      <td>...</td>\n",
       "      <td>...</td>\n",
       "      <td>...</td>\n",
       "      <td>...</td>\n",
       "      <td>...</td>\n",
       "      <td>...</td>\n",
       "      <td>...</td>\n",
       "      <td>...</td>\n",
       "      <td>...</td>\n",
       "      <td>...</td>\n",
       "    </tr>\n",
       "    <tr>\n",
       "      <th>108518</th>\n",
       "      <td>5982</td>\n",
       "      <td>2</td>\n",
       "      <td>0JP_ZipG5Z0</td>\n",
       "      <td>ain't living long like this</td>\n",
       "      <td>rodney crowell</td>\n",
       "      <td>TRAIN</td>\n",
       "      <td>both_100</td>\n",
       "      <td>Rodney Crowell - I ain't living long like this</td>\n",
       "      <td>17010.0</td>\n",
       "      <td>False</td>\n",
       "      <td>None</td>\n",
       "    </tr>\n",
       "    <tr>\n",
       "      <th>108520</th>\n",
       "      <td>5982</td>\n",
       "      <td>5</td>\n",
       "      <td>j7MC3ckUaDA</td>\n",
       "      <td>i ain't living long like this</td>\n",
       "      <td>the dream syndicate</td>\n",
       "      <td>TRAIN</td>\n",
       "      <td>medium</td>\n",
       "      <td>Dream Syndicate - Ain't living Long Like This</td>\n",
       "      <td>158.0</td>\n",
       "      <td>False</td>\n",
       "      <td>None</td>\n",
       "    </tr>\n",
       "    <tr>\n",
       "      <th>108520</th>\n",
       "      <td>5982</td>\n",
       "      <td>5</td>\n",
       "      <td>j7MC3ckUaDA</td>\n",
       "      <td>i ain't living long like this</td>\n",
       "      <td>dream syndicate</td>\n",
       "      <td>TRAIN</td>\n",
       "      <td>medium</td>\n",
       "      <td>Dream Syndicate - Ain't living Long Like This</td>\n",
       "      <td>158.0</td>\n",
       "      <td>False</td>\n",
       "      <td>None</td>\n",
       "    </tr>\n",
       "    <tr>\n",
       "      <th>108521</th>\n",
       "      <td>5982</td>\n",
       "      <td>7</td>\n",
       "      <td>I0K3uBr6flA</td>\n",
       "      <td>i ain't living long like this</td>\n",
       "      <td>brooks</td>\n",
       "      <td>TRAIN</td>\n",
       "      <td>both_100</td>\n",
       "      <td>Waylon Jennings Tribute-I Ain't Living Long Li...</td>\n",
       "      <td>10804.0</td>\n",
       "      <td>False</td>\n",
       "      <td>None</td>\n",
       "    </tr>\n",
       "    <tr>\n",
       "      <th>108521</th>\n",
       "      <td>5982</td>\n",
       "      <td>7</td>\n",
       "      <td>I0K3uBr6flA</td>\n",
       "      <td>i ain't living long like this</td>\n",
       "      <td>dunn</td>\n",
       "      <td>TRAIN</td>\n",
       "      <td>both_100</td>\n",
       "      <td>Waylon Jennings Tribute-I Ain't Living Long Li...</td>\n",
       "      <td>10804.0</td>\n",
       "      <td>False</td>\n",
       "      <td>None</td>\n",
       "    </tr>\n",
       "  </tbody>\n",
       "</table>\n",
       "<p>129422 rows × 11 columns</p>\n",
       "</div>"
      ],
      "text/plain": [
       "        set_id  ver_id        yt_id                          title  \\\n",
       "0           21       1  gORyrU1xQpg                      yesterday   \n",
       "1           21       2  jQhC3bMMLmw                      yesterday   \n",
       "4           21       5  eI3-EVEU51s                      yesterday   \n",
       "4           21       5  eI3-EVEU51s                      yesterday   \n",
       "5           21       6  ew1y-gvO_NM                      yesterday   \n",
       "...        ...     ...          ...                            ...   \n",
       "108518    5982       2  0JP_ZipG5Z0    ain't living long like this   \n",
       "108520    5982       5  j7MC3ckUaDA  i ain't living long like this   \n",
       "108520    5982       5  j7MC3ckUaDA  i ain't living long like this   \n",
       "108521    5982       7  I0K3uBr6flA  i ain't living long like this   \n",
       "108521    5982       7  I0K3uBr6flA  i ain't living long like this   \n",
       "\n",
       "                     performer  split      part  \\\n",
       "0           marianne faithfull   TEST  both_100   \n",
       "1                   matt monro   TEST  both_100   \n",
       "4       the hollyridge strings   TEST    medium   \n",
       "4           hollyridge strings   TEST    medium   \n",
       "5                  cilla black   TEST  both_100   \n",
       "...                        ...    ...       ...   \n",
       "108518          rodney crowell  TRAIN  both_100   \n",
       "108520     the dream syndicate  TRAIN    medium   \n",
       "108520         dream syndicate  TRAIN    medium   \n",
       "108521                  brooks  TRAIN  both_100   \n",
       "108521                    dunn  TRAIN  both_100   \n",
       "\n",
       "                                              video_title  viewcount  \\\n",
       "0            Marianne Faithfull - Yesterday (with lyrics)   239623.0   \n",
       "1                                  MATT MONRO - YESTERDAY   948972.0   \n",
       "4                          Hollyridge Strings - Yesterday    22431.0   \n",
       "4                          Hollyridge Strings - Yesterday    22431.0   \n",
       "5                            Cilla Black ::::: Yesterday.    10711.0   \n",
       "...                                                   ...        ...   \n",
       "108518     Rodney Crowell - I ain't living long like this    17010.0   \n",
       "108520      Dream Syndicate - Ain't living Long Like This      158.0   \n",
       "108520      Dream Syndicate - Ain't living Long Like This      158.0   \n",
       "108521  Waylon Jennings Tribute-I Ain't Living Long Li...    10804.0   \n",
       "108521  Waylon Jennings Tribute-I Ain't Living Long Li...    10804.0   \n",
       "\n",
       "        human_annotated subset  \n",
       "0                 False      4  \n",
       "1                 False      4  \n",
       "4                 False      1  \n",
       "4                 False      1  \n",
       "5                 False      1  \n",
       "...                 ...    ...  \n",
       "108518            False   None  \n",
       "108520            False   None  \n",
       "108520            False   None  \n",
       "108521            False   None  \n",
       "108521            False   None  \n",
       "\n",
       "[129422 rows x 11 columns]"
      ]
     },
     "execution_count": 23,
     "metadata": {},
     "output_type": "execute_result"
    }
   ],
   "source": [
    "kfold(data, stratify_origin=True)\n"
   ]
  }
 ],
 "metadata": {
  "kernelspec": {
   "display_name": "torch21",
   "language": "python",
   "name": "python3"
  },
  "language_info": {
   "codemirror_mode": {
    "name": "ipython",
    "version": 3
   },
   "file_extension": ".py",
   "mimetype": "text/x-python",
   "name": "python",
   "nbconvert_exporter": "python",
   "pygments_lexer": "ipython3",
   "version": "undefined.undefined.undefined"
  }
 },
 "nbformat": 4,
 "nbformat_minor": 2
}
