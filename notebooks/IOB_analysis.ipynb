{
 "cells": [
  {
   "cell_type": "markdown",
   "metadata": {},
   "source": [
    "# DaTacos"
   ]
  },
  {
   "cell_type": "code",
   "execution_count": 1,
   "metadata": {},
   "outputs": [
    {
     "ename": "AttributeError",
     "evalue": "'DataFrame' object has no attribute 'NER_TAGS'",
     "output_type": "error",
     "traceback": [
      "\u001b[0;31m---------------------------------------------------------------------------\u001b[0m",
      "\u001b[0;31mAttributeError\u001b[0m                            Traceback (most recent call last)",
      "\u001b[0;32m/tmp/ipykernel_329620/2923178542.py\u001b[0m in \u001b[0;36m?\u001b[0;34m()\u001b[0m\n\u001b[1;32m      9\u001b[0m \u001b[0;34m\u001b[0m\u001b[0m\n\u001b[1;32m     10\u001b[0m \u001b[0mdata\u001b[0m \u001b[0;34m=\u001b[0m \u001b[0mpd\u001b[0m\u001b[0;34m.\u001b[0m\u001b[0mread_parquet\u001b[0m\u001b[0;34m(\u001b[0m\u001b[0;34m\"../data/intermediate/datacos_biotag.parquet\"\u001b[0m\u001b[0;34m)\u001b[0m\u001b[0;34m.\u001b[0m\u001b[0mdrop\u001b[0m\u001b[0;34m(\u001b[0m\u001b[0;34m\"ver_id\"\u001b[0m\u001b[0;34m,\u001b[0m \u001b[0maxis\u001b[0m\u001b[0;34m=\u001b[0m\u001b[0;36m1\u001b[0m\u001b[0;34m)\u001b[0m\u001b[0;34m\u001b[0m\u001b[0;34m\u001b[0m\u001b[0m\n\u001b[1;32m     11\u001b[0m \u001b[0;34m\u001b[0m\u001b[0m\n\u001b[1;32m     12\u001b[0m \u001b[0;31m# data without artist and title tags each\u001b[0m\u001b[0;34m\u001b[0m\u001b[0;34m\u001b[0m\u001b[0m\n\u001b[0;32m---> 13\u001b[0;31m \u001b[0mdata_noartist\u001b[0m \u001b[0;34m=\u001b[0m \u001b[0mdata\u001b[0m\u001b[0;34m.\u001b[0m\u001b[0mloc\u001b[0m\u001b[0;34m[\u001b[0m\u001b[0;34m~\u001b[0m\u001b[0mdata\u001b[0m\u001b[0;34m.\u001b[0m\u001b[0mNER_TAGS\u001b[0m\u001b[0;34m.\u001b[0m\u001b[0mapply\u001b[0m\u001b[0;34m(\u001b[0m\u001b[0;32mlambda\u001b[0m \u001b[0mx\u001b[0m\u001b[0;34m:\u001b[0m \u001b[0mB_ARTIST\u001b[0m \u001b[0;32min\u001b[0m \u001b[0mx\u001b[0m\u001b[0;34m)\u001b[0m\u001b[0;34m,\u001b[0m \u001b[0;34m:\u001b[0m\u001b[0;34m]\u001b[0m\u001b[0;34m\u001b[0m\u001b[0;34m\u001b[0m\u001b[0m\n\u001b[0m\u001b[1;32m     14\u001b[0m \u001b[0mdata_noartist\u001b[0m\u001b[0;34m.\u001b[0m\u001b[0myt_processed\u001b[0m \u001b[0;34m=\u001b[0m \u001b[0mdata_noartist\u001b[0m\u001b[0;34m.\u001b[0m\u001b[0myt_processed\u001b[0m\u001b[0;34m.\u001b[0m\u001b[0mstr\u001b[0m\u001b[0;34m.\u001b[0m\u001b[0mreplace\u001b[0m\u001b[0;34m(\u001b[0m\u001b[0;34m\"\\n\"\u001b[0m\u001b[0;34m,\u001b[0m \u001b[0;34m\" \"\u001b[0m\u001b[0;34m)\u001b[0m\u001b[0;34m.\u001b[0m\u001b[0mstr\u001b[0m\u001b[0;34m.\u001b[0m\u001b[0mreplace\u001b[0m\u001b[0;34m(\u001b[0m\u001b[0;34m\"\\t\"\u001b[0m\u001b[0;34m,\u001b[0m \u001b[0;34m\" \"\u001b[0m\u001b[0;34m)\u001b[0m\u001b[0;34m\u001b[0m\u001b[0;34m\u001b[0m\u001b[0m\n\u001b[1;32m     15\u001b[0m \u001b[0mdata_noartist\u001b[0m\u001b[0;34m.\u001b[0m\u001b[0mdrop\u001b[0m\u001b[0;34m(\u001b[0m\u001b[0;34m[\u001b[0m\u001b[0;34m\"NER_TAGS\"\u001b[0m\u001b[0;34m,\u001b[0m \u001b[0;34m\"TEXT\"\u001b[0m\u001b[0;34m]\u001b[0m\u001b[0;34m,\u001b[0m \u001b[0maxis\u001b[0m\u001b[0;34m=\u001b[0m\u001b[0;36m1\u001b[0m\u001b[0;34m)\u001b[0m\u001b[0;34m.\u001b[0m\u001b[0mto_parquet\u001b[0m\u001b[0;34m(\u001b[0m\u001b[0;34m\"../data/analysis/datacos_noartist.parquet\"\u001b[0m\u001b[0;34m)\u001b[0m\u001b[0;34m\u001b[0m\u001b[0;34m\u001b[0m\u001b[0m\n\u001b[1;32m     16\u001b[0m \u001b[0;34m\u001b[0m\u001b[0m\n",
      "\u001b[0;32m/data/miniconda3/envs/torch21/lib/python3.11/site-packages/pandas/core/generic.py\u001b[0m in \u001b[0;36m?\u001b[0;34m(self, name)\u001b[0m\n\u001b[1;32m   6200\u001b[0m             \u001b[0;32mand\u001b[0m \u001b[0mname\u001b[0m \u001b[0;32mnot\u001b[0m \u001b[0;32min\u001b[0m \u001b[0mself\u001b[0m\u001b[0;34m.\u001b[0m\u001b[0m_accessors\u001b[0m\u001b[0;34m\u001b[0m\u001b[0;34m\u001b[0m\u001b[0m\n\u001b[1;32m   6201\u001b[0m             \u001b[0;32mand\u001b[0m \u001b[0mself\u001b[0m\u001b[0;34m.\u001b[0m\u001b[0m_info_axis\u001b[0m\u001b[0;34m.\u001b[0m\u001b[0m_can_hold_identifiers_and_holds_name\u001b[0m\u001b[0;34m(\u001b[0m\u001b[0mname\u001b[0m\u001b[0;34m)\u001b[0m\u001b[0;34m\u001b[0m\u001b[0;34m\u001b[0m\u001b[0m\n\u001b[1;32m   6202\u001b[0m         ):\n\u001b[1;32m   6203\u001b[0m             \u001b[0;32mreturn\u001b[0m \u001b[0mself\u001b[0m\u001b[0;34m[\u001b[0m\u001b[0mname\u001b[0m\u001b[0;34m]\u001b[0m\u001b[0;34m\u001b[0m\u001b[0;34m\u001b[0m\u001b[0m\n\u001b[0;32m-> 6204\u001b[0;31m         \u001b[0;32mreturn\u001b[0m \u001b[0mobject\u001b[0m\u001b[0;34m.\u001b[0m\u001b[0m__getattribute__\u001b[0m\u001b[0;34m(\u001b[0m\u001b[0mself\u001b[0m\u001b[0;34m,\u001b[0m \u001b[0mname\u001b[0m\u001b[0;34m)\u001b[0m\u001b[0;34m\u001b[0m\u001b[0;34m\u001b[0m\u001b[0m\n\u001b[0m",
      "\u001b[0;31mAttributeError\u001b[0m: 'DataFrame' object has no attribute 'NER_TAGS'"
     ]
    }
   ],
   "source": [
    "import warnings\n",
    "import pandas as pd\n",
    "from pandas.errors import SettingWithCopyWarning\n",
    "\n",
    "warnings.simplefilter(action=\"ignore\", category=SettingWithCopyWarning)\n",
    "\n",
    "B_ARTIST = \"B-Artist\"\n",
    "B_WOA = \"B-WoA\"\n",
    "\n",
    "data = pd.read_parquet(\"../data/intermediate/datacos_biotag.parquet\").drop(\"ver_id\", axis=1)\n",
    "\n",
    "# data without artist and title tags each\n",
    "data_noartist = data.loc[~data.NER_TAGS.apply(lambda x: B_ARTIST in x), :]\n",
    "data_noartist.yt_processed = data_noartist.yt_processed.str.replace(\"\\n\", \" \").str.replace(\"\\t\", \" \")\n",
    "data_noartist.drop([\"NER_TAGS\", \"TEXT\"], axis=1).to_parquet(\"../data/analysis/datacos_noartist.parquet\")\n",
    "\n",
    "data_notitle = data.loc[~data.NER_TAGS.apply(lambda x: B_WOA in x), :]\n",
    "data_notitle.yt_processed = data_notitle.yt_processed.str.replace(\"\\n\", \" \").str.replace(\"\\t\", \" \")\n",
    "data_notitle.drop([\"NER_TAGS\", \"TEXT\"], axis=1).to_parquet(\"../data/analysis/datacos_notitle.parquet\")\n",
    "\n",
    "print(f\"Videos without matched Artist entity: {round(len(data_noartist)/len(data), 2)}\")\n",
    "print(f\"Videos without matched Title entity: {round(len(data_notitle)/len(data), 2)}\")\n"
   ]
  },
  {
   "cell_type": "markdown",
   "metadata": {},
   "source": [
    "### Multiple artists, usually separated by \"feat\", \"featuring\", \"vs\"\n",
    "- omitting feat. artist\n",
    "    - eg. \"dub spencer & trance hill feat the catch\" vs. \"dub spencer & trance hill\"\n",
    "- artist and feat. artist split by song title\n",
    "    - eg. \"theo croker SONG_TITLE feat dee dee bridgewater\" Vs. \"theo croker featuring dee dee bridgewater\"\n",
    "- both artists spearatly mentioned for \"sugababes vs girls aloud\"\t\n",
    "### Unfuzzy-Problem\n",
    "Are these problems solvable by edit-distance-like approach?\n",
    "- String + digit concatenated vs. not concatenated\n",
    "    - eg. \"equipe84\" vs. \"equipe 84\"\n",
    "    - eg. \"06diphtheria\" instead of \"diphtheria\"\n",
    "- genetive in artist name\n",
    "    - eg. \"janice whales\" instead of \"janice whaley\"\n",
    "- absence of article \"the\"\n",
    "    - eg. \"cats\" instead of \"the cats\"\n",
    "- which pattern is this actually? encoding? wrong preprocessing?:\n",
    "    - \"robin\\nfi?\" in SHS metadata?\n",
    "    - \"all saints\\ngb\" ..\n",
    "    - \"sabrina\\nph\" ...\n",
    "- wrong spacing\n",
    "    - \"di do\" instead of \"dido\"\n",
    "    - \"vaughn deleath\"\tinstead of \"vaughn de leath\"\t\n",
    "- missing single chars \n",
    "    - between tokens\n",
    "        - eg \"george wallace jr\" instead of \"george c wallace jr\"\n",
    "    - in tokens\n",
    "        - eg \"ariane moffat\" instead of \"ariane moffatt\"\n",
    "- typo\n",
    "    - \"rosanna eckert\" instead of \"rosana eckert\"\n",
    "- alternative name \n",
    "    - \"european ensemble string quartett\" instead of \"european ensemble strings\"\n",
    "- \"&\" vs. \"and\" (eg. \"jim and jesse\" vs \"jim & jesse\")\n"
   ]
  },
  {
   "cell_type": "code",
   "execution_count": 2,
   "metadata": {},
   "outputs": [
    {
     "data": {
      "text/html": [
       "<div>\n",
       "<style scoped>\n",
       "    .dataframe tbody tr th:only-of-type {\n",
       "        vertical-align: middle;\n",
       "    }\n",
       "\n",
       "    .dataframe tbody tr th {\n",
       "        vertical-align: top;\n",
       "    }\n",
       "\n",
       "    .dataframe thead th {\n",
       "        text-align: right;\n",
       "    }\n",
       "</style>\n",
       "<table border=\"1\" class=\"dataframe\">\n",
       "  <thead>\n",
       "    <tr style=\"text-align: right;\">\n",
       "      <th></th>\n",
       "      <th>yt_processed</th>\n",
       "      <th>performer_perf_processed</th>\n",
       "    </tr>\n",
       "  </thead>\n",
       "  <tbody>\n",
       "    <tr>\n",
       "      <th>6533</th>\n",
       "      <td>the old rugged cross - ray price. classiccount...</td>\n",
       "      <td>[ray price]</td>\n",
       "    </tr>\n",
       "    <tr>\n",
       "      <th>973</th>\n",
       "      <td>in a sentimental mood - billy eckstine (10/06/...</td>\n",
       "      <td>[billy eckstine, his orch.]</td>\n",
       "    </tr>\n",
       "    <tr>\n",
       "      <th>6469</th>\n",
       "      <td>dancing in the dark - jane morgan. yoichiro ta...</td>\n",
       "      <td>[jane morgan]</td>\n",
       "    </tr>\n",
       "    <tr>\n",
       "      <th>9469</th>\n",
       "      <td>livin' it up -  ricky peterson. teimuraz67. 1990</td>\n",
       "      <td>[ricky peterson]</td>\n",
       "    </tr>\n",
       "    <tr>\n",
       "      <th>4595</th>\n",
       "      <td>mean to me big maybelle. max.</td>\n",
       "      <td>[big maybelle]</td>\n",
       "    </tr>\n",
       "    <tr>\n",
       "      <th>1256</th>\n",
       "      <td>smoke gets in your eyes (1933). thedidier568. ...</td>\n",
       "      <td>[gertrude niesen]</td>\n",
       "    </tr>\n",
       "    <tr>\n",
       "      <th>8886</th>\n",
       "      <td>валерия - дай бог. valeriyaofficial. валерия -...</td>\n",
       "      <td>[]</td>\n",
       "    </tr>\n",
       "    <tr>\n",
       "      <th>4133</th>\n",
       "      <td>you don't know me. finfer song. bobby goldsbor...</td>\n",
       "      <td>[bobby goldsboro]</td>\n",
       "    </tr>\n",
       "    <tr>\n",
       "      <th>4495</th>\n",
       "      <td>musica italia per l etiopia  volare. radio cos...</td>\n",
       "      <td>[musicaitalia per l'etiopia]</td>\n",
       "    </tr>\n",
       "    <tr>\n",
       "      <th>1941</th>\n",
       "      <td>i only have eyes for you - swallows. jack stro...</td>\n",
       "      <td>[the swallows, swallows]</td>\n",
       "    </tr>\n",
       "  </tbody>\n",
       "</table>\n",
       "</div>"
      ],
      "text/plain": [
       "                                           yt_processed  \\\n",
       "6533  the old rugged cross - ray price. classiccount...   \n",
       "973   in a sentimental mood - billy eckstine (10/06/...   \n",
       "6469  dancing in the dark - jane morgan. yoichiro ta...   \n",
       "9469   livin' it up -  ricky peterson. teimuraz67. 1990   \n",
       "4595                     mean to me big maybelle. max.    \n",
       "1256  smoke gets in your eyes (1933). thedidier568. ...   \n",
       "8886  валерия - дай бог. valeriyaofficial. валерия -...   \n",
       "4133  you don't know me. finfer song. bobby goldsbor...   \n",
       "4495  musica italia per l etiopia  volare. radio cos...   \n",
       "1941  i only have eyes for you - swallows. jack stro...   \n",
       "\n",
       "          performer_perf_processed  \n",
       "6533                   [ray price]  \n",
       "973    [billy eckstine, his orch.]  \n",
       "6469                 [jane morgan]  \n",
       "9469              [ricky peterson]  \n",
       "4595                [big maybelle]  \n",
       "1256             [gertrude niesen]  \n",
       "8886                            []  \n",
       "4133             [bobby goldsboro]  \n",
       "4495  [musicaitalia per l'etiopia]  \n",
       "1941      [the swallows, swallows]  "
      ]
     },
     "execution_count": 2,
     "metadata": {},
     "output_type": "execute_result"
    }
   ],
   "source": [
    "data_noartist.sample(10)[[\"yt_processed\", \"performer_perf_processed\"]]\n"
   ]
  },
  {
   "cell_type": "code",
   "execution_count": 3,
   "metadata": {},
   "outputs": [
    {
     "data": {
      "text/html": [
       "<div>\n",
       "<style scoped>\n",
       "    .dataframe tbody tr th:only-of-type {\n",
       "        vertical-align: middle;\n",
       "    }\n",
       "\n",
       "    .dataframe tbody tr th {\n",
       "        vertical-align: top;\n",
       "    }\n",
       "\n",
       "    .dataframe thead th {\n",
       "        text-align: right;\n",
       "    }\n",
       "</style>\n",
       "<table border=\"1\" class=\"dataframe\">\n",
       "  <thead>\n",
       "    <tr style=\"text-align: right;\">\n",
       "      <th></th>\n",
       "      <th>yt_processed</th>\n",
       "      <th>title_perf_processed</th>\n",
       "    </tr>\n",
       "  </thead>\n",
       "  <tbody>\n",
       "    <tr>\n",
       "      <th>11745</th>\n",
       "      <td>michael jackson - thriller music video. theque...</td>\n",
       "      <td>[thriller]</td>\n",
       "    </tr>\n",
       "    <tr>\n",
       "      <th>6419</th>\n",
       "      <td>nukey pikes - dancing queen. supersummer7.</td>\n",
       "      <td>[dancing queen]</td>\n",
       "    </tr>\n",
       "    <tr>\n",
       "      <th>13430</th>\n",
       "      <td>mexican- helloween. francesco gissi. chico fer...</td>\n",
       "      <td>[the mexican]</td>\n",
       "    </tr>\n",
       "    <tr>\n",
       "      <th>53</th>\n",
       "      <td>running wild - firebreather. kuternoga.</td>\n",
       "      <td>[firebreather]</td>\n",
       "    </tr>\n",
       "    <tr>\n",
       "      <th>13139</th>\n",
       "      <td>gary lewis &amp; the playboys - windy. hermansherm...</td>\n",
       "      <td>[windy]</td>\n",
       "    </tr>\n",
       "    <tr>\n",
       "      <th>8374</th>\n",
       "      <td>new york dolls - subway train. latacabre1. song</td>\n",
       "      <td>[subway train]</td>\n",
       "    </tr>\n",
       "    <tr>\n",
       "      <th>10046</th>\n",
       "      <td>osborne brothers - faded love. countryarg.</td>\n",
       "      <td>[faded love]</td>\n",
       "    </tr>\n",
       "    <tr>\n",
       "      <th>11568</th>\n",
       "      <td>frankie yankovic &amp; his yanks-hava nagila. edif...</td>\n",
       "      <td>[hava nagila]</td>\n",
       "    </tr>\n",
       "    <tr>\n",
       "      <th>11249</th>\n",
       "      <td>joo kraus - tales in tones - africa. livekonze...</td>\n",
       "      <td>[africa]</td>\n",
       "    </tr>\n",
       "    <tr>\n",
       "      <th>6091</th>\n",
       "      <td>the deirdre wilson tabac   get back (lennon - ...</td>\n",
       "      <td>[get back]</td>\n",
       "    </tr>\n",
       "  </tbody>\n",
       "</table>\n",
       "</div>"
      ],
      "text/plain": [
       "                                            yt_processed title_perf_processed\n",
       "11745  michael jackson - thriller music video. theque...           [thriller]\n",
       "6419         nukey pikes - dancing queen. supersummer7.       [dancing queen]\n",
       "13430  mexican- helloween. francesco gissi. chico fer...        [the mexican]\n",
       "53              running wild - firebreather. kuternoga.        [firebreather]\n",
       "13139  gary lewis & the playboys - windy. hermansherm...              [windy]\n",
       "8374     new york dolls - subway train. latacabre1. song       [subway train]\n",
       "10046        osborne brothers - faded love. countryarg.          [faded love]\n",
       "11568  frankie yankovic & his yanks-hava nagila. edif...        [hava nagila]\n",
       "11249  joo kraus - tales in tones - africa. livekonze...             [africa]\n",
       "6091   the deirdre wilson tabac   get back (lennon - ...           [get back]"
      ]
     },
     "execution_count": 3,
     "metadata": {},
     "output_type": "execute_result"
    }
   ],
   "source": [
    "data_notitle.sample(10)[[\"yt_processed\", \"title_perf_processed\"]]\n"
   ]
  },
  {
   "cell_type": "markdown",
   "metadata": {},
   "source": [
    "# SHS100K2"
   ]
  },
  {
   "cell_type": "code",
   "execution_count": 4,
   "metadata": {},
   "outputs": [
    {
     "name": "stdout",
     "output_type": "stream",
     "text": [
      "Videos without matched Artist entity: 0.05\n",
      "Videos without matched Title entity: 0.03\n"
     ]
    }
   ],
   "source": [
    "data = pd.read_parquet(\"../data/intermediate/shs100k2_biotag.parquet\")\n",
    "\n",
    "# data without artist and title tags each\n",
    "data_noartist = data.loc[~data.NER_TAGS.apply(lambda x: B_ARTIST in x), :]\n",
    "data_noartist.yt_processed = data_noartist.yt_processed.str.replace(\"\\n\", \" \").str.replace(\"\\t\", \" \")\n",
    "data_noartist.drop([\"NER_TAGS\", \"TEXT\"], axis=1).to_parquet(\"../data/analysis/shs100k2_noartist.parquet\")\n",
    "\n",
    "data_notitle = data.loc[~data.NER_TAGS.apply(lambda x: B_WOA in x), :]\n",
    "data_notitle.yt_processed = data_notitle.yt_processed.str.replace(\"\\n\", \" \").str.replace(\"\\t\", \" \")\n",
    "data_notitle.drop([\"NER_TAGS\", \"TEXT\"], axis=1).to_parquet(\"../data/analysis/shs100k2_notitle.parquet\")\n",
    "\n",
    "print(f\"Videos without matched Artist entity: {round(len(data_noartist)/len(data), 2)}\")\n",
    "print(f\"Videos without matched Title entity: {round(len(data_notitle)/len(data), 2)}\")\n"
   ]
  },
  {
   "cell_type": "code",
   "execution_count": 5,
   "metadata": {},
   "outputs": [
    {
     "data": {
      "text/html": [
       "<div>\n",
       "<style scoped>\n",
       "    .dataframe tbody tr th:only-of-type {\n",
       "        vertical-align: middle;\n",
       "    }\n",
       "\n",
       "    .dataframe tbody tr th {\n",
       "        vertical-align: top;\n",
       "    }\n",
       "\n",
       "    .dataframe thead th {\n",
       "        text-align: right;\n",
       "    }\n",
       "</style>\n",
       "<table border=\"1\" class=\"dataframe\">\n",
       "  <thead>\n",
       "    <tr style=\"text-align: right;\">\n",
       "      <th></th>\n",
       "      <th>yt_processed</th>\n",
       "      <th>title_processed</th>\n",
       "    </tr>\n",
       "  </thead>\n",
       "  <tbody>\n",
       "    <tr>\n",
       "      <th>44166</th>\n",
       "      <td>the beach boys - california dreaming. remy wen...</td>\n",
       "      <td>[california dreaming]</td>\n",
       "    </tr>\n",
       "    <tr>\n",
       "      <th>101575</th>\n",
       "      <td>spirit of memphis quartet - every time i feel ...</td>\n",
       "      <td>[every time i feel the spirit]</td>\n",
       "    </tr>\n",
       "    <tr>\n",
       "      <th>79128</th>\n",
       "      <td>bob wills and his texas playboys - blue prelud...</td>\n",
       "      <td>[blue prelude]</td>\n",
       "    </tr>\n",
       "    <tr>\n",
       "      <th>55680</th>\n",
       "      <td>yves montand - c'est si bon. fio re.</td>\n",
       "      <td>[c'est si bon]</td>\n",
       "    </tr>\n",
       "    <tr>\n",
       "      <th>4028</th>\n",
       "      <td>richard cheese-closer (nine inch nails cover)....</td>\n",
       "      <td>[closer]</td>\n",
       "    </tr>\n",
       "    <tr>\n",
       "      <th>93322</th>\n",
       "      <td>james cotton - the blues keep falling. elale g...</td>\n",
       "      <td>[the blues keep falling]</td>\n",
       "    </tr>\n",
       "    <tr>\n",
       "      <th>69409</th>\n",
       "      <td>ginny and the gallions - hava nagila. dj rodne...</td>\n",
       "      <td>[hava nagila]</td>\n",
       "    </tr>\n",
       "    <tr>\n",
       "      <th>50073</th>\n",
       "      <td>nina hagen - 1979 herrman's door (live). b dp.</td>\n",
       "      <td>[herman's door]</td>\n",
       "    </tr>\n",
       "    <tr>\n",
       "      <th>34121</th>\n",
       "      <td>megan mullally - st james infirmary. naum groz...</td>\n",
       "      <td>[st. james infirmary]</td>\n",
       "    </tr>\n",
       "    <tr>\n",
       "      <th>93435</th>\n",
       "      <td>vigon.  dizzy miss lizzy. jean-charles. face b...</td>\n",
       "      <td>[dizzy miss lizzy]</td>\n",
       "    </tr>\n",
       "  </tbody>\n",
       "</table>\n",
       "</div>"
      ],
      "text/plain": [
       "                                             yt_processed  \\\n",
       "44166   the beach boys - california dreaming. remy wen...   \n",
       "101575  spirit of memphis quartet - every time i feel ...   \n",
       "79128   bob wills and his texas playboys - blue prelud...   \n",
       "55680               yves montand - c'est si bon. fio re.    \n",
       "4028    richard cheese-closer (nine inch nails cover)....   \n",
       "93322   james cotton - the blues keep falling. elale g...   \n",
       "69409   ginny and the gallions - hava nagila. dj rodne...   \n",
       "50073     nina hagen - 1979 herrman's door (live). b dp.    \n",
       "34121   megan mullally - st james infirmary. naum groz...   \n",
       "93435   vigon.  dizzy miss lizzy. jean-charles. face b...   \n",
       "\n",
       "                       title_processed  \n",
       "44166            [california dreaming]  \n",
       "101575  [every time i feel the spirit]  \n",
       "79128                   [blue prelude]  \n",
       "55680                   [c'est si bon]  \n",
       "4028                          [closer]  \n",
       "93322         [the blues keep falling]  \n",
       "69409                    [hava nagila]  \n",
       "50073                  [herman's door]  \n",
       "34121            [st. james infirmary]  \n",
       "93435               [dizzy miss lizzy]  "
      ]
     },
     "execution_count": 5,
     "metadata": {},
     "output_type": "execute_result"
    }
   ],
   "source": [
    "data_notitle.sample(10)[[\"yt_processed\", \"title_processed\"]]\n"
   ]
  },
  {
   "cell_type": "code",
   "execution_count": 6,
   "metadata": {},
   "outputs": [
    {
     "data": {
      "text/plain": [
       "ScoreAlignment(score=100.0, src_start=17, src_end=36, dest_start=0, dest_end=19)"
      ]
     },
     "execution_count": 6,
     "metadata": {},
     "output_type": "execute_result"
    }
   ],
   "source": [
    "from rapidfuzz.fuzz import partial_ratio_alignment\n",
    "\n",
    "s1=\"the beach boys - california dreaming. remy wen...\"\n",
    "s2=\"california dreaming\"\n",
    "\n",
    "partial_ratio_alignment(s1, s2)"
   ]
  },
  {
   "cell_type": "code",
   "execution_count": 20,
   "metadata": {},
   "outputs": [
    {
     "data": {
      "text/plain": [
       "TEXT        [the, beach, boys, -, california, dreaming., r...\n",
       "NER_TAGS    [B-Artist, I-Artist, I-Artist, O, B-Artist, I-...\n",
       "Name: 44166, dtype: object"
      ]
     },
     "execution_count": 20,
     "metadata": {},
     "output_type": "execute_result"
    }
   ],
   "source": [
    "data_notitle.loc[44166, [\"TEXT\", \"NER_TAGS\"]]\n"
   ]
  },
  {
   "cell_type": "code",
   "execution_count": 13,
   "metadata": {},
   "outputs": [
    {
     "data": {
      "text/plain": [
       "63        [B-Artist, I-Artist, I-Artist, B-Artist, I-Art...\n",
       "95           [B-Artist, I-Artist, O, B-Artist, I-Artist, O]\n",
       "116       [B-Artist, I-Artist, O, B-Artist, I-Artist, I-...\n",
       "132                                 [B-Artist, I-Artist, O]\n",
       "139                [B-Artist, I-Artist, B-Artist, I-Artist]\n",
       "                                ...                        \n",
       "108379    [B-Artist, B-Artist, I-Artist, I-Artist, O, B-...\n",
       "108381    [B-Artist, I-Artist, O, B-Artist, I-Artist, I-...\n",
       "108451    [B-Artist, I-Artist, B-Artist, I-Artist, B-Art...\n",
       "108463          [B-Artist, I-Artist, O, B-Artist, I-Artist]\n",
       "108464    [B-Artist, I-Artist, O, B-Artist, I-Artist, I-...\n",
       "Name: NER_TAGS, Length: 2572, dtype: object"
      ]
     },
     "execution_count": 13,
     "metadata": {},
     "output_type": "execute_result"
    }
   ],
   "source": [
    "data_notitle.NER_TAGS"
   ]
  },
  {
   "cell_type": "code",
   "execution_count": null,
   "metadata": {},
   "outputs": [],
   "source": []
  }
 ],
 "metadata": {
  "kernelspec": {
   "display_name": "torch21",
   "language": "python",
   "name": "python3"
  },
  "language_info": {
   "codemirror_mode": {
    "name": "ipython",
    "version": 3
   },
   "file_extension": ".py",
   "mimetype": "text/x-python",
   "name": "python",
   "nbconvert_exporter": "python",
   "pygments_lexer": "ipython3",
   "version": "3.11.5"
  }
 },
 "nbformat": 4,
 "nbformat_minor": 2
}
