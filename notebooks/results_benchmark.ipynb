{
 "cells": [
  {
   "cell_type": "code",
   "execution_count": 1,
   "metadata": {},
   "outputs": [],
   "source": [
    "import pandas as pd\n",
    "import os\n",
    "\n",
    "import sys\n",
    "sys.path.append(\"..\")\n",
    "from src.Eval import aggregated_results_llm, results_to_dataframe, results_for_metric\n"
   ]
  },
  {
   "cell_type": "code",
   "execution_count": 2,
   "metadata": {},
   "outputs": [
    {
     "name": "stderr",
     "output_type": "stream",
     "text": [
      "2024-09-12 12:38:09 root INFO: Imported 660 predictions for 660 true examples\n"
     ]
    },
    {
     "name": "stdout",
     "output_type": "stream",
     "text": [
      "../output/reddit+shsyt/llama3.1:70b/dataset2_5shot_tfidf.jsonl\n"
     ]
    },
    {
     "name": "stderr",
     "output_type": "stream",
     "text": [
      "2024-09-12 12:38:09 root INFO: Imported 658 predictions for 658 true examples\n"
     ]
    },
    {
     "name": "stdout",
     "output_type": "stream",
     "text": [
      "../output/reddit+shsyt/llama3.1:70b/dataset4_35shot_tfidf.jsonl\n",
      "../output/reddit+shsyt/llama3.1:70b/dataset2_15shot_tfidf.jsonl\n"
     ]
    },
    {
     "name": "stderr",
     "output_type": "stream",
     "text": [
      "2024-09-12 12:38:09 root INFO: Imported 660 predictions for 660 true examples\n",
      "2024-09-12 12:38:10 root INFO: Imported 660 predictions for 660 true examples\n"
     ]
    },
    {
     "name": "stdout",
     "output_type": "stream",
     "text": [
      "../output/reddit+shsyt/llama3.1:70b/dataset1_25shot_tfidf.jsonl\n"
     ]
    },
    {
     "name": "stderr",
     "output_type": "stream",
     "text": [
      "2024-09-12 12:38:10 root INFO: Imported 658 predictions for 658 true examples\n"
     ]
    },
    {
     "name": "stdout",
     "output_type": "stream",
     "text": [
      "../output/reddit+shsyt/llama3.1:70b/dataset3_5shot_tfidf.jsonl\n"
     ]
    },
    {
     "name": "stderr",
     "output_type": "stream",
     "text": [
      "2024-09-12 12:38:10 root INFO: Imported 658 predictions for 658 true examples\n"
     ]
    },
    {
     "name": "stdout",
     "output_type": "stream",
     "text": [
      "../output/reddit+shsyt/llama3.1:70b/dataset5_5shot_tfidf.jsonl\n"
     ]
    },
    {
     "name": "stderr",
     "output_type": "stream",
     "text": [
      "2024-09-12 12:38:10 root INFO: Imported 660 predictions for 660 true examples\n"
     ]
    },
    {
     "name": "stdout",
     "output_type": "stream",
     "text": [
      "../output/reddit+shsyt/llama3.1:70b/dataset2_35shot_rand.jsonl\n"
     ]
    },
    {
     "name": "stderr",
     "output_type": "stream",
     "text": [
      "2024-09-12 12:38:11 root INFO: Imported 658 predictions for 658 true examples\n"
     ]
    },
    {
     "name": "stdout",
     "output_type": "stream",
     "text": [
      "../output/reddit+shsyt/llama3.1:70b/dataset5_15shot_rand.jsonl\n"
     ]
    },
    {
     "name": "stderr",
     "output_type": "stream",
     "text": [
      "2024-09-12 12:38:11 root INFO: Imported 658 predictions for 658 true examples\n"
     ]
    },
    {
     "name": "stdout",
     "output_type": "stream",
     "text": [
      "../output/reddit+shsyt/llama3.1:70b/dataset4_25shot_tfidf.jsonl\n"
     ]
    },
    {
     "name": "stderr",
     "output_type": "stream",
     "text": [
      "2024-09-12 12:38:11 root INFO: Imported 658 predictions for 658 true examples\n"
     ]
    },
    {
     "name": "stdout",
     "output_type": "stream",
     "text": [
      "../output/reddit+shsyt/llama3.1:70b/dataset5_5shot_rand.jsonl\n"
     ]
    },
    {
     "name": "stderr",
     "output_type": "stream",
     "text": [
      "2024-09-12 12:38:11 root INFO: Imported 658 predictions for 658 true examples\n"
     ]
    },
    {
     "name": "stdout",
     "output_type": "stream",
     "text": [
      "../output/reddit+shsyt/llama3.1:70b/dataset5_35shot_tfidf.jsonl\n"
     ]
    },
    {
     "name": "stderr",
     "output_type": "stream",
     "text": [
      "2024-09-12 12:38:11 root INFO: Imported 660 predictions for 660 true examples\n"
     ]
    },
    {
     "name": "stdout",
     "output_type": "stream",
     "text": [
      "../output/reddit+shsyt/llama3.1:70b/dataset1_35shot_rand.jsonl\n"
     ]
    },
    {
     "name": "stderr",
     "output_type": "stream",
     "text": [
      "2024-09-12 12:38:12 root INFO: Imported 658 predictions for 658 true examples\n"
     ]
    },
    {
     "name": "stdout",
     "output_type": "stream",
     "text": [
      "../output/reddit+shsyt/llama3.1:70b/dataset4_0shot.jsonl\n"
     ]
    },
    {
     "name": "stderr",
     "output_type": "stream",
     "text": [
      "2024-09-12 12:38:12 root INFO: Imported 660 predictions for 660 true examples\n"
     ]
    },
    {
     "name": "stdout",
     "output_type": "stream",
     "text": [
      "../output/reddit+shsyt/llama3.1:70b/dataset1_0shot.jsonl\n"
     ]
    },
    {
     "name": "stderr",
     "output_type": "stream",
     "text": [
      "2024-09-12 12:38:12 root INFO: Imported 658 predictions for 658 true examples\n"
     ]
    },
    {
     "name": "stdout",
     "output_type": "stream",
     "text": [
      "../output/reddit+shsyt/llama3.1:70b/dataset5_0shot.jsonl\n"
     ]
    },
    {
     "name": "stderr",
     "output_type": "stream",
     "text": [
      "2024-09-12 12:38:12 root INFO: Imported 658 predictions for 658 true examples\n"
     ]
    },
    {
     "name": "stdout",
     "output_type": "stream",
     "text": [
      "../output/reddit+shsyt/llama3.1:70b/dataset3_15shot_tfidf.jsonl\n"
     ]
    },
    {
     "name": "stderr",
     "output_type": "stream",
     "text": [
      "2024-09-12 12:38:13 root INFO: Imported 660 predictions for 660 true examples\n"
     ]
    },
    {
     "name": "stdout",
     "output_type": "stream",
     "text": [
      "../output/reddit+shsyt/llama3.1:70b/dataset2_25shot_rand.jsonl\n"
     ]
    },
    {
     "name": "stderr",
     "output_type": "stream",
     "text": [
      "2024-09-12 12:38:13 root INFO: Imported 658 predictions for 658 true examples\n"
     ]
    },
    {
     "name": "stdout",
     "output_type": "stream",
     "text": [
      "../output/reddit+shsyt/llama3.1:70b/dataset3_25shot_tfidf.jsonl\n"
     ]
    },
    {
     "name": "stderr",
     "output_type": "stream",
     "text": [
      "2024-09-12 12:38:13 root INFO: Imported 660 predictions for 660 true examples\n"
     ]
    },
    {
     "name": "stdout",
     "output_type": "stream",
     "text": [
      "../output/reddit+shsyt/llama3.1:70b/dataset2_5shot_rand.jsonl\n"
     ]
    },
    {
     "name": "stderr",
     "output_type": "stream",
     "text": [
      "2024-09-12 12:38:13 root INFO: Imported 660 predictions for 660 true examples\n"
     ]
    },
    {
     "name": "stdout",
     "output_type": "stream",
     "text": [
      "../output/reddit+shsyt/llama3.1:70b/dataset1_15shot_tfidf.jsonl\n"
     ]
    },
    {
     "name": "stderr",
     "output_type": "stream",
     "text": [
      "2024-09-12 12:38:13 root INFO: Imported 660 predictions for 660 true examples\n"
     ]
    },
    {
     "name": "stdout",
     "output_type": "stream",
     "text": [
      "../output/reddit+shsyt/llama3.1:70b/dataset2_15shot_rand.jsonl\n"
     ]
    },
    {
     "name": "stderr",
     "output_type": "stream",
     "text": [
      "2024-09-12 12:38:14 root INFO: Imported 658 predictions for 658 true examples\n"
     ]
    },
    {
     "name": "stdout",
     "output_type": "stream",
     "text": [
      "../output/reddit+shsyt/llama3.1:70b/dataset5_35shot_rand.jsonl\n"
     ]
    },
    {
     "name": "stderr",
     "output_type": "stream",
     "text": [
      "2024-09-12 12:38:14 root INFO: Imported 658 predictions for 658 true examples\n"
     ]
    },
    {
     "name": "stdout",
     "output_type": "stream",
     "text": [
      "../output/reddit+shsyt/llama3.1:70b/dataset5_15shot_tfidf.jsonl\n"
     ]
    },
    {
     "name": "stderr",
     "output_type": "stream",
     "text": [
      "2024-09-12 12:38:14 root INFO: Imported 660 predictions for 660 true examples\n"
     ]
    },
    {
     "name": "stdout",
     "output_type": "stream",
     "text": [
      "../output/reddit+shsyt/llama3.1:70b/dataset1_5shot_tfidf.jsonl\n"
     ]
    },
    {
     "name": "stderr",
     "output_type": "stream",
     "text": [
      "2024-09-12 12:38:14 root INFO: Imported 660 predictions for 660 true examples\n"
     ]
    },
    {
     "name": "stdout",
     "output_type": "stream",
     "text": [
      "../output/reddit+shsyt/llama3.1:70b/dataset1_15shot_rand.jsonl\n"
     ]
    },
    {
     "name": "stderr",
     "output_type": "stream",
     "text": [
      "2024-09-12 12:38:15 root INFO: Imported 658 predictions for 658 true examples\n"
     ]
    },
    {
     "name": "stdout",
     "output_type": "stream",
     "text": [
      "../output/reddit+shsyt/llama3.1:70b/dataset4_35shot_rand.jsonl\n"
     ]
    },
    {
     "name": "stderr",
     "output_type": "stream",
     "text": [
      "2024-09-12 12:38:15 root INFO: Imported 658 predictions for 658 true examples\n"
     ]
    },
    {
     "name": "stdout",
     "output_type": "stream",
     "text": [
      "../output/reddit+shsyt/llama3.1:70b/dataset4_25shot_rand.jsonl\n"
     ]
    },
    {
     "name": "stderr",
     "output_type": "stream",
     "text": [
      "2024-09-12 12:38:15 root INFO: Imported 658 predictions for 658 true examples\n"
     ]
    },
    {
     "name": "stdout",
     "output_type": "stream",
     "text": [
      "../output/reddit+shsyt/llama3.1:70b/dataset3_0shot.jsonl\n"
     ]
    },
    {
     "name": "stderr",
     "output_type": "stream",
     "text": [
      "2024-09-12 12:38:15 root INFO: Imported 658 predictions for 658 true examples\n"
     ]
    },
    {
     "name": "stdout",
     "output_type": "stream",
     "text": [
      "../output/reddit+shsyt/llama3.1:70b/dataset3_35shot_tfidf.jsonl\n"
     ]
    },
    {
     "name": "stderr",
     "output_type": "stream",
     "text": [
      "2024-09-12 12:38:16 root INFO: Imported 660 predictions for 660 true examples\n"
     ]
    },
    {
     "name": "stdout",
     "output_type": "stream",
     "text": [
      "../output/reddit+shsyt/llama3.1:70b/dataset2_0shot.jsonl\n"
     ]
    },
    {
     "name": "stderr",
     "output_type": "stream",
     "text": [
      "2024-09-12 12:38:16 root INFO: Imported 658 predictions for 658 true examples\n"
     ]
    },
    {
     "name": "stdout",
     "output_type": "stream",
     "text": [
      "../output/reddit+shsyt/llama3.1:70b/dataset5_25shot_rand.jsonl\n"
     ]
    },
    {
     "name": "stderr",
     "output_type": "stream",
     "text": [
      "2024-09-12 12:38:16 root INFO: Imported 658 predictions for 658 true examples\n"
     ]
    },
    {
     "name": "stdout",
     "output_type": "stream",
     "text": [
      "../output/reddit+shsyt/llama3.1:70b/dataset3_5shot_rand.jsonl\n",
      "../output/reddit+shsyt/llama3.1:70b/dataset1_5shot_rand.jsonl\n"
     ]
    },
    {
     "name": "stderr",
     "output_type": "stream",
     "text": [
      "2024-09-12 12:38:16 root INFO: Imported 660 predictions for 660 true examples\n",
      "2024-09-12 12:38:17 root INFO: Imported 658 predictions for 658 true examples\n"
     ]
    },
    {
     "name": "stdout",
     "output_type": "stream",
     "text": [
      "../output/reddit+shsyt/llama3.1:70b/dataset4_15shot_tfidf.jsonl\n"
     ]
    },
    {
     "name": "stderr",
     "output_type": "stream",
     "text": [
      "2024-09-12 12:38:17 root INFO: Imported 658 predictions for 658 true examples\n"
     ]
    },
    {
     "name": "stdout",
     "output_type": "stream",
     "text": [
      "../output/reddit+shsyt/llama3.1:70b/dataset3_25shot_rand.jsonl\n"
     ]
    },
    {
     "name": "stderr",
     "output_type": "stream",
     "text": [
      "2024-09-12 12:38:17 root INFO: Imported 660 predictions for 660 true examples\n"
     ]
    },
    {
     "name": "stdout",
     "output_type": "stream",
     "text": [
      "../output/reddit+shsyt/llama3.1:70b/dataset1_35shot_tfidf.jsonl\n"
     ]
    },
    {
     "name": "stderr",
     "output_type": "stream",
     "text": [
      "2024-09-12 12:38:17 root INFO: Imported 660 predictions for 660 true examples\n"
     ]
    },
    {
     "name": "stdout",
     "output_type": "stream",
     "text": [
      "../output/reddit+shsyt/llama3.1:70b/dataset1_25shot_rand.jsonl\n"
     ]
    },
    {
     "name": "stderr",
     "output_type": "stream",
     "text": [
      "2024-09-12 12:38:18 root INFO: Imported 658 predictions for 658 true examples\n"
     ]
    },
    {
     "name": "stdout",
     "output_type": "stream",
     "text": [
      "../output/reddit+shsyt/llama3.1:70b/dataset3_15shot_rand.jsonl\n"
     ]
    },
    {
     "name": "stderr",
     "output_type": "stream",
     "text": [
      "2024-09-12 12:38:18 root INFO: Imported 660 predictions for 660 true examples\n"
     ]
    },
    {
     "name": "stdout",
     "output_type": "stream",
     "text": [
      "../output/reddit+shsyt/llama3.1:70b/dataset2_35shot_tfidf.jsonl\n"
     ]
    },
    {
     "name": "stderr",
     "output_type": "stream",
     "text": [
      "2024-09-12 12:38:18 root INFO: Imported 658 predictions for 658 true examples\n"
     ]
    },
    {
     "name": "stdout",
     "output_type": "stream",
     "text": [
      "../output/reddit+shsyt/llama3.1:70b/dataset4_5shot_tfidf.jsonl\n"
     ]
    },
    {
     "name": "stderr",
     "output_type": "stream",
     "text": [
      "2024-09-12 12:38:18 root INFO: Imported 658 predictions for 658 true examples\n"
     ]
    },
    {
     "name": "stdout",
     "output_type": "stream",
     "text": [
      "../output/reddit+shsyt/llama3.1:70b/dataset4_15shot_rand.jsonl\n"
     ]
    },
    {
     "name": "stderr",
     "output_type": "stream",
     "text": [
      "2024-09-12 12:38:18 root INFO: Imported 658 predictions for 658 true examples\n"
     ]
    },
    {
     "name": "stdout",
     "output_type": "stream",
     "text": [
      "../output/reddit+shsyt/llama3.1:70b/dataset4_5shot_rand.jsonl\n"
     ]
    },
    {
     "name": "stderr",
     "output_type": "stream",
     "text": [
      "2024-09-12 12:38:19 root INFO: Imported 658 predictions for 658 true examples\n"
     ]
    },
    {
     "name": "stdout",
     "output_type": "stream",
     "text": [
      "../output/reddit+shsyt/llama3.1:70b/dataset3_35shot_rand.jsonl\n"
     ]
    },
    {
     "name": "stderr",
     "output_type": "stream",
     "text": [
      "2024-09-12 12:38:19 root INFO: Imported 658 predictions for 658 true examples\n"
     ]
    },
    {
     "name": "stdout",
     "output_type": "stream",
     "text": [
      "../output/reddit+shsyt/llama3.1:70b/dataset5_25shot_tfidf.jsonl\n"
     ]
    },
    {
     "name": "stderr",
     "output_type": "stream",
     "text": [
      "2024-09-12 12:38:19 root INFO: Imported 660 predictions for 660 true examples\n"
     ]
    },
    {
     "name": "stdout",
     "output_type": "stream",
     "text": [
      "../output/reddit+shsyt/llama3.1:70b/dataset2_25shot_tfidf.jsonl\n"
     ]
    },
    {
     "name": "stderr",
     "output_type": "stream",
     "text": [
      "2024-09-12 12:38:19 root INFO: Imported 660 predictions for 660 true examples\n"
     ]
    },
    {
     "name": "stdout",
     "output_type": "stream",
     "text": [
      "../output/reddit+shsyt/firefunction-v2/dataset2_5shot_tfidf.jsonl\n"
     ]
    },
    {
     "name": "stderr",
     "output_type": "stream",
     "text": [
      "2024-09-12 12:38:20 root INFO: Imported 658 predictions for 658 true examples\n"
     ]
    },
    {
     "name": "stdout",
     "output_type": "stream",
     "text": [
      "../output/reddit+shsyt/firefunction-v2/dataset4_35shot_tfidf.jsonl\n"
     ]
    },
    {
     "name": "stderr",
     "output_type": "stream",
     "text": [
      "2024-09-12 12:38:20 root INFO: Imported 660 predictions for 660 true examples\n"
     ]
    },
    {
     "name": "stdout",
     "output_type": "stream",
     "text": [
      "../output/reddit+shsyt/firefunction-v2/dataset2_15shot_tfidf.jsonl\n"
     ]
    },
    {
     "name": "stderr",
     "output_type": "stream",
     "text": [
      "2024-09-12 12:38:20 root INFO: Imported 660 predictions for 660 true examples\n"
     ]
    },
    {
     "name": "stdout",
     "output_type": "stream",
     "text": [
      "../output/reddit+shsyt/firefunction-v2/dataset1_25shot_tfidf.jsonl\n"
     ]
    },
    {
     "name": "stderr",
     "output_type": "stream",
     "text": [
      "2024-09-12 12:38:20 root INFO: Imported 658 predictions for 658 true examples\n"
     ]
    },
    {
     "name": "stdout",
     "output_type": "stream",
     "text": [
      "../output/reddit+shsyt/firefunction-v2/dataset3_5shot_tfidf.jsonl\n",
      "../output/reddit+shsyt/firefunction-v2/dataset5_5shot_tfidf.jsonl\n"
     ]
    },
    {
     "name": "stderr",
     "output_type": "stream",
     "text": [
      "2024-09-12 12:38:20 root INFO: Imported 658 predictions for 658 true examples\n",
      "2024-09-12 12:38:21 root INFO: Imported 660 predictions for 660 true examples\n"
     ]
    },
    {
     "name": "stdout",
     "output_type": "stream",
     "text": [
      "../output/reddit+shsyt/firefunction-v2/dataset2_35shot_rand.jsonl\n"
     ]
    },
    {
     "name": "stderr",
     "output_type": "stream",
     "text": [
      "2024-09-12 12:38:21 root INFO: Imported 658 predictions for 658 true examples\n"
     ]
    },
    {
     "name": "stdout",
     "output_type": "stream",
     "text": [
      "../output/reddit+shsyt/firefunction-v2/dataset5_15shot_rand.jsonl\n"
     ]
    },
    {
     "name": "stderr",
     "output_type": "stream",
     "text": [
      "2024-09-12 12:38:21 root INFO: Imported 658 predictions for 658 true examples\n"
     ]
    },
    {
     "name": "stdout",
     "output_type": "stream",
     "text": [
      "../output/reddit+shsyt/firefunction-v2/dataset4_25shot_tfidf.jsonl\n"
     ]
    },
    {
     "name": "stderr",
     "output_type": "stream",
     "text": [
      "2024-09-12 12:38:21 root INFO: Imported 658 predictions for 658 true examples\n"
     ]
    },
    {
     "name": "stdout",
     "output_type": "stream",
     "text": [
      "../output/reddit+shsyt/firefunction-v2/dataset5_5shot_rand.jsonl\n"
     ]
    },
    {
     "name": "stderr",
     "output_type": "stream",
     "text": [
      "2024-09-12 12:38:21 root INFO: Imported 658 predictions for 658 true examples\n"
     ]
    },
    {
     "name": "stdout",
     "output_type": "stream",
     "text": [
      "../output/reddit+shsyt/firefunction-v2/dataset5_35shot_tfidf.jsonl\n"
     ]
    },
    {
     "name": "stderr",
     "output_type": "stream",
     "text": [
      "2024-09-12 12:38:22 root INFO: Imported 660 predictions for 660 true examples\n"
     ]
    },
    {
     "name": "stdout",
     "output_type": "stream",
     "text": [
      "../output/reddit+shsyt/firefunction-v2/dataset1_35shot_rand.jsonl\n"
     ]
    },
    {
     "name": "stderr",
     "output_type": "stream",
     "text": [
      "2024-09-12 12:38:22 root INFO: Imported 658 predictions for 658 true examples\n"
     ]
    },
    {
     "name": "stdout",
     "output_type": "stream",
     "text": [
      "../output/reddit+shsyt/firefunction-v2/dataset4_0shot.jsonl\n",
      "../output/reddit+shsyt/firefunction-v2/dataset1_0shot.jsonl\n"
     ]
    },
    {
     "name": "stderr",
     "output_type": "stream",
     "text": [
      "2024-09-12 12:38:22 root INFO: Imported 660 predictions for 660 true examples\n",
      "2024-09-12 12:38:22 root INFO: Imported 658 predictions for 658 true examples\n"
     ]
    },
    {
     "name": "stdout",
     "output_type": "stream",
     "text": [
      "../output/reddit+shsyt/firefunction-v2/dataset5_0shot.jsonl\n"
     ]
    },
    {
     "name": "stderr",
     "output_type": "stream",
     "text": [
      "2024-09-12 12:38:23 root INFO: Imported 658 predictions for 658 true examples\n"
     ]
    },
    {
     "name": "stdout",
     "output_type": "stream",
     "text": [
      "../output/reddit+shsyt/firefunction-v2/dataset3_15shot_tfidf.jsonl\n"
     ]
    },
    {
     "name": "stderr",
     "output_type": "stream",
     "text": [
      "2024-09-12 12:38:23 root INFO: Imported 660 predictions for 660 true examples\n"
     ]
    },
    {
     "name": "stdout",
     "output_type": "stream",
     "text": [
      "../output/reddit+shsyt/firefunction-v2/dataset2_25shot_rand.jsonl\n",
      "../output/reddit+shsyt/firefunction-v2/dataset3_25shot_tfidf.jsonl\n"
     ]
    },
    {
     "name": "stderr",
     "output_type": "stream",
     "text": [
      "2024-09-12 12:38:23 root INFO: Imported 658 predictions for 658 true examples\n",
      "2024-09-12 12:38:23 root INFO: Imported 660 predictions for 660 true examples\n"
     ]
    },
    {
     "name": "stdout",
     "output_type": "stream",
     "text": [
      "../output/reddit+shsyt/firefunction-v2/dataset2_5shot_rand.jsonl\n"
     ]
    },
    {
     "name": "stderr",
     "output_type": "stream",
     "text": [
      "2024-09-12 12:38:24 root INFO: Imported 660 predictions for 660 true examples\n"
     ]
    },
    {
     "name": "stdout",
     "output_type": "stream",
     "text": [
      "../output/reddit+shsyt/firefunction-v2/dataset1_15shot_tfidf.jsonl\n"
     ]
    },
    {
     "name": "stderr",
     "output_type": "stream",
     "text": [
      "2024-09-12 12:38:24 root INFO: Imported 660 predictions for 660 true examples\n"
     ]
    },
    {
     "name": "stdout",
     "output_type": "stream",
     "text": [
      "../output/reddit+shsyt/firefunction-v2/dataset2_15shot_rand.jsonl\n"
     ]
    },
    {
     "name": "stderr",
     "output_type": "stream",
     "text": [
      "2024-09-12 12:38:24 root INFO: Imported 658 predictions for 658 true examples\n"
     ]
    },
    {
     "name": "stdout",
     "output_type": "stream",
     "text": [
      "../output/reddit+shsyt/firefunction-v2/dataset5_35shot_rand.jsonl\n",
      "../output/reddit+shsyt/firefunction-v2/dataset5_15shot_tfidf.jsonl\n"
     ]
    },
    {
     "name": "stderr",
     "output_type": "stream",
     "text": [
      "2024-09-12 12:38:24 root INFO: Imported 658 predictions for 658 true examples\n",
      "2024-09-12 12:38:24 root INFO: Imported 660 predictions for 660 true examples\n"
     ]
    },
    {
     "name": "stdout",
     "output_type": "stream",
     "text": [
      "../output/reddit+shsyt/firefunction-v2/dataset1_5shot_tfidf.jsonl\n"
     ]
    },
    {
     "name": "stderr",
     "output_type": "stream",
     "text": [
      "2024-09-12 12:38:25 root INFO: Imported 660 predictions for 660 true examples\n"
     ]
    },
    {
     "name": "stdout",
     "output_type": "stream",
     "text": [
      "../output/reddit+shsyt/firefunction-v2/dataset1_15shot_rand.jsonl\n"
     ]
    },
    {
     "name": "stderr",
     "output_type": "stream",
     "text": [
      "2024-09-12 12:38:25 root INFO: Imported 658 predictions for 658 true examples\n"
     ]
    },
    {
     "name": "stdout",
     "output_type": "stream",
     "text": [
      "../output/reddit+shsyt/firefunction-v2/dataset4_35shot_rand.jsonl\n"
     ]
    },
    {
     "name": "stderr",
     "output_type": "stream",
     "text": [
      "2024-09-12 12:38:25 root INFO: Imported 658 predictions for 658 true examples\n"
     ]
    },
    {
     "name": "stdout",
     "output_type": "stream",
     "text": [
      "../output/reddit+shsyt/firefunction-v2/dataset4_25shot_rand.jsonl\n"
     ]
    },
    {
     "name": "stderr",
     "output_type": "stream",
     "text": [
      "2024-09-12 12:38:25 root INFO: Imported 658 predictions for 658 true examples\n"
     ]
    },
    {
     "name": "stdout",
     "output_type": "stream",
     "text": [
      "../output/reddit+shsyt/firefunction-v2/dataset3_0shot.jsonl\n",
      "../output/reddit+shsyt/firefunction-v2/dataset3_35shot_tfidf.jsonl\n"
     ]
    },
    {
     "name": "stderr",
     "output_type": "stream",
     "text": [
      "2024-09-12 12:38:25 root INFO: Imported 658 predictions for 658 true examples\n",
      "2024-09-12 12:38:26 root INFO: Imported 660 predictions for 660 true examples\n"
     ]
    },
    {
     "name": "stdout",
     "output_type": "stream",
     "text": [
      "../output/reddit+shsyt/firefunction-v2/dataset2_0shot.jsonl\n"
     ]
    },
    {
     "name": "stderr",
     "output_type": "stream",
     "text": [
      "2024-09-12 12:38:26 root INFO: Imported 658 predictions for 658 true examples\n"
     ]
    },
    {
     "name": "stdout",
     "output_type": "stream",
     "text": [
      "../output/reddit+shsyt/firefunction-v2/dataset5_25shot_rand.jsonl\n"
     ]
    },
    {
     "name": "stderr",
     "output_type": "stream",
     "text": [
      "2024-09-12 12:38:26 root INFO: Imported 658 predictions for 658 true examples\n"
     ]
    },
    {
     "name": "stdout",
     "output_type": "stream",
     "text": [
      "../output/reddit+shsyt/firefunction-v2/dataset3_5shot_rand.jsonl\n"
     ]
    },
    {
     "name": "stderr",
     "output_type": "stream",
     "text": [
      "2024-09-12 12:38:26 root INFO: Imported 660 predictions for 660 true examples\n"
     ]
    },
    {
     "name": "stdout",
     "output_type": "stream",
     "text": [
      "../output/reddit+shsyt/firefunction-v2/dataset1_5shot_rand.jsonl\n"
     ]
    },
    {
     "name": "stderr",
     "output_type": "stream",
     "text": [
      "2024-09-12 12:38:27 root INFO: Imported 658 predictions for 658 true examples\n"
     ]
    },
    {
     "name": "stdout",
     "output_type": "stream",
     "text": [
      "../output/reddit+shsyt/firefunction-v2/dataset4_15shot_tfidf.jsonl\n"
     ]
    },
    {
     "name": "stderr",
     "output_type": "stream",
     "text": [
      "2024-09-12 12:38:27 root INFO: Imported 658 predictions for 658 true examples\n"
     ]
    },
    {
     "name": "stdout",
     "output_type": "stream",
     "text": [
      "../output/reddit+shsyt/firefunction-v2/dataset3_25shot_rand.jsonl\n",
      "../output/reddit+shsyt/firefunction-v2/dataset1_35shot_tfidf.jsonl\n"
     ]
    },
    {
     "name": "stderr",
     "output_type": "stream",
     "text": [
      "2024-09-12 12:38:27 root INFO: Imported 660 predictions for 660 true examples\n",
      "2024-09-12 12:38:27 root INFO: Imported 660 predictions for 660 true examples\n"
     ]
    },
    {
     "name": "stdout",
     "output_type": "stream",
     "text": [
      "../output/reddit+shsyt/firefunction-v2/dataset1_25shot_rand.jsonl\n"
     ]
    },
    {
     "name": "stderr",
     "output_type": "stream",
     "text": [
      "2024-09-12 12:38:27 root INFO: Imported 658 predictions for 658 true examples\n"
     ]
    },
    {
     "name": "stdout",
     "output_type": "stream",
     "text": [
      "../output/reddit+shsyt/firefunction-v2/dataset3_15shot_rand.jsonl\n"
     ]
    },
    {
     "name": "stderr",
     "output_type": "stream",
     "text": [
      "2024-09-12 12:38:28 root INFO: Imported 660 predictions for 660 true examples\n"
     ]
    },
    {
     "name": "stdout",
     "output_type": "stream",
     "text": [
      "../output/reddit+shsyt/firefunction-v2/dataset2_35shot_tfidf.jsonl\n"
     ]
    },
    {
     "name": "stderr",
     "output_type": "stream",
     "text": [
      "2024-09-12 12:38:28 root INFO: Imported 658 predictions for 658 true examples\n"
     ]
    },
    {
     "name": "stdout",
     "output_type": "stream",
     "text": [
      "../output/reddit+shsyt/firefunction-v2/dataset4_5shot_tfidf.jsonl\n"
     ]
    },
    {
     "name": "stderr",
     "output_type": "stream",
     "text": [
      "2024-09-12 12:38:28 root INFO: Imported 658 predictions for 658 true examples\n"
     ]
    },
    {
     "name": "stdout",
     "output_type": "stream",
     "text": [
      "../output/reddit+shsyt/firefunction-v2/dataset4_15shot_rand.jsonl\n"
     ]
    },
    {
     "name": "stderr",
     "output_type": "stream",
     "text": [
      "2024-09-12 12:38:28 root INFO: Imported 658 predictions for 658 true examples\n"
     ]
    },
    {
     "name": "stdout",
     "output_type": "stream",
     "text": [
      "../output/reddit+shsyt/firefunction-v2/dataset4_5shot_rand.jsonl\n"
     ]
    },
    {
     "name": "stderr",
     "output_type": "stream",
     "text": [
      "2024-09-12 12:38:28 root INFO: Imported 658 predictions for 658 true examples\n"
     ]
    },
    {
     "name": "stdout",
     "output_type": "stream",
     "text": [
      "../output/reddit+shsyt/firefunction-v2/dataset3_35shot_rand.jsonl\n",
      "../output/reddit+shsyt/firefunction-v2/dataset5_25shot_tfidf.jsonl\n"
     ]
    },
    {
     "name": "stderr",
     "output_type": "stream",
     "text": [
      "2024-09-12 12:38:29 root INFO: Imported 658 predictions for 658 true examples\n",
      "2024-09-12 12:38:29 root INFO: Imported 660 predictions for 660 true examples\n"
     ]
    },
    {
     "name": "stdout",
     "output_type": "stream",
     "text": [
      "../output/reddit+shsyt/firefunction-v2/dataset2_25shot_tfidf.jsonl\n"
     ]
    },
    {
     "name": "stderr",
     "output_type": "stream",
     "text": [
      "2024-09-12 12:38:29 root INFO: Imported 660 predictions for 660 true examples\n"
     ]
    },
    {
     "name": "stdout",
     "output_type": "stream",
     "text": [
      "../output/reddit+shsyt/gpt-4o-mini/dataset2_5shot_tfidf.jsonl\n"
     ]
    },
    {
     "name": "stderr",
     "output_type": "stream",
     "text": [
      "2024-09-12 12:38:29 root INFO: Imported 658 predictions for 658 true examples\n"
     ]
    },
    {
     "name": "stdout",
     "output_type": "stream",
     "text": [
      "../output/reddit+shsyt/gpt-4o-mini/dataset4_35shot_tfidf.jsonl\n",
      "../output/reddit+shsyt/gpt-4o-mini/dataset2_15shot_tfidf.jsonl\n"
     ]
    },
    {
     "name": "stderr",
     "output_type": "stream",
     "text": [
      "2024-09-12 12:38:30 root INFO: Imported 660 predictions for 660 true examples\n",
      "2024-09-12 12:38:30 root INFO: Imported 660 predictions for 660 true examples\n"
     ]
    },
    {
     "name": "stdout",
     "output_type": "stream",
     "text": [
      "../output/reddit+shsyt/gpt-4o-mini/dataset1_25shot_tfidf.jsonl\n"
     ]
    },
    {
     "name": "stderr",
     "output_type": "stream",
     "text": [
      "2024-09-12 12:38:30 root INFO: Imported 658 predictions for 658 true examples\n"
     ]
    },
    {
     "name": "stdout",
     "output_type": "stream",
     "text": [
      "../output/reddit+shsyt/gpt-4o-mini/dataset3_5shot_tfidf.jsonl\n"
     ]
    },
    {
     "name": "stderr",
     "output_type": "stream",
     "text": [
      "2024-09-12 12:38:30 root INFO: Imported 658 predictions for 658 true examples\n"
     ]
    },
    {
     "name": "stdout",
     "output_type": "stream",
     "text": [
      "../output/reddit+shsyt/gpt-4o-mini/dataset5_5shot_tfidf.jsonl\n"
     ]
    },
    {
     "name": "stderr",
     "output_type": "stream",
     "text": [
      "2024-09-12 12:38:31 root INFO: Imported 660 predictions for 660 true examples\n"
     ]
    },
    {
     "name": "stdout",
     "output_type": "stream",
     "text": [
      "../output/reddit+shsyt/gpt-4o-mini/dataset2_35shot_rand.jsonl\n"
     ]
    },
    {
     "name": "stderr",
     "output_type": "stream",
     "text": [
      "2024-09-12 12:38:31 root INFO: Imported 658 predictions for 658 true examples\n"
     ]
    },
    {
     "name": "stdout",
     "output_type": "stream",
     "text": [
      "../output/reddit+shsyt/gpt-4o-mini/dataset5_15shot_rand.jsonl\n"
     ]
    },
    {
     "name": "stderr",
     "output_type": "stream",
     "text": [
      "2024-09-12 12:38:31 root INFO: Imported 658 predictions for 658 true examples\n"
     ]
    },
    {
     "name": "stdout",
     "output_type": "stream",
     "text": [
      "../output/reddit+shsyt/gpt-4o-mini/dataset4_25shot_tfidf.jsonl\n"
     ]
    },
    {
     "name": "stderr",
     "output_type": "stream",
     "text": [
      "2024-09-12 12:38:31 root INFO: Imported 658 predictions for 658 true examples\n"
     ]
    },
    {
     "name": "stdout",
     "output_type": "stream",
     "text": [
      "../output/reddit+shsyt/gpt-4o-mini/dataset5_5shot_rand.jsonl\n"
     ]
    },
    {
     "name": "stderr",
     "output_type": "stream",
     "text": [
      "2024-09-12 12:38:31 root INFO: Imported 658 predictions for 658 true examples\n"
     ]
    },
    {
     "name": "stdout",
     "output_type": "stream",
     "text": [
      "../output/reddit+shsyt/gpt-4o-mini/dataset5_35shot_tfidf.jsonl\n"
     ]
    },
    {
     "name": "stderr",
     "output_type": "stream",
     "text": [
      "2024-09-12 12:38:32 root INFO: Imported 660 predictions for 660 true examples\n"
     ]
    },
    {
     "name": "stdout",
     "output_type": "stream",
     "text": [
      "../output/reddit+shsyt/gpt-4o-mini/dataset1_35shot_rand.jsonl\n"
     ]
    },
    {
     "name": "stderr",
     "output_type": "stream",
     "text": [
      "2024-09-12 12:38:32 root INFO: Imported 658 predictions for 658 true examples\n"
     ]
    },
    {
     "name": "stdout",
     "output_type": "stream",
     "text": [
      "../output/reddit+shsyt/gpt-4o-mini/dataset4_0shot.jsonl\n"
     ]
    },
    {
     "name": "stderr",
     "output_type": "stream",
     "text": [
      "2024-09-12 12:38:32 root INFO: Imported 660 predictions for 660 true examples\n"
     ]
    },
    {
     "name": "stdout",
     "output_type": "stream",
     "text": [
      "../output/reddit+shsyt/gpt-4o-mini/dataset1_0shot.jsonl\n"
     ]
    },
    {
     "name": "stderr",
     "output_type": "stream",
     "text": [
      "2024-09-12 12:38:32 root INFO: Imported 658 predictions for 658 true examples\n"
     ]
    },
    {
     "name": "stdout",
     "output_type": "stream",
     "text": [
      "../output/reddit+shsyt/gpt-4o-mini/dataset5_0shot.jsonl\n"
     ]
    },
    {
     "name": "stderr",
     "output_type": "stream",
     "text": [
      "2024-09-12 12:38:33 root INFO: Imported 658 predictions for 658 true examples\n"
     ]
    },
    {
     "name": "stdout",
     "output_type": "stream",
     "text": [
      "../output/reddit+shsyt/gpt-4o-mini/dataset3_15shot_tfidf.jsonl\n"
     ]
    },
    {
     "name": "stderr",
     "output_type": "stream",
     "text": [
      "2024-09-12 12:38:33 root INFO: Imported 660 predictions for 660 true examples\n"
     ]
    },
    {
     "name": "stdout",
     "output_type": "stream",
     "text": [
      "../output/reddit+shsyt/gpt-4o-mini/dataset2_25shot_rand.jsonl\n"
     ]
    },
    {
     "name": "stderr",
     "output_type": "stream",
     "text": [
      "2024-09-12 12:38:33 root INFO: Imported 658 predictions for 658 true examples\n"
     ]
    },
    {
     "name": "stdout",
     "output_type": "stream",
     "text": [
      "../output/reddit+shsyt/gpt-4o-mini/dataset3_25shot_tfidf.jsonl\n"
     ]
    },
    {
     "name": "stderr",
     "output_type": "stream",
     "text": [
      "2024-09-12 12:38:33 root INFO: Imported 660 predictions for 660 true examples\n"
     ]
    },
    {
     "name": "stdout",
     "output_type": "stream",
     "text": [
      "../output/reddit+shsyt/gpt-4o-mini/dataset2_5shot_rand.jsonl\n"
     ]
    },
    {
     "name": "stderr",
     "output_type": "stream",
     "text": [
      "2024-09-12 12:38:33 root INFO: Imported 660 predictions for 660 true examples\n"
     ]
    },
    {
     "name": "stdout",
     "output_type": "stream",
     "text": [
      "../output/reddit+shsyt/gpt-4o-mini/dataset1_15shot_tfidf.jsonl\n"
     ]
    },
    {
     "name": "stderr",
     "output_type": "stream",
     "text": [
      "2024-09-12 12:38:34 root INFO: Imported 660 predictions for 660 true examples\n"
     ]
    },
    {
     "name": "stdout",
     "output_type": "stream",
     "text": [
      "../output/reddit+shsyt/gpt-4o-mini/dataset2_15shot_rand.jsonl\n"
     ]
    },
    {
     "name": "stderr",
     "output_type": "stream",
     "text": [
      "2024-09-12 12:38:34 root INFO: Imported 658 predictions for 658 true examples\n"
     ]
    },
    {
     "name": "stdout",
     "output_type": "stream",
     "text": [
      "../output/reddit+shsyt/gpt-4o-mini/dataset5_35shot_rand.jsonl\n"
     ]
    },
    {
     "name": "stderr",
     "output_type": "stream",
     "text": [
      "2024-09-12 12:38:34 root INFO: Imported 658 predictions for 658 true examples\n"
     ]
    },
    {
     "name": "stdout",
     "output_type": "stream",
     "text": [
      "../output/reddit+shsyt/gpt-4o-mini/dataset5_15shot_tfidf.jsonl\n"
     ]
    },
    {
     "name": "stderr",
     "output_type": "stream",
     "text": [
      "2024-09-12 12:38:34 root INFO: Imported 660 predictions for 660 true examples\n"
     ]
    },
    {
     "name": "stdout",
     "output_type": "stream",
     "text": [
      "../output/reddit+shsyt/gpt-4o-mini/dataset1_5shot_tfidf.jsonl\n"
     ]
    },
    {
     "name": "stderr",
     "output_type": "stream",
     "text": [
      "2024-09-12 12:38:35 root INFO: Imported 660 predictions for 660 true examples\n"
     ]
    },
    {
     "name": "stdout",
     "output_type": "stream",
     "text": [
      "../output/reddit+shsyt/gpt-4o-mini/dataset1_15shot_rand.jsonl\n"
     ]
    },
    {
     "name": "stderr",
     "output_type": "stream",
     "text": [
      "2024-09-12 12:38:35 root INFO: Imported 658 predictions for 658 true examples\n"
     ]
    },
    {
     "name": "stdout",
     "output_type": "stream",
     "text": [
      "../output/reddit+shsyt/gpt-4o-mini/dataset4_35shot_rand.jsonl\n"
     ]
    },
    {
     "name": "stderr",
     "output_type": "stream",
     "text": [
      "2024-09-12 12:38:35 root INFO: Imported 658 predictions for 658 true examples\n"
     ]
    },
    {
     "name": "stdout",
     "output_type": "stream",
     "text": [
      "../output/reddit+shsyt/gpt-4o-mini/dataset4_25shot_rand.jsonl\n"
     ]
    },
    {
     "name": "stderr",
     "output_type": "stream",
     "text": [
      "2024-09-12 12:38:35 root INFO: Imported 658 predictions for 658 true examples\n"
     ]
    },
    {
     "name": "stdout",
     "output_type": "stream",
     "text": [
      "../output/reddit+shsyt/gpt-4o-mini/dataset3_0shot.jsonl\n"
     ]
    },
    {
     "name": "stderr",
     "output_type": "stream",
     "text": [
      "2024-09-12 12:38:35 root INFO: Imported 658 predictions for 658 true examples\n"
     ]
    },
    {
     "name": "stdout",
     "output_type": "stream",
     "text": [
      "../output/reddit+shsyt/gpt-4o-mini/dataset3_35shot_tfidf.jsonl\n",
      "../output/reddit+shsyt/gpt-4o-mini/dataset2_0shot.jsonl\n"
     ]
    },
    {
     "name": "stderr",
     "output_type": "stream",
     "text": [
      "2024-09-12 12:38:36 root INFO: Imported 660 predictions for 660 true examples\n",
      "2024-09-12 12:38:36 root INFO: Imported 658 predictions for 658 true examples\n"
     ]
    },
    {
     "name": "stdout",
     "output_type": "stream",
     "text": [
      "../output/reddit+shsyt/gpt-4o-mini/dataset5_25shot_rand.jsonl\n"
     ]
    },
    {
     "name": "stderr",
     "output_type": "stream",
     "text": [
      "2024-09-12 12:38:36 root INFO: Imported 658 predictions for 658 true examples\n"
     ]
    },
    {
     "name": "stdout",
     "output_type": "stream",
     "text": [
      "../output/reddit+shsyt/gpt-4o-mini/dataset3_5shot_rand.jsonl\n"
     ]
    },
    {
     "name": "stderr",
     "output_type": "stream",
     "text": [
      "2024-09-12 12:38:36 root INFO: Imported 660 predictions for 660 true examples\n"
     ]
    },
    {
     "name": "stdout",
     "output_type": "stream",
     "text": [
      "../output/reddit+shsyt/gpt-4o-mini/dataset1_5shot_rand.jsonl\n"
     ]
    },
    {
     "name": "stderr",
     "output_type": "stream",
     "text": [
      "2024-09-12 12:38:37 root INFO: Imported 658 predictions for 658 true examples\n"
     ]
    },
    {
     "name": "stdout",
     "output_type": "stream",
     "text": [
      "../output/reddit+shsyt/gpt-4o-mini/dataset4_15shot_tfidf.jsonl\n"
     ]
    },
    {
     "name": "stderr",
     "output_type": "stream",
     "text": [
      "2024-09-12 12:38:37 root INFO: Imported 658 predictions for 658 true examples\n"
     ]
    },
    {
     "name": "stdout",
     "output_type": "stream",
     "text": [
      "../output/reddit+shsyt/gpt-4o-mini/dataset3_25shot_rand.jsonl\n"
     ]
    },
    {
     "name": "stderr",
     "output_type": "stream",
     "text": [
      "2024-09-12 12:38:37 root INFO: Imported 660 predictions for 660 true examples\n"
     ]
    },
    {
     "name": "stdout",
     "output_type": "stream",
     "text": [
      "../output/reddit+shsyt/gpt-4o-mini/dataset1_35shot_tfidf.jsonl\n"
     ]
    },
    {
     "name": "stderr",
     "output_type": "stream",
     "text": [
      "2024-09-12 12:38:37 root INFO: Imported 660 predictions for 660 true examples\n"
     ]
    },
    {
     "name": "stdout",
     "output_type": "stream",
     "text": [
      "../output/reddit+shsyt/gpt-4o-mini/dataset1_25shot_rand.jsonl\n"
     ]
    },
    {
     "name": "stderr",
     "output_type": "stream",
     "text": [
      "2024-09-12 12:38:37 root INFO: Imported 658 predictions for 658 true examples\n"
     ]
    },
    {
     "name": "stdout",
     "output_type": "stream",
     "text": [
      "../output/reddit+shsyt/gpt-4o-mini/dataset3_15shot_rand.jsonl\n"
     ]
    },
    {
     "name": "stderr",
     "output_type": "stream",
     "text": [
      "2024-09-12 12:38:38 root INFO: Imported 660 predictions for 660 true examples\n"
     ]
    },
    {
     "name": "stdout",
     "output_type": "stream",
     "text": [
      "../output/reddit+shsyt/gpt-4o-mini/dataset2_35shot_tfidf.jsonl\n"
     ]
    },
    {
     "name": "stderr",
     "output_type": "stream",
     "text": [
      "2024-09-12 12:38:38 root INFO: Imported 658 predictions for 658 true examples\n"
     ]
    },
    {
     "name": "stdout",
     "output_type": "stream",
     "text": [
      "../output/reddit+shsyt/gpt-4o-mini/dataset4_5shot_tfidf.jsonl\n"
     ]
    },
    {
     "name": "stderr",
     "output_type": "stream",
     "text": [
      "2024-09-12 12:38:38 root INFO: Imported 658 predictions for 658 true examples\n"
     ]
    },
    {
     "name": "stdout",
     "output_type": "stream",
     "text": [
      "../output/reddit+shsyt/gpt-4o-mini/dataset4_15shot_rand.jsonl\n"
     ]
    },
    {
     "name": "stderr",
     "output_type": "stream",
     "text": [
      "2024-09-12 12:38:38 root INFO: Imported 658 predictions for 658 true examples\n"
     ]
    },
    {
     "name": "stdout",
     "output_type": "stream",
     "text": [
      "../output/reddit+shsyt/gpt-4o-mini/dataset4_5shot_rand.jsonl\n"
     ]
    },
    {
     "name": "stderr",
     "output_type": "stream",
     "text": [
      "2024-09-12 12:38:38 root INFO: Imported 658 predictions for 658 true examples\n"
     ]
    },
    {
     "name": "stdout",
     "output_type": "stream",
     "text": [
      "../output/reddit+shsyt/gpt-4o-mini/dataset3_35shot_rand.jsonl\n"
     ]
    },
    {
     "name": "stderr",
     "output_type": "stream",
     "text": [
      "2024-09-12 12:38:39 root INFO: Imported 658 predictions for 658 true examples\n"
     ]
    },
    {
     "name": "stdout",
     "output_type": "stream",
     "text": [
      "../output/reddit+shsyt/gpt-4o-mini/dataset5_25shot_tfidf.jsonl\n"
     ]
    },
    {
     "name": "stderr",
     "output_type": "stream",
     "text": [
      "2024-09-12 12:38:39 root INFO: Imported 660 predictions for 660 true examples\n"
     ]
    },
    {
     "name": "stdout",
     "output_type": "stream",
     "text": [
      "../output/reddit+shsyt/gpt-4o-mini/dataset2_25shot_tfidf.jsonl\n"
     ]
    },
    {
     "name": "stderr",
     "output_type": "stream",
     "text": [
      "2024-09-12 12:38:39 root INFO: Imported 660 predictions for 660 true examples\n"
     ]
    },
    {
     "name": "stdout",
     "output_type": "stream",
     "text": [
      "../output/reddit+shsyt/mixtral:8x22b/dataset2_5shot_tfidf.jsonl\n"
     ]
    },
    {
     "name": "stderr",
     "output_type": "stream",
     "text": [
      "2024-09-12 12:38:39 root INFO: Imported 658 predictions for 658 true examples\n"
     ]
    },
    {
     "name": "stdout",
     "output_type": "stream",
     "text": [
      "../output/reddit+shsyt/mixtral:8x22b/dataset4_35shot_tfidf.jsonl\n"
     ]
    },
    {
     "name": "stderr",
     "output_type": "stream",
     "text": [
      "2024-09-12 12:38:40 root INFO: Imported 660 predictions for 660 true examples\n"
     ]
    },
    {
     "name": "stdout",
     "output_type": "stream",
     "text": [
      "../output/reddit+shsyt/mixtral:8x22b/dataset2_15shot_tfidf.jsonl\n"
     ]
    },
    {
     "name": "stderr",
     "output_type": "stream",
     "text": [
      "2024-09-12 12:38:40 root INFO: Imported 660 predictions for 660 true examples\n"
     ]
    },
    {
     "name": "stdout",
     "output_type": "stream",
     "text": [
      "../output/reddit+shsyt/mixtral:8x22b/dataset1_25shot_tfidf.jsonl\n"
     ]
    },
    {
     "name": "stderr",
     "output_type": "stream",
     "text": [
      "2024-09-12 12:38:40 root INFO: Imported 658 predictions for 658 true examples\n"
     ]
    },
    {
     "name": "stdout",
     "output_type": "stream",
     "text": [
      "../output/reddit+shsyt/mixtral:8x22b/dataset3_5shot_tfidf.jsonl\n"
     ]
    },
    {
     "name": "stderr",
     "output_type": "stream",
     "text": [
      "2024-09-12 12:38:40 root INFO: Imported 658 predictions for 658 true examples\n"
     ]
    },
    {
     "name": "stdout",
     "output_type": "stream",
     "text": [
      "../output/reddit+shsyt/mixtral:8x22b/dataset5_5shot_tfidf.jsonl\n"
     ]
    },
    {
     "name": "stderr",
     "output_type": "stream",
     "text": [
      "2024-09-12 12:38:40 root INFO: Imported 660 predictions for 660 true examples\n"
     ]
    },
    {
     "name": "stdout",
     "output_type": "stream",
     "text": [
      "../output/reddit+shsyt/mixtral:8x22b/dataset2_35shot_rand.jsonl\n"
     ]
    },
    {
     "name": "stderr",
     "output_type": "stream",
     "text": [
      "2024-09-12 12:38:41 root INFO: Imported 658 predictions for 658 true examples\n"
     ]
    },
    {
     "name": "stdout",
     "output_type": "stream",
     "text": [
      "../output/reddit+shsyt/mixtral:8x22b/dataset5_15shot_rand.jsonl\n"
     ]
    },
    {
     "name": "stderr",
     "output_type": "stream",
     "text": [
      "2024-09-12 12:38:41 root INFO: Imported 658 predictions for 658 true examples\n"
     ]
    },
    {
     "name": "stdout",
     "output_type": "stream",
     "text": [
      "../output/reddit+shsyt/mixtral:8x22b/dataset4_25shot_tfidf.jsonl\n"
     ]
    },
    {
     "name": "stderr",
     "output_type": "stream",
     "text": [
      "2024-09-12 12:38:41 root INFO: Imported 658 predictions for 658 true examples\n"
     ]
    },
    {
     "name": "stdout",
     "output_type": "stream",
     "text": [
      "../output/reddit+shsyt/mixtral:8x22b/dataset5_5shot_rand.jsonl\n"
     ]
    },
    {
     "name": "stderr",
     "output_type": "stream",
     "text": [
      "2024-09-12 12:38:41 root INFO: Imported 658 predictions for 658 true examples\n"
     ]
    },
    {
     "name": "stdout",
     "output_type": "stream",
     "text": [
      "../output/reddit+shsyt/mixtral:8x22b/dataset5_35shot_tfidf.jsonl\n"
     ]
    },
    {
     "name": "stderr",
     "output_type": "stream",
     "text": [
      "2024-09-12 12:38:42 root INFO: Imported 660 predictions for 660 true examples\n"
     ]
    },
    {
     "name": "stdout",
     "output_type": "stream",
     "text": [
      "../output/reddit+shsyt/mixtral:8x22b/dataset1_35shot_rand.jsonl\n"
     ]
    },
    {
     "name": "stderr",
     "output_type": "stream",
     "text": [
      "2024-09-12 12:38:42 root INFO: Imported 658 predictions for 658 true examples\n"
     ]
    },
    {
     "name": "stdout",
     "output_type": "stream",
     "text": [
      "../output/reddit+shsyt/mixtral:8x22b/dataset4_0shot.jsonl\n"
     ]
    },
    {
     "name": "stderr",
     "output_type": "stream",
     "text": [
      "2024-09-12 12:38:42 root INFO: Imported 660 predictions for 660 true examples\n"
     ]
    },
    {
     "name": "stdout",
     "output_type": "stream",
     "text": [
      "../output/reddit+shsyt/mixtral:8x22b/dataset1_0shot.jsonl\n"
     ]
    },
    {
     "name": "stderr",
     "output_type": "stream",
     "text": [
      "2024-09-12 12:38:42 root INFO: Imported 658 predictions for 658 true examples\n"
     ]
    },
    {
     "name": "stdout",
     "output_type": "stream",
     "text": [
      "../output/reddit+shsyt/mixtral:8x22b/dataset5_0shot.jsonl\n"
     ]
    },
    {
     "name": "stderr",
     "output_type": "stream",
     "text": [
      "2024-09-12 12:38:42 root INFO: Imported 658 predictions for 658 true examples\n"
     ]
    },
    {
     "name": "stdout",
     "output_type": "stream",
     "text": [
      "../output/reddit+shsyt/mixtral:8x22b/dataset3_15shot_tfidf.jsonl\n"
     ]
    },
    {
     "name": "stderr",
     "output_type": "stream",
     "text": [
      "2024-09-12 12:38:43 root INFO: Imported 660 predictions for 660 true examples\n"
     ]
    },
    {
     "name": "stdout",
     "output_type": "stream",
     "text": [
      "../output/reddit+shsyt/mixtral:8x22b/dataset2_25shot_rand.jsonl\n"
     ]
    },
    {
     "name": "stderr",
     "output_type": "stream",
     "text": [
      "2024-09-12 12:38:43 root INFO: Imported 658 predictions for 658 true examples\n"
     ]
    },
    {
     "name": "stdout",
     "output_type": "stream",
     "text": [
      "../output/reddit+shsyt/mixtral:8x22b/dataset3_25shot_tfidf.jsonl\n"
     ]
    },
    {
     "name": "stderr",
     "output_type": "stream",
     "text": [
      "2024-09-12 12:38:43 root INFO: Imported 660 predictions for 660 true examples\n"
     ]
    },
    {
     "name": "stdout",
     "output_type": "stream",
     "text": [
      "../output/reddit+shsyt/mixtral:8x22b/dataset2_5shot_rand.jsonl\n"
     ]
    },
    {
     "name": "stderr",
     "output_type": "stream",
     "text": [
      "2024-09-12 12:38:43 root INFO: Imported 660 predictions for 660 true examples\n"
     ]
    },
    {
     "name": "stdout",
     "output_type": "stream",
     "text": [
      "../output/reddit+shsyt/mixtral:8x22b/dataset1_15shot_tfidf.jsonl\n"
     ]
    },
    {
     "name": "stderr",
     "output_type": "stream",
     "text": [
      "2024-09-12 12:38:44 root INFO: Imported 660 predictions for 660 true examples\n"
     ]
    },
    {
     "name": "stdout",
     "output_type": "stream",
     "text": [
      "../output/reddit+shsyt/mixtral:8x22b/dataset2_15shot_rand.jsonl\n"
     ]
    },
    {
     "name": "stderr",
     "output_type": "stream",
     "text": [
      "2024-09-12 12:38:44 root INFO: Imported 658 predictions for 658 true examples\n"
     ]
    },
    {
     "name": "stdout",
     "output_type": "stream",
     "text": [
      "../output/reddit+shsyt/mixtral:8x22b/dataset5_35shot_rand.jsonl\n"
     ]
    },
    {
     "name": "stderr",
     "output_type": "stream",
     "text": [
      "2024-09-12 12:38:44 root INFO: Imported 658 predictions for 658 true examples\n"
     ]
    },
    {
     "name": "stdout",
     "output_type": "stream",
     "text": [
      "../output/reddit+shsyt/mixtral:8x22b/dataset5_15shot_tfidf.jsonl\n",
      "../output/reddit+shsyt/mixtral:8x22b/dataset1_5shot_tfidf.jsonl\n"
     ]
    },
    {
     "name": "stderr",
     "output_type": "stream",
     "text": [
      "2024-09-12 12:38:44 root INFO: Imported 660 predictions for 660 true examples\n",
      "2024-09-12 12:38:45 root INFO: Imported 660 predictions for 660 true examples\n"
     ]
    },
    {
     "name": "stdout",
     "output_type": "stream",
     "text": [
      "../output/reddit+shsyt/mixtral:8x22b/dataset1_15shot_rand.jsonl\n"
     ]
    },
    {
     "name": "stderr",
     "output_type": "stream",
     "text": [
      "2024-09-12 12:38:45 root INFO: Imported 658 predictions for 658 true examples\n"
     ]
    },
    {
     "name": "stdout",
     "output_type": "stream",
     "text": [
      "../output/reddit+shsyt/mixtral:8x22b/dataset4_35shot_rand.jsonl\n"
     ]
    },
    {
     "name": "stderr",
     "output_type": "stream",
     "text": [
      "2024-09-12 12:38:45 root INFO: Imported 658 predictions for 658 true examples\n"
     ]
    },
    {
     "name": "stdout",
     "output_type": "stream",
     "text": [
      "../output/reddit+shsyt/mixtral:8x22b/dataset4_25shot_rand.jsonl\n"
     ]
    },
    {
     "name": "stderr",
     "output_type": "stream",
     "text": [
      "2024-09-12 12:38:45 root INFO: Imported 658 predictions for 658 true examples\n"
     ]
    },
    {
     "name": "stdout",
     "output_type": "stream",
     "text": [
      "../output/reddit+shsyt/mixtral:8x22b/dataset3_0shot.jsonl\n"
     ]
    },
    {
     "name": "stderr",
     "output_type": "stream",
     "text": [
      "2024-09-12 12:38:45 root INFO: Imported 658 predictions for 658 true examples\n"
     ]
    },
    {
     "name": "stdout",
     "output_type": "stream",
     "text": [
      "../output/reddit+shsyt/mixtral:8x22b/dataset3_35shot_tfidf.jsonl\n"
     ]
    },
    {
     "name": "stderr",
     "output_type": "stream",
     "text": [
      "2024-09-12 12:38:46 root INFO: Imported 660 predictions for 660 true examples\n"
     ]
    },
    {
     "name": "stdout",
     "output_type": "stream",
     "text": [
      "../output/reddit+shsyt/mixtral:8x22b/dataset2_0shot.jsonl\n"
     ]
    },
    {
     "name": "stderr",
     "output_type": "stream",
     "text": [
      "2024-09-12 12:38:46 root INFO: Imported 658 predictions for 658 true examples\n"
     ]
    },
    {
     "name": "stdout",
     "output_type": "stream",
     "text": [
      "../output/reddit+shsyt/mixtral:8x22b/dataset5_25shot_rand.jsonl\n"
     ]
    },
    {
     "name": "stderr",
     "output_type": "stream",
     "text": [
      "2024-09-12 12:38:46 root INFO: Imported 658 predictions for 658 true examples\n"
     ]
    },
    {
     "name": "stdout",
     "output_type": "stream",
     "text": [
      "../output/reddit+shsyt/mixtral:8x22b/dataset3_5shot_rand.jsonl\n"
     ]
    },
    {
     "name": "stderr",
     "output_type": "stream",
     "text": [
      "2024-09-12 12:38:46 root INFO: Imported 660 predictions for 660 true examples\n"
     ]
    },
    {
     "name": "stdout",
     "output_type": "stream",
     "text": [
      "../output/reddit+shsyt/mixtral:8x22b/dataset1_5shot_rand.jsonl\n"
     ]
    },
    {
     "name": "stderr",
     "output_type": "stream",
     "text": [
      "2024-09-12 12:38:47 root INFO: Imported 658 predictions for 658 true examples\n"
     ]
    },
    {
     "name": "stdout",
     "output_type": "stream",
     "text": [
      "../output/reddit+shsyt/mixtral:8x22b/dataset4_15shot_tfidf.jsonl\n"
     ]
    },
    {
     "name": "stderr",
     "output_type": "stream",
     "text": [
      "2024-09-12 12:38:47 root INFO: Imported 658 predictions for 658 true examples\n"
     ]
    },
    {
     "name": "stdout",
     "output_type": "stream",
     "text": [
      "../output/reddit+shsyt/mixtral:8x22b/dataset3_25shot_rand.jsonl\n"
     ]
    },
    {
     "name": "stderr",
     "output_type": "stream",
     "text": [
      "2024-09-12 12:38:47 root INFO: Imported 660 predictions for 660 true examples\n"
     ]
    },
    {
     "name": "stdout",
     "output_type": "stream",
     "text": [
      "../output/reddit+shsyt/mixtral:8x22b/dataset1_35shot_tfidf.jsonl\n"
     ]
    },
    {
     "name": "stderr",
     "output_type": "stream",
     "text": [
      "2024-09-12 12:38:47 root INFO: Imported 660 predictions for 660 true examples\n"
     ]
    },
    {
     "name": "stdout",
     "output_type": "stream",
     "text": [
      "../output/reddit+shsyt/mixtral:8x22b/dataset1_25shot_rand.jsonl\n"
     ]
    },
    {
     "name": "stderr",
     "output_type": "stream",
     "text": [
      "2024-09-12 12:38:47 root INFO: Imported 658 predictions for 658 true examples\n"
     ]
    },
    {
     "name": "stdout",
     "output_type": "stream",
     "text": [
      "../output/reddit+shsyt/mixtral:8x22b/dataset3_15shot_rand.jsonl\n"
     ]
    },
    {
     "name": "stderr",
     "output_type": "stream",
     "text": [
      "2024-09-12 12:38:48 root INFO: Imported 660 predictions for 660 true examples\n"
     ]
    },
    {
     "name": "stdout",
     "output_type": "stream",
     "text": [
      "../output/reddit+shsyt/mixtral:8x22b/dataset2_35shot_tfidf.jsonl\n"
     ]
    },
    {
     "name": "stderr",
     "output_type": "stream",
     "text": [
      "2024-09-12 12:38:48 root INFO: Imported 658 predictions for 658 true examples\n"
     ]
    },
    {
     "name": "stdout",
     "output_type": "stream",
     "text": [
      "../output/reddit+shsyt/mixtral:8x22b/dataset4_5shot_tfidf.jsonl\n"
     ]
    },
    {
     "name": "stderr",
     "output_type": "stream",
     "text": [
      "2024-09-12 12:38:48 root INFO: Imported 658 predictions for 658 true examples\n"
     ]
    },
    {
     "name": "stdout",
     "output_type": "stream",
     "text": [
      "../output/reddit+shsyt/mixtral:8x22b/dataset4_15shot_rand.jsonl\n"
     ]
    },
    {
     "name": "stderr",
     "output_type": "stream",
     "text": [
      "2024-09-12 12:38:48 root INFO: Imported 658 predictions for 658 true examples\n"
     ]
    },
    {
     "name": "stdout",
     "output_type": "stream",
     "text": [
      "../output/reddit+shsyt/mixtral:8x22b/dataset4_5shot_rand.jsonl\n"
     ]
    },
    {
     "name": "stderr",
     "output_type": "stream",
     "text": [
      "2024-09-12 12:38:48 root INFO: Imported 658 predictions for 658 true examples\n"
     ]
    },
    {
     "name": "stdout",
     "output_type": "stream",
     "text": [
      "../output/reddit+shsyt/mixtral:8x22b/dataset3_35shot_rand.jsonl\n"
     ]
    },
    {
     "name": "stderr",
     "output_type": "stream",
     "text": [
      "2024-09-12 12:38:49 root INFO: Imported 658 predictions for 658 true examples\n"
     ]
    },
    {
     "name": "stdout",
     "output_type": "stream",
     "text": [
      "../output/reddit+shsyt/mixtral:8x22b/dataset5_25shot_tfidf.jsonl\n"
     ]
    },
    {
     "name": "stderr",
     "output_type": "stream",
     "text": [
      "2024-09-12 12:38:49 root INFO: Imported 660 predictions for 660 true examples\n"
     ]
    },
    {
     "name": "stdout",
     "output_type": "stream",
     "text": [
      "../output/reddit+shsyt/mixtral:8x22b/dataset2_25shot_tfidf.jsonl\n"
     ]
    },
    {
     "name": "stderr",
     "output_type": "stream",
     "text": [
      "2024-09-12 12:38:49 root INFO: Imported 123 predictions for 123 true examples\n",
      "2024-09-12 12:38:49 root INFO: Imported 123 predictions for 123 true examples\n",
      "2024-09-12 12:38:49 root INFO: Imported 123 predictions for 123 true examples\n",
      "2024-09-12 12:38:49 root INFO: Imported 123 predictions for 123 true examples\n"
     ]
    },
    {
     "name": "stdout",
     "output_type": "stream",
     "text": [
      "../output/shsyt/llama3.1:70b/dataset2_5shot_tfidf.jsonl\n",
      "../output/shsyt/llama3.1:70b/dataset2_15shot_tfidf.jsonl\n",
      "../output/shsyt/llama3.1:70b/dataset1_25shot_tfidf.jsonl\n",
      "../output/shsyt/llama3.1:70b/dataset2_35shot_rand.jsonl\n"
     ]
    },
    {
     "name": "stderr",
     "output_type": "stream",
     "text": [
      "2024-09-12 12:38:49 root INFO: Imported 123 predictions for 123 true examples\n",
      "2024-09-12 12:38:50 root INFO: Imported 122 predictions for 122 true examples\n",
      "2024-09-12 12:38:50 root INFO: Imported 123 predictions for 123 true examples\n",
      "2024-09-12 12:38:50 root INFO: Imported 122 predictions for 122 true examples\n"
     ]
    },
    {
     "name": "stdout",
     "output_type": "stream",
     "text": [
      "../output/shsyt/llama3.1:70b/dataset1_35shot_rand.jsonl\n",
      "../output/shsyt/llama3.1:70b/dataset4_0shot.jsonl\n",
      "../output/shsyt/llama3.1:70b/dataset1_0shot.jsonl\n",
      "../output/shsyt/llama3.1:70b/dataset5_0shot.jsonl\n",
      "../output/shsyt/llama3.1:70b/dataset2_25shot_rand.jsonl\n"
     ]
    },
    {
     "name": "stderr",
     "output_type": "stream",
     "text": [
      "2024-09-12 12:38:50 root INFO: Imported 123 predictions for 123 true examples\n",
      "2024-09-12 12:38:50 root INFO: Imported 123 predictions for 123 true examples\n",
      "2024-09-12 12:38:50 root INFO: Imported 123 predictions for 123 true examples\n",
      "2024-09-12 12:38:50 root INFO: Imported 123 predictions for 123 true examples\n",
      "2024-09-12 12:38:50 root INFO: Imported 123 predictions for 123 true examples\n"
     ]
    },
    {
     "name": "stdout",
     "output_type": "stream",
     "text": [
      "../output/shsyt/llama3.1:70b/dataset2_5shot_rand.jsonl\n",
      "../output/shsyt/llama3.1:70b/dataset1_15shot_tfidf.jsonl\n",
      "../output/shsyt/llama3.1:70b/dataset2_15shot_rand.jsonl\n",
      "../output/shsyt/llama3.1:70b/dataset1_5shot_tfidf.jsonl\n"
     ]
    },
    {
     "name": "stderr",
     "output_type": "stream",
     "text": [
      "2024-09-12 12:38:50 root INFO: Imported 123 predictions for 123 true examples\n",
      "2024-09-12 12:38:50 root INFO: Imported 123 predictions for 123 true examples\n",
      "2024-09-12 12:38:50 root INFO: Imported 123 predictions for 123 true examples\n",
      "2024-09-12 12:38:50 root INFO: Imported 47 predictions for 47 true examples\n"
     ]
    },
    {
     "name": "stdout",
     "output_type": "stream",
     "text": [
      "../output/shsyt/llama3.1:70b/dataset1_15shot_rand.jsonl\n",
      "../output/shsyt/llama3.1:70b/dataset3_0shot.jsonl\n",
      "../output/shsyt/llama3.1:70b/dataset2_0shot.jsonl\n",
      "../output/shsyt/llama3.1:70b/dataset3_5shot_rand.jsonl\n",
      "../output/shsyt/llama3.1:70b/dataset1_5shot_rand.jsonl\n"
     ]
    },
    {
     "name": "stderr",
     "output_type": "stream",
     "text": [
      "2024-09-12 12:38:50 root INFO: Imported 123 predictions for 123 true examples\n",
      "2024-09-12 12:38:50 root INFO: Imported 123 predictions for 123 true examples\n",
      "2024-09-12 12:38:50 root INFO: Imported 123 predictions for 123 true examples\n",
      "2024-09-12 12:38:50 root INFO: Imported 123 predictions for 123 true examples\n",
      "2024-09-12 12:38:50 root INFO: Imported 123 predictions for 123 true examples\n"
     ]
    },
    {
     "name": "stdout",
     "output_type": "stream",
     "text": [
      "../output/shsyt/llama3.1:70b/dataset1_35shot_tfidf.jsonl\n",
      "../output/shsyt/llama3.1:70b/dataset1_25shot_rand.jsonl\n",
      "../output/shsyt/llama3.1:70b/dataset2_35shot_tfidf.jsonl\n",
      "../output/shsyt/llama3.1:70b/dataset2_25shot_tfidf.jsonl\n"
     ]
    },
    {
     "name": "stderr",
     "output_type": "stream",
     "text": [
      "2024-09-12 12:38:50 root INFO: Imported 123 predictions for 123 true examples\n",
      "2024-09-12 12:38:50 root INFO: Imported 122 predictions for 122 true examples\n",
      "2024-09-12 12:38:51 root INFO: Imported 123 predictions for 123 true examples\n",
      "2024-09-12 12:38:51 root INFO: Imported 123 predictions for 123 true examples\n"
     ]
    },
    {
     "name": "stdout",
     "output_type": "stream",
     "text": [
      "../output/shsyt/firefunction-v2/dataset2_5shot_tfidf.jsonl\n",
      "../output/shsyt/firefunction-v2/dataset4_35shot_tfidf.jsonl\n",
      "../output/shsyt/firefunction-v2/dataset2_15shot_tfidf.jsonl\n",
      "../output/shsyt/firefunction-v2/dataset1_25shot_tfidf.jsonl\n"
     ]
    },
    {
     "name": "stderr",
     "output_type": "stream",
     "text": [
      "2024-09-12 12:38:51 root INFO: Imported 123 predictions for 123 true examples\n",
      "2024-09-12 12:38:51 root INFO: Imported 122 predictions for 122 true examples\n",
      "2024-09-12 12:38:51 root INFO: Imported 123 predictions for 123 true examples\n",
      "2024-09-12 12:38:51 root INFO: Imported 122 predictions for 122 true examples\n"
     ]
    },
    {
     "name": "stdout",
     "output_type": "stream",
     "text": [
      "../output/shsyt/firefunction-v2/dataset3_5shot_tfidf.jsonl\n",
      "../output/shsyt/firefunction-v2/dataset5_5shot_tfidf.jsonl\n",
      "../output/shsyt/firefunction-v2/dataset2_35shot_rand.jsonl\n",
      "../output/shsyt/firefunction-v2/dataset5_15shot_rand.jsonl\n"
     ]
    },
    {
     "name": "stderr",
     "output_type": "stream",
     "text": [
      "2024-09-12 12:38:51 root INFO: Imported 122 predictions for 122 true examples\n",
      "2024-09-12 12:38:51 root INFO: Imported 122 predictions for 122 true examples\n",
      "2024-09-12 12:38:51 root INFO: Imported 122 predictions for 122 true examples\n",
      "2024-09-12 12:38:51 root INFO: Imported 123 predictions for 123 true examples\n"
     ]
    },
    {
     "name": "stdout",
     "output_type": "stream",
     "text": [
      "../output/shsyt/firefunction-v2/dataset4_25shot_tfidf.jsonl\n",
      "../output/shsyt/firefunction-v2/dataset5_5shot_rand.jsonl\n",
      "../output/shsyt/firefunction-v2/dataset5_35shot_tfidf.jsonl\n",
      "../output/shsyt/firefunction-v2/dataset1_35shot_rand.jsonl\n",
      "../output/shsyt/firefunction-v2/dataset4_0shot.jsonl\n"
     ]
    },
    {
     "name": "stderr",
     "output_type": "stream",
     "text": [
      "2024-09-12 12:38:51 root INFO: Imported 122 predictions for 122 true examples\n",
      "2024-09-12 12:38:51 root INFO: Imported 123 predictions for 123 true examples\n",
      "2024-09-12 12:38:51 root INFO: Imported 122 predictions for 122 true examples\n",
      "2024-09-12 12:38:51 root INFO: Imported 123 predictions for 123 true examples\n",
      "2024-09-12 12:38:51 root INFO: Imported 123 predictions for 123 true examples\n"
     ]
    },
    {
     "name": "stdout",
     "output_type": "stream",
     "text": [
      "../output/shsyt/firefunction-v2/dataset1_0shot.jsonl\n",
      "../output/shsyt/firefunction-v2/dataset5_0shot.jsonl\n",
      "../output/shsyt/firefunction-v2/dataset3_15shot_tfidf.jsonl\n",
      "../output/shsyt/firefunction-v2/dataset2_25shot_rand.jsonl\n"
     ]
    },
    {
     "name": "stderr",
     "output_type": "stream",
     "text": [
      "2024-09-12 12:38:51 root INFO: Imported 123 predictions for 123 true examples\n",
      "2024-09-12 12:38:51 root INFO: Imported 123 predictions for 123 true examples\n",
      "2024-09-12 12:38:51 root INFO: Imported 123 predictions for 123 true examples\n",
      "2024-09-12 12:38:51 root INFO: Imported 123 predictions for 123 true examples\n"
     ]
    },
    {
     "name": "stdout",
     "output_type": "stream",
     "text": [
      "../output/shsyt/firefunction-v2/dataset3_25shot_tfidf.jsonl\n",
      "../output/shsyt/firefunction-v2/dataset2_5shot_rand.jsonl\n",
      "../output/shsyt/firefunction-v2/dataset1_15shot_tfidf.jsonl\n",
      "../output/shsyt/firefunction-v2/dataset2_15shot_rand.jsonl\n"
     ]
    },
    {
     "name": "stderr",
     "output_type": "stream",
     "text": [
      "2024-09-12 12:38:51 root INFO: Imported 122 predictions for 122 true examples\n",
      "2024-09-12 12:38:52 root INFO: Imported 122 predictions for 122 true examples\n",
      "2024-09-12 12:38:52 root INFO: Imported 123 predictions for 123 true examples\n",
      "2024-09-12 12:38:52 root INFO: Imported 123 predictions for 123 true examples\n"
     ]
    },
    {
     "name": "stdout",
     "output_type": "stream",
     "text": [
      "../output/shsyt/firefunction-v2/dataset5_35shot_rand.jsonl\n",
      "../output/shsyt/firefunction-v2/dataset5_15shot_tfidf.jsonl\n",
      "../output/shsyt/firefunction-v2/dataset1_5shot_tfidf.jsonl\n",
      "../output/shsyt/firefunction-v2/dataset1_15shot_rand.jsonl\n",
      "../output/shsyt/firefunction-v2/dataset4_35shot_rand.jsonl\n"
     ]
    },
    {
     "name": "stderr",
     "output_type": "stream",
     "text": [
      "2024-09-12 12:38:52 root INFO: Imported 122 predictions for 122 true examples\n",
      "2024-09-12 12:38:52 root INFO: Imported 122 predictions for 122 true examples\n",
      "2024-09-12 12:38:52 root INFO: Imported 123 predictions for 123 true examples\n",
      "2024-09-12 12:38:52 root INFO: Imported 123 predictions for 123 true examples\n",
      "2024-09-12 12:38:52 root INFO: Imported 123 predictions for 123 true examples\n"
     ]
    },
    {
     "name": "stdout",
     "output_type": "stream",
     "text": [
      "../output/shsyt/firefunction-v2/dataset4_25shot_rand.jsonl\n",
      "../output/shsyt/firefunction-v2/dataset3_0shot.jsonl\n",
      "../output/shsyt/firefunction-v2/dataset3_35shot_tfidf.jsonl\n",
      "../output/shsyt/firefunction-v2/dataset2_0shot.jsonl\n",
      "../output/shsyt/firefunction-v2/dataset5_25shot_rand.jsonl\n"
     ]
    },
    {
     "name": "stderr",
     "output_type": "stream",
     "text": [
      "2024-09-12 12:38:52 root INFO: Imported 122 predictions for 122 true examples\n",
      "2024-09-12 12:38:52 root INFO: Imported 123 predictions for 123 true examples\n",
      "2024-09-12 12:38:52 root INFO: Imported 123 predictions for 123 true examples\n",
      "2024-09-12 12:38:52 root INFO: Imported 122 predictions for 122 true examples\n",
      "2024-09-12 12:38:52 root INFO: Imported 123 predictions for 123 true examples\n"
     ]
    },
    {
     "name": "stdout",
     "output_type": "stream",
     "text": [
      "../output/shsyt/firefunction-v2/dataset3_5shot_rand.jsonl\n",
      "../output/shsyt/firefunction-v2/dataset1_5shot_rand.jsonl\n",
      "../output/shsyt/firefunction-v2/dataset4_15shot_tfidf.jsonl\n",
      "../output/shsyt/firefunction-v2/dataset3_25shot_rand.jsonl\n"
     ]
    },
    {
     "name": "stderr",
     "output_type": "stream",
     "text": [
      "2024-09-12 12:38:52 root INFO: Imported 123 predictions for 123 true examples\n",
      "2024-09-12 12:38:52 root INFO: Imported 123 predictions for 123 true examples\n",
      "2024-09-12 12:38:52 root INFO: Imported 123 predictions for 123 true examples\n",
      "2024-09-12 12:38:52 root INFO: Imported 123 predictions for 123 true examples\n"
     ]
    },
    {
     "name": "stdout",
     "output_type": "stream",
     "text": [
      "../output/shsyt/firefunction-v2/dataset1_35shot_tfidf.jsonl\n",
      "../output/shsyt/firefunction-v2/dataset1_25shot_rand.jsonl\n",
      "../output/shsyt/firefunction-v2/dataset3_15shot_rand.jsonl\n",
      "../output/shsyt/firefunction-v2/dataset2_35shot_tfidf.jsonl\n",
      "../output/shsyt/firefunction-v2/dataset4_5shot_tfidf.jsonl\n"
     ]
    },
    {
     "name": "stderr",
     "output_type": "stream",
     "text": [
      "2024-09-12 12:38:52 root INFO: Imported 122 predictions for 122 true examples\n",
      "2024-09-12 12:38:52 root INFO: Imported 122 predictions for 122 true examples\n",
      "2024-09-12 12:38:53 root INFO: Imported 122 predictions for 122 true examples\n",
      "2024-09-12 12:38:53 root INFO: Imported 123 predictions for 123 true examples\n",
      "2024-09-12 12:38:53 root INFO: Imported 122 predictions for 122 true examples\n"
     ]
    },
    {
     "name": "stdout",
     "output_type": "stream",
     "text": [
      "../output/shsyt/firefunction-v2/dataset4_15shot_rand.jsonl\n",
      "../output/shsyt/firefunction-v2/dataset4_5shot_rand.jsonl\n",
      "../output/shsyt/firefunction-v2/dataset3_35shot_rand.jsonl\n",
      "../output/shsyt/firefunction-v2/dataset5_25shot_tfidf.jsonl\n",
      "../output/shsyt/firefunction-v2/dataset2_25shot_tfidf.jsonl\n"
     ]
    },
    {
     "name": "stderr",
     "output_type": "stream",
     "text": [
      "2024-09-12 12:38:53 root INFO: Imported 123 predictions for 123 true examples\n",
      "2024-09-12 12:38:53 root INFO: Imported 122 predictions for 122 true examples\n",
      "2024-09-12 12:38:53 root INFO: Imported 123 predictions for 123 true examples\n",
      "2024-09-12 12:38:53 root INFO: Imported 122 predictions for 122 true examples\n",
      "2024-09-12 12:38:53 root INFO: Imported 123 predictions for 123 true examples\n"
     ]
    },
    {
     "name": "stdout",
     "output_type": "stream",
     "text": [
      "../output/shsyt/gpt-4o-mini/dataset4_0shot.jsonl\n",
      "../output/shsyt/gpt-4o-mini/dataset1_0shot.jsonl\n",
      "../output/shsyt/gpt-4o-mini/dataset5_0shot.jsonl\n",
      "../output/shsyt/gpt-4o-mini/dataset2_0shot.jsonl\n"
     ]
    },
    {
     "name": "stderr",
     "output_type": "stream",
     "text": [
      "2024-09-12 12:38:53 root INFO: Imported 123 predictions for 123 true examples\n",
      "2024-09-12 12:38:53 root INFO: Imported 122 predictions for 122 true examples\n",
      "2024-09-12 12:38:53 root INFO: Imported 123 predictions for 123 true examples\n",
      "2024-09-12 12:38:53 root INFO: Imported 123 predictions for 123 true examples\n"
     ]
    },
    {
     "name": "stdout",
     "output_type": "stream",
     "text": [
      "../output/shsyt/mixtral:8x22b/dataset2_5shot_tfidf.jsonl\n",
      "../output/shsyt/mixtral:8x22b/dataset4_35shot_tfidf.jsonl\n",
      "../output/shsyt/mixtral:8x22b/dataset2_15shot_tfidf.jsonl\n",
      "../output/shsyt/mixtral:8x22b/dataset1_25shot_tfidf.jsonl\n"
     ]
    },
    {
     "name": "stderr",
     "output_type": "stream",
     "text": [
      "2024-09-12 12:38:53 root INFO: Imported 123 predictions for 123 true examples\n",
      "2024-09-12 12:38:53 root INFO: Imported 122 predictions for 122 true examples\n",
      "2024-09-12 12:38:53 root INFO: Imported 123 predictions for 123 true examples\n",
      "2024-09-12 12:38:53 root INFO: Imported 122 predictions for 122 true examples\n"
     ]
    },
    {
     "name": "stdout",
     "output_type": "stream",
     "text": [
      "../output/shsyt/mixtral:8x22b/dataset3_5shot_tfidf.jsonl\n",
      "../output/shsyt/mixtral:8x22b/dataset5_5shot_tfidf.jsonl\n",
      "../output/shsyt/mixtral:8x22b/dataset2_35shot_rand.jsonl\n",
      "../output/shsyt/mixtral:8x22b/dataset5_15shot_rand.jsonl\n"
     ]
    },
    {
     "name": "stderr",
     "output_type": "stream",
     "text": [
      "2024-09-12 12:38:53 root INFO: Imported 122 predictions for 122 true examples\n",
      "2024-09-12 12:38:53 root INFO: Imported 122 predictions for 122 true examples\n",
      "2024-09-12 12:38:54 root INFO: Imported 122 predictions for 122 true examples\n",
      "2024-09-12 12:38:54 root INFO: Imported 123 predictions for 123 true examples\n"
     ]
    },
    {
     "name": "stdout",
     "output_type": "stream",
     "text": [
      "../output/shsyt/mixtral:8x22b/dataset4_25shot_tfidf.jsonl\n",
      "../output/shsyt/mixtral:8x22b/dataset5_5shot_rand.jsonl\n",
      "../output/shsyt/mixtral:8x22b/dataset5_35shot_tfidf.jsonl\n",
      "../output/shsyt/mixtral:8x22b/dataset1_35shot_rand.jsonl\n",
      "../output/shsyt/mixtral:8x22b/dataset4_0shot.jsonl\n"
     ]
    },
    {
     "name": "stderr",
     "output_type": "stream",
     "text": [
      "2024-09-12 12:38:54 root INFO: Imported 122 predictions for 122 true examples\n",
      "2024-09-12 12:38:54 root INFO: Imported 123 predictions for 123 true examples\n",
      "2024-09-12 12:38:54 root INFO: Imported 122 predictions for 122 true examples\n",
      "2024-09-12 12:38:54 root INFO: Imported 123 predictions for 123 true examples\n",
      "2024-09-12 12:38:54 root INFO: Imported 123 predictions for 123 true examples\n"
     ]
    },
    {
     "name": "stdout",
     "output_type": "stream",
     "text": [
      "../output/shsyt/mixtral:8x22b/dataset1_0shot.jsonl\n",
      "../output/shsyt/mixtral:8x22b/dataset5_0shot.jsonl\n",
      "../output/shsyt/mixtral:8x22b/dataset3_15shot_tfidf.jsonl\n",
      "../output/shsyt/mixtral:8x22b/dataset2_25shot_rand.jsonl\n"
     ]
    },
    {
     "name": "stderr",
     "output_type": "stream",
     "text": [
      "2024-09-12 12:38:54 root INFO: Imported 123 predictions for 123 true examples\n",
      "2024-09-12 12:38:54 root INFO: Imported 123 predictions for 123 true examples\n",
      "2024-09-12 12:38:54 root INFO: Imported 123 predictions for 123 true examples\n",
      "2024-09-12 12:38:54 root INFO: Imported 123 predictions for 123 true examples\n"
     ]
    },
    {
     "name": "stdout",
     "output_type": "stream",
     "text": [
      "../output/shsyt/mixtral:8x22b/dataset3_25shot_tfidf.jsonl\n",
      "../output/shsyt/mixtral:8x22b/dataset2_5shot_rand.jsonl\n",
      "../output/shsyt/mixtral:8x22b/dataset1_15shot_tfidf.jsonl\n",
      "../output/shsyt/mixtral:8x22b/dataset2_15shot_rand.jsonl\n"
     ]
    },
    {
     "name": "stderr",
     "output_type": "stream",
     "text": [
      "2024-09-12 12:38:54 root INFO: Imported 122 predictions for 122 true examples\n",
      "2024-09-12 12:38:54 root INFO: Imported 122 predictions for 122 true examples\n",
      "2024-09-12 12:38:54 root INFO: Imported 123 predictions for 123 true examples\n",
      "2024-09-12 12:38:54 root INFO: Imported 123 predictions for 123 true examples\n"
     ]
    },
    {
     "name": "stdout",
     "output_type": "stream",
     "text": [
      "../output/shsyt/mixtral:8x22b/dataset5_35shot_rand.jsonl\n",
      "../output/shsyt/mixtral:8x22b/dataset5_15shot_tfidf.jsonl\n",
      "../output/shsyt/mixtral:8x22b/dataset1_5shot_tfidf.jsonl\n",
      "../output/shsyt/mixtral:8x22b/dataset1_15shot_rand.jsonl\n"
     ]
    },
    {
     "name": "stderr",
     "output_type": "stream",
     "text": [
      "2024-09-12 12:38:54 root INFO: Imported 122 predictions for 122 true examples\n",
      "2024-09-12 12:38:54 root INFO: Imported 122 predictions for 122 true examples\n",
      "2024-09-12 12:38:54 root INFO: Imported 123 predictions for 123 true examples\n",
      "2024-09-12 12:38:54 root INFO: Imported 123 predictions for 123 true examples\n"
     ]
    },
    {
     "name": "stdout",
     "output_type": "stream",
     "text": [
      "../output/shsyt/mixtral:8x22b/dataset4_35shot_rand.jsonl\n",
      "../output/shsyt/mixtral:8x22b/dataset4_25shot_rand.jsonl\n",
      "../output/shsyt/mixtral:8x22b/dataset3_0shot.jsonl\n",
      "../output/shsyt/mixtral:8x22b/dataset3_35shot_tfidf.jsonl\n"
     ]
    },
    {
     "name": "stderr",
     "output_type": "stream",
     "text": [
      "2024-09-12 12:38:54 root INFO: Imported 123 predictions for 123 true examples\n",
      "2024-09-12 12:38:55 root INFO: Imported 122 predictions for 122 true examples\n",
      "2024-09-12 12:38:55 root INFO: Imported 123 predictions for 123 true examples\n",
      "2024-09-12 12:38:55 root INFO: Imported 123 predictions for 123 true examples\n"
     ]
    },
    {
     "name": "stdout",
     "output_type": "stream",
     "text": [
      "../output/shsyt/mixtral:8x22b/dataset2_0shot.jsonl\n",
      "../output/shsyt/mixtral:8x22b/dataset5_25shot_rand.jsonl\n",
      "../output/shsyt/mixtral:8x22b/dataset3_5shot_rand.jsonl\n",
      "../output/shsyt/mixtral:8x22b/dataset1_5shot_rand.jsonl\n"
     ]
    },
    {
     "name": "stderr",
     "output_type": "stream",
     "text": [
      "2024-09-12 12:38:55 root INFO: Imported 122 predictions for 122 true examples\n",
      "2024-09-12 12:38:55 root INFO: Imported 123 predictions for 123 true examples\n",
      "2024-09-12 12:38:55 root INFO: Imported 123 predictions for 123 true examples\n",
      "2024-09-12 12:38:55 root INFO: Imported 123 predictions for 123 true examples\n"
     ]
    },
    {
     "name": "stdout",
     "output_type": "stream",
     "text": [
      "../output/shsyt/mixtral:8x22b/dataset4_15shot_tfidf.jsonl\n",
      "../output/shsyt/mixtral:8x22b/dataset3_25shot_rand.jsonl\n",
      "../output/shsyt/mixtral:8x22b/dataset1_35shot_tfidf.jsonl\n",
      "../output/shsyt/mixtral:8x22b/dataset1_25shot_rand.jsonl\n",
      "../output/shsyt/mixtral:8x22b/dataset3_15shot_rand.jsonl\n"
     ]
    },
    {
     "name": "stderr",
     "output_type": "stream",
     "text": [
      "2024-09-12 12:38:55 root INFO: Imported 123 predictions for 123 true examples\n",
      "2024-09-12 12:38:55 root INFO: Imported 123 predictions for 123 true examples\n",
      "2024-09-12 12:38:55 root INFO: Imported 122 predictions for 122 true examples\n",
      "2024-09-12 12:38:55 root INFO: Imported 122 predictions for 122 true examples\n",
      "2024-09-12 12:38:55 root INFO: Imported 122 predictions for 122 true examples\n"
     ]
    },
    {
     "name": "stdout",
     "output_type": "stream",
     "text": [
      "../output/shsyt/mixtral:8x22b/dataset2_35shot_tfidf.jsonl\n",
      "../output/shsyt/mixtral:8x22b/dataset4_5shot_tfidf.jsonl\n",
      "../output/shsyt/mixtral:8x22b/dataset4_15shot_rand.jsonl\n",
      "../output/shsyt/mixtral:8x22b/dataset4_5shot_rand.jsonl\n",
      "../output/shsyt/mixtral:8x22b/dataset3_35shot_rand.jsonl\n"
     ]
    },
    {
     "name": "stderr",
     "output_type": "stream",
     "text": [
      "2024-09-12 12:38:55 root INFO: Imported 123 predictions for 123 true examples\n",
      "2024-09-12 12:38:55 root INFO: Imported 122 predictions for 122 true examples\n",
      "2024-09-12 12:38:55 root INFO: Imported 123 predictions for 123 true examples\n"
     ]
    },
    {
     "name": "stdout",
     "output_type": "stream",
     "text": [
      "../output/shsyt/mixtral:8x22b/dataset5_25shot_tfidf.jsonl\n",
      "../output/shsyt/mixtral:8x22b/dataset2_25shot_tfidf.jsonl\n"
     ]
    }
   ],
   "source": [
    "results_rdyt = aggregated_results_llm(\"../output/reddit+shsyt/\")\n",
    "results_yt = aggregated_results_llm(\"../output/shsyt/\")\n"
   ]
  },
  {
   "cell_type": "markdown",
   "metadata": {},
   "source": [
    "# Overall Benchmark"
   ]
  },
  {
   "cell_type": "code",
   "execution_count": 3,
   "metadata": {},
   "outputs": [
    {
     "data": {
      "text/html": [
       "<div>\n",
       "<style scoped>\n",
       "    .dataframe tbody tr th:only-of-type {\n",
       "        vertical-align: middle;\n",
       "    }\n",
       "\n",
       "    .dataframe tbody tr th {\n",
       "        vertical-align: top;\n",
       "    }\n",
       "\n",
       "    .dataframe thead tr th {\n",
       "        text-align: left;\n",
       "    }\n",
       "\n",
       "    .dataframe thead tr:last-of-type th {\n",
       "        text-align: right;\n",
       "    }\n",
       "</style>\n",
       "<table border=\"1\" class=\"dataframe\">\n",
       "  <thead>\n",
       "    <tr>\n",
       "      <th></th>\n",
       "      <th></th>\n",
       "      <th></th>\n",
       "      <th colspan=\"3\" halign=\"left\">Value</th>\n",
       "    </tr>\n",
       "    <tr>\n",
       "      <th></th>\n",
       "      <th></th>\n",
       "      <th>Schema</th>\n",
       "      <th colspan=\"3\" halign=\"left\">strict</th>\n",
       "    </tr>\n",
       "    <tr>\n",
       "      <th></th>\n",
       "      <th></th>\n",
       "      <th>Entity Type</th>\n",
       "      <th>overall</th>\n",
       "      <th>WoA</th>\n",
       "      <th>Artist</th>\n",
       "    </tr>\n",
       "    <tr>\n",
       "      <th></th>\n",
       "      <th></th>\n",
       "      <th>Metric</th>\n",
       "      <th>f1_macro</th>\n",
       "      <th>f1</th>\n",
       "      <th>f1</th>\n",
       "    </tr>\n",
       "    <tr>\n",
       "      <th>Model</th>\n",
       "      <th>Sampling</th>\n",
       "      <th>k</th>\n",
       "      <th></th>\n",
       "      <th></th>\n",
       "      <th></th>\n",
       "    </tr>\n",
       "  </thead>\n",
       "  <tbody>\n",
       "    <tr>\n",
       "      <th rowspan=\"11\" valign=\"top\">Mixtral-8x22B:8x22b</th>\n",
       "      <th></th>\n",
       "      <th>0</th>\n",
       "      <td>0.700174</td>\n",
       "      <td>0.645019</td>\n",
       "      <td>0.755328</td>\n",
       "    </tr>\n",
       "    <tr>\n",
       "      <th rowspan=\"5\" valign=\"top\">rand</th>\n",
       "      <th>0</th>\n",
       "      <td>0.700174</td>\n",
       "      <td>0.645019</td>\n",
       "      <td>0.755328</td>\n",
       "    </tr>\n",
       "    <tr>\n",
       "      <th>5</th>\n",
       "      <td>0.744392</td>\n",
       "      <td>0.706149</td>\n",
       "      <td>0.782634</td>\n",
       "    </tr>\n",
       "    <tr>\n",
       "      <th>15</th>\n",
       "      <td>0.763306</td>\n",
       "      <td>0.729140</td>\n",
       "      <td>0.797471</td>\n",
       "    </tr>\n",
       "    <tr>\n",
       "      <th>25</th>\n",
       "      <td>0.769922</td>\n",
       "      <td>0.740434</td>\n",
       "      <td>0.799410</td>\n",
       "    </tr>\n",
       "    <tr>\n",
       "      <th>35</th>\n",
       "      <td>0.736783</td>\n",
       "      <td>0.693584</td>\n",
       "      <td>0.779982</td>\n",
       "    </tr>\n",
       "    <tr>\n",
       "      <th rowspan=\"5\" valign=\"top\">tfidf</th>\n",
       "      <th>0</th>\n",
       "      <td>0.700174</td>\n",
       "      <td>0.645019</td>\n",
       "      <td>0.755328</td>\n",
       "    </tr>\n",
       "    <tr>\n",
       "      <th>5</th>\n",
       "      <td>0.756760</td>\n",
       "      <td>0.723193</td>\n",
       "      <td>0.790328</td>\n",
       "    </tr>\n",
       "    <tr>\n",
       "      <th>15</th>\n",
       "      <td>0.776048</td>\n",
       "      <td>0.746148</td>\n",
       "      <td>0.805948</td>\n",
       "    </tr>\n",
       "    <tr>\n",
       "      <th>25</th>\n",
       "      <td>0.782126</td>\n",
       "      <td>0.751477</td>\n",
       "      <td>0.812775</td>\n",
       "    </tr>\n",
       "    <tr>\n",
       "      <th>35</th>\n",
       "      <td>0.765740</td>\n",
       "      <td>0.731534</td>\n",
       "      <td>0.799947</td>\n",
       "    </tr>\n",
       "    <tr>\n",
       "      <th rowspan=\"11\" valign=\"top\">firefunction-v2</th>\n",
       "      <th></th>\n",
       "      <th>0</th>\n",
       "      <td>0.702169</td>\n",
       "      <td>0.669395</td>\n",
       "      <td>0.734943</td>\n",
       "    </tr>\n",
       "    <tr>\n",
       "      <th rowspan=\"5\" valign=\"top\">rand</th>\n",
       "      <th>0</th>\n",
       "      <td>0.702169</td>\n",
       "      <td>0.669395</td>\n",
       "      <td>0.734943</td>\n",
       "    </tr>\n",
       "    <tr>\n",
       "      <th>5</th>\n",
       "      <td>0.752028</td>\n",
       "      <td>0.726151</td>\n",
       "      <td>0.777905</td>\n",
       "    </tr>\n",
       "    <tr>\n",
       "      <th>15</th>\n",
       "      <td>0.767145</td>\n",
       "      <td>0.751707</td>\n",
       "      <td>0.782582</td>\n",
       "    </tr>\n",
       "    <tr>\n",
       "      <th>25</th>\n",
       "      <td>0.764807</td>\n",
       "      <td>0.751717</td>\n",
       "      <td>0.777896</td>\n",
       "    </tr>\n",
       "    <tr>\n",
       "      <th>35</th>\n",
       "      <td>0.771004</td>\n",
       "      <td>0.757467</td>\n",
       "      <td>0.784541</td>\n",
       "    </tr>\n",
       "    <tr>\n",
       "      <th rowspan=\"5\" valign=\"top\">tfidf</th>\n",
       "      <th>0</th>\n",
       "      <td>0.702169</td>\n",
       "      <td>0.669395</td>\n",
       "      <td>0.734943</td>\n",
       "    </tr>\n",
       "    <tr>\n",
       "      <th>5</th>\n",
       "      <td>0.758773</td>\n",
       "      <td>0.734640</td>\n",
       "      <td>0.782906</td>\n",
       "    </tr>\n",
       "    <tr>\n",
       "      <th>15</th>\n",
       "      <td>0.770677</td>\n",
       "      <td>0.746230</td>\n",
       "      <td>0.795124</td>\n",
       "    </tr>\n",
       "    <tr>\n",
       "      <th>25</th>\n",
       "      <td>0.776149</td>\n",
       "      <td>0.756269</td>\n",
       "      <td>0.796028</td>\n",
       "    </tr>\n",
       "    <tr>\n",
       "      <th>35</th>\n",
       "      <td>0.786696</td>\n",
       "      <td>0.767311</td>\n",
       "      <td>0.806081</td>\n",
       "    </tr>\n",
       "    <tr>\n",
       "      <th rowspan=\"11\" valign=\"top\">gpt-4o-mini</th>\n",
       "      <th></th>\n",
       "      <th>0</th>\n",
       "      <td>0.772835</td>\n",
       "      <td>0.729288</td>\n",
       "      <td>0.816382</td>\n",
       "    </tr>\n",
       "    <tr>\n",
       "      <th rowspan=\"5\" valign=\"top\">rand</th>\n",
       "      <th>0</th>\n",
       "      <td>0.772835</td>\n",
       "      <td>0.729288</td>\n",
       "      <td>0.816382</td>\n",
       "    </tr>\n",
       "    <tr>\n",
       "      <th>5</th>\n",
       "      <td>0.783363</td>\n",
       "      <td>0.742097</td>\n",
       "      <td>0.824630</td>\n",
       "    </tr>\n",
       "    <tr>\n",
       "      <th>15</th>\n",
       "      <td>0.791073</td>\n",
       "      <td>0.756400</td>\n",
       "      <td>0.825746</td>\n",
       "    </tr>\n",
       "    <tr>\n",
       "      <th>25</th>\n",
       "      <td>0.789234</td>\n",
       "      <td>0.753776</td>\n",
       "      <td>0.824693</td>\n",
       "    </tr>\n",
       "    <tr>\n",
       "      <th>35</th>\n",
       "      <td>0.792544</td>\n",
       "      <td>0.759703</td>\n",
       "      <td>0.825385</td>\n",
       "    </tr>\n",
       "    <tr>\n",
       "      <th rowspan=\"5\" valign=\"top\">tfidf</th>\n",
       "      <th>0</th>\n",
       "      <td>0.772835</td>\n",
       "      <td>0.729288</td>\n",
       "      <td>0.816382</td>\n",
       "    </tr>\n",
       "    <tr>\n",
       "      <th>5</th>\n",
       "      <td>0.793579</td>\n",
       "      <td>0.759790</td>\n",
       "      <td>0.827369</td>\n",
       "    </tr>\n",
       "    <tr>\n",
       "      <th>15</th>\n",
       "      <td>0.800870</td>\n",
       "      <td>0.768353</td>\n",
       "      <td>0.833387</td>\n",
       "    </tr>\n",
       "    <tr>\n",
       "      <th>25</th>\n",
       "      <td>0.802151</td>\n",
       "      <td>0.771672</td>\n",
       "      <td>0.832631</td>\n",
       "    </tr>\n",
       "    <tr>\n",
       "      <th>35</th>\n",
       "      <td>0.805093</td>\n",
       "      <td>0.777525</td>\n",
       "      <td>0.832662</td>\n",
       "    </tr>\n",
       "    <tr>\n",
       "      <th rowspan=\"11\" valign=\"top\">llama3.1:70b</th>\n",
       "      <th></th>\n",
       "      <th>0</th>\n",
       "      <td>0.724618</td>\n",
       "      <td>0.677781</td>\n",
       "      <td>0.771456</td>\n",
       "    </tr>\n",
       "    <tr>\n",
       "      <th rowspan=\"5\" valign=\"top\">rand</th>\n",
       "      <th>0</th>\n",
       "      <td>0.724618</td>\n",
       "      <td>0.677781</td>\n",
       "      <td>0.771456</td>\n",
       "    </tr>\n",
       "    <tr>\n",
       "      <th>5</th>\n",
       "      <td>0.738566</td>\n",
       "      <td>0.699695</td>\n",
       "      <td>0.777437</td>\n",
       "    </tr>\n",
       "    <tr>\n",
       "      <th>15</th>\n",
       "      <td>0.752816</td>\n",
       "      <td>0.724769</td>\n",
       "      <td>0.780863</td>\n",
       "    </tr>\n",
       "    <tr>\n",
       "      <th>25</th>\n",
       "      <td>0.761151</td>\n",
       "      <td>0.734531</td>\n",
       "      <td>0.787771</td>\n",
       "    </tr>\n",
       "    <tr>\n",
       "      <th>35</th>\n",
       "      <td>0.755201</td>\n",
       "      <td>0.727116</td>\n",
       "      <td>0.783287</td>\n",
       "    </tr>\n",
       "    <tr>\n",
       "      <th rowspan=\"5\" valign=\"top\">tfidf</th>\n",
       "      <th>0</th>\n",
       "      <td>0.724618</td>\n",
       "      <td>0.677781</td>\n",
       "      <td>0.771456</td>\n",
       "    </tr>\n",
       "    <tr>\n",
       "      <th>5</th>\n",
       "      <td>0.751967</td>\n",
       "      <td>0.721314</td>\n",
       "      <td>0.782619</td>\n",
       "    </tr>\n",
       "    <tr>\n",
       "      <th>15</th>\n",
       "      <td>0.763839</td>\n",
       "      <td>0.736571</td>\n",
       "      <td>0.791107</td>\n",
       "    </tr>\n",
       "    <tr>\n",
       "      <th>25</th>\n",
       "      <td>0.763904</td>\n",
       "      <td>0.735987</td>\n",
       "      <td>0.791820</td>\n",
       "    </tr>\n",
       "    <tr>\n",
       "      <th>35</th>\n",
       "      <td>0.768375</td>\n",
       "      <td>0.739768</td>\n",
       "      <td>0.796981</td>\n",
       "    </tr>\n",
       "  </tbody>\n",
       "</table>\n",
       "</div>"
      ],
      "text/plain": [
       "                                    Value                    \n",
       "Schema                             strict                    \n",
       "Entity Type                       overall       WoA    Artist\n",
       "Metric                           f1_macro        f1        f1\n",
       "Model               Sampling k                               \n",
       "Mixtral-8x22B:8x22b          0   0.700174  0.645019  0.755328\n",
       "                    rand     0   0.700174  0.645019  0.755328\n",
       "                             5   0.744392  0.706149  0.782634\n",
       "                             15  0.763306  0.729140  0.797471\n",
       "                             25  0.769922  0.740434  0.799410\n",
       "                             35  0.736783  0.693584  0.779982\n",
       "                    tfidf    0   0.700174  0.645019  0.755328\n",
       "                             5   0.756760  0.723193  0.790328\n",
       "                             15  0.776048  0.746148  0.805948\n",
       "                             25  0.782126  0.751477  0.812775\n",
       "                             35  0.765740  0.731534  0.799947\n",
       "firefunction-v2              0   0.702169  0.669395  0.734943\n",
       "                    rand     0   0.702169  0.669395  0.734943\n",
       "                             5   0.752028  0.726151  0.777905\n",
       "                             15  0.767145  0.751707  0.782582\n",
       "                             25  0.764807  0.751717  0.777896\n",
       "                             35  0.771004  0.757467  0.784541\n",
       "                    tfidf    0   0.702169  0.669395  0.734943\n",
       "                             5   0.758773  0.734640  0.782906\n",
       "                             15  0.770677  0.746230  0.795124\n",
       "                             25  0.776149  0.756269  0.796028\n",
       "                             35  0.786696  0.767311  0.806081\n",
       "gpt-4o-mini                  0   0.772835  0.729288  0.816382\n",
       "                    rand     0   0.772835  0.729288  0.816382\n",
       "                             5   0.783363  0.742097  0.824630\n",
       "                             15  0.791073  0.756400  0.825746\n",
       "                             25  0.789234  0.753776  0.824693\n",
       "                             35  0.792544  0.759703  0.825385\n",
       "                    tfidf    0   0.772835  0.729288  0.816382\n",
       "                             5   0.793579  0.759790  0.827369\n",
       "                             15  0.800870  0.768353  0.833387\n",
       "                             25  0.802151  0.771672  0.832631\n",
       "                             35  0.805093  0.777525  0.832662\n",
       "llama3.1:70b                 0   0.724618  0.677781  0.771456\n",
       "                    rand     0   0.724618  0.677781  0.771456\n",
       "                             5   0.738566  0.699695  0.777437\n",
       "                             15  0.752816  0.724769  0.780863\n",
       "                             25  0.761151  0.734531  0.787771\n",
       "                             35  0.755201  0.727116  0.783287\n",
       "                    tfidf    0   0.724618  0.677781  0.771456\n",
       "                             5   0.751967  0.721314  0.782619\n",
       "                             15  0.763839  0.736571  0.791107\n",
       "                             25  0.763904  0.735987  0.791820\n",
       "                             35  0.768375  0.739768  0.796981"
      ]
     },
     "execution_count": 3,
     "metadata": {},
     "output_type": "execute_result"
    }
   ],
   "source": [
    "import pandas as pd\n",
    "import numpy as np\n",
    "\n",
    "\n",
    "results_for_metric(results_rdyt, \"f1\")\n"
   ]
  },
  {
   "cell_type": "code",
   "execution_count": 4,
   "metadata": {},
   "outputs": [
    {
     "data": {
      "text/html": [
       "<div>\n",
       "<style scoped>\n",
       "    .dataframe tbody tr th:only-of-type {\n",
       "        vertical-align: middle;\n",
       "    }\n",
       "\n",
       "    .dataframe tbody tr th {\n",
       "        vertical-align: top;\n",
       "    }\n",
       "\n",
       "    .dataframe thead tr th {\n",
       "        text-align: left;\n",
       "    }\n",
       "\n",
       "    .dataframe thead tr:last-of-type th {\n",
       "        text-align: right;\n",
       "    }\n",
       "</style>\n",
       "<table border=\"1\" class=\"dataframe\">\n",
       "  <thead>\n",
       "    <tr>\n",
       "      <th></th>\n",
       "      <th></th>\n",
       "      <th></th>\n",
       "      <th colspan=\"3\" halign=\"left\">Value</th>\n",
       "    </tr>\n",
       "    <tr>\n",
       "      <th></th>\n",
       "      <th></th>\n",
       "      <th>Schema</th>\n",
       "      <th colspan=\"3\" halign=\"left\">strict</th>\n",
       "    </tr>\n",
       "    <tr>\n",
       "      <th></th>\n",
       "      <th></th>\n",
       "      <th>Entity Type</th>\n",
       "      <th>overall</th>\n",
       "      <th>WoA</th>\n",
       "      <th>Artist</th>\n",
       "    </tr>\n",
       "    <tr>\n",
       "      <th></th>\n",
       "      <th></th>\n",
       "      <th>Metric</th>\n",
       "      <th>f1_macro</th>\n",
       "      <th>f1</th>\n",
       "      <th>f1</th>\n",
       "    </tr>\n",
       "    <tr>\n",
       "      <th>Model</th>\n",
       "      <th>Sampling</th>\n",
       "      <th>k</th>\n",
       "      <th></th>\n",
       "      <th></th>\n",
       "      <th></th>\n",
       "    </tr>\n",
       "  </thead>\n",
       "  <tbody>\n",
       "    <tr>\n",
       "      <th rowspan=\"11\" valign=\"top\">Mixtral-8x22B:8x22b</th>\n",
       "      <th></th>\n",
       "      <th>0</th>\n",
       "      <td>0.748749</td>\n",
       "      <td>0.684665</td>\n",
       "      <td>0.812832</td>\n",
       "    </tr>\n",
       "    <tr>\n",
       "      <th rowspan=\"5\" valign=\"top\">rand</th>\n",
       "      <th>0</th>\n",
       "      <td>0.748749</td>\n",
       "      <td>0.684665</td>\n",
       "      <td>0.812832</td>\n",
       "    </tr>\n",
       "    <tr>\n",
       "      <th>5</th>\n",
       "      <td>0.808490</td>\n",
       "      <td>0.798993</td>\n",
       "      <td>0.817987</td>\n",
       "    </tr>\n",
       "    <tr>\n",
       "      <th>15</th>\n",
       "      <td>0.802005</td>\n",
       "      <td>0.794507</td>\n",
       "      <td>0.809502</td>\n",
       "    </tr>\n",
       "    <tr>\n",
       "      <th>25</th>\n",
       "      <td>0.797873</td>\n",
       "      <td>0.799429</td>\n",
       "      <td>0.796316</td>\n",
       "    </tr>\n",
       "    <tr>\n",
       "      <th>35</th>\n",
       "      <td>0.805491</td>\n",
       "      <td>0.805397</td>\n",
       "      <td>0.805586</td>\n",
       "    </tr>\n",
       "    <tr>\n",
       "      <th rowspan=\"5\" valign=\"top\">tfidf</th>\n",
       "      <th>0</th>\n",
       "      <td>0.748749</td>\n",
       "      <td>0.684665</td>\n",
       "      <td>0.812832</td>\n",
       "    </tr>\n",
       "    <tr>\n",
       "      <th>5</th>\n",
       "      <td>0.813107</td>\n",
       "      <td>0.793712</td>\n",
       "      <td>0.832502</td>\n",
       "    </tr>\n",
       "    <tr>\n",
       "      <th>15</th>\n",
       "      <td>0.816209</td>\n",
       "      <td>0.800656</td>\n",
       "      <td>0.831762</td>\n",
       "    </tr>\n",
       "    <tr>\n",
       "      <th>25</th>\n",
       "      <td>0.816861</td>\n",
       "      <td>0.798824</td>\n",
       "      <td>0.834897</td>\n",
       "    </tr>\n",
       "    <tr>\n",
       "      <th>35</th>\n",
       "      <td>0.814507</td>\n",
       "      <td>0.802363</td>\n",
       "      <td>0.826651</td>\n",
       "    </tr>\n",
       "    <tr>\n",
       "      <th rowspan=\"11\" valign=\"top\">firefunction-v2</th>\n",
       "      <th></th>\n",
       "      <th>0</th>\n",
       "      <td>0.712845</td>\n",
       "      <td>0.665222</td>\n",
       "      <td>0.760469</td>\n",
       "    </tr>\n",
       "    <tr>\n",
       "      <th rowspan=\"5\" valign=\"top\">rand</th>\n",
       "      <th>0</th>\n",
       "      <td>0.712845</td>\n",
       "      <td>0.665222</td>\n",
       "      <td>0.760469</td>\n",
       "    </tr>\n",
       "    <tr>\n",
       "      <th>5</th>\n",
       "      <td>0.808163</td>\n",
       "      <td>0.789716</td>\n",
       "      <td>0.826610</td>\n",
       "    </tr>\n",
       "    <tr>\n",
       "      <th>15</th>\n",
       "      <td>0.812422</td>\n",
       "      <td>0.794026</td>\n",
       "      <td>0.830818</td>\n",
       "    </tr>\n",
       "    <tr>\n",
       "      <th>25</th>\n",
       "      <td>0.814495</td>\n",
       "      <td>0.800477</td>\n",
       "      <td>0.828513</td>\n",
       "    </tr>\n",
       "    <tr>\n",
       "      <th>35</th>\n",
       "      <td>0.825991</td>\n",
       "      <td>0.816438</td>\n",
       "      <td>0.835545</td>\n",
       "    </tr>\n",
       "    <tr>\n",
       "      <th rowspan=\"5\" valign=\"top\">tfidf</th>\n",
       "      <th>0</th>\n",
       "      <td>0.712845</td>\n",
       "      <td>0.665222</td>\n",
       "      <td>0.760469</td>\n",
       "    </tr>\n",
       "    <tr>\n",
       "      <th>5</th>\n",
       "      <td>0.803526</td>\n",
       "      <td>0.781745</td>\n",
       "      <td>0.825307</td>\n",
       "    </tr>\n",
       "    <tr>\n",
       "      <th>15</th>\n",
       "      <td>0.835729</td>\n",
       "      <td>0.811353</td>\n",
       "      <td>0.860105</td>\n",
       "    </tr>\n",
       "    <tr>\n",
       "      <th>25</th>\n",
       "      <td>0.822983</td>\n",
       "      <td>0.805338</td>\n",
       "      <td>0.840629</td>\n",
       "    </tr>\n",
       "    <tr>\n",
       "      <th>35</th>\n",
       "      <td>0.823009</td>\n",
       "      <td>0.798750</td>\n",
       "      <td>0.847268</td>\n",
       "    </tr>\n",
       "    <tr>\n",
       "      <th rowspan=\"3\" valign=\"top\">gpt-4o-mini</th>\n",
       "      <th></th>\n",
       "      <th>0</th>\n",
       "      <td>0.813750</td>\n",
       "      <td>0.781166</td>\n",
       "      <td>0.846334</td>\n",
       "    </tr>\n",
       "    <tr>\n",
       "      <th>rand</th>\n",
       "      <th>0</th>\n",
       "      <td>0.813750</td>\n",
       "      <td>0.781166</td>\n",
       "      <td>0.846334</td>\n",
       "    </tr>\n",
       "    <tr>\n",
       "      <th>tfidf</th>\n",
       "      <th>0</th>\n",
       "      <td>0.813750</td>\n",
       "      <td>0.781166</td>\n",
       "      <td>0.846334</td>\n",
       "    </tr>\n",
       "    <tr>\n",
       "      <th rowspan=\"3\" valign=\"top\">llama3.1:70b</th>\n",
       "      <th></th>\n",
       "      <th>0</th>\n",
       "      <td>0.792035</td>\n",
       "      <td>0.777959</td>\n",
       "      <td>0.806111</td>\n",
       "    </tr>\n",
       "    <tr>\n",
       "      <th>rand</th>\n",
       "      <th>0</th>\n",
       "      <td>0.792035</td>\n",
       "      <td>0.777959</td>\n",
       "      <td>0.806111</td>\n",
       "    </tr>\n",
       "    <tr>\n",
       "      <th>tfidf</th>\n",
       "      <th>0</th>\n",
       "      <td>0.792035</td>\n",
       "      <td>0.777959</td>\n",
       "      <td>0.806111</td>\n",
       "    </tr>\n",
       "  </tbody>\n",
       "</table>\n",
       "</div>"
      ],
      "text/plain": [
       "                                    Value                    \n",
       "Schema                             strict                    \n",
       "Entity Type                       overall       WoA    Artist\n",
       "Metric                           f1_macro        f1        f1\n",
       "Model               Sampling k                               \n",
       "Mixtral-8x22B:8x22b          0   0.748749  0.684665  0.812832\n",
       "                    rand     0   0.748749  0.684665  0.812832\n",
       "                             5   0.808490  0.798993  0.817987\n",
       "                             15  0.802005  0.794507  0.809502\n",
       "                             25  0.797873  0.799429  0.796316\n",
       "                             35  0.805491  0.805397  0.805586\n",
       "                    tfidf    0   0.748749  0.684665  0.812832\n",
       "                             5   0.813107  0.793712  0.832502\n",
       "                             15  0.816209  0.800656  0.831762\n",
       "                             25  0.816861  0.798824  0.834897\n",
       "                             35  0.814507  0.802363  0.826651\n",
       "firefunction-v2              0   0.712845  0.665222  0.760469\n",
       "                    rand     0   0.712845  0.665222  0.760469\n",
       "                             5   0.808163  0.789716  0.826610\n",
       "                             15  0.812422  0.794026  0.830818\n",
       "                             25  0.814495  0.800477  0.828513\n",
       "                             35  0.825991  0.816438  0.835545\n",
       "                    tfidf    0   0.712845  0.665222  0.760469\n",
       "                             5   0.803526  0.781745  0.825307\n",
       "                             15  0.835729  0.811353  0.860105\n",
       "                             25  0.822983  0.805338  0.840629\n",
       "                             35  0.823009  0.798750  0.847268\n",
       "gpt-4o-mini                  0   0.813750  0.781166  0.846334\n",
       "                    rand     0   0.813750  0.781166  0.846334\n",
       "                    tfidf    0   0.813750  0.781166  0.846334\n",
       "llama3.1:70b                 0   0.792035  0.777959  0.806111\n",
       "                    rand     0   0.792035  0.777959  0.806111\n",
       "                    tfidf    0   0.792035  0.777959  0.806111"
      ]
     },
     "execution_count": 4,
     "metadata": {},
     "output_type": "execute_result"
    }
   ],
   "source": [
    "results_for_metric(results_yt, \"f1\")\n"
   ]
  },
  {
   "cell_type": "markdown",
   "metadata": {},
   "source": [
    "#### Baseline"
   ]
  },
  {
   "cell_type": "code",
   "execution_count": 8,
   "metadata": {},
   "outputs": [
    {
     "name": "stdout",
     "output_type": "stream",
     "text": [
      "Artist -- f1: 0.7889259160651122\n",
      "WoA -- f1: 0.7407495429105063\n",
      "overall -- f1_macro: 0.7648377294878093\n"
     ]
    }
   ],
   "source": [
    "import json\n",
    "\n",
    "baseline_output_path = \"../baseline/music-ner-eacl2023/output/reddit+shsyt/\"\n",
    "\n",
    "def get_baseline_results(path: str, eval_scheme: str, eval_cls: str, metric: str):\n",
    "    \n",
    "    baseline_results = {}\n",
    "\n",
    "    key = f\"predict_{eval_cls}_{eval_scheme}_{metric}\"\n",
    "\n",
    "    for dataset in os.listdir(baseline_output_path):\n",
    "        for model in os.listdir(os.path.join(baseline_output_path, dataset)):\n",
    "            if not baseline_results.get(model):\n",
    "                baseline_results[model] = []\n",
    "            with open(os.path.join(baseline_output_path, dataset, model, \"predict_results.json\"), \"r\") as f:\n",
    "                content = json.load(f)\n",
    "\n",
    "            baseline_results[model].append(content[key])\n",
    "    return pd.DataFrame(baseline_results)\n",
    "\n",
    "sampling_method = \"rand\"\n",
    "eval_cls = \"overall\"\n",
    "eval_scheme = \"strict\"\n",
    "\n",
    "for eval_cls in [\"Artist\", \"WoA\", \"overall\"]:\n",
    "    metric = \"f1_macro\" if eval_cls == \"overall\" else \"f1\" \n",
    "    print(f\"{eval_cls} -- {metric}: {get_baseline_results(baseline_output_path, eval_scheme, eval_cls, metric).mean().item()}\")\n"
   ]
  },
  {
   "cell_type": "code",
   "execution_count": 35,
   "metadata": {},
   "outputs": [
    {
     "name": "stderr",
     "output_type": "stream",
     "text": [
      "/data/miniconda3/envs/torch21/lib/python3.11/site-packages/seaborn/_base.py:949: FutureWarning: When grouping with a length-1 list-like, you will need to pass a length-1 tuple to get_group in a future version of pandas. Pass `(name,)` instead of `name` to silence this warning.\n",
      "  data_subset = grouped_data.get_group(pd_key)\n",
      "/data/miniconda3/envs/torch21/lib/python3.11/site-packages/seaborn/_base.py:949: FutureWarning: When grouping with a length-1 list-like, you will need to pass a length-1 tuple to get_group in a future version of pandas. Pass `(name,)` instead of `name` to silence this warning.\n",
      "  data_subset = grouped_data.get_group(pd_key)\n",
      "/data/miniconda3/envs/torch21/lib/python3.11/site-packages/seaborn/_base.py:949: FutureWarning: When grouping with a length-1 list-like, you will need to pass a length-1 tuple to get_group in a future version of pandas. Pass `(name,)` instead of `name` to silence this warning.\n",
      "  data_subset = grouped_data.get_group(pd_key)\n",
      "/data/miniconda3/envs/torch21/lib/python3.11/site-packages/seaborn/_base.py:949: FutureWarning: When grouping with a length-1 list-like, you will need to pass a length-1 tuple to get_group in a future version of pandas. Pass `(name,)` instead of `name` to silence this warning.\n",
      "  data_subset = grouped_data.get_group(pd_key)\n",
      "2024-09-12 08:28:15 matplotlib.backends.backend_pdf DEBUG: Assigning font /F1 = '/data/miniconda3/envs/torch21/lib/python3.11/site-packages/matplotlib/mpl-data/fonts/ttf/DejaVuSans.ttf'\n",
      "2024-09-12 08:28:15 matplotlib.backends.backend_pdf DEBUG: Embedding font /data/miniconda3/envs/torch21/lib/python3.11/site-packages/matplotlib/mpl-data/fonts/ttf/DejaVuSans.ttf.\n",
      "2024-09-12 08:28:15 matplotlib.backends.backend_pdf DEBUG: Writing TrueType font.\n"
     ]
    },
    {
     "data": {
      "image/png": "[encoded data removed]",
      "text/plain": [
       "<Figure size 640x480 with 1 Axes>"
      ]
     },
     "metadata": {},
     "output_type": "display_data"
    }
   ],
   "source": [
    "import seaborn as sns\n",
    "import matplotlib.pyplot as plt\n",
    "\n",
    "def plot(data: pd.DataFrame, sampling_method: str, metric: str, baseline_value: float, baseline_name: str, \n",
    "         eval_cls: str = \"overall\", eval_scheme: str = \"strict\", save_path: str = None):\n",
    "\n",
    "    data = data.rename(index={'Mixtral-8x22B:8x22b': 'Mixtral-8x22B', \n",
    "                                'firefunction-v2': 'FireFunction-v2', \n",
    "                                'llama3.1:70b' : 'Llama3.1-70B', 'gpt-4o-mini': 'GPT-4o-mini'})\n",
    "    data = data.xs(sampling_method, level='Sampling')\n",
    "    data = data.reset_index()\n",
    "\n",
    "    y_column = (\"Value\", eval_scheme, eval_cls, metric)\n",
    "\n",
    "    sns.set_style(\"whitegrid\")\n",
    "    ax = sns.lineplot(data=data, x='k', y=y_column, hue='Model', marker='o')\n",
    "\n",
    "    # Plot the horizontal baseline line\n",
    "    baseline_line = plt.axhline(y=baseline_value, color='red', linestyle='--', label=baseline_name)\n",
    "\n",
    "    # Customize the legend\n",
    "    handles, labels = ax.get_legend_handles_labels()\n",
    "\n",
    "    # Add the baseline handle and label if not already present\n",
    "    if baseline_name not in labels:\n",
    "        handles.append(baseline_line)\n",
    "        labels.append(baseline_name)\n",
    "    \n",
    "    # Recreate the legend with the updated handles and labels\n",
    "    ax.legend(handles=handles, labels=labels, title=\"Model\")\n",
    "\n",
    "    # Custom y-axis label\n",
    "    plt.ylabel(' '.join(w.capitalize() for w in metric.split(\"_\")))\n",
    "\n",
    "    if save_path:\n",
    "        plt.savefig(save_path)\n",
    "\n",
    "    # Show the plot\n",
    "    plt.show()\n",
    "\n",
    "\n",
    "sampling_method = \"rand\"\n",
    "metric = \"f1_macro\"\n",
    "eval_scheme = \"strict\"\n",
    "eval_cls = \"overall\"\n",
    "baseline_value = get_baseline_results(baseline_output_path, eval_scheme, eval_cls, metric).mean().item()\n",
    "\n",
    "plot(__data, sampling_method, metric, baseline_value, \"BERT\", save_path=\"../figures/results_rand_f1_macro.pdf\")\n",
    "\n"
   ]
  },
  {
   "cell_type": "code",
   "execution_count": 36,
   "metadata": {},
   "outputs": [
    {
     "name": "stderr",
     "output_type": "stream",
     "text": [
      "/data/miniconda3/envs/torch21/lib/python3.11/site-packages/seaborn/_base.py:949: FutureWarning: When grouping with a length-1 list-like, you will need to pass a length-1 tuple to get_group in a future version of pandas. Pass `(name,)` instead of `name` to silence this warning.\n",
      "  data_subset = grouped_data.get_group(pd_key)\n",
      "/data/miniconda3/envs/torch21/lib/python3.11/site-packages/seaborn/_base.py:949: FutureWarning: When grouping with a length-1 list-like, you will need to pass a length-1 tuple to get_group in a future version of pandas. Pass `(name,)` instead of `name` to silence this warning.\n",
      "  data_subset = grouped_data.get_group(pd_key)\n",
      "/data/miniconda3/envs/torch21/lib/python3.11/site-packages/seaborn/_base.py:949: FutureWarning: When grouping with a length-1 list-like, you will need to pass a length-1 tuple to get_group in a future version of pandas. Pass `(name,)` instead of `name` to silence this warning.\n",
      "  data_subset = grouped_data.get_group(pd_key)\n",
      "/data/miniconda3/envs/torch21/lib/python3.11/site-packages/seaborn/_base.py:949: FutureWarning: When grouping with a length-1 list-like, you will need to pass a length-1 tuple to get_group in a future version of pandas. Pass `(name,)` instead of `name` to silence this warning.\n",
      "  data_subset = grouped_data.get_group(pd_key)\n",
      "2024-09-12 08:28:18 matplotlib.backends.backend_pdf DEBUG: Assigning font /F1 = '/data/miniconda3/envs/torch21/lib/python3.11/site-packages/matplotlib/mpl-data/fonts/ttf/DejaVuSans.ttf'\n",
      "2024-09-12 08:28:18 matplotlib.backends.backend_pdf DEBUG: Embedding font /data/miniconda3/envs/torch21/lib/python3.11/site-packages/matplotlib/mpl-data/fonts/ttf/DejaVuSans.ttf.\n",
      "2024-09-12 08:28:18 matplotlib.backends.backend_pdf DEBUG: Writing TrueType font.\n"
     ]
    },
    {
     "data": {
      "image/png": "[encoded data removed]",
      "text/plain": [
       "<Figure size 640x480 with 1 Axes>"
      ]
     },
     "metadata": {},
     "output_type": "display_data"
    }
   ],
   "source": [
    "plot(__data, \"tfidf\", metric, baseline_value, \"BERT\", save_path=\"../figures/results_tfidf_f1_macro.pdf\")\n",
    "\n"
   ]
  }
 ],
 "metadata": {
  "kernelspec": {
   "display_name": "torch21",
   "language": "python",
   "name": "python3"
  },
  "language_info": {
   "codemirror_mode": {
    "name": "ipython",
    "version": 3
   },
   "file_extension": ".py",
   "mimetype": "text/x-python",
   "name": "python",
   "nbconvert_exporter": "python",
   "pygments_lexer": "ipython3",
   "version": "3.11.5"
  }
 },
 "nbformat": 4,
 "nbformat_minor": 2
}
