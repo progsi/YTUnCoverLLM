{
 "cells": [
  {
   "cell_type": "code",
   "execution_count": null,
   "metadata": {},
   "outputs": [],
   "source": [
    "import os\n",
    "import sys\n",
    "sys.path.append(os.path.abspath('..'))\n",
    "from src.Wrapper import LlamaWrapper\n",
    "\n",
    "model_id = \"meta-llama/Meta-Llama-3-8B-Instruct\"\n",
    "llama = LlamaWrapper(model_id=model_id)\n"
   ]
  },
  {
   "cell_type": "code",
   "execution_count": null,
   "metadata": {},
   "outputs": [],
   "source": [
    "title_list = [\n",
    "    \"Dream Theater Metropolis Pt. 1 (Live At Luna Park DVD)\", \n",
    "    \"Plini & David Maxim Micic LIVE @ Vh1 Supersonic 2018 (full set)\",\n",
    "    \"(Måneskin) Beggin' - Fingerstyle Guitar Cover | Josephine Alexandra\",\n",
    "    \"Owane - Rock Is Too Heavy\",\n",
    "    \"Jungle - Tash Sultana - Tutorial - Guitar Loop Cover - Tabs Available\",\n",
    "    \"How to Play Beat It Solo - Eddie Van Halen Michael Jackson\"\n",
    "    ]\n"
   ]
  },
  {
   "cell_type": "markdown",
   "metadata": {},
   "source": [
    "# Artist and Title"
   ]
  },
  {
   "cell_type": "markdown",
   "metadata": {},
   "source": [
    "#### Option 1) manually with full list --> unstructured output"
   ]
  },
  {
   "cell_type": "code",
   "execution_count": null,
   "metadata": {},
   "outputs": [],
   "source": [
    "from src.Utils import read_jsonfile\n",
    "\n",
    "roles = read_jsonfile(\"../prompts/roles.json\")\n",
    "tasks = read_jsonfile(\"../prompts/tasks.json\")\n",
    "schemas = read_jsonfile(\"../prompts/schemas.json\")\n",
    "\n"
   ]
  },
  {
   "cell_type": "code",
   "execution_count": null,
   "metadata": {},
   "outputs": [],
   "source": [
    "role_description = roles[\"linguist_music\"]\n",
    "task_description = tasks[\"simple\"]\n",
    "\n",
    "prompt = role_description + task_description\n",
    "\n",
    "temperature = 0.01\n",
    "top_p = 0.1\n",
    "\n",
    "output = llama.prompt(prompt, title_list, temperature=temperature, top_p=top_p)\n",
    "output\n"
   ]
  },
  {
   "cell_type": "markdown",
   "metadata": {},
   "source": [
    "#### Option 2) with jsonformer --> structured but only single json."
   ]
  },
  {
   "cell_type": "code",
   "execution_count": null,
   "metadata": {},
   "outputs": [],
   "source": [
    "role_description = roles[\"linguist_music\"]\n",
    "task_description = tasks[\"translate_perf\"]\n",
    "json_schema = schemas[\"translate_perf\"]\n",
    "\n",
    "outputs = []\n",
    "for title in title_list: \n",
    "    task_description = f\"You are a given a video title of an online video which refers to a song. It is likely a cover. Parse the contained fields artist (covering and original), title (covering and original) and translate the title into english if its not english, else copy it into the translation. The title is: \"\n",
    "    prompt = role_description + task_description + f\"'{title}'\"\n",
    "    outputs.append(llama.prompt_to_json(prompt, json_schema, 0.1))\n"
   ]
  },
  {
   "cell_type": "code",
   "execution_count": null,
   "metadata": {},
   "outputs": [],
   "source": [
    "json_schema"
   ]
  },
  {
   "cell_type": "code",
   "execution_count": null,
   "metadata": {},
   "outputs": [],
   "source": [
    "outputs"
   ]
  },
  {
   "cell_type": "code",
   "execution_count": null,
   "metadata": {},
   "outputs": [],
   "source": [
    "import pandas as pd\n",
    "pd.read_parquet(\"../data/shs100k2_processed.parquet\").columns"
   ]
  },
  {
   "cell_type": "markdown",
   "metadata": {},
   "source": [
    "# SHS100K-Test"
   ]
  },
  {
   "cell_type": "markdown",
   "metadata": {},
   "source": [
    "## Zero-Shot"
   ]
  },
  {
   "cell_type": "code",
   "execution_count": null,
   "metadata": {},
   "outputs": [],
   "source": [
    "import pandas as pd\n",
    "\n",
    "data = pd.read_parquet(\"/data/csi_datasets/shs100k2_yt.parquet\").query(\"split == 'TEST'\")\n",
    "\n"
   ]
  },
  {
   "cell_type": "code",
   "execution_count": null,
   "metadata": {},
   "outputs": [],
   "source": [
    "from tqdm import tqdm\n",
    "\n",
    "json_schema = {\n",
    "    \"type\": \"object\",\n",
    "    \"properties\": {\n",
    "        \"artist_performing\": {\"type\": \"string\"},\n",
    "        \"artist_original\": {\"type\": \"string\"},\n",
    "        \"title_original\": {\"type\": \"string\"},\n",
    "        \"title_performing\": {\"type\": \"string\"},\n",
    "        \"title_english\": {\"type\": \"string\"},\n",
    "        }\n",
    "    }\n",
    "\n",
    "# construct prompts\n",
    "role_description = \"You are a linguistic and music expert.\"\n",
    "task_description = f\"You are a given a video title of an online video which refers to a song. It is likely a cover. Parse the contained fields artist (covering and original), title (covering and original) and translate the title into english if its not english, else copy it into the translation. The title is: \"\n",
    "prompts = [role_description + task_description + f\"'{title}'\" for title in data.video_title]\n",
    "\n",
    "# why can't I set to 0?\n",
    "temperature = 0.0001\n",
    "\n",
    "# inference with Llama\n",
    "outputs = []\n",
    "for prompt in tqdm(prompts): \n",
    "    output = llama.prompt_to_json(prompt, json_schema, temperature)\n",
    "    outputs.append(output)\n",
    "\n",
    "# write to df\n",
    "data_parsed = pd.DataFrame(outputs)\n",
    "for col in data_parsed.columns:\n",
    "    data[col] = data_parsed[col].values\n"
   ]
  },
  {
   "cell_type": "code",
   "execution_count": null,
   "metadata": {},
   "outputs": [],
   "source": [
    "accuracy_title_perf = sum((data.title.str.lower() == data.title_performing.str.lower())) / len(data)\n",
    "accuracy_title_orig = sum((data.title.str.lower() == data.title_original.str.lower())) / len(data)\n",
    "accuracy_artist_perf = sum((data.performer.str.lower() == data.artist_performing.str.lower())) / len(data)\n",
    "accuracy_artist_orig = sum((data.performer.str.lower() == data.artist_original.str.lower())) / len(data)\n",
    "\n",
    "print(accuracy_title_perf)\n",
    "print(accuracy_title_orig)\n",
    "print(accuracy_artist_perf)\n",
    "print(accuracy_artist_orig)\n"
   ]
  },
  {
   "cell_type": "code",
   "execution_count": null,
   "metadata": {},
   "outputs": [],
   "source": [
    "title_perf_extracted = data.apply(lambda x: x.title_performing in x.video_title, axis=1).sum() / len(data)\n",
    "title_orig_extracted = data.apply(lambda x: x.title_original in x.video_title, axis=1).sum() / len(data)\n",
    "artist_perf_extracted = data.apply(lambda x: x.artist_performing in x.video_title, axis=1).sum() / len(data)\n",
    "artist_orig_extracted = data.apply(lambda x: x.artist_original in x.video_title, axis=1).sum() / len(data)\n",
    "\n",
    "print(title_perf_extracted)\n",
    "print(title_orig_extracted)\n",
    "print(artist_perf_extracted)\n",
    "print(artist_orig_extracted)\n"
   ]
  },
  {
   "cell_type": "markdown",
   "metadata": {},
   "source": [
    "## Few-Shot"
   ]
  },
  {
   "cell_type": "code",
   "execution_count": null,
   "metadata": {},
   "outputs": [],
   "source": [
    "task_description = \"\"\"\n",
    "You are a given a video title of a YouTube video which contains a musical performance. \n",
    "Parse the song title, the name of the performing artist in the video and the song title into the \n",
    "respective fields.\n",
    "If the song title is not english, also fill the field title_english with the english translation of the \n",
    "title you find. Here are some examples: \"\n",
    "\"\"\"\n",
    "\n",
    "examples = \"\"\"\n",
    "Example 1 video title: 'Dream Theater Metropolis Pt. 1 (Live At Luna Park DVD)'; Output attributes: artist_performing: Dream Theater, artist_original: Dream Theater, \n",
    "title_performing: Metropolis Pt. 1, title_original: Metropolis Pt. 1\n",
    "Example 2 video title: '(Måneskin) Beggin' - Fingerstyle Guitar Cover | Josephine Alexandra'; Output attributes: artist_performing: Josephine Alexandra, artist_original: Måneskin, \n",
    "title_performing: Beggin' - Fingerstyle Guitar Cover, title_original: Beggin'\n",
    "Example 3 video title: 'Owane - Rock Is Too Heavy'; Output attributes: artist_performing: Owane, artist_original: Owane, \n",
    "title_performing: Rock Is Too Heavy, title_original: Rock Is Too Heavy\n",
    "Example 4 video title: 'Jungle - Tash Sultana - Tutorial - Guitar Loop Cover - Tabs Available'; Output attributes: artist_performing: null, artist_original: Tash Sultana, \n",
    "title_performing: Jungle, title_original: Jungle\n",
    "Example 5 video title: 'How to Play Beat It Solo - Eddie Van Halen Michael Jackson'; Output attributes: artist_performing: null, artist_original: Micheal Jackson and Eddie Van Halen, \n",
    "title_performing: Beat It Solo, title_original: Beat It\n",
    "\n",
    "Input: \n",
    "\"\"\"\n",
    "\n",
    "json_schema = {\n",
    "    \"type\": \"object\",\n",
    "    \"properties\": {\n",
    "        \"artist_performing\": {\"type\": \"string\"},\n",
    "        \"artist_original\": {\"type\": \"string\"},\n",
    "        \"title_original\": {\"type\": \"string\"},\n",
    "        \"title_performing\": {\"type\": \"string\"},\n",
    "        \"title_english\": {\"type\": \"string\"},\n",
    "        }\n",
    "    }\n",
    "\n",
    "\n",
    "outputs = []\n",
    "\n",
    "# few shot inference with Llama\n",
    "for video_title in tqdm(data.video_title): \n",
    "    prompt = role_description + task_description + examples + video_title\n",
    "    output = llama.prompt_to_json(prompt, json_schema, temperature)\n",
    "    outputs.append(output)\n",
    "\n",
    "# write to df\n",
    "data_parsed = pd.DataFrame(outputs)\n",
    "for col in data_parsed.columns:\n",
    "    data[col] = data_parsed[col].values\n",
    "\n"
   ]
  },
  {
   "cell_type": "code",
   "execution_count": null,
   "metadata": {},
   "outputs": [],
   "source": [
    "accuracy_title_perf = sum((data.title.str.lower() == data.title_performing.str.lower())) / len(data)\n",
    "accuracy_title_orig = sum((data.title.str.lower() == data.title_original.str.lower())) / len(data)\n",
    "accuracy_artist_perf = sum((data.performer.str.lower() == data.artist_performing.str.lower())) / len(data)\n",
    "accuracy_artist_orig = sum((data.performer.str.lower() == data.artist_original.str.lower())) / len(data)\n",
    "\n",
    "print(accuracy_title_perf)\n",
    "print(accuracy_title_orig)\n",
    "print(accuracy_artist_perf)\n",
    "print(accuracy_artist_orig)\n"
   ]
  },
  {
   "cell_type": "code",
   "execution_count": null,
   "metadata": {},
   "outputs": [],
   "source": [
    "title_perf_extracted = data.apply(lambda x: x.title_performing in x.video_title, axis=1).sum() / len(data)\n",
    "title_orig_extracted = data.apply(lambda x: x.title_original in x.video_title, axis=1).sum() / len(data)\n",
    "artist_perf_extracted = data.apply(lambda x: x.artist_performing in x.video_title, axis=1).sum() / len(data)\n",
    "artist_orig_extracted = data.apply(lambda x: x.artist_original in x.video_title, axis=1).sum() / len(data)\n",
    "\n",
    "print(title_perf_extracted)\n",
    "print(title_orig_extracted)\n",
    "print(artist_perf_extracted)\n",
    "print(artist_orig_extracted)\n"
   ]
  },
  {
   "cell_type": "code",
   "execution_count": null,
   "metadata": {},
   "outputs": [],
   "source": [
    "data[data.performer != data.artist_performing][[\"video_title\", \"performer\", \"artist_performing\"]]\n",
    "\n"
   ]
  },
  {
   "cell_type": "code",
   "execution_count": null,
   "metadata": {},
   "outputs": [],
   "source": [
    "from rapidfuzz import fuzz\n",
    "\n",
    "title_perf_ratios = data.apply(lambda x: fuzz.token_ratio(x.title_performing, x.video_title) / 100, axis=1)\n",
    "title_orig_ratios = data.apply(lambda x: fuzz.token_ratio(x.title_original, x.video_title) / 100, axis=1)\n",
    "artist_perf_ratios = data.apply(lambda x: fuzz.token_ratio(x.artist_performing, x.video_title)/ 100,  axis=1)\n",
    "artist_orig_ratios = data.apply(lambda x: fuzz.token_ratio(x.artist_original, x.video_title) / 100, axis=1)\n"
   ]
  },
  {
   "cell_type": "code",
   "execution_count": null,
   "metadata": {},
   "outputs": [],
   "source": [
    "title_perf_ratios.describe()\n"
   ]
  },
  {
   "cell_type": "code",
   "execution_count": null,
   "metadata": {},
   "outputs": [],
   "source": [
    "title_orig_ratios.describe()\n"
   ]
  },
  {
   "cell_type": "code",
   "execution_count": null,
   "metadata": {},
   "outputs": [],
   "source": [
    "artist_perf_ratios.describe()\n"
   ]
  },
  {
   "cell_type": "code",
   "execution_count": null,
   "metadata": {},
   "outputs": [],
   "source": [
    "artist_orig_ratios.describe()\n",
    "\n"
   ]
  }
 ],
 "metadata": {
  "kernelspec": {
   "display_name": "torch21",
   "language": "python",
   "name": "python3"
  },
  "language_info": {
   "codemirror_mode": {
    "name": "ipython",
    "version": 3
   },
   "file_extension": ".py",
   "mimetype": "text/x-python",
   "name": "python",
   "nbconvert_exporter": "python",
   "pygments_lexer": "ipython3",
   "version": "3.11.5"
  }
 },
 "nbformat": 4,
 "nbformat_minor": 2
}
