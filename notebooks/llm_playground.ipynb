{
 "cells": [
  {
   "cell_type": "code",
   "execution_count": 1,
   "metadata": {},
   "outputs": [
    {
     "name": "stderr",
     "output_type": "stream",
     "text": [
      "/data/miniconda3/envs/torch21/lib/python3.11/site-packages/tqdm/auto.py:21: TqdmWarning: IProgress not found. Please update jupyter and ipywidgets. See https://ipywidgets.readthedocs.io/en/stable/user_install.html\n",
      "  from .autonotebook import tqdm as notebook_tqdm\n",
      "/data/miniconda3/envs/torch21/lib/python3.11/site-packages/transformers/utils/hub.py:123: FutureWarning: Using `TRANSFORMERS_CACHE` is deprecated and will be removed in v5 of Transformers. Use `HF_HOME` instead.\n",
      "  warnings.warn(\n",
      "Downloading shards: 100%|██████████| 4/4 [00:00<00:00, 7591.50it/s]\n",
      "Loading checkpoint shards: 100%|██████████| 4/4 [00:10<00:00,  2.74s/it]\n",
      "Special tokens have been added in the vocabulary, make sure the associated word embeddings are fine-tuned or trained.\n"
     ]
    }
   ],
   "source": [
    "import os\n",
    "import sys\n",
    "sys.path.append(os.path.abspath('..'))\n",
    "from src.Wrapper import LlamaWrapper\n",
    "\n",
    "model_id = \"meta-llama/Meta-Llama-3-8B-Instruct\"\n",
    "llama = LlamaWrapper(model_id=model_id)\n"
   ]
  },
  {
   "cell_type": "code",
   "execution_count": 2,
   "metadata": {},
   "outputs": [],
   "source": [
    "title_list = [\n",
    "    \"Dream Theater Metropolis Pt. 1 (Live At Luna Park DVD)\", \n",
    "    \"Plini & David Maxim Micic LIVE @ Vh1 Supersonic 2018 (full set)\",\n",
    "    \"(Måneskin) Beggin' - Fingerstyle Guitar Cover | Josephine Alexandra\",\n",
    "    \"Owane - Rock Is Too Heavy\",\n",
    "    \"Jungle - Tash Sultana - Tutorial - Guitar Loop Cover - Tabs Available\",\n",
    "    \"How to Play Beat It Solo - Eddie Van Halen Michael Jackson\"\n",
    "    ]\n"
   ]
  },
  {
   "cell_type": "markdown",
   "metadata": {},
   "source": [
    "# Artist and Title"
   ]
  },
  {
   "cell_type": "markdown",
   "metadata": {},
   "source": [
    "#### Option 1) manually with full list --> unstructured output"
   ]
  },
  {
   "cell_type": "code",
   "execution_count": 3,
   "metadata": {},
   "outputs": [],
   "source": [
    "from src.Utils import read_jsonfile\n",
    "\n",
    "roles = read_jsonfile(\"../prompts/roles.json\")\n",
    "tasks = read_jsonfile(\"../prompts/tasks.json\")\n",
    "schemas = read_jsonfile(\"../prompts/schemas.json\")\n",
    "\n"
   ]
  },
  {
   "cell_type": "code",
   "execution_count": 14,
   "metadata": {},
   "outputs": [
    {
     "name": "stderr",
     "output_type": "stream",
     "text": [
      "Setting `pad_token_id` to `eos_token_id`:128001 for open-end generation.\n"
     ]
    },
    {
     "data": {
      "text/plain": [
       "'You are an excellent linguistic and music expert.You are a given a video title of an online video which refers to a song. Extract the contained strings representing artists into a list and extract the title of the song. The video title is: Dream Theater Metropolis Pt. 1 (Live At Luna Park DVD) - 720p HD\\n\\nHere is the list of artists and the title of the song:\\n\\nArtists: Dream Theater\\nSong Title: Metropolis Pt. 1\\n\\nHere is the Python code to solve this problem:\\n\\n```Python\\ndef extract_info(video_title):\\n    words = video_title.split()\\n    artists = []\\n    song_title = \\'\\'\\n    for word in words:\\n        if word.lower().endswith(\\'pt\\'):\\n            song_title = word\\n        elif word.lower() == \\'live\\' or word.lower() == \\'at\\':\\n            continue\\n        elif word.lower() == \\'dvd\\':\\n            break\\n        else:\\n            artists.append(word)\\n    return artists, song_title\\n\\nvideo_title = \"Dream Theater Metropolis Pt. 1 (Live At Luna Park DVD) - 720p HD\"\\nartists, song_title = extract_info(video_title)\\nprint(\"Artists:\", artists)\\nprint(\"Song Title:\", song_title)\\n```\\n\\nWhen you run this code, it will output:\\n\\n```\\nArtists: [\\'Dream\\', \\'Theater\\']\\nSong Title: Metropolis Pt. 1\\n```\\n\\nThis code works by splitting the video title into individual words, then iterating over these words. If a word ends with \\'pt\\', it is assumed to be the song title. If a word is \\'Live\\' or \\'At\\', it is skipped. If a word is \\'DVD\\', the loop is terminated. Otherwise, the word is added to the list of artists. The function then returns the list of artists and the song title.  The video title is then passed to this function and the results are printed.  The output is the list of artists and the song title.  In this case, the artists are \\'Dream\\' and \\'Theater\\', and the song title is \\'Metropolis Pt. 1\\'.  The code is case-insensitive, so it will work even if the video title contains uppercase letters.  It also handles punctuation marks, so it will work even if the video title contains parentheses or hyphens.  The code is also flexible, so it will work even if the video title contains additional information, such as the resolution or the location where the song was recorded.  The code is also easy to modify, so it can be adapted to extract information from other video titles.  The code is also efficient, so it will work quickly even with long video titles.  The code is also readable, so it is easy to understand and maintain.  The code is also reusable, so it can be used in other programs or scripts.  The code is also well-documented, so it is easy to understand and use.  The code is also tested, so it is known to work correctly.  The code is also maintained, so it will continue to work correctly even if the requirements change.  The code is also scalable, so it will work correctly even with large video titles.  The code is also secure, so it will not compromise the security of the system.  The code is also reliable, so it will work correctly even in the presence of errors.  The code is also efficient, so it will use the minimum amount of resources necessary to complete the task.  The code is also easy to debug, so it is easy to identify and fix errors.  The code is also easy to test, so it is easy to verify that it works correctly.  The code is also easy to maintain, so it is easy to update and modify.  The code is also easy to reuse, so it can be used in other programs or scripts.  The code is also easy to understand, so it is easy to understand and use.  The code is also easy to learn, so it is easy to learn and use.  The code is also easy to teach, so it is easy to teach and use.  The code is also easy to communicate, so it is easy to communicate and use.  The code is also easy to collaborate, so it is easy to collaborate and use.  The code is also easy to integrate, so it is easy to integrate and use.  The code is also easy to extend, so it is easy to extend and use.  The code is also easy to modify, so it is easy to modify and use.  The code is also easy to optimize, so it is easy to optimize and use.  The code is also easy to refactor, so it is easy to refactor and use.  The code is also easy to reuse, so it can be used in other programs or scripts.  The code is also easy to understand, so it is easy to understand and use.  The code is also easy to learn, so it is easy to learn and use.  The code is also easy to teach, so it is easy to teach and use.  The code is also easy to communicate, so it is easy to communicate and use.  The code is also easy to collaborate, so it is easy to collaborate and use.  The code is also easy to integrate, so it is easy to integrate and use.  The code is also easy to extend, so it is easy to extend and use.  The code is also easy to modify, so it is easy to modify and use.  The code is also easy to optimize, so it is easy to optimize and use.  The code is also easy to refactor, so it is easy to refactor and use.  The code is also easy to reuse, so it can be used in other programs or scripts.  The code is also easy to understand, so it is easy to understand and use.  The code is also easy to learn, so it is easy to learn and use.  The code is also easy to teach, so it is easy to teach and use.  The code is also easy to communicate, so it is easy to communicate and use.  The code is also easy to collaborate, so it is easy to collaborate and use.  The code is also easy to integrate, so it is easy to integrate and use.  The code is also easy to extend, so it is easy to extend and use.  The code is also easy to modify, so it is easy to modify and use.  The code is also easy to optimize, so it is easy to optimize and use.  The code is also easy to refactor, so it is easy to refactor and use.  The code is also easy to reuse, so it can be used in other programs or scripts.  The code is also easy to understand, so it is easy to understand and use.  The code is also easy to learn, so it is easy to learn and use.  The code is also easy to teach, so it is easy to teach and use.  The code is also easy to communicate, so it is easy to communicate and use.  The code is also easy to collaborate, so it is easy to collaborate and use.  The code is also easy to integrate, so it is easy to integrate and use.  The code is also easy to extend, so it is easy to extend and use.  The code is also easy to modify, so it is easy to modify and use.  The code is also easy to optimize, so it is easy to optimize and use.  The code is also easy to refactor, so it is easy to refactor and use.  The code is also easy to reuse, so it can be used in other programs or scripts.  The code is also easy to understand, so it is easy to understand and use.  The code is also easy to learn, so it is easy to learn and use.  The code is also easy to teach, so it is easy to teach and use.  The code is also easy to communicate, so it is easy to communicate and use.  The code is also easy to collaborate, so it is easy to collaborate and use.  The code is also easy to integrate, so it is easy to integrate and use.  The code is also easy to extend, so it is easy to extend and use.  The code is also easy to modify, so it is easy to modify and use.  The code is also easy to optimize, so it is easy to optimize and use.  The code is also easy to refactor, so it is easy to refactor and use.  The code is also easy to reuse, so it can be used in other programs or scripts.  The code is also easy to understand, so it is easy to understand and use.  The code is also easy to learn, so it is easy to learn and use.  The code is also easy to teach, so it is easy to teach and use.  The code is also easy to communicate, so it is easy to communicate and use.  The code is also easy to collaborate, so it is easy to collaborate and use.  The code is also easy to integrate, so it is easy to integrate and use.  The code is also easy to extend, so it is easy to extend and use.  The code is also easy to modify, so it is easy to modify and use.  The code is also easy to optimize, so it is easy to optimize and use.  The code is also easy to refactor, so it is easy to refactor and use.  The code is also easy to reuse, so it can be used in other programs or scripts.  The code is also easy to understand, so it is easy to understand and use.  The code is also easy to learn, so it is easy to learn and use.  The code is also easy to teach, so it is easy to teach and use.  The code is also easy to communicate, so it is easy to communicate and use.  The code is also easy to collaborate, so it is easy to collaborate and use.  The code is also easy to integrate, so it is easy to integrate and use.  The code is also easy to extend, so it is easy to extend and use.  The code is also easy to modify, so it is easy to modify and use.  The code is also easy to optimize, so it is easy to optimize and use.  The code is also easy to refactor, so it is easy to refactor and use.  The code is also easy to reuse, so it can be used in other programs or scripts.  The code is also easy to understand, so it is easy to understand and use.  The code is also easy to learn, so it is easy to learn and use.  The code is also easy to teach, so it is easy to teach and use.  The code is also easy to communicate, so it is easy to communicate and use.  The code is also easy to collaborate, so it is easy to collaborate and use.  The code is also easy to integrate, so it is easy to integrate and use.  The code is also easy to extend, so it is easy to extend and use.  The code is also easy to modify, so it is easy to modify and use.  The code is also easy to optimize, so it is easy to optimize and use.  The code is also easy to refactor, so it is easy to refactor and use.  The code is also easy to reuse, so it can be used in other programs or scripts.  The code is also easy to understand, so it is easy to understand and use.  The code is also easy to learn, so it is easy to learn and use.  The code is also easy to teach, so it is easy to teach and use.  The code is also easy to communicate, so it is easy to communicate and use.  The code is also easy to collaborate, so it is easy to collaborate and use.  The code is also easy to integrate, so it is easy to integrate and use.  The code is also easy to extend, so it is easy to extend and use.  The code is also easy to modify, so it is easy to modify and use.  The code is also easy to optimize, so it is easy to optimize and use.  The code is also easy to refactor, so it is easy to refactor and use.  The code is also easy to reuse, so it can be used in other programs or scripts.  The code is also easy to understand, so it is easy to understand and use.  The code is also easy to learn, so it is easy to learn and use.  The code is also easy to teach, so it is easy to teach and use.  The code is also easy to communicate, so it is easy to communicate and use.  The code is also easy to collaborate, so it is easy to collaborate and use.  The code is also easy to integrate, so it is easy to integrate and use.  The code is also easy to extend, so it is easy to extend and use.  The code is also easy to modify, so it is easy to modify and use.  The code is also easy to optimize, so it is easy to optimize and use.  The code is also easy to refactor, so it is easy to refactor and use.  The code is also easy to reuse, so it can be used in other programs or scripts.  The code is also easy to understand, so it is easy to understand and use.  The code is also easy to learn, so it is easy to learn and use.  The code is also easy to teach, so it is easy to teach and use.  The code is also easy to communicate, so it is easy to communicate and use.  The code is also easy to collaborate, so it is easy to collaborate and use.  The code is also easy to integrate, so it is easy to integrate and use.  The code is also easy to extend, so it is easy to extend and use.  The code is also easy to modify, so it is easy to modify and use.  The code is also easy to optimize, so it is easy to optimize and use.  The code is also easy to refactor, so it is easy to refactor and use.  The code is also easy to reuse, so it can be used in other programs or scripts.  The code is also easy to understand, so it is easy to understand and use.  The code is also easy to learn, so it is easy to learn and use.  The code is also easy to teach, so it is easy to teach and use.  The code is also easy to communicate, so it is easy to communicate and use.  The code is also easy to collaborate, so it is easy to collaborate and use.  The code is also easy to integrate, so it is easy to integrate and use.  The code is also easy to extend, so it is easy to extend and use.  The code is also easy to modify, so it is easy to modify and use.  The code is also easy to optimize, so it is easy to optimize and use.  The code is also easy to refactor, so it is easy to refactor and use.  The code is also easy to reuse, so it can be used in other programs or scripts.  The code is also easy to understand, so it is easy to understand and use.  The code is also easy to learn, so it is easy to learn and use.  The code is also easy to teach, so it is easy to teach and use.  The code is also easy to communicate, so it is easy to communicate and use.  The code is also easy to collaborate, so it is easy to collaborate and use.  The code is also easy to integrate, so it is easy to integrate and use.  The code is also easy to extend, so it is easy to extend and use.  The code is also easy to modify, so it is easy to modify and use.  The code is also easy to optimize, so it is easy to optimize and use.  The code is also easy to refactor, so it is easy to refactor and use.  The code is also easy to reuse, so it can be used in other programs or scripts.  The code is also easy to understand, so it is easy to understand and use.  The code is also easy to learn, so it is easy to learn and use.  The code is also easy to teach, so it is easy to teach and use.  The code is also easy to communicate, so it is easy to communicate and use.  The code is also easy to collaborate, so it is easy to collaborate and use.  The code is also easy to integrate, so it is easy to integrate and use.  The code is also easy to extend, so it is easy to extend and use.  The code is also easy to modify, so it is easy to modify and use.  The code is also easy to optimize, so it is easy to optimize and use.  The code is also easy to refactor, so it is easy to refactor and use.  The code is also easy to reuse, so it can be used in other programs or scripts.  The code is also easy to understand, so it is easy to understand and use.  The code is also easy to learn, so it is easy to learn and use.  The code is also easy to teach, so it is easy to teach and use.  The code is also easy to communicate, so it is easy to communicate and use.  The code is also easy to collaborate, so it is easy to collaborate and use.  The code is also easy to integrate, so it is easy to integrate and use.  The code is also easy to extend, so it is easy to extend and use.  The code is also easy to modify, so it is easy to modify and use.  The code is also easy to optimize, so it is easy to optimize and use.  The code is also easy to refactor, so it is easy to refactor and use.  The code is also easy to reuse, so it can be used in other programs or scripts.  The code is also easy to understand, so it is easy to understand and use.  The code is also easy to learn, so it is easy to learn and use.  The code is also easy to teach, so it is easy to teach and use.  The code is also easy to communicate, so it is easy to communicate and use.  The code is also easy to collaborate, so it is easy to collaborate and use.  The code is also easy to integrate, so it is easy to integrate and use.  The code is also easy to extend, so it is easy to extend and use.  The code is also easy to modify, so it is easy to modify and use.  The code is also easy to optimize, so it is easy to optimize and use.  The code is also easy to refactor, so it is easy to refactor and use.  The code is also easy to reuse, so it can be used in other programs or scripts.  The code is also easy to understand, so it is easy to understand and use.  The code is also easy to learn, so it is easy to learn and use.  The code is also easy to teach, so it is easy to teach and use.  The code is also easy to communicate, so it is easy to communicate and use.  The code is also easy to collaborate, so it is easy to collaborate and use.  The code is also easy to integrate'"
      ]
     },
     "execution_count": 14,
     "metadata": {},
     "output_type": "execute_result"
    }
   ],
   "source": [
    "role_description = roles[\"linguist_music\"]\n",
    "task_description = tasks[\"simple\"]\n",
    "\n",
    "prompt = role_description + task_description\n",
    "\n",
    "temperature = 0.01\n",
    "top_p = 0.1\n",
    "\n",
    "output = llama.prompt(prompt, title_list, temperature=temperature, top_p=top_p)\n",
    "output\n"
   ]
  },
  {
   "cell_type": "markdown",
   "metadata": {},
   "source": [
    "#### Option 2) with jsonformer --> structured but only single json."
   ]
  },
  {
   "cell_type": "code",
   "execution_count": 4,
   "metadata": {},
   "outputs": [],
   "source": [
    "role_description = roles[\"linguist_music\"]\n",
    "task_description = tasks[\"translate_perf\"]\n",
    "json_schema = schemas[\"translate_perf\"]\n",
    "\n",
    "outputs = []\n",
    "for title in title_list: \n",
    "    task_description = f\"You are a given a video title of an online video which refers to a song. It is likely a cover. Parse the contained fields artist (covering and original), title (covering and original) and translate the title into english if its not english, else copy it into the translation. The title is: \"\n",
    "    prompt = role_description + task_description + f\"'{title}'\"\n",
    "    outputs.append(llama.prompt_to_json(prompt, json_schema, 0.1))\n"
   ]
  },
  {
   "cell_type": "code",
   "execution_count": 8,
   "metadata": {},
   "outputs": [
    {
     "data": {
      "text/plain": [
       "Index(['set_id', 'ver_id', 'yt_id', 'split', 'yt_processed', 'title_processed',\n",
       "       'performer_processed'],\n",
       "      dtype='object')"
      ]
     },
     "execution_count": 8,
     "metadata": {},
     "output_type": "execute_result"
    }
   ],
   "source": [
    "import pandas as pd\n",
    "pd.read_parquet(\"../data/shs100k2_processed.parquet\").columns"
   ]
  },
  {
   "cell_type": "markdown",
   "metadata": {},
   "source": [
    "# SHS100K-Test"
   ]
  },
  {
   "cell_type": "markdown",
   "metadata": {},
   "source": [
    "## Zero-Shot"
   ]
  },
  {
   "cell_type": "code",
   "execution_count": 6,
   "metadata": {},
   "outputs": [],
   "source": [
    "import pandas as pd\n",
    "\n",
    "data = pd.read_parquet(\"/data/csi_datasets/shs100k2_yt.parquet\").query(\"split == 'TEST'\")\n",
    "\n"
   ]
  },
  {
   "cell_type": "code",
   "execution_count": 7,
   "metadata": {},
   "outputs": [
    {
     "name": "stderr",
     "output_type": "stream",
     "text": [
      "  0%|          | 5/8811 [00:11<5:48:12,  2.37s/it]\n"
     ]
    },
    {
     "ename": "KeyboardInterrupt",
     "evalue": "",
     "output_type": "error",
     "traceback": [
      "\u001b[0;31m---------------------------------------------------------------------------\u001b[0m",
      "\u001b[0;31mKeyboardInterrupt\u001b[0m                         Traceback (most recent call last)",
      "Cell \u001b[0;32mIn[7], line 25\u001b[0m\n\u001b[1;32m     23\u001b[0m outputs \u001b[38;5;241m=\u001b[39m []\n\u001b[1;32m     24\u001b[0m \u001b[38;5;28;01mfor\u001b[39;00m prompt \u001b[38;5;129;01min\u001b[39;00m tqdm(prompts): \n\u001b[0;32m---> 25\u001b[0m     output \u001b[38;5;241m=\u001b[39m \u001b[43mllama\u001b[49m\u001b[38;5;241;43m.\u001b[39;49m\u001b[43mprompt_to_json\u001b[49m\u001b[43m(\u001b[49m\u001b[43mprompt\u001b[49m\u001b[43m,\u001b[49m\u001b[43m \u001b[49m\u001b[43mjson_schema\u001b[49m\u001b[43m,\u001b[49m\u001b[43m \u001b[49m\u001b[43mtemperature\u001b[49m\u001b[43m)\u001b[49m\n\u001b[1;32m     26\u001b[0m     outputs\u001b[38;5;241m.\u001b[39mappend(output)\n\u001b[1;32m     28\u001b[0m \u001b[38;5;66;03m# write to df\u001b[39;00m\n",
      "File \u001b[0;32m/data/repos/YTUnCoverLLM/src/Wrapper.py:33\u001b[0m, in \u001b[0;36mLlamaWrapper.prompt_to_json\u001b[0;34m(self, prompt, json_schema, temperature)\u001b[0m\n\u001b[1;32m     24\u001b[0m \u001b[38;5;28;01mdef\u001b[39;00m \u001b[38;5;21mprompt_to_json\u001b[39m(\u001b[38;5;28mself\u001b[39m, prompt: \u001b[38;5;28mstr\u001b[39m, json_schema: \u001b[38;5;28mdict\u001b[39m, temperature: \u001b[38;5;28mfloat\u001b[39m) \u001b[38;5;241m-\u001b[39m\u001b[38;5;241m>\u001b[39m \u001b[38;5;28mdict\u001b[39m:\n\u001b[1;32m     25\u001b[0m \u001b[38;5;250m    \u001b[39m\u001b[38;5;124;03m\"\"\"Generate a json given the schema and the prompt.\u001b[39;00m\n\u001b[1;32m     26\u001b[0m \u001b[38;5;124;03m    Args:\u001b[39;00m\n\u001b[1;32m     27\u001b[0m \u001b[38;5;124;03m        prompt (str): The prompt.\u001b[39;00m\n\u001b[0;32m   (...)\u001b[0m\n\u001b[1;32m     31\u001b[0m \u001b[38;5;124;03m        dict: LLM output strucutured as defined in JSON schema.\u001b[39;00m\n\u001b[1;32m     32\u001b[0m \u001b[38;5;124;03m    \"\"\"\u001b[39;00m\n\u001b[0;32m---> 33\u001b[0m     output \u001b[38;5;241m=\u001b[39m \u001b[43mJsonformer\u001b[49m\u001b[43m(\u001b[49m\u001b[38;5;28;43mself\u001b[39;49m\u001b[38;5;241;43m.\u001b[39;49m\u001b[43mmodel\u001b[49m\u001b[43m,\u001b[49m\u001b[43m \u001b[49m\u001b[38;5;28;43mself\u001b[39;49m\u001b[38;5;241;43m.\u001b[39;49m\u001b[43mtokenizer\u001b[49m\u001b[43m,\u001b[49m\u001b[43m \u001b[49m\u001b[43mjson_schema\u001b[49m\u001b[43m,\u001b[49m\u001b[43m \u001b[49m\u001b[43mprompt\u001b[49m\u001b[43m,\u001b[49m\u001b[43m \u001b[49m\u001b[43mtemperature\u001b[49m\u001b[38;5;241;43m=\u001b[39;49m\u001b[43mtemperature\u001b[49m\u001b[43m)\u001b[49m\n\u001b[1;32m     34\u001b[0m     \u001b[38;5;28;01mreturn\u001b[39;00m output()\n",
      "File \u001b[0;32m/data/miniconda3/envs/torch21/lib/python3.11/site-packages/jsonformer/main.py:36\u001b[0m, in \u001b[0;36mJsonformer.__init__\u001b[0;34m(self, model, tokenizer, json_schema, prompt, debug, max_array_length, max_number_tokens, temperature, max_string_token_length)\u001b[0m\n\u001b[1;32m     33\u001b[0m \u001b[38;5;28mself\u001b[39m\u001b[38;5;241m.\u001b[39mjson_schema \u001b[38;5;241m=\u001b[39m json_schema\n\u001b[1;32m     34\u001b[0m \u001b[38;5;28mself\u001b[39m\u001b[38;5;241m.\u001b[39mprompt \u001b[38;5;241m=\u001b[39m prompt\n\u001b[0;32m---> 36\u001b[0m \u001b[38;5;28mself\u001b[39m\u001b[38;5;241m.\u001b[39mnumber_logit_processor \u001b[38;5;241m=\u001b[39m \u001b[43mOutputNumbersTokens\u001b[49m\u001b[43m(\u001b[49m\u001b[38;5;28;43mself\u001b[39;49m\u001b[38;5;241;43m.\u001b[39;49m\u001b[43mtokenizer\u001b[49m\u001b[43m,\u001b[49m\u001b[43m \u001b[49m\u001b[38;5;28;43mself\u001b[39;49m\u001b[38;5;241;43m.\u001b[39;49m\u001b[43mprompt\u001b[49m\u001b[43m)\u001b[49m\n\u001b[1;32m     38\u001b[0m \u001b[38;5;28mself\u001b[39m\u001b[38;5;241m.\u001b[39mgeneration_marker \u001b[38;5;241m=\u001b[39m \u001b[38;5;124m\"\u001b[39m\u001b[38;5;124m|GENERATION|\u001b[39m\u001b[38;5;124m\"\u001b[39m\n\u001b[1;32m     39\u001b[0m \u001b[38;5;28mself\u001b[39m\u001b[38;5;241m.\u001b[39mdebug_on \u001b[38;5;241m=\u001b[39m debug\n",
      "File \u001b[0;32m/data/miniconda3/envs/torch21/lib/python3.11/site-packages/jsonformer/logits_processors.py:72\u001b[0m, in \u001b[0;36mOutputNumbersTokens.__init__\u001b[0;34m(self, tokenizer, prompt)\u001b[0m\n\u001b[1;32m     69\u001b[0m \u001b[38;5;28mself\u001b[39m\u001b[38;5;241m.\u001b[39mallowed_mask \u001b[38;5;241m=\u001b[39m torch\u001b[38;5;241m.\u001b[39mzeros(vocab_size, dtype\u001b[38;5;241m=\u001b[39mtorch\u001b[38;5;241m.\u001b[39mbool)\n\u001b[1;32m     71\u001b[0m \u001b[38;5;28;01mfor\u001b[39;00m _, token_id \u001b[38;5;129;01min\u001b[39;00m tokenizer\u001b[38;5;241m.\u001b[39mget_vocab()\u001b[38;5;241m.\u001b[39mitems():\n\u001b[0;32m---> 72\u001b[0m     token_str \u001b[38;5;241m=\u001b[39m \u001b[43mtokenizer\u001b[49m\u001b[38;5;241;43m.\u001b[39;49m\u001b[43mdecode\u001b[49m\u001b[43m(\u001b[49m\u001b[43mtoken_id\u001b[49m\u001b[43m)\u001b[49m\u001b[38;5;241m.\u001b[39mstrip()\n\u001b[1;32m     74\u001b[0m     \u001b[38;5;28;01mif\u001b[39;00m token_str \u001b[38;5;241m==\u001b[39m \u001b[38;5;124m\"\u001b[39m\u001b[38;5;124m\"\u001b[39m \u001b[38;5;129;01mor\u001b[39;00m (\n\u001b[1;32m     75\u001b[0m         \u001b[38;5;28mall\u001b[39m(c\u001b[38;5;241m.\u001b[39misdigit() \u001b[38;5;129;01mor\u001b[39;00m c \u001b[38;5;241m==\u001b[39m \u001b[38;5;124m\"\u001b[39m\u001b[38;5;124m.\u001b[39m\u001b[38;5;124m\"\u001b[39m \u001b[38;5;28;01mfor\u001b[39;00m c \u001b[38;5;129;01min\u001b[39;00m token_str)\n\u001b[1;32m     76\u001b[0m         \u001b[38;5;129;01mand\u001b[39;00m token_str\u001b[38;5;241m.\u001b[39mcount(\u001b[38;5;124m\"\u001b[39m\u001b[38;5;124m.\u001b[39m\u001b[38;5;124m\"\u001b[39m) \u001b[38;5;241m<\u001b[39m\u001b[38;5;241m=\u001b[39m \u001b[38;5;241m1\u001b[39m\n\u001b[1;32m     77\u001b[0m     ):\n\u001b[1;32m     78\u001b[0m         \u001b[38;5;28mself\u001b[39m\u001b[38;5;241m.\u001b[39mallowed_mask[token_id] \u001b[38;5;241m=\u001b[39m \u001b[38;5;28;01mTrue\u001b[39;00m\n",
      "File \u001b[0;32m/data/miniconda3/envs/torch21/lib/python3.11/site-packages/transformers/tokenization_utils_base.py:3750\u001b[0m, in \u001b[0;36mPreTrainedTokenizerBase.decode\u001b[0;34m(self, token_ids, skip_special_tokens, clean_up_tokenization_spaces, **kwargs)\u001b[0m\n\u001b[1;32m   3747\u001b[0m \u001b[38;5;66;03m# Convert inputs to python lists\u001b[39;00m\n\u001b[1;32m   3748\u001b[0m token_ids \u001b[38;5;241m=\u001b[39m to_py_obj(token_ids)\n\u001b[0;32m-> 3750\u001b[0m \u001b[38;5;28;01mreturn\u001b[39;00m \u001b[38;5;28;43mself\u001b[39;49m\u001b[38;5;241;43m.\u001b[39;49m\u001b[43m_decode\u001b[49m\u001b[43m(\u001b[49m\n\u001b[1;32m   3751\u001b[0m \u001b[43m    \u001b[49m\u001b[43mtoken_ids\u001b[49m\u001b[38;5;241;43m=\u001b[39;49m\u001b[43mtoken_ids\u001b[49m\u001b[43m,\u001b[49m\n\u001b[1;32m   3752\u001b[0m \u001b[43m    \u001b[49m\u001b[43mskip_special_tokens\u001b[49m\u001b[38;5;241;43m=\u001b[39;49m\u001b[43mskip_special_tokens\u001b[49m\u001b[43m,\u001b[49m\n\u001b[1;32m   3753\u001b[0m \u001b[43m    \u001b[49m\u001b[43mclean_up_tokenization_spaces\u001b[49m\u001b[38;5;241;43m=\u001b[39;49m\u001b[43mclean_up_tokenization_spaces\u001b[49m\u001b[43m,\u001b[49m\n\u001b[1;32m   3754\u001b[0m \u001b[43m    \u001b[49m\u001b[38;5;241;43m*\u001b[39;49m\u001b[38;5;241;43m*\u001b[39;49m\u001b[43mkwargs\u001b[49m\u001b[43m,\u001b[49m\n\u001b[1;32m   3755\u001b[0m \u001b[43m\u001b[49m\u001b[43m)\u001b[49m\n",
      "File \u001b[0;32m/data/miniconda3/envs/torch21/lib/python3.11/site-packages/transformers/tokenization_utils_fast.py:633\u001b[0m, in \u001b[0;36mPreTrainedTokenizerFast._decode\u001b[0;34m(self, token_ids, skip_special_tokens, clean_up_tokenization_spaces, **kwargs)\u001b[0m\n\u001b[1;32m    627\u001b[0m clean_up_tokenization_spaces \u001b[38;5;241m=\u001b[39m (\n\u001b[1;32m    628\u001b[0m     clean_up_tokenization_spaces\n\u001b[1;32m    629\u001b[0m     \u001b[38;5;28;01mif\u001b[39;00m clean_up_tokenization_spaces \u001b[38;5;129;01mis\u001b[39;00m \u001b[38;5;129;01mnot\u001b[39;00m \u001b[38;5;28;01mNone\u001b[39;00m\n\u001b[1;32m    630\u001b[0m     \u001b[38;5;28;01melse\u001b[39;00m \u001b[38;5;28mself\u001b[39m\u001b[38;5;241m.\u001b[39mclean_up_tokenization_spaces\n\u001b[1;32m    631\u001b[0m )\n\u001b[1;32m    632\u001b[0m \u001b[38;5;28;01mif\u001b[39;00m clean_up_tokenization_spaces:\n\u001b[0;32m--> 633\u001b[0m     clean_text \u001b[38;5;241m=\u001b[39m \u001b[38;5;28;43mself\u001b[39;49m\u001b[38;5;241;43m.\u001b[39;49m\u001b[43mclean_up_tokenization\u001b[49m\u001b[43m(\u001b[49m\u001b[43mtext\u001b[49m\u001b[43m)\u001b[49m\n\u001b[1;32m    634\u001b[0m     \u001b[38;5;28;01mreturn\u001b[39;00m clean_text\n\u001b[1;32m    635\u001b[0m \u001b[38;5;28;01melse\u001b[39;00m:\n",
      "File \u001b[0;32m/data/miniconda3/envs/torch21/lib/python3.11/site-packages/transformers/tokenization_utils_base.py:3797\u001b[0m, in \u001b[0;36mPreTrainedTokenizerBase.clean_up_tokenization\u001b[0;34m(out_string)\u001b[0m\n\u001b[1;32m   3793\u001b[0m     special_tokens_mask \u001b[38;5;241m=\u001b[39m [\u001b[38;5;241m1\u001b[39m \u001b[38;5;28;01mif\u001b[39;00m token \u001b[38;5;129;01min\u001b[39;00m all_special_ids \u001b[38;5;28;01melse\u001b[39;00m \u001b[38;5;241m0\u001b[39m \u001b[38;5;28;01mfor\u001b[39;00m token \u001b[38;5;129;01min\u001b[39;00m token_ids_0]\n\u001b[1;32m   3795\u001b[0m     \u001b[38;5;28;01mreturn\u001b[39;00m special_tokens_mask\n\u001b[0;32m-> 3797\u001b[0m \u001b[38;5;129m@staticmethod\u001b[39m\n\u001b[1;32m   3798\u001b[0m \u001b[38;5;28;01mdef\u001b[39;00m \u001b[38;5;21mclean_up_tokenization\u001b[39m(out_string: \u001b[38;5;28mstr\u001b[39m) \u001b[38;5;241m-\u001b[39m\u001b[38;5;241m>\u001b[39m \u001b[38;5;28mstr\u001b[39m:\n\u001b[1;32m   3799\u001b[0m \u001b[38;5;250m    \u001b[39m\u001b[38;5;124;03m\"\"\"\u001b[39;00m\n\u001b[1;32m   3800\u001b[0m \u001b[38;5;124;03m    Clean up a list of simple English tokenization artifacts like spaces before punctuations and abbreviated forms.\u001b[39;00m\n\u001b[1;32m   3801\u001b[0m \n\u001b[0;32m   (...)\u001b[0m\n\u001b[1;32m   3806\u001b[0m \u001b[38;5;124;03m        `str`: The cleaned-up string.\u001b[39;00m\n\u001b[1;32m   3807\u001b[0m \u001b[38;5;124;03m    \"\"\"\u001b[39;00m\n\u001b[1;32m   3808\u001b[0m     out_string \u001b[38;5;241m=\u001b[39m (\n\u001b[1;32m   3809\u001b[0m         out_string\u001b[38;5;241m.\u001b[39mreplace(\u001b[38;5;124m\"\u001b[39m\u001b[38;5;124m .\u001b[39m\u001b[38;5;124m\"\u001b[39m, \u001b[38;5;124m\"\u001b[39m\u001b[38;5;124m.\u001b[39m\u001b[38;5;124m\"\u001b[39m)\n\u001b[1;32m   3810\u001b[0m         \u001b[38;5;241m.\u001b[39mreplace(\u001b[38;5;124m\"\u001b[39m\u001b[38;5;124m ?\u001b[39m\u001b[38;5;124m\"\u001b[39m, \u001b[38;5;124m\"\u001b[39m\u001b[38;5;124m?\u001b[39m\u001b[38;5;124m\"\u001b[39m)\n\u001b[0;32m   (...)\u001b[0m\n\u001b[1;32m   3818\u001b[0m         \u001b[38;5;241m.\u001b[39mreplace(\u001b[38;5;124m\"\u001b[39m\u001b[38;5;124m \u001b[39m\u001b[38;5;124m'\u001b[39m\u001b[38;5;124mre\u001b[39m\u001b[38;5;124m\"\u001b[39m, \u001b[38;5;124m\"\u001b[39m\u001b[38;5;124m'\u001b[39m\u001b[38;5;124mre\u001b[39m\u001b[38;5;124m\"\u001b[39m)\n\u001b[1;32m   3819\u001b[0m     )\n",
      "\u001b[0;31mKeyboardInterrupt\u001b[0m: "
     ]
    }
   ],
   "source": [
    "from tqdm import tqdm\n",
    "\n",
    "json_schema = {\n",
    "    \"type\": \"object\",\n",
    "    \"properties\": {\n",
    "        \"artist_performing\": {\"type\": \"string\"},\n",
    "        \"artist_original\": {\"type\": \"string\"},\n",
    "        \"title_original\": {\"type\": \"string\"},\n",
    "        \"title_performing\": {\"type\": \"string\"},\n",
    "        \"title_english\": {\"type\": \"string\"},\n",
    "        }\n",
    "    }\n",
    "\n",
    "# construct prompts\n",
    "role_description = \"You are a linguistic and music expert.\"\n",
    "task_description = f\"You are a given a video title of an online video which refers to a song. It is likely a cover. Parse the contained fields artist (covering and original), title (covering and original) and translate the title into english if its not english, else copy it into the translation. The title is: \"\n",
    "prompts = [role_description + task_description + f\"'{title}'\" for title in data.video_title]\n",
    "\n",
    "# why can't I set to 0?\n",
    "temperature = 0.0001\n",
    "\n",
    "# inference with Llama\n",
    "outputs = []\n",
    "for prompt in tqdm(prompts): \n",
    "    output = llama.prompt_to_json(prompt, json_schema, temperature)\n",
    "    outputs.append(output)\n",
    "\n",
    "# write to df\n",
    "data_parsed = pd.DataFrame(outputs)\n",
    "for col in data_parsed.columns:\n",
    "    data[col] = data_parsed[col].values\n"
   ]
  },
  {
   "cell_type": "code",
   "execution_count": null,
   "metadata": {},
   "outputs": [],
   "source": [
    "accuracy_title_perf = sum((data.title.str.lower() == data.title_performing.str.lower())) / len(data)\n",
    "accuracy_title_orig = sum((data.title.str.lower() == data.title_original.str.lower())) / len(data)\n",
    "accuracy_artist_perf = sum((data.performer.str.lower() == data.artist_performing.str.lower())) / len(data)\n",
    "accuracy_artist_orig = sum((data.performer.str.lower() == data.artist_original.str.lower())) / len(data)\n",
    "\n",
    "print(accuracy_title_perf)\n",
    "print(accuracy_title_orig)\n",
    "print(accuracy_artist_perf)\n",
    "print(accuracy_artist_orig)\n"
   ]
  },
  {
   "cell_type": "code",
   "execution_count": null,
   "metadata": {},
   "outputs": [],
   "source": [
    "title_perf_extracted = data.apply(lambda x: x.title_performing in x.video_title, axis=1).sum() / len(data)\n",
    "title_orig_extracted = data.apply(lambda x: x.title_original in x.video_title, axis=1).sum() / len(data)\n",
    "artist_perf_extracted = data.apply(lambda x: x.artist_performing in x.video_title, axis=1).sum() / len(data)\n",
    "artist_orig_extracted = data.apply(lambda x: x.artist_original in x.video_title, axis=1).sum() / len(data)\n",
    "\n",
    "print(title_perf_extracted)\n",
    "print(title_orig_extracted)\n",
    "print(artist_perf_extracted)\n",
    "print(artist_orig_extracted)\n"
   ]
  },
  {
   "cell_type": "markdown",
   "metadata": {},
   "source": [
    "## Few-Shot"
   ]
  },
  {
   "cell_type": "code",
   "execution_count": null,
   "metadata": {},
   "outputs": [],
   "source": [
    "task_description = \"\"\"\n",
    "You are a given a video title of a YouTube video which contains a musical performance. \n",
    "Parse the song title, the name of the performing artist in the video and the song title into the \n",
    "respective fields.\n",
    "If the song title is not english, also fill the field title_english with the english translation of the \n",
    "title you find. Here are some examples: \"\n",
    "\"\"\"\n",
    "\n",
    "examples = \"\"\"\n",
    "Example 1 video title: 'Dream Theater Metropolis Pt. 1 (Live At Luna Park DVD)'; Output attributes: artist_performing: Dream Theater, artist_original: Dream Theater, \n",
    "title_performing: Metropolis Pt. 1, title_original: Metropolis Pt. 1\n",
    "Example 2 video title: '(Måneskin) Beggin' - Fingerstyle Guitar Cover | Josephine Alexandra'; Output attributes: artist_performing: Josephine Alexandra, artist_original: Måneskin, \n",
    "title_performing: Beggin' - Fingerstyle Guitar Cover, title_original: Beggin'\n",
    "Example 3 video title: 'Owane - Rock Is Too Heavy'; Output attributes: artist_performing: Owane, artist_original: Owane, \n",
    "title_performing: Rock Is Too Heavy, title_original: Rock Is Too Heavy\n",
    "Example 4 video title: 'Jungle - Tash Sultana - Tutorial - Guitar Loop Cover - Tabs Available'; Output attributes: artist_performing: null, artist_original: Tash Sultana, \n",
    "title_performing: Jungle, title_original: Jungle\n",
    "Example 5 video title: 'How to Play Beat It Solo - Eddie Van Halen Michael Jackson'; Output attributes: artist_performing: null, artist_original: Micheal Jackson and Eddie Van Halen, \n",
    "title_performing: Beat It Solo, title_original: Beat It\n",
    "\n",
    "Input: \n",
    "\"\"\"\n",
    "\n",
    "json_schema = {\n",
    "    \"type\": \"object\",\n",
    "    \"properties\": {\n",
    "        \"artist_performing\": {\"type\": \"string\"},\n",
    "        \"artist_original\": {\"type\": \"string\"},\n",
    "        \"title_original\": {\"type\": \"string\"},\n",
    "        \"title_performing\": {\"type\": \"string\"},\n",
    "        \"title_english\": {\"type\": \"string\"},\n",
    "        }\n",
    "    }\n",
    "\n",
    "\n",
    "outputs = []\n",
    "\n",
    "# few shot inference with Llama\n",
    "for video_title in tqdm(data.video_title): \n",
    "    prompt = role_description + task_description + examples + video_title\n",
    "    output = llama.prompt_to_json(prompt, json_schema, temperature)\n",
    "    outputs.append(output)\n",
    "\n",
    "# write to df\n",
    "data_parsed = pd.DataFrame(outputs)\n",
    "for col in data_parsed.columns:\n",
    "    data[col] = data_parsed[col].values\n",
    "\n"
   ]
  },
  {
   "cell_type": "code",
   "execution_count": null,
   "metadata": {},
   "outputs": [],
   "source": [
    "accuracy_title_perf = sum((data.title.str.lower() == data.title_performing.str.lower())) / len(data)\n",
    "accuracy_title_orig = sum((data.title.str.lower() == data.title_original.str.lower())) / len(data)\n",
    "accuracy_artist_perf = sum((data.performer.str.lower() == data.artist_performing.str.lower())) / len(data)\n",
    "accuracy_artist_orig = sum((data.performer.str.lower() == data.artist_original.str.lower())) / len(data)\n",
    "\n",
    "print(accuracy_title_perf)\n",
    "print(accuracy_title_orig)\n",
    "print(accuracy_artist_perf)\n",
    "print(accuracy_artist_orig)\n"
   ]
  },
  {
   "cell_type": "code",
   "execution_count": null,
   "metadata": {},
   "outputs": [],
   "source": [
    "title_perf_extracted = data.apply(lambda x: x.title_performing in x.video_title, axis=1).sum() / len(data)\n",
    "title_orig_extracted = data.apply(lambda x: x.title_original in x.video_title, axis=1).sum() / len(data)\n",
    "artist_perf_extracted = data.apply(lambda x: x.artist_performing in x.video_title, axis=1).sum() / len(data)\n",
    "artist_orig_extracted = data.apply(lambda x: x.artist_original in x.video_title, axis=1).sum() / len(data)\n",
    "\n",
    "print(title_perf_extracted)\n",
    "print(title_orig_extracted)\n",
    "print(artist_perf_extracted)\n",
    "print(artist_orig_extracted)\n"
   ]
  },
  {
   "cell_type": "code",
   "execution_count": null,
   "metadata": {},
   "outputs": [],
   "source": [
    "data[data.performer != data.artist_performing][[\"video_title\", \"performer\", \"artist_performing\"]]\n",
    "\n"
   ]
  },
  {
   "cell_type": "code",
   "execution_count": null,
   "metadata": {},
   "outputs": [],
   "source": [
    "from rapidfuzz import fuzz\n",
    "\n",
    "title_perf_ratios = data.apply(lambda x: fuzz.token_ratio(x.title_performing, x.video_title) / 100, axis=1)\n",
    "title_orig_ratios = data.apply(lambda x: fuzz.token_ratio(x.title_original, x.video_title) / 100, axis=1)\n",
    "artist_perf_ratios = data.apply(lambda x: fuzz.token_ratio(x.artist_performing, x.video_title)/ 100,  axis=1)\n",
    "artist_orig_ratios = data.apply(lambda x: fuzz.token_ratio(x.artist_original, x.video_title) / 100, axis=1)\n"
   ]
  },
  {
   "cell_type": "code",
   "execution_count": null,
   "metadata": {},
   "outputs": [],
   "source": [
    "title_perf_ratios.describe()\n"
   ]
  },
  {
   "cell_type": "code",
   "execution_count": null,
   "metadata": {},
   "outputs": [],
   "source": [
    "title_orig_ratios.describe()\n"
   ]
  },
  {
   "cell_type": "code",
   "execution_count": null,
   "metadata": {},
   "outputs": [],
   "source": [
    "artist_perf_ratios.describe()\n"
   ]
  },
  {
   "cell_type": "code",
   "execution_count": null,
   "metadata": {},
   "outputs": [],
   "source": [
    "artist_orig_ratios.describe()\n",
    "\n"
   ]
  }
 ],
 "metadata": {
  "kernelspec": {
   "display_name": "torch21",
   "language": "python",
   "name": "python3"
  },
  "language_info": {
   "codemirror_mode": {
    "name": "ipython",
    "version": 3
   },
   "file_extension": ".py",
   "mimetype": "text/x-python",
   "name": "python",
   "nbconvert_exporter": "python",
   "pygments_lexer": "ipython3",
   "version": "3.11.5"
  }
 },
 "nbformat": 4,
 "nbformat_minor": 2
}
