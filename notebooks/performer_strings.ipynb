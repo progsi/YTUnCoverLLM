{
 "cells": [
  {
   "cell_type": "code",
   "execution_count": 1,
   "metadata": {},
   "outputs": [],
   "source": [
    "import pandas as pd\n",
    "import numpy as np\n",
    "\n",
    "input_path = \"../data/raw/datacos_yt.parquet\"\n",
    "\n",
    "data = pd.read_parquet(input_path)\n"
   ]
  },
  {
   "cell_type": "markdown",
   "metadata": {},
   "source": [
    "# Split Artists\n",
    "### Featuring\n",
    "Relatively easy, we remove punctuation after the abbreviation and simply match:\n",
    "- feat\n",
    "- ft\n",
    "- featuring\n"
   ]
  },
  {
   "cell_type": "code",
   "execution_count": 26,
   "metadata": {},
   "outputs": [],
   "source": [
    "PERFORMER_COL = \"performer_perf\"\n",
    "FEATURING_TOKEN = \"featuring\"\n",
    "\n",
    "# lowercase\n",
    "performers = data[PERFORMER_COL].str.lower()\n",
    "# normalize punctiation\n",
    "performers = performers.str.replace(\" feat. \", \" feat \").str.replace(\" ft. \", \" ft \")\n",
    "# normalize featuring abbrv.\n",
    "performers = performers.str.replace(\" feat \", f\" {FEATURING_TOKEN} \").str.replace(\" ft \", f\" {FEATURING_TOKEN} \")\n"
   ]
  },
  {
   "cell_type": "markdown",
   "metadata": {},
   "source": [
    "### And, &\n",
    "This is more difficult since the \"and\" or \"&\" can also be part of the artist name.\n",
    "For instance, \"Jim & Jesse\" and \"Claes Janson & Internationalorkestern\" are one artist. Still, we separate those.\n",
    "\"And\" variations:\n",
    "- &\n",
    "- and\n",
    "- y (Spanish) --> only 5 rows, all spanish\n",
    "- e (Portuguese & Italian) --> only 15 rows\n",
    "- und (German) --> only 3 rows, all German\n",
    "- et (French) --> 28 rows, all Frenach\n",
    "- ,\n"
   ]
  },
  {
   "cell_type": "code",
   "execution_count": 27,
   "metadata": {},
   "outputs": [],
   "source": [
    "AND_VARIATIONS_LONG = [\n",
    "    # and + genetive\n",
    "    \"and his\", \"and her\", \"y su\", \"e la sua\", \n",
    "    \"e la seu\", \"e seu\", \"e sua\", \"und sein\", \"und ihr\", \n",
    "    \"und seine\", \"und ihre\", \"et le\", \"et son\", \"et ses\", \n",
    "    \"et les\", \n",
    "    # with...\n",
    "    \"with her\", \"with his\", \"with the\", \n",
    "    \"mit ihrem\", \"mit ihren\", \"mit seinem\", \"mit seinen\",\n",
    "    \"com o seu\", \"com o\"]\n",
    "\n",
    "AND_VARIATIONS_SHORT = [\"&\", \"and\", \"y\", \"e\", \"et\", \"und\", \",\", \"-\", \"con\", \"avec\", \"mit\", \"com\"]\n",
    "\n",
    "performers = performers.str.replace(\", \", \" , \")\n",
    "\n",
    "# replace long variations\n",
    "for and_var in AND_VARIATIONS_LONG:\n",
    "    performers = performers.str.replace(f\" {and_var} \", f\" {FEATURING_TOKEN} \")\n",
    "\n",
    "# replace short variations\n",
    "for and_var in AND_VARIATIONS_SHORT:\n",
    "    performers = performers.str.replace(f\" {and_var} \", f\" {FEATURING_TOKEN} \")\n"
   ]
  },
  {
   "cell_type": "markdown",
   "metadata": {},
   "source": [
    "# Split and analyze"
   ]
  },
  {
   "cell_type": "code",
   "execution_count": 28,
   "metadata": {},
   "outputs": [
    {
     "name": "stdout",
     "output_type": "stream",
     "text": [
      "Median performers per song 1.0\n"
     ]
    },
    {
     "data": {
      "text/plain": [
       "count    13668.000000\n",
       "mean         1.259511\n",
       "std          0.521613\n",
       "min          1.000000\n",
       "25%          1.000000\n",
       "50%          1.000000\n",
       "75%          1.000000\n",
       "max          9.000000\n",
       "Name: performer_perf, dtype: float64"
      ]
     },
     "execution_count": 28,
     "metadata": {},
     "output_type": "execute_result"
    }
   ],
   "source": [
    "performers_split = performers.apply(lambda x: [t.strip() for t in x.split(\"featuring\")])\n",
    "num_performers = performers_split.apply(len)\n",
    "\n",
    "print(f\"Median performers per song {num_performers.median()}\")\n",
    "num_performers.describe()\n"
   ]
  },
  {
   "cell_type": "code",
   "execution_count": 29,
   "metadata": {},
   "outputs": [
    {
     "data": {
      "image/png": "[encoded data removed]",
      "text/plain": [
       "<Figure size 640x480 with 1 Axes>"
      ]
     },
     "metadata": {},
     "output_type": "display_data"
    }
   ],
   "source": [
    "import matplotlib.pyplot as plt\n",
    "import seaborn as sns\n",
    "\n",
    "sns.histplot(num_performers)\n",
    "plt.xlabel(\"Performers per song\")\n",
    "plt.xscale(\"log\")\n",
    "plt.show()\n"
   ]
  }
 ],
 "metadata": {
  "kernelspec": {
   "display_name": "torch21",
   "language": "python",
   "name": "python3"
  },
  "language_info": {
   "codemirror_mode": {
    "name": "ipython",
    "version": 3
   },
   "file_extension": ".py",
   "mimetype": "text/x-python",
   "name": "python",
   "nbconvert_exporter": "python",
   "pygments_lexer": "ipython3",
   "version": "3.11.5"
  }
 },
 "nbformat": 4,
 "nbformat_minor": 2
}
