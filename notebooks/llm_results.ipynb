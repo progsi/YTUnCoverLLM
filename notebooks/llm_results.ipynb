{
 "cells": [
  {
   "cell_type": "markdown",
   "metadata": {},
   "source": [
    "# LLM Results"
   ]
  },
  {
   "cell_type": "code",
   "execution_count": 1,
   "metadata": {},
   "outputs": [],
   "source": [
    "import sys\n",
    "sys.path.append(\"..\")\n",
    "from src.Eval import compute_results_jsonl, compute_results_txt\n"
   ]
  },
  {
   "cell_type": "markdown",
   "metadata": {},
   "source": [
    "# LLama-3 0 Shot"
   ]
  },
  {
   "cell_type": "code",
   "execution_count": 51,
   "metadata": {},
   "outputs": [
    {
     "name": "stderr",
     "output_type": "stream",
     "text": [
      "100%|██████████| 8084/8084 [00:20<00:00, 393.70it/s]\n",
      "2024-06-19 07:42:46 root INFO: Imported 8064 predictions for 8064 true examples\n"
     ]
    },
    {
     "name": "stdout",
     "output_type": "stream",
     "text": [
      "INFO: 20 non matching IOB taglists.\n",
      "\n",
      " Overall\n",
      "schema      precision    recall        f1    correct    incorrect    partial    missed    spurious    possible    actual\n",
      "--------  -----------  --------  --------  ---------  -----------  ---------  --------  ----------  ----------  --------\n",
      "strict       0.70554   0.741412  0.723031      25446         1493          0      7382        9127       34321     36066\n",
      "ent_type     0.742666  0.780426  0.761078      26785          154          0      7382        9127       34321     36066\n",
      "exact        0.70981   0.745899  0.727407      25600         1339          0      7382        9127       34321     36066\n",
      "\n",
      " Artist\n",
      "schema      precision    recall        f1    correct    incorrect    partial    missed    spurious    possible    actual\n",
      "--------  -----------  --------  --------  ---------  -----------  ---------  --------  ----------  ----------  --------\n",
      "strict       0.580979  0.673915  0.624006      12706          738          0      5410        8426       18854     21870\n",
      "ent_type     0.612574  0.710565  0.657941      13397           47          0      5410        8426       18854     21870\n",
      "exact        0.583128  0.676408  0.626314      12753          691          0      5410        8426       18854     21870\n",
      "\n",
      " WoA\n",
      "schema      precision    recall        f1    correct    incorrect    partial    missed    spurious    possible    actual\n",
      "--------  -----------  --------  --------  ---------  -----------  ---------  --------  ----------  ----------  --------\n",
      "strict       0.897436  0.823689  0.858983      12740          755          0      1972         701       15467     14196\n",
      "ent_type     0.943083  0.865585  0.902673      13388          107          0      1972         701       15467     14196\n",
      "exact        0.904973  0.830607  0.866197      12847          648          0      1972         701       15467     14196\n"
     ]
    }
   ],
   "source": [
    "compute_results_jsonl(\"../data/dataset/shs100k2/complete/test.bio\", \"../output/llama3_simple_0shot.jsonl\")"
   ]
  },
  {
   "cell_type": "markdown",
   "metadata": {},
   "source": [
    "# LLama-3 4Shot"
   ]
  },
  {
   "cell_type": "code",
   "execution_count": 4,
   "metadata": {},
   "outputs": [
    {
     "name": "stderr",
     "output_type": "stream",
     "text": [
      "100%|██████████| 8084/8084 [00:21<00:00, 383.81it/s]\n",
      "2024-06-19 08:07:41 root INFO: Imported 8064 predictions for 8064 true examples\n"
     ]
    },
    {
     "name": "stdout",
     "output_type": "stream",
     "text": [
      "INFO: 20 non matching IOB taglists.\n",
      "\n",
      " Overall\n",
      "schema      precision    recall        f1    correct    incorrect    partial    missed    spurious    possible    actual\n",
      "--------  -----------  --------  --------  ---------  -----------  ---------  --------  ----------  ----------  --------\n",
      "strict       0.712863  0.763439  0.737285      26202         1621          0      6498        8933       34321     36756\n",
      "ent_type     0.750463  0.803706  0.776172      27584          239          0      6498        8933       34321     36756\n",
      "exact        0.719366  0.770403  0.74401       26441         1382          0      6498        8933       34321     36756\n",
      "\n",
      " Artist\n",
      "schema      precision    recall        f1    correct    incorrect    partial    missed    spurious    possible    actual\n",
      "--------  -----------  --------  --------  ---------  -----------  ---------  --------  ----------  ----------  --------\n",
      "strict       0.58768   0.696775  0.637595      13137          837          0      4880        8380       18854     22354\n",
      "ent_type     0.621634  0.737032  0.674432      13896           78          0      4880        8380       18854     22354\n",
      "exact        0.591169  0.700912  0.64138       13215          759          0      4880        8380       18854     22354\n",
      "\n",
      " WoA\n",
      "schema      precision    recall        f1    correct    incorrect    partial    missed    spurious    possible    actual\n",
      "--------  -----------  --------  --------  ---------  -----------  ---------  --------  ----------  ----------  --------\n",
      "strict       0.907166  0.844702  0.87482       13065          784          0      1618         553       15467     14402\n",
      "ent_type     0.950424  0.884981  0.916536      13688          161          0      1618         553       15467     14402\n",
      "exact        0.918345  0.855111  0.8856        13226          623          0      1618         553       15467     14402\n"
     ]
    }
   ],
   "source": [
    "compute_results_jsonl(\"../data/dataset/shs100k2/complete/test.bio\", \"../output/llama3_simple_4shot.jsonl\")"
   ]
  },
  {
   "cell_type": "markdown",
   "metadata": {},
   "source": [
    "# RoBERTa Baseline"
   ]
  },
  {
   "cell_type": "code",
   "execution_count": 3,
   "metadata": {},
   "outputs": [
    {
     "name": "stderr",
     "output_type": "stream",
     "text": [
      "2024-06-19 08:05:25 root INFO: Imported 7725 predictions for 7725 true examples\n"
     ]
    },
    {
     "name": "stdout",
     "output_type": "stream",
     "text": [
      "INFO: 359 non matching IOB taglists.\n",
      "\n",
      " Overall\n",
      "schema      precision    recall        f1    correct    incorrect    partial    missed    spurious    possible    actual\n",
      "--------  -----------  --------  --------  ---------  -----------  ---------  --------  ----------  ----------  --------\n",
      "strict       0.897494  0.915266  0.906293      27501          993          0      1553        2148       30047     30642\n",
      "ent_type     0.924254  0.942557  0.933316      28321          173          0      1553        2148       30047     30642\n",
      "exact        0.903139  0.921024  0.911994      27674          820          0      1553        2148       30047     30642\n",
      "\n",
      " Artist\n",
      "schema      precision    recall        f1    correct    incorrect    partial    missed    spurious    possible    actual\n",
      "--------  -----------  --------  --------  ---------  -----------  ---------  --------  ----------  ----------  --------\n",
      "strict       0.890492  0.915682  0.902912      15117          392          0      1000        1467       16509     16976\n",
      "ent_type     0.908695  0.934399  0.921368      15426           83          0      1000        1467       16509     16976\n",
      "exact        0.895382  0.92071   0.907869      15200          309          0      1000        1467       16509     16976\n",
      "\n",
      " WoA\n",
      "schema      precision    recall        f1    correct    incorrect    partial    missed    spurious    possible    actual\n",
      "--------  -----------  --------  --------  ---------  -----------  ---------  --------  ----------  ----------  --------\n",
      "strict       0.906191  0.914758  0.910454      12384          601          0       553         681       13538     13666\n",
      "ent_type     0.943583  0.952504  0.948022      12895           90          0       553         681       13538     13666\n",
      "exact        0.912776  0.921406  0.917071      12474          511          0       553         681       13538     13666\n"
     ]
    }
   ],
   "source": [
    "compute_results_txt(\"../data/dataset/shs100k2/complete/test.bio\", \"../baseline/music-ner-eacl2023/output/shs100k2/complete/roberta-large/predictions.txt\")"
   ]
  }
 ],
 "metadata": {
  "kernelspec": {
   "display_name": "torch21",
   "language": "python",
   "name": "python3"
  },
  "language_info": {
   "codemirror_mode": {
    "name": "ipython",
    "version": 3
   },
   "file_extension": ".py",
   "mimetype": "text/x-python",
   "name": "python",
   "nbconvert_exporter": "python",
   "pygments_lexer": "ipython3",
   "version": "3.11.5"
  }
 },
 "nbformat": 4,
 "nbformat_minor": 2
}
