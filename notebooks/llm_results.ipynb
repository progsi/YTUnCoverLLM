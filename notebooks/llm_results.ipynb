{
 "cells": [
  {
   "cell_type": "markdown",
   "metadata": {},
   "source": [
    "# LLM Results"
   ]
  },
  {
   "cell_type": "code",
   "execution_count": 2,
   "metadata": {},
   "outputs": [],
   "source": [
    "import sys\n",
    "sys.path.append(\"..\")\n",
    "from src.Eval import compute_results_jsonl, compute_results_txt, eval_llm\n"
   ]
  },
  {
   "cell_type": "markdown",
   "metadata": {},
   "source": [
    "# GPT-3.5-Turbo"
   ]
  },
  {
   "cell_type": "code",
   "execution_count": 4,
   "metadata": {},
   "outputs": [
    {
     "name": "stderr",
     "output_type": "stream",
     "text": [
      "2024-07-05 12:54:13 root INFO: Imported 600 predictions for 600 true examples\n"
     ]
    },
    {
     "name": "stdout",
     "output_type": "stream",
     "text": [
      "\n",
      " Overall\n",
      "schema      precision    recall        f1    correct    incorrect    partial    missed    spurious    possible    actual\n",
      "--------  -----------  --------  --------  ---------  -----------  ---------  --------  ----------  ----------  --------\n",
      "strict       0.331395  0.675889  0.444733        342           48          0       116         642         506      1032\n",
      "ent_type     0.367248  0.749012  0.492848        379           11          0       116         642         506      1032\n",
      "exact        0.342054  0.697628  0.459038        353           37          0       116         642         506      1032\n",
      "\n",
      " Artist\n",
      "schema      precision    recall        f1    correct    incorrect    partial    missed    spurious    possible    actual\n",
      "--------  -----------  --------  --------  ---------  -----------  ---------  --------  ----------  ----------  --------\n",
      "strict       0.645963  0.729825  0.685338        208           13          0        64         101         285       322\n",
      "ent_type     0.670807  0.757895  0.711697        216            5          0        64         101         285       322\n",
      "exact        0.661491  0.747368  0.701812        213            8          0        64         101         285       322\n",
      "\n",
      " WoA\n",
      "schema      precision    recall        f1    correct    incorrect    partial    missed    spurious    possible    actual\n",
      "--------  -----------  --------  --------  ---------  -----------  ---------  --------  ----------  ----------  --------\n",
      "strict       0.188732  0.606335  0.287863        134           35          0        52         541         221       710\n",
      "ent_type     0.229577  0.737557  0.350161        163            6          0        52         541         221       710\n",
      "exact        0.197183  0.633484  0.300752        140           29          0        52         541         221       710\n"
     ]
    }
   ],
   "source": [
    "eval_llm(\"/data/repos/YTUnCoverLLM/output/gpt-3.5-turbo-0125/dataset2.jsonl\")\n"
   ]
  },
  {
   "cell_type": "code",
   "execution_count": 3,
   "metadata": {},
   "outputs": [
    {
     "name": "stderr",
     "output_type": "stream",
     "text": [
      "2024-07-05 12:53:49 root INFO: Imported 600 predictions for 600 true examples\n"
     ]
    },
    {
     "name": "stdout",
     "output_type": "stream",
     "text": [
      "\n",
      " Overall\n",
      "schema      precision    recall        f1    correct    incorrect    partial    missed    spurious    possible    actual\n",
      "--------  -----------  --------  --------  ---------  -----------  ---------  --------  ----------  ----------  --------\n",
      "strict       0.3524    0.681818  0.464646        345           54          0       107         580         506       979\n",
      "ent_type     0.399387  0.772727  0.526599        391            8          0       107         580         506       979\n",
      "exact        0.360572  0.697628  0.475421        353           46          0       107         580         506       979\n",
      "\n",
      " Artist\n",
      "schema      precision    recall        f1    correct    incorrect    partial    missed    spurious    possible    actual\n",
      "--------  -----------  --------  --------  ---------  -----------  ---------  --------  ----------  ----------  --------\n",
      "strict       0.624625  0.729825  0.673139        208           15          0        62         110         285       333\n",
      "ent_type     0.654655  0.764912  0.705502        218            5          0        62         110         285       333\n",
      "exact        0.63964   0.747368  0.68932         213           10          0        62         110         285       333\n",
      "\n",
      " WoA\n",
      "schema      precision    recall        f1    correct    incorrect    partial    missed    spurious    possible    actual\n",
      "--------  -----------  --------  --------  ---------  -----------  ---------  --------  ----------  ----------  --------\n",
      "strict       0.212074  0.61991   0.316032        137           39          0        45         470         221       646\n",
      "ent_type     0.267802  0.782805  0.399077        173            3          0        45         470         221       646\n",
      "exact        0.216718  0.633484  0.322953        140           36          0        45         470         221       646\n"
     ]
    }
   ],
   "source": [
    "eval_llm(\"/data/repos/YTUnCoverLLM/output/gpt-3.5-turbo-0125/dataset2_5shot.jsonl\")\n"
   ]
  },
  {
   "cell_type": "markdown",
   "metadata": {},
   "source": [
    "# LLama-3 Zero-Shot"
   ]
  },
  {
   "cell_type": "code",
   "execution_count": 2,
   "metadata": {},
   "outputs": [
    {
     "name": "stderr",
     "output_type": "stream",
     "text": [
      "100%|██████████| 8084/8084 [00:01<00:00, 4727.20it/s]\n",
      "100%|██████████| 8084/8084 [00:20<00:00, 386.39it/s]\n"
     ]
    },
    {
     "name": "stdout",
     "output_type": "stream",
     "text": [
      "Retag IOBs...\n"
     ]
    },
    {
     "name": "stderr",
     "output_type": "stream",
     "text": [
      "100%|██████████| 8084/8084 [00:18<00:00, 447.63it/s]\n",
      "2024-06-20 11:16:39 root INFO: Imported 8064 predictions for 8064 true examples\n"
     ]
    },
    {
     "name": "stdout",
     "output_type": "stream",
     "text": [
      "INFO: 20 non matching IOB taglists.\n",
      "\n",
      " Overall\n",
      "schema      precision    recall        f1    correct    incorrect    partial    missed    spurious    possible    actual\n",
      "--------  -----------  --------  --------  ---------  -----------  ---------  --------  ----------  ----------  --------\n",
      "strict       0.706611  0.752688  0.728922      25833         1509          0      6979        9217       34321     36559\n",
      "ent_type     0.743647  0.792139  0.767128      27187          155          0      6979        9217       34321     36559\n",
      "exact        0.710851  0.757204  0.733296      25988         1354          0      6979        9217       34321     36559\n",
      "\n",
      " Artist\n",
      "schema      precision    recall        f1    correct    incorrect    partial    missed    spurious    possible    actual\n",
      "--------  -----------  --------  --------  ---------  -----------  ---------  --------  ----------  ----------  --------\n",
      "strict       0.582931  0.684682  0.629723      12909          735          0      5210        8501       18854     22145\n",
      "ent_type     0.613999  0.721173  0.663284      13597           47          0      5210        8501       18854     22145\n",
      "exact        0.585053  0.687175  0.632015      12956          688          0      5210        8501       18854     22145\n",
      "\n",
      " WoA\n",
      "schema      precision    recall        f1    correct    incorrect    partial    missed    spurious    possible    actual\n",
      "--------  -----------  --------  --------  ---------  -----------  ---------  --------  ----------  ----------  --------\n",
      "strict       0.896628  0.835585  0.865031      12924          774          0      1769         716       15467     14414\n",
      "ent_type     0.942833  0.878645  0.909608      13590          108          0      1769         716       15467     14414\n",
      "exact        0.904121  0.842568  0.87226       13032          666          0      1769         716       15467     14414\n"
     ]
    }
   ],
   "source": [
    "data_llm_zeroshot = compute_results_jsonl(\"../data/dataset/shs100k2/complete/test.bio\", \"../output/llama3_simple_0shot.jsonl\")"
   ]
  },
  {
   "cell_type": "code",
   "execution_count": 3,
   "metadata": {},
   "outputs": [],
   "source": [
    "from src.Utils import get_error_analysis\n",
    "\n",
    "missing, spurious, incorrect = get_error_analysis(data_llm_zeroshot, \"IOB_pred\")\n"
   ]
  },
  {
   "cell_type": "markdown",
   "metadata": {},
   "source": [
    "# LLama-3 Few-Shot\n",
    "- baseline RoBERTa still better at everything!\n",
    "- results for WoA are closer but still below baseline\n",
    "- main problem: many artists are missed and/or spurious!\n",
    "- almost 5 times \"missed\" and more than 6 times \"spurious\" for artist"
   ]
  },
  {
   "cell_type": "code",
   "execution_count": 4,
   "metadata": {},
   "outputs": [
    {
     "name": "stderr",
     "output_type": "stream",
     "text": [
      "100%|██████████| 8084/8084 [00:01<00:00, 4695.52it/s]\n",
      "100%|██████████| 8084/8084 [00:20<00:00, 389.96it/s]\n"
     ]
    },
    {
     "name": "stdout",
     "output_type": "stream",
     "text": [
      "Retag IOBs...\n"
     ]
    },
    {
     "name": "stderr",
     "output_type": "stream",
     "text": [
      "100%|██████████| 8084/8084 [00:18<00:00, 447.90it/s]\n",
      "2024-06-20 11:17:22 root INFO: Imported 8064 predictions for 8064 true examples\n"
     ]
    },
    {
     "name": "stdout",
     "output_type": "stream",
     "text": [
      "INFO: 20 non matching IOB taglists.\n",
      "\n",
      " Overall\n",
      "schema      precision    recall        f1    correct    incorrect    partial    missed    spurious    possible    actual\n",
      "--------  -----------  --------  --------  ---------  -----------  ---------  --------  ----------  ----------  --------\n",
      "strict       0.713994  0.774074  0.742821      26567         1632          0      6122        9010       34321     37209\n",
      "ent_type     0.751485  0.81472   0.781826      27962          237          0      6122        9010       34321     37209\n",
      "exact        0.720363  0.78098   0.749448      26804         1395          0      6122        9010       34321     37209\n",
      "\n",
      " Artist\n",
      "schema      precision    recall        f1    correct    incorrect    partial    missed    spurious    possible    actual\n",
      "--------  -----------  --------  --------  ---------  -----------  ---------  --------  ----------  ----------  --------\n",
      "strict       0.589511  0.706481  0.642718      13320          831          0      4703        8444       18854     22595\n",
      "ent_type     0.622925  0.746526  0.679148      14075           76          0      4703        8444       18854     22595\n",
      "exact        0.592875  0.710512  0.646385      13396          755          0      4703        8444       18854     22595\n",
      "\n",
      " WoA\n",
      "schema      precision    recall        f1    correct    incorrect    partial    missed    spurious    possible    actual\n",
      "--------  -----------  --------  --------  ---------  -----------  ---------  --------  ----------  ----------  --------\n",
      "strict       0.90646   0.856469  0.880755      13247          801          0      1419         566       15467     14614\n",
      "ent_type     0.950253  0.897847  0.923307      13887          161          0      1419         566       15467     14614\n",
      "exact        0.917476  0.866878  0.89146       13408          640          0      1419         566       15467     14614\n"
     ]
    }
   ],
   "source": [
    "data_llm_fewshot = compute_results_jsonl(\"../data/dataset/shs100k2/complete/test.bio\", \n",
    "                                         \"../output/llama3_simple_4shot.jsonl\")\n"
   ]
  },
  {
   "cell_type": "markdown",
   "metadata": {},
   "source": [
    "# LLaMa-3 More Instructions, Zero-Shot"
   ]
  },
  {
   "cell_type": "code",
   "execution_count": 5,
   "metadata": {},
   "outputs": [
    {
     "name": "stderr",
     "output_type": "stream",
     "text": [
      "100%|██████████| 8084/8084 [00:01<00:00, 4715.25it/s]\n",
      "100%|██████████| 8084/8084 [00:20<00:00, 396.01it/s]\n"
     ]
    },
    {
     "name": "stdout",
     "output_type": "stream",
     "text": [
      "Retag IOBs...\n"
     ]
    },
    {
     "name": "stderr",
     "output_type": "stream",
     "text": [
      "100%|██████████| 8084/8084 [00:18<00:00, 446.34it/s]\n",
      "2024-06-20 11:18:53 root INFO: Imported 8064 predictions for 8064 true examples\n"
     ]
    },
    {
     "name": "stdout",
     "output_type": "stream",
     "text": [
      "INFO: 20 non matching IOB taglists.\n",
      "\n",
      " Overall\n",
      "schema      precision    recall        f1    correct    incorrect    partial    missed    spurious    possible    actual\n",
      "--------  -----------  --------  --------  ---------  -----------  ---------  --------  ----------  ----------  --------\n",
      "strict       0.726777  0.75024   0.738323      25749         1462          0      7110        8218       34321     35429\n",
      "ent_type     0.763132  0.787768  0.775254      27037          174          0      7110        8218       34321     35429\n",
      "exact        0.731689  0.75531   0.743312      25923         1288          0      7110        8218       34321     35429\n",
      "\n",
      " Artist\n",
      "schema      precision    recall        f1    correct    incorrect    partial    missed    spurious    possible    actual\n",
      "--------  -----------  --------  --------  ---------  -----------  ---------  --------  ----------  ----------  --------\n",
      "strict       0.609921  0.680863  0.643443      12837          726          0      5291        7484       18854     21047\n",
      "ent_type     0.641944  0.716612  0.677226      13511           52          0      5291        7484       18854     21047\n",
      "exact        0.612391  0.683622  0.646049      12889          674          0      5291        7484       18854     21047\n",
      "\n",
      " WoA\n",
      "schema      precision    recall        f1    correct    incorrect    partial    missed    spurious    possible    actual\n",
      "--------  -----------  --------  --------  ---------  -----------  ---------  --------  ----------  ----------  --------\n",
      "strict       0.897789  0.83481   0.865155      12912          736          0      1819         734       15467     14382\n",
      "ent_type     0.940481  0.874507  0.906295      13526          122          0      1819         734       15467     14382\n",
      "exact        0.906272  0.842697  0.873329      13034          614          0      1819         734       15467     14382\n"
     ]
    }
   ],
   "source": [
    "data_llm_fewshot = compute_results_jsonl(\"../data/dataset/shs100k2/complete/test.bio\", \n",
    "                                         \"../output/llama3_simple+featuring_0shot.jsonl\")\n"
   ]
  },
  {
   "cell_type": "markdown",
   "metadata": {},
   "source": [
    "## Error Analysis"
   ]
  },
  {
   "cell_type": "code",
   "execution_count": 6,
   "metadata": {},
   "outputs": [],
   "source": [
    "def resolve_span_dict(span_dict: dict, text_list: list) -> dict:\n",
    "    return {k: ' '.join(text_list[k[0]:k[1]+1]) for (k, v) in span_dict.items()}\n",
    "\n",
    "missed, spurious, incorrect = get_error_analysis(data_llm_fewshot, \"IOB_pred\")\n",
    "\n",
    "# missed\n",
    "mask = missed.apply(len) > 0\n"
   ]
  },
  {
   "cell_type": "code",
   "execution_count": 60,
   "metadata": {},
   "outputs": [
    {
     "data": {
      "text/plain": [
       "['B-Artist',\n",
       " 'I-Artist',\n",
       " 'I-Artist',\n",
       " 'O',\n",
       " 'B-WoA',\n",
       " 'O',\n",
       " 'O',\n",
       " 'O',\n",
       " 'O',\n",
       " 'O',\n",
       " 'B-WoA',\n",
       " 'O',\n",
       " 'O',\n",
       " 'O']"
      ]
     },
     "execution_count": 60,
     "metadata": {},
     "output_type": "execute_result"
    }
   ],
   "source": [
    "data_llm_fewshot.loc[19].IOB_pred"
   ]
  },
  {
   "cell_type": "code",
   "execution_count": 7,
   "metadata": {},
   "outputs": [],
   "source": [
    "import pandas as pd\n",
    "\n",
    "data = pd.read_parquet(\"../data/intermediate/shs100k2_IOB.parquet\")\n"
   ]
  },
  {
   "cell_type": "markdown",
   "metadata": {},
   "source": [
    "# RoBERTa Baseline"
   ]
  },
  {
   "cell_type": "code",
   "execution_count": 9,
   "metadata": {},
   "outputs": [
    {
     "name": "stderr",
     "output_type": "stream",
     "text": [
      "2024-06-19 11:29:36 root INFO: Imported 7725 predictions for 7725 true examples\n"
     ]
    },
    {
     "name": "stdout",
     "output_type": "stream",
     "text": [
      "INFO: 359 non matching IOB taglists.\n",
      "\n",
      " Overall\n",
      "schema      precision    recall        f1    correct    incorrect    partial    missed    spurious    possible    actual\n",
      "--------  -----------  --------  --------  ---------  -----------  ---------  --------  ----------  ----------  --------\n",
      "strict       0.897494  0.915266  0.906293      27501          993          0      1553        2148       30047     30642\n",
      "ent_type     0.924254  0.942557  0.933316      28321          173          0      1553        2148       30047     30642\n",
      "exact        0.903139  0.921024  0.911994      27674          820          0      1553        2148       30047     30642\n",
      "\n",
      " Artist\n",
      "schema      precision    recall        f1    correct    incorrect    partial    missed    spurious    possible    actual\n",
      "--------  -----------  --------  --------  ---------  -----------  ---------  --------  ----------  ----------  --------\n",
      "strict       0.890492  0.915682  0.902912      15117          392          0      1000        1467       16509     16976\n",
      "ent_type     0.908695  0.934399  0.921368      15426           83          0      1000        1467       16509     16976\n",
      "exact        0.895382  0.92071   0.907869      15200          309          0      1000        1467       16509     16976\n",
      "\n",
      " WoA\n",
      "schema      precision    recall        f1    correct    incorrect    partial    missed    spurious    possible    actual\n",
      "--------  -----------  --------  --------  ---------  -----------  ---------  --------  ----------  ----------  --------\n",
      "strict       0.906191  0.914758  0.910454      12384          601          0       553         681       13538     13666\n",
      "ent_type     0.943583  0.952504  0.948022      12895           90          0       553         681       13538     13666\n",
      "exact        0.912776  0.921406  0.917071      12474          511          0       553         681       13538     13666\n"
     ]
    }
   ],
   "source": [
    "data_bert = compute_results_txt(\"../data/dataset/shs100k2/complete/test.bio\", \n",
    "                                \"../baseline/music-ner-eacl2023/output/shs100k2/complete/roberta-large/predictions.txt\")\n"
   ]
  },
  {
   "cell_type": "code",
   "execution_count": null,
   "metadata": {},
   "outputs": [],
   "source": []
  }
 ],
 "metadata": {
  "kernelspec": {
   "display_name": "torch21",
   "language": "python",
   "name": "python3"
  },
  "language_info": {
   "codemirror_mode": {
    "name": "ipython",
    "version": 3
   },
   "file_extension": ".py",
   "mimetype": "text/x-python",
   "name": "python",
   "nbconvert_exporter": "python",
   "pygments_lexer": "ipython3",
   "version": "3.11.5"
  }
 },
 "nbformat": 4,
 "nbformat_minor": 2
}
