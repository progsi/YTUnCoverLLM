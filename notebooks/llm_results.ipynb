{
 "cells": [
  {
   "cell_type": "markdown",
   "metadata": {},
   "source": [
    "# LLM Results"
   ]
  },
  {
   "cell_type": "code",
   "execution_count": null,
   "metadata": {},
   "outputs": [],
   "source": [
    "import sys\n",
    "sys.path.append(\"..\")\n",
    "from src.Eval import compute_results_jsonl, compute_results_txt, eval_llm\n"
   ]
  },
  {
   "cell_type": "markdown",
   "metadata": {},
   "source": [
    "# Mixtral"
   ]
  },
  {
   "cell_type": "markdown",
   "metadata": {},
   "source": [
    "## PromptV3"
   ]
  },
  {
   "cell_type": "markdown",
   "metadata": {},
   "source": [
    "#### 5-Shot"
   ]
  },
  {
   "cell_type": "code",
   "execution_count": null,
   "metadata": {},
   "outputs": [],
   "source": [
    "eval_llm(\"/data/repos/YTUnCoverLLM/output/mixtral/dataset3_5shot.jsonl\")\n"
   ]
  },
  {
   "cell_type": "markdown",
   "metadata": {},
   "source": [
    "#### 25-Shot"
   ]
  },
  {
   "cell_type": "code",
   "execution_count": null,
   "metadata": {},
   "outputs": [],
   "source": [
    "eval_llm(\"/data/repos/YTUnCoverLLM/output/mixtral/dataset3_25shot.jsonl\")\n"
   ]
  },
  {
   "cell_type": "markdown",
   "metadata": {},
   "source": [
    "#### 35-Shot"
   ]
  },
  {
   "cell_type": "code",
   "execution_count": null,
   "metadata": {},
   "outputs": [],
   "source": [
    "eval_llm(\"/data/repos/YTUnCoverLLM/output/mixtral/dataset1_35shot.jsonl\")\n"
   ]
  },
  {
   "cell_type": "markdown",
   "metadata": {},
   "source": [
    "# Mistral"
   ]
  },
  {
   "cell_type": "markdown",
   "metadata": {},
   "source": [
    "## PromptV3"
   ]
  },
  {
   "cell_type": "markdown",
   "metadata": {},
   "source": [
    "#### 5-Shot"
   ]
  },
  {
   "cell_type": "code",
   "execution_count": 14,
   "metadata": {},
   "outputs": [
    {
     "name": "stderr",
     "output_type": "stream",
     "text": [
      "2024-07-09 12:37:14 root INFO: Imported 600 predictions for 600 true examples\n"
     ]
    },
    {
     "name": "stdout",
     "output_type": "stream",
     "text": [
      "Input path: /data/repos/YTUnCoverLLM/output/mistral/dataset3_5shot.jsonl\n",
      "\n",
      " Overall\n",
      "schema      precision    recall        f1    correct    incorrect    partial    missed    spurious    possible    actual\n",
      "--------  -----------  --------  --------  ---------  -----------  ---------  --------  ----------  ----------  --------\n",
      "strict         0.7125  0.539773  0.614224        285           54          0       189          61         528       400\n",
      "ent_type       0.82    0.621212  0.706897        328           11          0       189          61         528       400\n",
      "exact          0.74    0.560606  0.637931        296           43          0       189          61         528       400\n",
      "\n",
      " Artist\n",
      "schema      precision    recall        f1    correct    incorrect    partial    missed    spurious    possible    actual\n",
      "--------  -----------  --------  --------  ---------  -----------  ---------  --------  ----------  ----------  --------\n",
      "strict       0.759336  0.61204   0.677778        183           16          0       100          42         299       241\n",
      "ent_type     0.817427  0.658863  0.72963         197            2          0       100          42         299       241\n",
      "exact        0.767635  0.618729  0.685185        185           14          0       100          42         299       241\n",
      "\n",
      " WoA\n",
      "schema      precision    recall        f1    correct    incorrect    partial    missed    spurious    possible    actual\n",
      "--------  -----------  --------  --------  ---------  -----------  ---------  --------  ----------  ----------  --------\n",
      "strict       0.641509  0.445415  0.525773        102           38          0        89          19         229       159\n",
      "ent_type     0.823899  0.572052  0.675258        131            9          0        89          19         229       159\n",
      "exact        0.698113  0.484716  0.572165        111           29          0        89          19         229       159\n"
     ]
    }
   ],
   "source": [
    "results = eval_llm(\"/data/repos/YTUnCoverLLM/output/mistral/dataset3_5shot.jsonl\")\n"
   ]
  },
  {
   "cell_type": "code",
   "execution_count": 29,
   "metadata": {},
   "outputs": [
    {
     "data": {
      "text/plain": [
       "dict_keys(['overall_strict_precision_micro', 'overall_strict_recall_micro', 'overall_strict_f1_micro', 'overall_strict_correct_micro', 'overall_strict_incorrect_micro', 'overall_strict_partial_micro', 'overall_strict_missed_micro', 'overall_strict_spurious_micro', 'overall_strict_possible_micro', 'overall_strict_actual_micro', 'overall_ent_type_precision_micro', 'overall_ent_type_recall_micro', 'overall_ent_type_f1_micro', 'overall_ent_type_correct_micro', 'overall_ent_type_incorrect_micro', 'overall_ent_type_partial_micro', 'overall_ent_type_missed_micro', 'overall_ent_type_spurious_micro', 'overall_ent_type_possible_micro', 'overall_ent_type_actual_micro', 'overall_exact_precision_micro', 'overall_exact_recall_micro', 'overall_exact_f1_micro', 'overall_exact_correct_micro', 'overall_exact_incorrect_micro', 'overall_exact_partial_micro', 'overall_exact_missed_micro', 'overall_exact_spurious_micro', 'overall_exact_possible_micro', 'overall_exact_actual_micro', 'Artist_strict_precision', 'overall_strict_precision_macro', 'Artist_strict_recall', 'overall_strict_recall_macro', 'Artist_strict_f1', 'overall_strict_f1_macro', 'Artist_strict_correct', 'overall_strict_correct_macro', 'Artist_strict_incorrect', 'overall_strict_incorrect_macro', 'Artist_strict_partial', 'overall_strict_partial_macro', 'Artist_strict_missed', 'overall_strict_missed_macro', 'Artist_strict_spurious', 'overall_strict_spurious_macro', 'Artist_strict_possible', 'overall_strict_possible_macro', 'Artist_strict_actual', 'overall_strict_actual_macro', 'Artist_ent_type_precision', 'overall_ent_type_precision_macro', 'Artist_ent_type_recall', 'overall_ent_type_recall_macro', 'Artist_ent_type_f1', 'overall_ent_type_f1_macro', 'Artist_ent_type_correct', 'overall_ent_type_correct_macro', 'Artist_ent_type_incorrect', 'overall_ent_type_incorrect_macro', 'Artist_ent_type_partial', 'overall_ent_type_partial_macro', 'Artist_ent_type_missed', 'overall_ent_type_missed_macro', 'Artist_ent_type_spurious', 'overall_ent_type_spurious_macro', 'Artist_ent_type_possible', 'overall_ent_type_possible_macro', 'Artist_ent_type_actual', 'overall_ent_type_actual_macro', 'Artist_exact_precision', 'overall_exact_precision_macro', 'Artist_exact_recall', 'overall_exact_recall_macro', 'Artist_exact_f1', 'overall_exact_f1_macro', 'Artist_exact_correct', 'overall_exact_correct_macro', 'Artist_exact_incorrect', 'overall_exact_incorrect_macro', 'Artist_exact_partial', 'overall_exact_partial_macro', 'Artist_exact_missed', 'overall_exact_missed_macro', 'Artist_exact_spurious', 'overall_exact_spurious_macro', 'Artist_exact_possible', 'overall_exact_possible_macro', 'Artist_exact_actual', 'overall_exact_actual_macro', 'WoA_strict_precision', 'WoA_strict_recall', 'WoA_strict_f1', 'WoA_strict_correct', 'WoA_strict_incorrect', 'WoA_strict_partial', 'WoA_strict_missed', 'WoA_strict_spurious', 'WoA_strict_possible', 'WoA_strict_actual', 'WoA_ent_type_precision', 'WoA_ent_type_recall', 'WoA_ent_type_f1', 'WoA_ent_type_correct', 'WoA_ent_type_incorrect', 'WoA_ent_type_partial', 'WoA_ent_type_missed', 'WoA_ent_type_spurious', 'WoA_ent_type_possible', 'WoA_ent_type_actual', 'WoA_exact_precision', 'WoA_exact_recall', 'WoA_exact_f1', 'WoA_exact_correct', 'WoA_exact_incorrect', 'WoA_exact_partial', 'WoA_exact_missed', 'WoA_exact_spurious', 'WoA_exact_possible', 'WoA_exact_actual'])"
      ]
     },
     "execution_count": 29,
     "metadata": {},
     "output_type": "execute_result"
    }
   ],
   "source": [
    "results.keys()"
   ]
  },
  {
   "cell_type": "code",
   "execution_count": 15,
   "metadata": {},
   "outputs": [
    {
     "data": {
      "text/plain": [
       "{'overall_strict_precision_micro': 0.7125,\n",
       " 'overall_strict_recall_micro': 0.5397727272727273,\n",
       " 'overall_strict_f1_micro': 0.6142241379310345,\n",
       " 'overall_strict_correct_micro': 285,\n",
       " 'overall_strict_incorrect_micro': 54,\n",
       " 'overall_strict_partial_micro': 0,\n",
       " 'overall_strict_missed_micro': 189,\n",
       " 'overall_strict_spurious_micro': 61,\n",
       " 'overall_strict_possible_micro': 528,\n",
       " 'overall_strict_actual_micro': 400,\n",
       " 'overall_ent_type_precision_micro': 0.82,\n",
       " 'overall_ent_type_recall_micro': 0.6212121212121212,\n",
       " 'overall_ent_type_f1_micro': 0.706896551724138,\n",
       " 'overall_ent_type_correct_micro': 328,\n",
       " 'overall_ent_type_incorrect_micro': 11,\n",
       " 'overall_ent_type_partial_micro': 0,\n",
       " 'overall_ent_type_missed_micro': 189,\n",
       " 'overall_ent_type_spurious_micro': 61,\n",
       " 'overall_ent_type_possible_micro': 528,\n",
       " 'overall_ent_type_actual_micro': 400,\n",
       " 'overall_exact_precision_micro': 0.74,\n",
       " 'overall_exact_recall_micro': 0.5606060606060606,\n",
       " 'overall_exact_f1_micro': 0.6379310344827586,\n",
       " 'overall_exact_correct_micro': 296,\n",
       " 'overall_exact_incorrect_micro': 43,\n",
       " 'overall_exact_partial_micro': 0,\n",
       " 'overall_exact_missed_micro': 189,\n",
       " 'overall_exact_spurious_micro': 61,\n",
       " 'overall_exact_possible_micro': 528,\n",
       " 'overall_exact_actual_micro': 400,\n",
       " 'Artist_strict_precision': 0.7593360995850622,\n",
       " 'overall_strict_precision_macro': 0.7004227667736631,\n",
       " 'Artist_strict_recall': 0.6120401337792643,\n",
       " 'overall_strict_recall_macro': 0.5287274904704181,\n",
       " 'Artist_strict_f1': 0.6777777777777778,\n",
       " 'overall_strict_f1_macro': 0.6017754868270333,\n",
       " 'Artist_strict_correct': 183,\n",
       " 'overall_strict_correct_macro': 142.5,\n",
       " 'Artist_strict_incorrect': 16,\n",
       " 'overall_strict_incorrect_macro': 27.0,\n",
       " 'Artist_strict_partial': 0,\n",
       " 'overall_strict_partial_macro': 0.0,\n",
       " 'Artist_strict_missed': 100,\n",
       " 'overall_strict_missed_macro': 94.5,\n",
       " 'Artist_strict_spurious': 42,\n",
       " 'overall_strict_spurious_macro': 30.5,\n",
       " 'Artist_strict_possible': 299,\n",
       " 'overall_strict_possible_macro': 264.0,\n",
       " 'Artist_strict_actual': 241,\n",
       " 'overall_strict_actual_macro': 200.0,\n",
       " 'Artist_ent_type_precision': 0.8174273858921162,\n",
       " 'overall_ent_type_precision_macro': 0.8206633784806493,\n",
       " 'Artist_ent_type_recall': 0.6588628762541806,\n",
       " 'overall_ent_type_recall_macro': 0.6154576390004527,\n",
       " 'Artist_ent_type_f1': 0.7296296296296297,\n",
       " 'overall_ent_type_f1_macro': 0.7024436807941963,\n",
       " 'Artist_ent_type_correct': 197,\n",
       " 'overall_ent_type_correct_macro': 164.0,\n",
       " 'Artist_ent_type_incorrect': 2,\n",
       " 'overall_ent_type_incorrect_macro': 5.5,\n",
       " 'Artist_ent_type_partial': 0,\n",
       " 'overall_ent_type_partial_macro': 0.0,\n",
       " 'Artist_ent_type_missed': 100,\n",
       " 'overall_ent_type_missed_macro': 94.5,\n",
       " 'Artist_ent_type_spurious': 42,\n",
       " 'overall_ent_type_spurious_macro': 30.5,\n",
       " 'Artist_ent_type_possible': 299,\n",
       " 'overall_ent_type_possible_macro': 264.0,\n",
       " 'Artist_ent_type_actual': 241,\n",
       " 'overall_ent_type_actual_macro': 200.0,\n",
       " 'Artist_exact_precision': 0.7676348547717843,\n",
       " 'overall_exact_precision_macro': 0.732874031159477,\n",
       " 'Artist_exact_recall': 0.6187290969899666,\n",
       " 'overall_exact_recall_macro': 0.5517226270976034,\n",
       " 'Artist_exact_f1': 0.6851851851851852,\n",
       " 'overall_exact_f1_macro': 0.6286750668193968,\n",
       " 'Artist_exact_correct': 185,\n",
       " 'overall_exact_correct_macro': 148.0,\n",
       " 'Artist_exact_incorrect': 14,\n",
       " 'overall_exact_incorrect_macro': 21.5,\n",
       " 'Artist_exact_partial': 0,\n",
       " 'overall_exact_partial_macro': 0.0,\n",
       " 'Artist_exact_missed': 100,\n",
       " 'overall_exact_missed_macro': 94.5,\n",
       " 'Artist_exact_spurious': 42,\n",
       " 'overall_exact_spurious_macro': 30.5,\n",
       " 'Artist_exact_possible': 299,\n",
       " 'overall_exact_possible_macro': 264.0,\n",
       " 'Artist_exact_actual': 241,\n",
       " 'overall_exact_actual_macro': 200.0,\n",
       " 'WoA_strict_precision': 0.6415094339622641,\n",
       " 'WoA_strict_recall': 0.44541484716157204,\n",
       " 'WoA_strict_f1': 0.5257731958762887,\n",
       " 'WoA_strict_correct': 102,\n",
       " 'WoA_strict_incorrect': 38,\n",
       " 'WoA_strict_partial': 0,\n",
       " 'WoA_strict_missed': 89,\n",
       " 'WoA_strict_spurious': 19,\n",
       " 'WoA_strict_possible': 229,\n",
       " 'WoA_strict_actual': 159,\n",
       " 'WoA_ent_type_precision': 0.8238993710691824,\n",
       " 'WoA_ent_type_recall': 0.5720524017467249,\n",
       " 'WoA_ent_type_f1': 0.6752577319587628,\n",
       " 'WoA_ent_type_correct': 131,\n",
       " 'WoA_ent_type_incorrect': 9,\n",
       " 'WoA_ent_type_partial': 0,\n",
       " 'WoA_ent_type_missed': 89,\n",
       " 'WoA_ent_type_spurious': 19,\n",
       " 'WoA_ent_type_possible': 229,\n",
       " 'WoA_ent_type_actual': 159,\n",
       " 'WoA_exact_precision': 0.6981132075471698,\n",
       " 'WoA_exact_recall': 0.4847161572052402,\n",
       " 'WoA_exact_f1': 0.5721649484536082,\n",
       " 'WoA_exact_correct': 111,\n",
       " 'WoA_exact_incorrect': 29,\n",
       " 'WoA_exact_partial': 0,\n",
       " 'WoA_exact_missed': 89,\n",
       " 'WoA_exact_spurious': 19,\n",
       " 'WoA_exact_possible': 229,\n",
       " 'WoA_exact_actual': 159}"
      ]
     },
     "execution_count": 15,
     "metadata": {},
     "output_type": "execute_result"
    }
   ],
   "source": [
    "results"
   ]
  },
  {
   "cell_type": "markdown",
   "metadata": {},
   "source": [
    "#### 25-Shot"
   ]
  },
  {
   "cell_type": "code",
   "execution_count": null,
   "metadata": {},
   "outputs": [],
   "source": [
    "eval_llm(\"/data/repos/YTUnCoverLLM/output/mistral/dataset3_25shot.jsonl\")\n"
   ]
  },
  {
   "cell_type": "markdown",
   "metadata": {},
   "source": [
    "#### 35-Shot"
   ]
  },
  {
   "cell_type": "code",
   "execution_count": null,
   "metadata": {},
   "outputs": [],
   "source": [
    "eval_llm(\"/data/repos/YTUnCoverLLM/output/mistral/dataset3_35shot.jsonl\")\n"
   ]
  },
  {
   "cell_type": "markdown",
   "metadata": {},
   "source": [
    "# Llama3"
   ]
  },
  {
   "cell_type": "markdown",
   "metadata": {},
   "source": [
    "## PromptV3"
   ]
  },
  {
   "cell_type": "markdown",
   "metadata": {},
   "source": [
    "#### 5-Shot"
   ]
  },
  {
   "cell_type": "code",
   "execution_count": null,
   "metadata": {},
   "outputs": [],
   "source": [
    "eval_llm(\"/data/repos/YTUnCoverLLM/output/llama3/dataset3_5shot.jsonl\")\n"
   ]
  },
  {
   "cell_type": "markdown",
   "metadata": {},
   "source": [
    "#### 25-Shot"
   ]
  },
  {
   "cell_type": "code",
   "execution_count": null,
   "metadata": {},
   "outputs": [],
   "source": [
    "eval_llm(\"/data/repos/YTUnCoverLLM/output/llama3/dataset3_25shot.jsonl\")\n"
   ]
  },
  {
   "cell_type": "markdown",
   "metadata": {},
   "source": [
    "# 35-Shot"
   ]
  },
  {
   "cell_type": "code",
   "execution_count": null,
   "metadata": {},
   "outputs": [],
   "source": [
    "eval_llm(\"/data/repos/YTUnCoverLLM/output/llama3/dataset3_35shot.jsonl\")\n"
   ]
  },
  {
   "cell_type": "markdown",
   "metadata": {},
   "source": [
    "# GPT-3.5-Turbo"
   ]
  },
  {
   "cell_type": "markdown",
   "metadata": {},
   "source": [
    "## PromptV1"
   ]
  },
  {
   "cell_type": "markdown",
   "metadata": {},
   "source": [
    "### 25-Shot"
   ]
  },
  {
   "cell_type": "code",
   "execution_count": null,
   "metadata": {},
   "outputs": [],
   "source": [
    "eval_llm(\"/data/repos/YTUnCoverLLM/output/gpt-3.5-turbo-0125/prompt_v1/dataset3_25shot.jsonl\")\n"
   ]
  },
  {
   "cell_type": "markdown",
   "metadata": {},
   "source": [
    "## PromptV2\n",
    "### 5-Shot"
   ]
  },
  {
   "cell_type": "code",
   "execution_count": null,
   "metadata": {},
   "outputs": [],
   "source": [
    "eval_llm(\"/data/repos/YTUnCoverLLM/output/gpt-3.5-turbo-0125/dataset3_5shot.jsonl\")\n"
   ]
  },
  {
   "cell_type": "code",
   "execution_count": null,
   "metadata": {},
   "outputs": [],
   "source": [
    "eval_llm(\"/data/repos/YTUnCoverLLM/output/gpt-3.5-turbo-0125/dataset3_25shot.jsonl\")\n"
   ]
  },
  {
   "cell_type": "markdown",
   "metadata": {},
   "source": [
    "# SHS100K Results"
   ]
  },
  {
   "cell_type": "markdown",
   "metadata": {},
   "source": [
    "## LLama-3 Zero-Shot"
   ]
  },
  {
   "cell_type": "code",
   "execution_count": null,
   "metadata": {},
   "outputs": [],
   "source": [
    "data_llm_zeroshot = compute_results_jsonl(\"../data/dataset/shs100k2/complete/test.bio\", \"../output/llama3_simple_0shot.jsonl\")"
   ]
  },
  {
   "cell_type": "code",
   "execution_count": null,
   "metadata": {},
   "outputs": [],
   "source": [
    "from src.Utils import get_error_analysis\n",
    "\n",
    "missing, spurious, incorrect = get_error_analysis(data_llm_zeroshot, \"IOB_pred\")\n"
   ]
  },
  {
   "cell_type": "markdown",
   "metadata": {},
   "source": [
    "## LLama-3 Few-Shot\n",
    "- baseline RoBERTa still better at everything!\n",
    "- results for WoA are closer but still below baseline\n",
    "- main problem: many artists are missed and/or spurious!\n",
    "- almost 5 times \"missed\" and more than 6 times \"spurious\" for artist"
   ]
  },
  {
   "cell_type": "code",
   "execution_count": null,
   "metadata": {},
   "outputs": [],
   "source": [
    "data_llm_fewshot = compute_results_jsonl(\"../data/dataset/shs100k2/complete/test.bio\", \n",
    "                                         \"../output/llama3_simple_4shot.jsonl\")\n"
   ]
  },
  {
   "cell_type": "markdown",
   "metadata": {},
   "source": [
    "## LLaMa-3 More Instructions, Zero-Shot"
   ]
  },
  {
   "cell_type": "code",
   "execution_count": null,
   "metadata": {},
   "outputs": [],
   "source": [
    "data_llm_fewshot = compute_results_jsonl(\"../data/dataset/shs100k2/complete/test.bio\", \n",
    "                                         \"../output/llama3_simple+featuring_0shot.jsonl\")\n"
   ]
  },
  {
   "cell_type": "markdown",
   "metadata": {},
   "source": [
    "## Error Analysis"
   ]
  },
  {
   "cell_type": "code",
   "execution_count": null,
   "metadata": {},
   "outputs": [],
   "source": [
    "def resolve_span_dict(span_dict: dict, text_list: list) -> dict:\n",
    "    return {k: ' '.join(text_list[k[0]:k[1]+1]) for (k, v) in span_dict.items()}\n",
    "\n",
    "missed, spurious, incorrect = get_error_analysis(data_llm_fewshot, \"IOB_pred\")\n",
    "\n",
    "# missed\n",
    "mask = missed.apply(len) > 0\n"
   ]
  },
  {
   "cell_type": "code",
   "execution_count": null,
   "metadata": {},
   "outputs": [],
   "source": [
    "data_llm_fewshot.loc[19].IOB_pred"
   ]
  },
  {
   "cell_type": "code",
   "execution_count": null,
   "metadata": {},
   "outputs": [],
   "source": [
    "import pandas as pd\n",
    "\n",
    "data = pd.read_parquet(\"../data/intermediate/shs100k2_IOB.parquet\")\n"
   ]
  },
  {
   "cell_type": "markdown",
   "metadata": {},
   "source": [
    "# RoBERTa Baseline"
   ]
  },
  {
   "cell_type": "code",
   "execution_count": null,
   "metadata": {},
   "outputs": [],
   "source": [
    "data_bert = compute_results_txt(\"../data/dataset/shs100k2/complete/test.bio\", \n",
    "                                \"../baseline/music-ner-eacl2023/output/shs100k2/complete/roberta-large/predictions.txt\")\n"
   ]
  },
  {
   "cell_type": "code",
   "execution_count": null,
   "metadata": {},
   "outputs": [],
   "source": []
  }
 ],
 "metadata": {
  "kernelspec": {
   "display_name": "torch21",
   "language": "python",
   "name": "python3"
  },
  "language_info": {
   "codemirror_mode": {
    "name": "ipython",
    "version": 3
   },
   "file_extension": ".py",
   "mimetype": "text/x-python",
   "name": "python",
   "nbconvert_exporter": "python",
   "pygments_lexer": "ipython3",
   "version": "3.11.5"
  }
 },
 "nbformat": 4,
 "nbformat_minor": 2
}
