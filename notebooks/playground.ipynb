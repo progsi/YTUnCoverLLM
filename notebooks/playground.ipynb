{
 "cells": [
  {
   "cell_type": "code",
   "execution_count": 1,
   "metadata": {},
   "outputs": [
    {
     "name": "stderr",
     "output_type": "stream",
     "text": [
      "/data/miniconda3/envs/torch21/lib/python3.11/site-packages/tqdm/auto.py:21: TqdmWarning: IProgress not found. Please update jupyter and ipywidgets. See https://ipywidgets.readthedocs.io/en/stable/user_install.html\n",
      "  from .autonotebook import tqdm as notebook_tqdm\n",
      "/data/miniconda3/envs/torch21/lib/python3.11/site-packages/transformers/utils/hub.py:123: FutureWarning: Using `TRANSFORMERS_CACHE` is deprecated and will be removed in v5 of Transformers. Use `HF_HOME` instead.\n",
      "  warnings.warn(\n",
      "Downloading shards: 100%|██████████| 4/4 [00:00<00:00, 8652.51it/s]\n",
      "Loading checkpoint shards: 100%|██████████| 4/4 [00:02<00:00,  1.45it/s]\n",
      "Special tokens have been added in the vocabulary, make sure the associated word embeddings are fine-tuned or trained.\n"
     ]
    }
   ],
   "source": [
    "from src.Wrapper import LlamaWrapper\n",
    "\n",
    "model_id = \"meta-llama/Meta-Llama-3-8B-Instruct\"\n",
    "llama = LlamaWrapper(model_id=model_id)\n",
    "\n"
   ]
  },
  {
   "cell_type": "code",
   "execution_count": 8,
   "metadata": {},
   "outputs": [],
   "source": [
    "title_list = [\n",
    "    \"Dream Theater Metropolis Pt. 1 (Live At Luna Park DVD)\", \n",
    "    \"Plini & David Maxim Micic LIVE @ Vh1 Supersonic 2018 (full set)\",\n",
    "    \"(Måneskin) Beggin' - Fingerstyle Guitar Cover | Josephine Alexandra\",\n",
    "    \"Owane - Rock Is Too Heavy\",\n",
    "    \"Jungle - Tash Sultana - Tutorial - Guitar Loop Cover - Tabs Available\",\n",
    "    \"How to Play Beat It Solo - Eddie Van Halen Michael Jackson\"\n",
    "    ]\n"
   ]
  },
  {
   "cell_type": "markdown",
   "metadata": {},
   "source": [
    "# Artist and Title"
   ]
  },
  {
   "cell_type": "markdown",
   "metadata": {},
   "source": [
    "#### Option 1) manually with full list --> unstructured output"
   ]
  },
  {
   "cell_type": "code",
   "execution_count": 9,
   "metadata": {},
   "outputs": [],
   "source": [
    "role_description = \"You are a linguistic and music expert.\"\n",
    "task_description = \"For the following list of video titles, return dictionaries per element with artists and titles. The keys are the utterance and the values either ARTIST or TITLE.\"\n"
   ]
  },
  {
   "cell_type": "code",
   "execution_count": 10,
   "metadata": {},
   "outputs": [
    {
     "name": "stderr",
     "output_type": "stream",
     "text": [
      "Setting `pad_token_id` to `eos_token_id`:128001 for open-end generation.\n"
     ]
    },
    {
     "data": {
      "text/plain": [
       "\"Here are the dictionaries for each video title:\\n\\n1. {'Dream Theater Metropolis Pt. 1 (Live At Luna Park DVD)': {'utterance': 'Dream Theater Metropolis Pt. 1 (Live At Luna Park DVD)', 'ARTIST': 'Dream Theater', 'TITLE': 'Metropolis Pt. 1'}}\\n2. {'Plini & David Maxim Micic LIVE @ Vh1 Supersonic 2018 (full set)': {'utterance': 'Plini & David Maxim Micic LIVE @ Vh1 Supersonic 2018 (full set)', 'ARTIST': 'Plini & David Maxim Micic', 'TITLE': 'LIVE @ Vh1 Supersonic 2018 (full set)'}}\\n3. {'(Måneskin) Beggin' - Fingerstyle Guitar Cover | Josephine Alexandra': {'utterance': '(Måneskin) Beggin' - Fingerstyle Guitar Cover | Josephine Alexandra', 'ARTIST': 'Måneskin', 'TITLE': 'Beggin\\\\''}}\\n4. {'Owane - Rock Is Too Heavy': {'utterance': 'Owane - Rock Is Too Heavy', 'ARTIST': 'Owane', 'TITLE': 'Rock Is Too Heavy\""
      ]
     },
     "execution_count": 10,
     "metadata": {},
     "output_type": "execute_result"
    }
   ],
   "source": [
    "prompt = role_description + task_description\n",
    "\n",
    "temperature = 0.01\n",
    "top_p = 0.1\n",
    "\n",
    "output = llama.prompt_list(prompt, title_list, temperature=temperature, top_p=top_p)\n",
    "output\n"
   ]
  },
  {
   "cell_type": "markdown",
   "metadata": {},
   "source": [
    "#### Option 2) with jsonformer --> structured but only single json."
   ]
  },
  {
   "cell_type": "code",
   "execution_count": 12,
   "metadata": {},
   "outputs": [
    {
     "name": "stdout",
     "output_type": "stream",
     "text": [
      "{'artist_original': 'Dream Theater', 'artist_covering': 'Dream Theater', 'title_original': 'Metropolis Pt. 1', 'title_covering': 'Metropolis Pt. 1 (Live At Luna', 'title_english': 'Metropolis Pt. 1'}\n",
      "{'artist_original': 'null', 'artist_covering': 'Plini', 'title_original': 'null', 'title_covering': 'full set', 'title_english': 'full set'}\n",
      "{'artist_original': 'The Four Seasons', 'artist_covering': 'Måneskin', 'title_original': \"Beggin'\", 'title_covering': \"Beggin'\", 'title_english': \"Beggin'\"}\n",
      "{'artist_original': 'Owane', 'artist_covering': 'Owane', 'title_original': 'Rock Is Too Heavy', 'title_covering': 'Rock Is Too Heavy', 'title_english': 'Rock Is Too Heavy'}\n",
      "{'artist_original': 'Jungle', 'artist_covering': 'Tash Sultana', 'title_original': 'Jungle', 'title_covering': 'Tutorial - Guitar Loop Cover', 'title_english': 'Jungle'}\n",
      "{'artist_original': 'Michael Jackson', 'artist_covering': 'Eddie Van Halen', 'title_original': 'Beat It', 'title_covering': 'How to Play Beat It Solo', 'title_english': 'Beat It'}\n"
     ]
    }
   ],
   "source": [
    "json_schema = {\n",
    "    \"type\": \"object\",\n",
    "    \"properties\": {\n",
    "        \"artist_original\": {\"type\": \"string\"},\n",
    "        \"artist_covering\": {\"type\": \"string\"},\n",
    "        \"title_original\": {\"type\": \"string\"},\n",
    "        \"title_covering\": {\"type\": \"string\"},\n",
    "        \"title_english\": {\"type\": \"string\"},\n",
    "        }\n",
    "    }\n",
    "\n",
    "for title in title_list: \n",
    "    task_description = f\"You are a given a video title of an online video which refers to a song. It is likely a cover. Parse the contained fields artist (covering and original), title (covering and original) and translate the title into english if its not english, else copy it into the translation.{title}\"\n",
    "    prompt = role_description + task_description\n",
    "    output = llama.prompt_to_json(prompt, json_schema, 0.1)\n",
    "    print(output)\n"
   ]
  },
  {
   "cell_type": "markdown",
   "metadata": {},
   "source": [
    "# SHS100K-Test"
   ]
  },
  {
   "cell_type": "markdown",
   "metadata": {},
   "source": [
    "## Zero-Shot"
   ]
  },
  {
   "cell_type": "code",
   "execution_count": 22,
   "metadata": {},
   "outputs": [],
   "source": [
    "import pandas as pd\n",
    "\n",
    "data = pd.read_parquet(\"/data/csi_datasets/shs100k2_yt.parquet\").query(\"split == 'TEST'\")\n"
   ]
  },
  {
   "cell_type": "code",
   "execution_count": 31,
   "metadata": {},
   "outputs": [
    {
     "name": "stderr",
     "output_type": "stream",
     "text": [
      "100%|██████████| 200/200 [05:39<00:00,  1.70s/it]\n"
     ]
    }
   ],
   "source": [
    "from tqdm import tqdm\n",
    "\n",
    "n=200\n",
    "data_sample = data.sample(n=n)\n",
    "\n",
    "json_schema = {\n",
    "    \"type\": \"object\",\n",
    "    \"properties\": {\n",
    "        \"artist_performing\": {\"type\": \"string\"},\n",
    "        \"artist_original\": {\"type\": \"string\"},\n",
    "        \"title_original\": {\"type\": \"string\"},\n",
    "        \"title_performing\": {\"type\": \"string\"},\n",
    "        \"title_english\": {\"type\": \"string\"},\n",
    "        }\n",
    "    }\n",
    "\n",
    "task_description = f\"\"\"\n",
    "You are a given a video title of a YouTube video which contains a musical performance. \n",
    "Parse the song title of the performance, the original song title, the name of the performing artist and the original artist into the \n",
    "respective fields.\n",
    "If the song title is not english, also fill the field title_english with the english translation of the \n",
    "title you find. Video title: \"\n",
    "\"\"\"\n",
    "\n",
    "prompt = role_description + task_description\n",
    "outputs = []\n",
    "\n",
    "# why can't I set to 0?\n",
    "temperature = 0.00000000000001\n",
    "\n",
    "# inference with Llama\n",
    "for video_title in tqdm(data_sample.video_title): \n",
    "    prompt = role_description + task_description + video_title\n",
    "    output = llama.prompt_to_json(prompt, json_schema, temperature)\n",
    "    outputs.append(output)\n",
    "\n",
    "# write to df\n",
    "data_parsed = pd.DataFrame(outputs)\n",
    "for col in data_parsed.columns:\n",
    "    data_sample[col] = data_parsed[col].values\n"
   ]
  },
  {
   "cell_type": "code",
   "execution_count": 62,
   "metadata": {},
   "outputs": [
    {
     "name": "stdout",
     "output_type": "stream",
     "text": [
      "0.68\n",
      "0.76\n",
      "0.65\n",
      "0.47\n"
     ]
    }
   ],
   "source": [
    "accuracy_title_perf = sum((data_sample.title.str.lower() == data_sample.title_performing.str.lower())) / len(data_sample)\n",
    "accuracy_title_orig = sum((data_sample.title.str.lower() == data_sample.title_original.str.lower())) / len(data_sample)\n",
    "accuracy_artist_perf = sum((data_sample.performer.str.lower() == data_sample.artist_performing.str.lower())) / len(data_sample)\n",
    "accuracy_artist_orig = sum((data_sample.performer.str.lower() == data_sample.artist_original.str.lower())) / len(data_sample)\n",
    "\n",
    "print(accuracy_title_perf)\n",
    "print(accuracy_title_orig)\n",
    "print(accuracy_artist_perf)\n",
    "print(accuracy_artist_orig)\n"
   ]
  },
  {
   "cell_type": "code",
   "execution_count": 78,
   "metadata": {},
   "outputs": [
    {
     "name": "stdout",
     "output_type": "stream",
     "text": [
      "0.945\n",
      "0.945\n",
      "0.925\n",
      "0.8\n"
     ]
    }
   ],
   "source": [
    "title_perf_extracted = data_sample.apply(lambda x: x.title_performing in x.video_title, axis=1).sum() / len(data_sample)\n",
    "title_orig_extracted = data_sample.apply(lambda x: x.title_original in x.video_title, axis=1).sum() / len(data_sample)\n",
    "artist_perf_extracted = data_sample.apply(lambda x: x.artist_performing in x.video_title, axis=1).sum() / len(data_sample)\n",
    "artist_orig_extracted = data_sample.apply(lambda x: x.artist_original in x.video_title, axis=1).sum() / len(data_sample)\n",
    "\n",
    "print(title_perf_extracted)\n",
    "print(title_orig_extracted)\n",
    "print(artist_perf_extracted)\n",
    "print(artist_orig_extracted)\n"
   ]
  },
  {
   "cell_type": "markdown",
   "metadata": {},
   "source": [
    "## Few-Shot"
   ]
  },
  {
   "cell_type": "code",
   "execution_count": 79,
   "metadata": {},
   "outputs": [
    {
     "name": "stderr",
     "output_type": "stream",
     "text": [
      "100%|██████████| 200/200 [06:08<00:00,  1.84s/it]\n"
     ]
    }
   ],
   "source": [
    "task_description = \"\"\"\n",
    "You are a given a video title of a YouTube video which contains a musical performance. \n",
    "Parse the song title, the name of the performing artist in the video and the song title into the \n",
    "respective fields.\n",
    "If the song title is not english, also fill the field title_english with the english translation of the \n",
    "title you find. Here are some examples: \"\n",
    "\"\"\"\n",
    "\n",
    "examples = \"\"\"\n",
    "Example 1 video title: 'Dream Theater Metropolis Pt. 1 (Live At Luna Park DVD)'; Output attributes: artist_performing: Dream Theater, artist_original: Dream Theater, \n",
    "title_performing: Metropolis Pt. 1, title_original: Metropolis Pt. 1\n",
    "Example 2 video title: '(Måneskin) Beggin' - Fingerstyle Guitar Cover | Josephine Alexandra'; Output attributes: artist_performing: Josephine Alexandra, artist_original: Måneskin, \n",
    "title_performing: Beggin' - Fingerstyle Guitar Cover, title_original: Beggin'\n",
    "Example 3 video title: 'Owane - Rock Is Too Heavy'; Output attributes: artist_performing: Owane, artist_original: Owane, \n",
    "title_performing: Rock Is Too Heavy, title_original: Rock Is Too Heavy\n",
    "Example 4 video title: 'Jungle - Tash Sultana - Tutorial - Guitar Loop Cover - Tabs Available'; Output attributes: artist_performing: null, artist_original: Tash Sultana, \n",
    "title_performing: Jungle, title_original: Jungle\n",
    "Example 5 video title: 'How to Play Beat It Solo - Eddie Van Halen Michael Jackson'; Output attributes: artist_performing: null, artist_original: Micheal Jackson and Eddie Van Halen, \n",
    "title_performing: Beat It Solo, title_original: Beat It\n",
    "\n",
    "Input: \n",
    "\"\"\"\n",
    "\n",
    "json_schema = {\n",
    "    \"type\": \"object\",\n",
    "    \"properties\": {\n",
    "        \"artist_performing\": {\"type\": \"string\"},\n",
    "        \"artist_original\": {\"type\": \"string\"},\n",
    "        \"title_original\": {\"type\": \"string\"},\n",
    "        \"title_performing\": {\"type\": \"string\"},\n",
    "        \"title_english\": {\"type\": \"string\"},\n",
    "        }\n",
    "    }\n",
    "\n",
    "\n",
    "outputs = []\n",
    "\n",
    "# few shot inference with Llama\n",
    "for video_title in tqdm(data_sample.video_title): \n",
    "    prompt = role_description + task_description + examples + video_title\n",
    "    output = llama.prompt_to_json(prompt, json_schema, temperature)\n",
    "    outputs.append(output)\n",
    "\n",
    "# write to df\n",
    "data_parsed = pd.DataFrame(outputs)\n",
    "for col in data_parsed.columns:\n",
    "    data_sample[col] = data_parsed[col].values\n",
    "\n"
   ]
  },
  {
   "cell_type": "code",
   "execution_count": 80,
   "metadata": {},
   "outputs": [
    {
     "name": "stdout",
     "output_type": "stream",
     "text": [
      "0.51\n",
      "0.755\n",
      "0.625\n",
      "0.44\n"
     ]
    }
   ],
   "source": [
    "accuracy_title_perf = sum((data_sample.title.str.lower() == data_sample.title_performing.str.lower())) / len(data_sample)\n",
    "accuracy_title_orig = sum((data_sample.title.str.lower() == data_sample.title_original.str.lower())) / len(data_sample)\n",
    "accuracy_artist_perf = sum((data_sample.performer.str.lower() == data_sample.artist_performing.str.lower())) / len(data_sample)\n",
    "accuracy_artist_orig = sum((data_sample.performer.str.lower() == data_sample.artist_original.str.lower())) / len(data_sample)\n",
    "\n",
    "print(accuracy_title_perf)\n",
    "print(accuracy_title_orig)\n",
    "print(accuracy_artist_perf)\n",
    "print(accuracy_artist_orig)\n"
   ]
  },
  {
   "cell_type": "code",
   "execution_count": 81,
   "metadata": {},
   "outputs": [
    {
     "name": "stdout",
     "output_type": "stream",
     "text": [
      "0.905\n",
      "0.955\n",
      "0.92\n",
      "0.76\n"
     ]
    }
   ],
   "source": [
    "title_perf_extracted = data_sample.apply(lambda x: x.title_performing in x.video_title, axis=1).sum() / len(data_sample)\n",
    "title_orig_extracted = data_sample.apply(lambda x: x.title_original in x.video_title, axis=1).sum() / len(data_sample)\n",
    "artist_perf_extracted = data_sample.apply(lambda x: x.artist_performing in x.video_title, axis=1).sum() / len(data_sample)\n",
    "artist_orig_extracted = data_sample.apply(lambda x: x.artist_original in x.video_title, axis=1).sum() / len(data_sample)\n",
    "\n",
    "print(title_perf_extracted)\n",
    "print(title_orig_extracted)\n",
    "print(artist_perf_extracted)\n",
    "print(artist_orig_extracted)\n"
   ]
  },
  {
   "cell_type": "code",
   "execution_count": 86,
   "metadata": {},
   "outputs": [
    {
     "data": {
      "text/html": [
       "<div>\n",
       "<style scoped>\n",
       "    .dataframe tbody tr th:only-of-type {\n",
       "        vertical-align: middle;\n",
       "    }\n",
       "\n",
       "    .dataframe tbody tr th {\n",
       "        vertical-align: top;\n",
       "    }\n",
       "\n",
       "    .dataframe thead th {\n",
       "        text-align: right;\n",
       "    }\n",
       "</style>\n",
       "<table border=\"1\" class=\"dataframe\">\n",
       "  <thead>\n",
       "    <tr style=\"text-align: right;\">\n",
       "      <th></th>\n",
       "      <th>video_title</th>\n",
       "      <th>performer</th>\n",
       "      <th>artist_performing</th>\n",
       "    </tr>\n",
       "  </thead>\n",
       "  <tbody>\n",
       "    <tr>\n",
       "      <th>9804</th>\n",
       "      <td>APRON STRINGS - Cliff Richard</td>\n",
       "      <td>Cliff Richard and The Drifters</td>\n",
       "      <td>Cliff Richard</td>\n",
       "    </tr>\n",
       "    <tr>\n",
       "      <th>5122</th>\n",
       "      <td>BB King - Hummingbird</td>\n",
       "      <td>B.B. King</td>\n",
       "      <td>BB King</td>\n",
       "    </tr>\n",
       "    <tr>\n",
       "      <th>1750</th>\n",
       "      <td>Mina Mazzini- Stayin' Alive (live version)</td>\n",
       "      <td>Mina</td>\n",
       "      <td>Mina Mazzini</td>\n",
       "    </tr>\n",
       "    <tr>\n",
       "      <th>3200</th>\n",
       "      <td>Don Ellis Orchestra - Put It Where You Want It...</td>\n",
       "      <td>Don Ellis</td>\n",
       "      <td>Don Ellis Orchestra</td>\n",
       "    </tr>\n",
       "    <tr>\n",
       "      <th>7158</th>\n",
       "      <td>Gene Clark - Almost Saturday Night</td>\n",
       "      <td>Gene Clark &amp; Carla Olson</td>\n",
       "      <td>Gene Clark</td>\n",
       "    </tr>\n",
       "    <tr>\n",
       "      <th>...</th>\n",
       "      <td>...</td>\n",
       "      <td>...</td>\n",
       "      <td>...</td>\n",
       "    </tr>\n",
       "    <tr>\n",
       "      <th>3898</th>\n",
       "      <td>Lee Morse and her Blue Grass Boys - \"If You Wa...</td>\n",
       "      <td>Lee Morse and Her Blue Grass Boys</td>\n",
       "      <td>Lee Morse and her Blue Grass Boys</td>\n",
       "    </tr>\n",
       "    <tr>\n",
       "      <th>5522</th>\n",
       "      <td>Heart Of The Matter- Hyannis Sound 2008</td>\n",
       "      <td>The Hyannis Sound</td>\n",
       "      <td>Hyannis Sound</td>\n",
       "    </tr>\n",
       "    <tr>\n",
       "      <th>9755</th>\n",
       "      <td>Two More Bottles of Wine</td>\n",
       "      <td>Emmylou Harris</td>\n",
       "      <td>unknown</td>\n",
       "    </tr>\n",
       "    <tr>\n",
       "      <th>8670</th>\n",
       "      <td>Luciano Benevene, Nilla Pizzi e Duo Fasano - B...</td>\n",
       "      <td>Luciano Benevene - Nilla Pizzi - Duo Fasano - ...</td>\n",
       "      <td>Luciano Benevene, Nilla Piz</td>\n",
       "    </tr>\n",
       "    <tr>\n",
       "      <th>3015</th>\n",
       "      <td>Born This Way - Lady GaGa cover by Alyssa Bern...</td>\n",
       "      <td>Megan Nicole feat Alyssa Bernal</td>\n",
       "      <td>Alyssa Bernal and Megan Nicole</td>\n",
       "    </tr>\n",
       "  </tbody>\n",
       "</table>\n",
       "<p>88 rows × 3 columns</p>\n",
       "</div>"
      ],
      "text/plain": [
       "                                            video_title  \\\n",
       "9804                      APRON STRINGS - Cliff Richard   \n",
       "5122                              BB King - Hummingbird   \n",
       "1750         Mina Mazzini- Stayin' Alive (live version)   \n",
       "3200  Don Ellis Orchestra - Put It Where You Want It...   \n",
       "7158                 Gene Clark - Almost Saturday Night   \n",
       "...                                                 ...   \n",
       "3898  Lee Morse and her Blue Grass Boys - \"If You Wa...   \n",
       "5522            Heart Of The Matter- Hyannis Sound 2008   \n",
       "9755                           Two More Bottles of Wine   \n",
       "8670  Luciano Benevene, Nilla Pizzi e Duo Fasano - B...   \n",
       "3015  Born This Way - Lady GaGa cover by Alyssa Bern...   \n",
       "\n",
       "                                              performer  \\\n",
       "9804                     Cliff Richard and The Drifters   \n",
       "5122                                          B.B. King   \n",
       "1750                                               Mina   \n",
       "3200                                          Don Ellis   \n",
       "7158                           Gene Clark & Carla Olson   \n",
       "...                                                 ...   \n",
       "3898                  Lee Morse and Her Blue Grass Boys   \n",
       "5522                                  The Hyannis Sound   \n",
       "9755                                     Emmylou Harris   \n",
       "8670  Luciano Benevene - Nilla Pizzi - Duo Fasano - ...   \n",
       "3015                    Megan Nicole feat Alyssa Bernal   \n",
       "\n",
       "                      artist_performing  \n",
       "9804                      Cliff Richard  \n",
       "5122                            BB King  \n",
       "1750                       Mina Mazzini  \n",
       "3200                Don Ellis Orchestra  \n",
       "7158                         Gene Clark  \n",
       "...                                 ...  \n",
       "3898  Lee Morse and her Blue Grass Boys  \n",
       "5522                      Hyannis Sound  \n",
       "9755                            unknown  \n",
       "8670        Luciano Benevene, Nilla Piz  \n",
       "3015     Alyssa Bernal and Megan Nicole  \n",
       "\n",
       "[88 rows x 3 columns]"
      ]
     },
     "execution_count": 86,
     "metadata": {},
     "output_type": "execute_result"
    }
   ],
   "source": [
    "data_sample[data_sample.performer != data_sample.artist_performing][[\"video_title\", \"performer\", \"artist_performing\"]]\n",
    "\n"
   ]
  },
  {
   "cell_type": "code",
   "execution_count": 89,
   "metadata": {},
   "outputs": [],
   "source": [
    "from rapidfuzz import fuzz\n",
    "\n",
    "title_perf_ratios = data_sample.apply(lambda x: fuzz.token_ratio(x.title_performing, x.video_title) / 100, axis=1)\n",
    "title_orig_ratios = data_sample.apply(lambda x: fuzz.token_ratio(x.title_original, x.video_title) / 100, axis=1)\n",
    "artist_perf_ratios = data_sample.apply(lambda x: fuzz.token_ratio(x.artist_performing, x.video_title)/ 100,  axis=1)\n",
    "artist_orig_ratios = data_sample.apply(lambda x: fuzz.token_ratio(x.artist_original, x.video_title) / 100, axis=1)\n"
   ]
  },
  {
   "cell_type": "code",
   "execution_count": 91,
   "metadata": {},
   "outputs": [
    {
     "data": {
      "text/plain": [
       "count    200.000000\n",
       "mean       0.928107\n",
       "std        0.161550\n",
       "min        0.184615\n",
       "25%        0.997191\n",
       "50%        1.000000\n",
       "75%        1.000000\n",
       "max        1.000000\n",
       "dtype: float64"
      ]
     },
     "execution_count": 91,
     "metadata": {},
     "output_type": "execute_result"
    }
   ],
   "source": [
    "title_perf_ratios.describe()\n"
   ]
  },
  {
   "cell_type": "code",
   "execution_count": 92,
   "metadata": {},
   "outputs": [
    {
     "data": {
      "text/plain": [
       "count    200.000000\n",
       "mean       0.910474\n",
       "std        0.205917\n",
       "min        0.135135\n",
       "25%        1.000000\n",
       "50%        1.000000\n",
       "75%        1.000000\n",
       "max        1.000000\n",
       "dtype: float64"
      ]
     },
     "execution_count": 92,
     "metadata": {},
     "output_type": "execute_result"
    }
   ],
   "source": [
    "title_orig_ratios.describe()\n"
   ]
  },
  {
   "cell_type": "code",
   "execution_count": 93,
   "metadata": {},
   "outputs": [
    {
     "data": {
      "text/plain": [
       "count    200.000000\n",
       "mean       0.884570\n",
       "std        0.243777\n",
       "min        0.000000\n",
       "25%        1.000000\n",
       "50%        1.000000\n",
       "75%        1.000000\n",
       "max        1.000000\n",
       "dtype: float64"
      ]
     },
     "execution_count": 93,
     "metadata": {},
     "output_type": "execute_result"
    }
   ],
   "source": [
    "artist_perf_ratios.describe()\n"
   ]
  },
  {
   "cell_type": "code",
   "execution_count": 94,
   "metadata": {},
   "outputs": [
    {
     "data": {
      "text/plain": [
       "count    200.000000\n",
       "mean       0.774261\n",
       "std        0.323432\n",
       "min        0.000000\n",
       "25%        0.533333\n",
       "50%        1.000000\n",
       "75%        1.000000\n",
       "max        1.000000\n",
       "dtype: float64"
      ]
     },
     "execution_count": 94,
     "metadata": {},
     "output_type": "execute_result"
    }
   ],
   "source": [
    "artist_orig_ratios.describe()\n",
    "\n"
   ]
  }
 ],
 "metadata": {
  "kernelspec": {
   "display_name": "torch21",
   "language": "python",
   "name": "python3"
  },
  "language_info": {
   "codemirror_mode": {
    "name": "ipython",
    "version": 3
   },
   "file_extension": ".py",
   "mimetype": "text/x-python",
   "name": "python",
   "nbconvert_exporter": "python",
   "pygments_lexer": "ipython3",
   "version": "3.11.5"
  }
 },
 "nbformat": 4,
 "nbformat_minor": 2
}
