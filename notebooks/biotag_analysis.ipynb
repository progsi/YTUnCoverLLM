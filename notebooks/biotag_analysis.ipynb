{
 "cells": [
  {
   "cell_type": "markdown",
   "metadata": {},
   "source": [
    "# DaTacos"
   ]
  },
  {
   "cell_type": "code",
   "execution_count": 113,
   "metadata": {},
   "outputs": [
    {
     "name": "stdout",
     "output_type": "stream",
     "text": [
      "Videos without matched Artist entity: 0.1\n",
      "Videos without matched Title entity: 0.07\n"
     ]
    }
   ],
   "source": [
    "import warnings\n",
    "import pandas as pd\n",
    "from pandas.errors import SettingWithCopyWarning\n",
    "\n",
    "warnings.simplefilter(action=\"ignore\", category=SettingWithCopyWarning)\n",
    "\n",
    "B_ARTIST = \"B-Artist\"\n",
    "B_WOA = \"B-WOA\"\n",
    "\n",
    "data = pd.read_parquet(\"../data/datacos_biotag.parquet\").drop(\"ver_id\", axis=1)\n",
    "\n",
    "# data without artist and title tags each\n",
    "data_noartist = data.loc[~data.NER_TAGS.apply(lambda x: \"B-Artist\" in x), :]\n",
    "data_noartist.yt_processed = data_noartist.yt_processed.str.replace(\"\\n\", \" \").str.replace(\"\\t\", \" \")\n",
    "data_noartist.drop([\"NER_TAGS\", \"TEXT\"], axis=1).to_csv(\"../data/datacos_noartist.csv\", sep=\";\")\n",
    "\n",
    "data_notitle = data.loc[~data.NER_TAGS.apply(lambda x: \"B-WoA\" in x), :]\n",
    "data_notitle.yt_processed = data_notitle.yt_processed.str.replace(\"\\n\", \" \").str.replace(\"\\t\", \" \")\n",
    "data_notitle.drop([\"NER_TAGS\", \"TEXT\"], axis=1).to_csv(\"../data/datacos_notitle.csv\", sep=\";\")\n",
    "\n",
    "print(f\"Videos without matched Artist entity: {round(len(data_noartist)/len(data), 2)}\")\n",
    "print(f\"Videos without matched Title entity: {round(len(data_notitle)/len(data), 2)}\")\n"
   ]
  },
  {
   "cell_type": "markdown",
   "metadata": {},
   "source": [
    "### Multiple artists, usually separated by \"feat\", \"featuring\", \"vs\"\n",
    "- omitting feat. artist\n",
    "    - eg. \"dub spencer & trance hill feat the catch\" vs. \"dub spencer & trance hill\"\n",
    "- artist and feat. artist split by song title\n",
    "    - eg. \"theo croker SONG_TITLE feat dee dee bridgewater\" Vs. \"theo croker featuring dee dee bridgewater\"\n",
    "- both artists spearatly mentioned for \"sugababes vs girls aloud\"\t\n",
    "### Unfuzzy-Problem\n",
    "Are these problems solvable by edit-distance-like approach?\n",
    "- String + digit concatenated vs. not concatenated\n",
    "    - eg. \"equipe84\" vs. \"equipe 84\"\n",
    "    - eg. \"06diphtheria\" instead of \"diphtheria\"\n",
    "- genetive in artist name\n",
    "    - eg. \"janice whales\" instead of \"janice whaley\"\n",
    "- absence of article \"the\"\n",
    "    - eg. \"cats\" instead of \"the cats\"\n",
    "- which pattern is this actually? encoding? wrong preprocessing?:\n",
    "    - \"robin\\nfi?\" in SHS metadata?\n",
    "    - \"all saints\\ngb\" ..\n",
    "    - \"sabrina\\nph\" ...\n",
    "- wrong spacing\n",
    "    - \"di do\" instead of \"dido\"\n",
    "    - \"vaughn deleath\"\tinstead of \"vaughn de leath\"\t\n",
    "- missing single chars \n",
    "    - between tokens\n",
    "        - eg \"george wallace jr\" instead of \"george c wallace jr\"\n",
    "    - in tokens\n",
    "        - eg \"ariane moffat\" instead of \"ariane moffatt\"\n",
    "- typo\n",
    "    - \"rosanna eckert\" instead of \"rosana eckert\"\n",
    "- alternative name \n",
    "    - \"european ensemble string quartett\" instead of \"european ensemble strings\"\n",
    "- \"&\" vs. \"and\" (eg. \"jim and jesse\" vs \"jim & jesse\")\n"
   ]
  },
  {
   "cell_type": "code",
   "execution_count": null,
   "metadata": {},
   "outputs": [],
   "source": [
    "data_noartist.sample(10)[[\"yt_processed\", \"performer_perf_processed\"]]\n"
   ]
  },
  {
   "cell_type": "code",
   "execution_count": null,
   "metadata": {},
   "outputs": [],
   "source": [
    "data_notitle.sample(10)[[\"yt_processed\", \"title_perf_processed\"]]\n"
   ]
  },
  {
   "cell_type": "markdown",
   "metadata": {},
   "source": [
    "# SHS100K2"
   ]
  },
  {
   "cell_type": "code",
   "execution_count": null,
   "metadata": {},
   "outputs": [],
   "source": [
    "data = pd.read_parquet(\"../data/shs100k2_biotag.parquet\")\n",
    "\n",
    "# data without artist and title tags each\n",
    "data_noartist = data.loc[~data.NER_TAGS.apply(lambda x: \"B-Artist\" in x), :]\n",
    "data_noartist.yt_processed = data_noartist.yt_processed.str.replace(\"\\n\", \" \").str.replace(\"\\t\", \" \")\n",
    "data_noartist.drop([\"NER_TAGS\", \"TEXT\"], axis=1).to_csv(\"../data/datacos_noartist.csv\", sep=\";\")\n",
    "\n",
    "data_notitle = data.loc[~data.NER_TAGS.apply(lambda x: \"B-WoA\" in x), :]\n",
    "data_notitle.yt_processed = data_notitle.yt_processed.str.replace(\"\\n\", \" \").str.replace(\"\\t\", \" \")\n",
    "data_notitle.drop([\"NER_TAGS\", \"TEXT\"], axis=1).to_csv(\"../data/datacos_notitle.csv\", sep=\";\")\n",
    "\n",
    "print(f\"Videos without matched Artist entity: {round(len(data_noartist)/len(data), 2)}\")\n",
    "print(f\"Videos without matched Title entity: {round(len(data_notitle)/len(data), 2)}\")\n"
   ]
  },
  {
   "cell_type": "code",
   "execution_count": null,
   "metadata": {},
   "outputs": [],
   "source": [
    "data_notitle"
   ]
  },
  {
   "cell_type": "code",
   "execution_count": null,
   "metadata": {},
   "outputs": [],
   "source": [
    "data_notitle.sample(10)[[\"yt_processed\", \"title_processed\"]]\n"
   ]
  }
 ],
 "metadata": {
  "kernelspec": {
   "display_name": "torch21",
   "language": "python",
   "name": "python3"
  },
  "language_info": {
   "codemirror_mode": {
    "name": "ipython",
    "version": 3
   },
   "file_extension": ".py",
   "mimetype": "text/x-python",
   "name": "python",
   "nbconvert_exporter": "python",
   "pygments_lexer": "ipython3",
   "version": "3.11.5"
  }
 },
 "nbformat": 4,
 "nbformat_minor": 2
}
