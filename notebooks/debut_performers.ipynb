{
 "cells": [
  {
   "cell_type": "code",
   "execution_count": 3,
   "metadata": {},
   "outputs": [],
   "source": [
    "import musicbrainzngs\n",
    "import pandas as pd\n",
    "\n",
    "# Set up the MusicBrainz client\n",
    "musicbrainzngs.set_useragent(\"anonymous\", \"1.0\", \"anonymous@university.com\")\n",
    "\n",
    "def get_debut_artists_with_releases_2024():\n",
    "    debut_artists = []\n",
    "    \n",
    "    # Search for artists with a specific start year\n",
    "    result = musicbrainzngs.search_artists(query=\"begin:2024\", limit=100)\n",
    "    \n",
    "    for artist in result['artist-list']:\n",
    "        artist_info = {\n",
    "            'name': artist['name'],\n",
    "            'id': artist['id'],\n",
    "            'country': artist.get('country'),\n",
    "            'begin_date': artist.get('life-span', {})[\"begin\"],\n",
    "            'debut_release': None  # Placeholder for the debut release\n",
    "        }\n",
    "\n",
    "        # Fetch the artist's releases\n",
    "        try:\n",
    "            releases = musicbrainzngs.browse_releases(artist=artist['id'], includes=['release-groups'], limit=100)\n",
    "            release_groups = releases['release-list']\n",
    "            \n",
    "            \n",
    "            # Sort by release date and select the earliest\n",
    "            if release_groups:\n",
    "                release_groups.sort(key=lambda x: x.get('first-release-date', '9999'))\n",
    "                artist_info['debut_release'] = {\n",
    "                    'title': release_groups[0]['title'],\n",
    "                    'date': release_groups[0].get('date'),\n",
    "                    'title2': release_groups[0][\"release-group\"].get(\"title\"),\n",
    "                    'type2': release_groups[0][\"release-group\"].get(\"type\"),\n",
    "                    'date2': release_groups[0][\"release-group\"].get(\"first-release-date\")\n",
    "                }\n",
    "\n",
    "        except Exception as e:\n",
    "            print(f\"Error fetching releases for {artist['name']}: {e}\")\n",
    "        \n",
    "        debut_artists.append(artist_info)\n",
    "    \n",
    "    return debut_artists\n",
    "\n",
    "# Fetch debut artists and their debut releases for 2024\n",
    "artists_with_releases_2024 = get_debut_artists_with_releases_2024()\n",
    "\n",
    "df = pd.DataFrame(artists_with_releases_2024)\n"
   ]
  },
  {
   "cell_type": "code",
   "execution_count": 5,
   "metadata": {},
   "outputs": [],
   "source": [
    "df = pd.DataFrame(artists_with_releases_2024)\n",
    "df = df.drop(\"debut_release\", axis=1).join(pd.json_normalize(df.debut_release).add_prefix(\"release_\"))\n",
    "df.to_json(\"../data/raw/debut_performers.jsonl\", lines=True, orient=\"records\",)\n"
   ]
  }
 ],
 "metadata": {
  "kernelspec": {
   "display_name": "torch21",
   "language": "python",
   "name": "python3"
  },
  "language_info": {
   "codemirror_mode": {
    "name": "ipython",
    "version": 3
   },
   "file_extension": ".py",
   "mimetype": "text/x-python",
   "name": "python",
   "nbconvert_exporter": "python",
   "pygments_lexer": "ipython3",
   "version": "3.11.5"
  }
 },
 "nbformat": 4,
 "nbformat_minor": 2
}
