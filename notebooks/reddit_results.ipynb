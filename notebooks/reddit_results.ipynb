{
 "cells": [
  {
   "cell_type": "code",
   "execution_count": 9,
   "metadata": {},
   "outputs": [],
   "source": [
    "import sys\n",
    "sys.path.append(\"..\")\n",
    "from src.Eval import compute_results_jsonl, compute_results_txt\n",
    "from src.Utils import get_true_pred_entities, read_IOB_file\n",
    "from baseline.parse_output import get_results_overall_table, get_results_table, parse_preds_baseline\n",
    "\n",
    "BASELINES = [\"bert-large-uncased\", \"roberta-large\", \"mpnet-base\"]\n",
    "OUTPUT_PATH_REDDIT = \"../baseline/music-ner-eacl2023/output/dataset\"\n"
   ]
  },
  {
   "cell_type": "markdown",
   "metadata": {},
   "source": [
    "# Overall\n",
    "## Baseline: BERT etc."
   ]
  },
  {
   "cell_type": "code",
   "execution_count": 12,
   "metadata": {},
   "outputs": [
    {
     "name": "stdout",
     "output_type": "stream",
     "text": [
      "Model\n",
      "bert-large-uncased    0.780469\n",
      "mpnet-base            0.768840\n",
      "roberta-large         0.753986\n",
      "Name: (macro, strict, f1), dtype: float64\n",
      "Model\n",
      "bert-large-uncased    0.806217\n",
      "mpnet-base            0.829565\n",
      "roberta-large         0.782475\n",
      "Name: (macro, strict, f1), dtype: float64\n",
      "Model\n",
      "bert-large-uncased    0.772230\n",
      "mpnet-base            0.770317\n",
      "roberta-large         0.759375\n",
      "Name: (macro, strict, f1), dtype: float64\n",
      "Model\n",
      "bert-large-uncased    0.692649\n",
      "mpnet-base            0.704873\n",
      "roberta-large         0.715011\n",
      "Name: (macro, strict, f1), dtype: float64\n"
     ]
    }
   ],
   "source": [
    "for i in range(1,5):\n",
    "    print(get_results_overall_table(BASELINES, OUTPUT_PATH_REDDIT + str(i)).loc[\"macro\", \"strict\", \"f1\"])\n"
   ]
  },
  {
   "cell_type": "markdown",
   "metadata": {},
   "source": [
    "## LLaMa-3"
   ]
  },
  {
   "cell_type": "code",
   "execution_count": 19,
   "metadata": {},
   "outputs": [
    {
     "name": "stdout",
     "output_type": "stream",
     "text": [
      "\n",
      "Dataset1: \n",
      "Dataset1 Does not work\n",
      "\n",
      "Dataset2: \n"
     ]
    },
    {
     "name": "stderr",
     "output_type": "stream",
     "text": [
      "100%|██████████| 600/600 [00:00<00:00, 35671.92it/s]\n",
      "100%|██████████| 600/600 [00:00<00:00, 9523.45it/s]\n"
     ]
    },
    {
     "name": "stdout",
     "output_type": "stream",
     "text": [
      "Retag IOBs...\n"
     ]
    },
    {
     "name": "stderr",
     "output_type": "stream",
     "text": [
      "100%|██████████| 600/600 [00:00<00:00, 26315.00it/s]\n",
      "2024-06-21 07:58:49 root INFO: Imported 599 predictions for 599 true examples\n"
     ]
    },
    {
     "name": "stdout",
     "output_type": "stream",
     "text": [
      "INFO: 1 non matching IOB taglists.\n",
      "\n",
      " Overall\n",
      "schema      precision    recall        f1    correct    incorrect    partial    missed    spurious    possible    actual\n",
      "--------  -----------  --------  --------  ---------  -----------  ---------  --------  ----------  ----------  --------\n",
      "strict       0.702461  0.620553  0.658972        314           42          0       150          91         506       447\n",
      "ent_type     0.751678  0.664032  0.705142        336           20          0       150          91         506       447\n",
      "exact        0.747204  0.660079  0.700944        334           22          0       150          91         506       447\n",
      "\n",
      " Artist\n",
      "schema      precision    recall        f1    correct    incorrect    partial    missed    spurious    possible    actual\n",
      "--------  -----------  --------  --------  ---------  -----------  ---------  --------  ----------  ----------  --------\n",
      "strict       0.760504  0.635088  0.692161        181           12          0        92          45         285       238\n",
      "ent_type     0.794118  0.663158  0.722753        189            4          0        92          45         285       238\n",
      "exact        0.777311  0.649123  0.707457        185            8          0        92          45         285       238\n",
      "\n",
      " WoA\n",
      "schema      precision    recall        f1    correct    incorrect    partial    missed    spurious    possible    actual\n",
      "--------  -----------  --------  --------  ---------  -----------  ---------  --------  ----------  ----------  --------\n",
      "strict       0.636364  0.60181   0.618605        133           30          0        58          46         221       209\n",
      "ent_type     0.703349  0.665158  0.683721        147           16          0        58          46         221       209\n",
      "exact        0.712919  0.674208  0.693023        149           14          0        58          46         221       209\n",
      "\n",
      "Dataset3: \n"
     ]
    },
    {
     "name": "stderr",
     "output_type": "stream",
     "text": [
      "100%|██████████| 600/600 [00:00<00:00, 37882.65it/s]\n",
      "100%|██████████| 600/600 [00:00<00:00, 9728.07it/s]\n"
     ]
    },
    {
     "name": "stdout",
     "output_type": "stream",
     "text": [
      "Retag IOBs...\n"
     ]
    },
    {
     "name": "stderr",
     "output_type": "stream",
     "text": [
      "100%|██████████| 600/600 [00:00<00:00, 26325.74it/s]\n",
      "2024-06-21 07:58:49 root INFO: Imported 597 predictions for 597 true examples\n"
     ]
    },
    {
     "name": "stdout",
     "output_type": "stream",
     "text": [
      "INFO: 3 non matching IOB taglists.\n",
      "\n",
      " Overall\n",
      "schema      precision    recall        f1    correct    incorrect    partial    missed    spurious    possible    actual\n",
      "--------  -----------  --------  --------  ---------  -----------  ---------  --------  ----------  ----------  --------\n",
      "strict       0.68623   0.586873  0.632674        304           40          0       174          99         518       443\n",
      "ent_type     0.75395   0.644788  0.695109        334           10          0       174          99         518       443\n",
      "exact        0.708804  0.606178  0.653486        314           30          0       174          99         518       443\n",
      "\n",
      " Artist\n",
      "schema      precision    recall        f1    correct    incorrect    partial    missed    spurious    possible    actual\n",
      "--------  -----------  --------  --------  ---------  -----------  ---------  --------  ----------  ----------  --------\n",
      "strict       0.73251   0.607509  0.664179        178           10          0       105          55         293       243\n",
      "ent_type     0.769547  0.638225  0.697761        187            1          0       105          55         293       243\n",
      "exact        0.736626  0.610922  0.66791         179            9          0       105          55         293       243\n",
      "\n",
      " WoA\n",
      "schema      precision    recall        f1    correct    incorrect    partial    missed    spurious    possible    actual\n",
      "--------  -----------  --------  --------  ---------  -----------  ---------  --------  ----------  ----------  --------\n",
      "strict          0.63   0.56      0.592941        126           30          0        69          44         225       200\n",
      "ent_type        0.735  0.653333  0.691765        147            9          0        69          44         225       200\n",
      "exact           0.675  0.6       0.635294        135           21          0        69          44         225       200\n",
      "\n",
      "Dataset4: \n"
     ]
    },
    {
     "name": "stderr",
     "output_type": "stream",
     "text": [
      "100%|██████████| 751/751 [00:00<00:00, 36422.87it/s]\n",
      "100%|██████████| 751/751 [00:00<00:00, 9855.46it/s]\n"
     ]
    },
    {
     "name": "stdout",
     "output_type": "stream",
     "text": [
      "Retag IOBs...\n"
     ]
    },
    {
     "name": "stderr",
     "output_type": "stream",
     "text": [
      "100%|██████████| 751/751 [00:00<00:00, 27525.86it/s]\n",
      "2024-06-21 07:58:50 root INFO: Imported 750 predictions for 750 true examples\n"
     ]
    },
    {
     "name": "stdout",
     "output_type": "stream",
     "text": [
      "INFO: 1 non matching IOB taglists.\n",
      "\n",
      " Overall\n",
      "schema      precision    recall        f1    correct    incorrect    partial    missed    spurious    possible    actual\n",
      "--------  -----------  --------  --------  ---------  -----------  ---------  --------  ----------  ----------  --------\n",
      "strict       0.690299  0.568356  0.62342         370           62          0       219         104         651       536\n",
      "ent_type     0.755597  0.62212   0.682393        405           27          0       219         104         651       536\n",
      "exact        0.740672  0.609831  0.668913        397           35          0       219         104         651       536\n",
      "\n",
      " Artist\n",
      "schema      precision    recall        f1    correct    incorrect    partial    missed    spurious    possible    actual\n",
      "--------  -----------  --------  --------  ---------  -----------  ---------  --------  ----------  ----------  --------\n",
      "strict       0.743243  0.575916  0.648968        220           24          0       138          52         382       296\n",
      "ent_type     0.800676  0.620419  0.699115        237            7          0       138          52         382       296\n",
      "exact        0.766892  0.594241  0.669617        227           17          0       138          52         382       296\n",
      "\n",
      " WoA\n",
      "schema      precision    recall        f1    correct    incorrect    partial    missed    spurious    possible    actual\n",
      "--------  -----------  --------  --------  ---------  -----------  ---------  --------  ----------  ----------  --------\n",
      "strict       0.625     0.557621  0.589391        150           38          0        81          52         269       240\n",
      "ent_type     0.7       0.624535  0.660118        168           20          0        81          52         269       240\n",
      "exact        0.708333  0.63197   0.667976        170           18          0        81          52         269       240\n"
     ]
    }
   ],
   "source": [
    "for i in range(1,5):\n",
    "    try:\n",
    "        print(f\"\\nDataset{i}: \")\n",
    "        data_llm_zeroshot = compute_results_jsonl(\n",
    "            f\"../baseline/music-ner-eacl2023/data/dataset{i}/test.bio\", \n",
    "            f\"../output/reddit/llama3_dataset{i}_simple2_4shot.jsonl\")\n",
    "    except:\n",
    "        print(f\"Dataset{i} Does not work\")"
   ]
  },
  {
   "cell_type": "code",
   "execution_count": 2,
   "metadata": {},
   "outputs": [
    {
     "name": "stderr",
     "output_type": "stream",
     "text": [
      "100%|██████████| 600/600 [00:00<00:00, 35794.70it/s]\n",
      "100%|██████████| 600/600 [00:00<00:00, 9161.34it/s]\n"
     ]
    },
    {
     "name": "stdout",
     "output_type": "stream",
     "text": [
      "Retag IOBs...\n"
     ]
    },
    {
     "name": "stderr",
     "output_type": "stream",
     "text": [
      "100%|██████████| 600/600 [00:00<00:00, 23768.03it/s]\n",
      "2024-06-21 07:09:14 root INFO: Imported 599 predictions for 599 true examples\n"
     ]
    },
    {
     "name": "stdout",
     "output_type": "stream",
     "text": [
      "INFO: 1 non matching IOB taglists.\n",
      "\n",
      " Overall\n",
      "schema      precision    recall        f1    correct    incorrect    partial    missed    spurious    possible    actual\n",
      "--------  -----------  --------  --------  ---------  -----------  ---------  --------  ----------  ----------  --------\n",
      "strict       0.702461  0.620553  0.658972        314           42          0       150          91         506       447\n",
      "ent_type     0.751678  0.664032  0.705142        336           20          0       150          91         506       447\n",
      "exact        0.747204  0.660079  0.700944        334           22          0       150          91         506       447\n",
      "\n",
      " Artist\n",
      "schema      precision    recall        f1    correct    incorrect    partial    missed    spurious    possible    actual\n",
      "--------  -----------  --------  --------  ---------  -----------  ---------  --------  ----------  ----------  --------\n",
      "strict       0.760504  0.635088  0.692161        181           12          0        92          45         285       238\n",
      "ent_type     0.794118  0.663158  0.722753        189            4          0        92          45         285       238\n",
      "exact        0.777311  0.649123  0.707457        185            8          0        92          45         285       238\n",
      "\n",
      " WoA\n",
      "schema      precision    recall        f1    correct    incorrect    partial    missed    spurious    possible    actual\n",
      "--------  -----------  --------  --------  ---------  -----------  ---------  --------  ----------  ----------  --------\n",
      "strict       0.636364  0.60181   0.618605        133           30          0        58          46         221       209\n",
      "ent_type     0.703349  0.665158  0.683721        147           16          0        58          46         221       209\n",
      "exact        0.712919  0.674208  0.693023        149           14          0        58          46         221       209\n"
     ]
    }
   ],
   "source": [
    "a,b = read_IOB_file(\"../baseline/music-ner-eacl2023/data/dataset1/test.bio\")\n",
    "\n",
    "\n",
    "# WHY IS MORE PREDICTED?\n"
   ]
  },
  {
   "cell_type": "markdown",
   "metadata": {},
   "source": [
    "### Takeaways from Overall\n",
    "- at least for few-shot, BERT-like models seem to be better than LLaMa-3"
   ]
  },
  {
   "cell_type": "markdown",
   "metadata": {},
   "source": [
    "# Error Analysis"
   ]
  },
  {
   "cell_type": "code",
   "execution_count": 33,
   "metadata": {},
   "outputs": [],
   "source": [
    "data = get_true_pred_entities(\n",
    "    \"bert-large-uncased\", \"../baseline/music-ner-eacl2023/output/dataset\" + str(4)).dropna(\n",
    "        how=\"all\")\n",
    "\n",
    "mask_artist = (data.Artist_true != data.Artist_pred) & ~(data.Artist_true.isna() & data.Artist_pred.isna())\n",
    "mask_woa = (data.WoA_true != data.WoA_pred) & ~(data.WoA_true.isna() & data.WoA_pred.isna())\n"
   ]
  },
  {
   "cell_type": "markdown",
   "metadata": {},
   "source": [
    "## Errors at WoA"
   ]
  },
  {
   "cell_type": "code",
   "execution_count": 35,
   "metadata": {},
   "outputs": [
    {
     "data": {
      "text/html": [
       "<div>\n",
       "<style scoped>\n",
       "    .dataframe tbody tr th:only-of-type {\n",
       "        vertical-align: middle;\n",
       "    }\n",
       "\n",
       "    .dataframe tbody tr th {\n",
       "        vertical-align: top;\n",
       "    }\n",
       "\n",
       "    .dataframe thead th {\n",
       "        text-align: right;\n",
       "    }\n",
       "</style>\n",
       "<table border=\"1\" class=\"dataframe\">\n",
       "  <thead>\n",
       "    <tr style=\"text-align: right;\">\n",
       "      <th></th>\n",
       "      <th>WoA_true</th>\n",
       "      <th>WoA_pred</th>\n",
       "    </tr>\n",
       "  </thead>\n",
       "  <tbody>\n",
       "    <tr>\n",
       "      <th>6</th>\n",
       "      <td>[melody noir]</td>\n",
       "      <td>[melody]</td>\n",
       "    </tr>\n",
       "    <tr>\n",
       "      <th>18</th>\n",
       "      <td>[molly]</td>\n",
       "      <td>[lil dicky]</td>\n",
       "    </tr>\n",
       "    <tr>\n",
       "      <th>19</th>\n",
       "      <td>[the times they are a changin]</td>\n",
       "      <td>[they are a changin]</td>\n",
       "    </tr>\n",
       "    <tr>\n",
       "      <th>44</th>\n",
       "      <td>[asesina]</td>\n",
       "      <td>[sowlo]</td>\n",
       "    </tr>\n",
       "    <tr>\n",
       "      <th>54</th>\n",
       "      <td>[black licorice]</td>\n",
       "      <td>NaN</td>\n",
       "    </tr>\n",
       "    <tr>\n",
       "      <th>...</th>\n",
       "      <td>...</td>\n",
       "      <td>...</td>\n",
       "    </tr>\n",
       "    <tr>\n",
       "      <th>716</th>\n",
       "      <td>[harvest moon]</td>\n",
       "      <td>[poolside, harvest moon]</td>\n",
       "    </tr>\n",
       "    <tr>\n",
       "      <th>719</th>\n",
       "      <td>[runnin, the creed 2]</td>\n",
       "      <td>[runnin, creed 2]</td>\n",
       "    </tr>\n",
       "    <tr>\n",
       "      <th>720</th>\n",
       "      <td>[searching]</td>\n",
       "      <td>NaN</td>\n",
       "    </tr>\n",
       "    <tr>\n",
       "      <th>730</th>\n",
       "      <td>[vincent, imagine]</td>\n",
       "      <td>NaN</td>\n",
       "    </tr>\n",
       "    <tr>\n",
       "      <th>743</th>\n",
       "      <td>[gently wind]</td>\n",
       "      <td>[gently wind, joshua speedy]</td>\n",
       "    </tr>\n",
       "  </tbody>\n",
       "</table>\n",
       "<p>112 rows × 2 columns</p>\n",
       "</div>"
      ],
      "text/plain": [
       "                           WoA_true                      WoA_pred\n",
       "6                     [melody noir]                      [melody]\n",
       "18                          [molly]                   [lil dicky]\n",
       "19   [the times they are a changin]          [they are a changin]\n",
       "44                        [asesina]                       [sowlo]\n",
       "54                 [black licorice]                           NaN\n",
       "..                              ...                           ...\n",
       "716                  [harvest moon]      [poolside, harvest moon]\n",
       "719           [runnin, the creed 2]             [runnin, creed 2]\n",
       "720                     [searching]                           NaN\n",
       "730              [vincent, imagine]                           NaN\n",
       "743                   [gently wind]  [gently wind, joshua speedy]\n",
       "\n",
       "[112 rows x 2 columns]"
      ]
     },
     "execution_count": 35,
     "metadata": {},
     "output_type": "execute_result"
    }
   ],
   "source": [
    "data.loc[mask_woa, [\"WoA_true\", \"WoA_pred\"]]\n"
   ]
  },
  {
   "cell_type": "markdown",
   "metadata": {},
   "source": [
    "## Errors at Artist"
   ]
  },
  {
   "cell_type": "code",
   "execution_count": 36,
   "metadata": {},
   "outputs": [
    {
     "data": {
      "text/html": [
       "<div>\n",
       "<style scoped>\n",
       "    .dataframe tbody tr th:only-of-type {\n",
       "        vertical-align: middle;\n",
       "    }\n",
       "\n",
       "    .dataframe tbody tr th {\n",
       "        vertical-align: top;\n",
       "    }\n",
       "\n",
       "    .dataframe thead th {\n",
       "        text-align: right;\n",
       "    }\n",
       "</style>\n",
       "<table border=\"1\" class=\"dataframe\">\n",
       "  <thead>\n",
       "    <tr style=\"text-align: right;\">\n",
       "      <th></th>\n",
       "      <th>Artist_true</th>\n",
       "      <th>Artist_pred</th>\n",
       "    </tr>\n",
       "  </thead>\n",
       "  <tbody>\n",
       "    <tr>\n",
       "      <th>6</th>\n",
       "      <td>[patrick watson]</td>\n",
       "      <td>[noir, patrick watson]</td>\n",
       "    </tr>\n",
       "    <tr>\n",
       "      <th>11</th>\n",
       "      <td>NaN</td>\n",
       "      <td>[deathstep]</td>\n",
       "    </tr>\n",
       "    <tr>\n",
       "      <th>18</th>\n",
       "      <td>[brandon urie, lil dicky]</td>\n",
       "      <td>[molly, brandon urie]</td>\n",
       "    </tr>\n",
       "    <tr>\n",
       "      <th>19</th>\n",
       "      <td>NaN</td>\n",
       "      <td>[the times]</td>\n",
       "    </tr>\n",
       "    <tr>\n",
       "      <th>31</th>\n",
       "      <td>[elliot smith]</td>\n",
       "      <td>[grundge, elliot smith]</td>\n",
       "    </tr>\n",
       "    <tr>\n",
       "      <th>...</th>\n",
       "      <td>...</td>\n",
       "      <td>...</td>\n",
       "    </tr>\n",
       "    <tr>\n",
       "      <th>716</th>\n",
       "      <td>[poolside, neil young]</td>\n",
       "      <td>[neil young]</td>\n",
       "    </tr>\n",
       "    <tr>\n",
       "      <th>720</th>\n",
       "      <td>[youth 83]</td>\n",
       "      <td>[searching youth]</td>\n",
       "    </tr>\n",
       "    <tr>\n",
       "      <th>730</th>\n",
       "      <td>NaN</td>\n",
       "      <td>[vincent, imagine]</td>\n",
       "    </tr>\n",
       "    <tr>\n",
       "      <th>743</th>\n",
       "      <td>[joshua speedy]</td>\n",
       "      <td>NaN</td>\n",
       "    </tr>\n",
       "    <tr>\n",
       "      <th>745</th>\n",
       "      <td>NaN</td>\n",
       "      <td>[sone]</td>\n",
       "    </tr>\n",
       "  </tbody>\n",
       "</table>\n",
       "<p>100 rows × 2 columns</p>\n",
       "</div>"
      ],
      "text/plain": [
       "                   Artist_true              Artist_pred\n",
       "6             [patrick watson]   [noir, patrick watson]\n",
       "11                         NaN              [deathstep]\n",
       "18   [brandon urie, lil dicky]    [molly, brandon urie]\n",
       "19                         NaN              [the times]\n",
       "31              [elliot smith]  [grundge, elliot smith]\n",
       "..                         ...                      ...\n",
       "716     [poolside, neil young]             [neil young]\n",
       "720                 [youth 83]        [searching youth]\n",
       "730                        NaN       [vincent, imagine]\n",
       "743            [joshua speedy]                      NaN\n",
       "745                        NaN                   [sone]\n",
       "\n",
       "[100 rows x 2 columns]"
      ]
     },
     "execution_count": 36,
     "metadata": {},
     "output_type": "execute_result"
    }
   ],
   "source": [
    "data.loc[mask_artist, [\"Artist_true\", \"Artist_pred\"]]\n"
   ]
  },
  {
   "cell_type": "markdown",
   "metadata": {},
   "source": [
    "# Ideas\n",
    "### Stabilize\n",
    "- Always: \"Does the entity X refer to a Work of Art or a musical Artist?\"\n",
    "- If no entity found: \"Is there no entity referring to a Work of Art (WoA) or a musical Artist?\"\n",
    "### Understandability\n",
    "- If there is a WoA in this text, how did you identify it?\n",
    "- If there is an Artist in this text, how did you identify it?\n",
    "- Did you use linguistic knowledge to identify entities or did you \n"
   ]
  },
  {
   "cell_type": "code",
   "execution_count": null,
   "metadata": {},
   "outputs": [],
   "source": []
  }
 ],
 "metadata": {
  "kernelspec": {
   "display_name": "torch21",
   "language": "python",
   "name": "python3"
  },
  "language_info": {
   "codemirror_mode": {
    "name": "ipython",
    "version": 3
   },
   "file_extension": ".py",
   "mimetype": "text/x-python",
   "name": "python",
   "nbconvert_exporter": "python",
   "pygments_lexer": "ipython3",
   "version": "3.11.5"
  }
 },
 "nbformat": 4,
 "nbformat_minor": 2
}
