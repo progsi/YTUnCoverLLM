{
 "cells": [
  {
   "cell_type": "code",
   "execution_count": 1,
   "metadata": {},
   "outputs": [],
   "source": [
    "import sys\n",
    "sys.path.append(\"..\")\n",
    "from src.Eval import compute_results_jsonl, compute_results_txt\n",
    "from src.Utils import get_true_pred_entities, read_IOB_file\n",
    "from baseline.parse_output import get_results_overall_table, get_results_table, parse_preds_baseline\n",
    "\n",
    "BASELINES = [\"bert-large-uncased\", \"roberta-large\", \"mpnet-base\"]\n",
    "OUTPUT_PATH_REDDIT = \"../baseline/music-ner-eacl2023/output/dataset\"\n"
   ]
  },
  {
   "cell_type": "markdown",
   "metadata": {},
   "source": [
    "# Overall\n",
    "## Baseline: BERT etc."
   ]
  },
  {
   "cell_type": "code",
   "execution_count": 2,
   "metadata": {},
   "outputs": [
    {
     "name": "stdout",
     "output_type": "stream",
     "text": [
      "Model\n",
      "bert-large-uncased    0.780469\n",
      "mpnet-base            0.768840\n",
      "roberta-large         0.753986\n",
      "Name: (macro, strict, f1), dtype: float64\n",
      "Model\n",
      "bert-large-uncased    0.806217\n",
      "mpnet-base            0.829565\n",
      "roberta-large         0.782475\n",
      "Name: (macro, strict, f1), dtype: float64\n",
      "Model\n",
      "bert-large-uncased    0.772230\n",
      "mpnet-base            0.770317\n",
      "roberta-large         0.759375\n",
      "Name: (macro, strict, f1), dtype: float64\n",
      "Model\n",
      "bert-large-uncased    0.692649\n",
      "mpnet-base            0.704873\n",
      "roberta-large         0.715011\n",
      "Name: (macro, strict, f1), dtype: float64\n"
     ]
    }
   ],
   "source": [
    "for i in range(1,5):\n",
    "    print(get_results_overall_table(BASELINES, OUTPUT_PATH_REDDIT + str(i)).loc[\"macro\", \"strict\", \"f1\"])\n"
   ]
  },
  {
   "cell_type": "markdown",
   "metadata": {},
   "source": [
    "## LLaMa-3"
   ]
  },
  {
   "cell_type": "code",
   "execution_count": 3,
   "metadata": {},
   "outputs": [
    {
     "name": "stdout",
     "output_type": "stream",
     "text": [
      "\n",
      "Dataset1: \n",
      "Dataset1 Does not work\n",
      "\n",
      "Dataset2: \n"
     ]
    },
    {
     "name": "stderr",
     "output_type": "stream",
     "text": [
      "100%|██████████| 600/600 [00:00<00:00, 34770.47it/s]\n",
      "100%|██████████| 600/600 [00:00<00:00, 8917.22it/s]\n"
     ]
    },
    {
     "name": "stdout",
     "output_type": "stream",
     "text": [
      "Retag IOBs...\n"
     ]
    },
    {
     "name": "stderr",
     "output_type": "stream",
     "text": [
      "100%|██████████| 600/600 [00:00<00:00, 22795.54it/s]"
     ]
    },
    {
     "name": "stdout",
     "output_type": "stream",
     "text": [
      "INFO: 1 non matching IOB taglists.\n"
     ]
    },
    {
     "name": "stderr",
     "output_type": "stream",
     "text": [
      "\n",
      "2024-06-24 13:03:54 root INFO: Imported 599 predictions for 599 true examples\n"
     ]
    },
    {
     "name": "stdout",
     "output_type": "stream",
     "text": [
      "\n",
      " Overall\n",
      "schema      precision    recall        f1    correct    incorrect    partial    missed    spurious    possible    actual\n",
      "--------  -----------  --------  --------  ---------  -----------  ---------  --------  ----------  ----------  --------\n",
      "strict       0.702461  0.620553  0.658972        314           42          0       150          91         506       447\n",
      "ent_type     0.751678  0.664032  0.705142        336           20          0       150          91         506       447\n",
      "exact        0.747204  0.660079  0.700944        334           22          0       150          91         506       447\n",
      "\n",
      " Artist\n",
      "schema      precision    recall        f1    correct    incorrect    partial    missed    spurious    possible    actual\n",
      "--------  -----------  --------  --------  ---------  -----------  ---------  --------  ----------  ----------  --------\n",
      "strict       0.760504  0.635088  0.692161        181           12          0        92          45         285       238\n",
      "ent_type     0.794118  0.663158  0.722753        189            4          0        92          45         285       238\n",
      "exact        0.777311  0.649123  0.707457        185            8          0        92          45         285       238\n",
      "\n",
      " WoA\n",
      "schema      precision    recall        f1    correct    incorrect    partial    missed    spurious    possible    actual\n",
      "--------  -----------  --------  --------  ---------  -----------  ---------  --------  ----------  ----------  --------\n",
      "strict       0.636364  0.60181   0.618605        133           30          0        58          46         221       209\n",
      "ent_type     0.703349  0.665158  0.683721        147           16          0        58          46         221       209\n",
      "exact        0.712919  0.674208  0.693023        149           14          0        58          46         221       209\n",
      "\n",
      "Dataset3: \n"
     ]
    },
    {
     "name": "stderr",
     "output_type": "stream",
     "text": [
      "100%|██████████| 600/600 [00:00<00:00, 36559.63it/s]\n",
      "100%|██████████| 600/600 [00:00<00:00, 9044.00it/s]\n"
     ]
    },
    {
     "name": "stdout",
     "output_type": "stream",
     "text": [
      "Retag IOBs...\n"
     ]
    },
    {
     "name": "stderr",
     "output_type": "stream",
     "text": [
      "100%|██████████| 600/600 [00:00<00:00, 23325.45it/s]\n",
      "2024-06-24 13:03:54 root INFO: Imported 597 predictions for 597 true examples\n"
     ]
    },
    {
     "name": "stdout",
     "output_type": "stream",
     "text": [
      "INFO: 3 non matching IOB taglists.\n",
      "\n",
      " Overall\n",
      "schema      precision    recall        f1    correct    incorrect    partial    missed    spurious    possible    actual\n",
      "--------  -----------  --------  --------  ---------  -----------  ---------  --------  ----------  ----------  --------\n",
      "strict       0.68623   0.586873  0.632674        304           40          0       174          99         518       443\n",
      "ent_type     0.75395   0.644788  0.695109        334           10          0       174          99         518       443\n",
      "exact        0.708804  0.606178  0.653486        314           30          0       174          99         518       443\n",
      "\n",
      " Artist\n",
      "schema      precision    recall        f1    correct    incorrect    partial    missed    spurious    possible    actual\n",
      "--------  -----------  --------  --------  ---------  -----------  ---------  --------  ----------  ----------  --------\n",
      "strict       0.73251   0.607509  0.664179        178           10          0       105          55         293       243\n",
      "ent_type     0.769547  0.638225  0.697761        187            1          0       105          55         293       243\n",
      "exact        0.736626  0.610922  0.66791         179            9          0       105          55         293       243\n",
      "\n",
      " WoA\n",
      "schema      precision    recall        f1    correct    incorrect    partial    missed    spurious    possible    actual\n",
      "--------  -----------  --------  --------  ---------  -----------  ---------  --------  ----------  ----------  --------\n",
      "strict          0.63   0.56      0.592941        126           30          0        69          44         225       200\n",
      "ent_type        0.735  0.653333  0.691765        147            9          0        69          44         225       200\n",
      "exact           0.675  0.6       0.635294        135           21          0        69          44         225       200\n",
      "\n",
      "Dataset4: \n"
     ]
    },
    {
     "name": "stderr",
     "output_type": "stream",
     "text": [
      "100%|██████████| 751/751 [00:00<00:00, 35616.89it/s]\n",
      "100%|██████████| 751/751 [00:00<00:00, 9621.79it/s]\n"
     ]
    },
    {
     "name": "stdout",
     "output_type": "stream",
     "text": [
      "Retag IOBs...\n"
     ]
    },
    {
     "name": "stderr",
     "output_type": "stream",
     "text": [
      "100%|██████████| 751/751 [00:00<00:00, 24410.62it/s]\n",
      "2024-06-24 13:03:54 root INFO: Imported 750 predictions for 750 true examples\n"
     ]
    },
    {
     "name": "stdout",
     "output_type": "stream",
     "text": [
      "INFO: 1 non matching IOB taglists.\n",
      "\n",
      " Overall\n",
      "schema      precision    recall        f1    correct    incorrect    partial    missed    spurious    possible    actual\n",
      "--------  -----------  --------  --------  ---------  -----------  ---------  --------  ----------  ----------  --------\n",
      "strict       0.690299  0.568356  0.62342         370           62          0       219         104         651       536\n",
      "ent_type     0.755597  0.62212   0.682393        405           27          0       219         104         651       536\n",
      "exact        0.740672  0.609831  0.668913        397           35          0       219         104         651       536\n",
      "\n",
      " Artist\n",
      "schema      precision    recall        f1    correct    incorrect    partial    missed    spurious    possible    actual\n",
      "--------  -----------  --------  --------  ---------  -----------  ---------  --------  ----------  ----------  --------\n",
      "strict       0.743243  0.575916  0.648968        220           24          0       138          52         382       296\n",
      "ent_type     0.800676  0.620419  0.699115        237            7          0       138          52         382       296\n",
      "exact        0.766892  0.594241  0.669617        227           17          0       138          52         382       296\n",
      "\n",
      " WoA\n",
      "schema      precision    recall        f1    correct    incorrect    partial    missed    spurious    possible    actual\n",
      "--------  -----------  --------  --------  ---------  -----------  ---------  --------  ----------  ----------  --------\n",
      "strict       0.625     0.557621  0.589391        150           38          0        81          52         269       240\n",
      "ent_type     0.7       0.624535  0.660118        168           20          0        81          52         269       240\n",
      "exact        0.708333  0.63197   0.667976        170           18          0        81          52         269       240\n"
     ]
    }
   ],
   "source": [
    "for i in range(1,5):\n",
    "    try:\n",
    "        print(f\"\\nDataset{i}: \")\n",
    "        data_llm_zeroshot = compute_results_jsonl(\n",
    "            f\"../baseline/music-ner-eacl2023/data/dataset{i}/test.bio\", \n",
    "            f\"../output/reddit/llama3_dataset{i}_simple2_4shot.jsonl\")\n",
    "    except:\n",
    "        print(f\"Dataset{i} Does not work\")\n",
    "        "
   ]
  },
  {
   "cell_type": "code",
   "execution_count": 4,
   "metadata": {},
   "outputs": [],
   "source": [
    "a,b = read_IOB_file(\"../baseline/music-ner-eacl2023/data/dataset1/test.bio\")\n",
    "\n",
    "\n",
    "# WHY IS MORE PREDICTED?\n"
   ]
  },
  {
   "cell_type": "markdown",
   "metadata": {},
   "source": [
    "### Takeaways from Overall\n",
    "- at least for few-shot, BERT-like models seem to be better than LLaMa-3"
   ]
  },
  {
   "cell_type": "markdown",
   "metadata": {},
   "source": [
    "# Error Analysis"
   ]
  },
  {
   "cell_type": "code",
   "execution_count": 5,
   "metadata": {},
   "outputs": [],
   "source": [
    "data = get_true_pred_entities(\n",
    "    \"bert-large-uncased\", \"../baseline/music-ner-eacl2023/output/dataset\" + str(4)).dropna(\n",
    "        how=\"all\")\n",
    "\n",
    "mask_artist = (data.Artist_true != data.Artist_pred) & ~(data.Artist_true.isna() & data.Artist_pred.isna())\n",
    "mask_woa = (data.WoA_true != data.WoA_pred) & ~(data.WoA_true.isna() & data.WoA_pred.isna())\n"
   ]
  },
  {
   "cell_type": "markdown",
   "metadata": {},
   "source": [
    "## Errors at WoA"
   ]
  },
  {
   "cell_type": "code",
   "execution_count": 6,
   "metadata": {},
   "outputs": [
    {
     "data": {
      "text/html": [
       "<div>\n",
       "<style scoped>\n",
       "    .dataframe tbody tr th:only-of-type {\n",
       "        vertical-align: middle;\n",
       "    }\n",
       "\n",
       "    .dataframe tbody tr th {\n",
       "        vertical-align: top;\n",
       "    }\n",
       "\n",
       "    .dataframe thead th {\n",
       "        text-align: right;\n",
       "    }\n",
       "</style>\n",
       "<table border=\"1\" class=\"dataframe\">\n",
       "  <thead>\n",
       "    <tr style=\"text-align: right;\">\n",
       "      <th></th>\n",
       "      <th>text</th>\n",
       "      <th>WoA_true</th>\n",
       "      <th>WoA_pred</th>\n",
       "    </tr>\n",
       "  </thead>\n",
       "  <tbody>\n",
       "    <tr>\n",
       "      <th>6</th>\n",
       "      <td>songs similar to melody noir patrick watson</td>\n",
       "      <td>[melody noir]</td>\n",
       "      <td>[melody]</td>\n",
       "    </tr>\n",
       "    <tr>\n",
       "      <th>18</th>\n",
       "      <td>a similar emotional production vibe to molly f...</td>\n",
       "      <td>[molly]</td>\n",
       "      <td>[lil dicky]</td>\n",
       "    </tr>\n",
       "    <tr>\n",
       "      <th>19</th>\n",
       "      <td>need music like the times they are a changin</td>\n",
       "      <td>[the times they are a changin]</td>\n",
       "      <td>[they are a changin]</td>\n",
       "    </tr>\n",
       "    <tr>\n",
       "      <th>44</th>\n",
       "      <td>asesina kidd sowlo</td>\n",
       "      <td>[asesina]</td>\n",
       "      <td>[sowlo]</td>\n",
       "    </tr>\n",
       "    <tr>\n",
       "      <th>54</th>\n",
       "      <td>peach pit black licorice</td>\n",
       "      <td>[black licorice]</td>\n",
       "      <td>NaN</td>\n",
       "    </tr>\n",
       "    <tr>\n",
       "      <th>...</th>\n",
       "      <td>...</td>\n",
       "      <td>...</td>\n",
       "      <td>...</td>\n",
       "    </tr>\n",
       "    <tr>\n",
       "      <th>716</th>\n",
       "      <td>recommendations for music like this poolside r...</td>\n",
       "      <td>[harvest moon]</td>\n",
       "      <td>[poolside, harvest moon]</td>\n",
       "    </tr>\n",
       "    <tr>\n",
       "      <th>719</th>\n",
       "      <td>hip hop similar to runnin from the creed 2 album</td>\n",
       "      <td>[runnin, the creed 2]</td>\n",
       "      <td>[runnin, creed 2]</td>\n",
       "    </tr>\n",
       "    <tr>\n",
       "      <th>720</th>\n",
       "      <td>looking for the genre of searching youth 83</td>\n",
       "      <td>[searching]</td>\n",
       "      <td>NaN</td>\n",
       "    </tr>\n",
       "    <tr>\n",
       "      <th>730</th>\n",
       "      <td>songs like vincent or imagine</td>\n",
       "      <td>[vincent, imagine]</td>\n",
       "      <td>NaN</td>\n",
       "    </tr>\n",
       "    <tr>\n",
       "      <th>743</th>\n",
       "      <td>gently wind | joshua speedy</td>\n",
       "      <td>[gently wind]</td>\n",
       "      <td>[gently wind, joshua speedy]</td>\n",
       "    </tr>\n",
       "  </tbody>\n",
       "</table>\n",
       "<p>112 rows × 3 columns</p>\n",
       "</div>"
      ],
      "text/plain": [
       "                                                  text  \\\n",
       "6          songs similar to melody noir patrick watson   \n",
       "18   a similar emotional production vibe to molly f...   \n",
       "19        need music like the times they are a changin   \n",
       "44                                  asesina kidd sowlo   \n",
       "54                            peach pit black licorice   \n",
       "..                                                 ...   \n",
       "716  recommendations for music like this poolside r...   \n",
       "719   hip hop similar to runnin from the creed 2 album   \n",
       "720        looking for the genre of searching youth 83   \n",
       "730                      songs like vincent or imagine   \n",
       "743                        gently wind | joshua speedy   \n",
       "\n",
       "                           WoA_true                      WoA_pred  \n",
       "6                     [melody noir]                      [melody]  \n",
       "18                          [molly]                   [lil dicky]  \n",
       "19   [the times they are a changin]          [they are a changin]  \n",
       "44                        [asesina]                       [sowlo]  \n",
       "54                 [black licorice]                           NaN  \n",
       "..                              ...                           ...  \n",
       "716                  [harvest moon]      [poolside, harvest moon]  \n",
       "719           [runnin, the creed 2]             [runnin, creed 2]  \n",
       "720                     [searching]                           NaN  \n",
       "730              [vincent, imagine]                           NaN  \n",
       "743                   [gently wind]  [gently wind, joshua speedy]  \n",
       "\n",
       "[112 rows x 3 columns]"
      ]
     },
     "execution_count": 6,
     "metadata": {},
     "output_type": "execute_result"
    }
   ],
   "source": [
    "data.loc[mask_woa, [\"text\", \"WoA_true\", \"WoA_pred\"]]\n"
   ]
  },
  {
   "cell_type": "markdown",
   "metadata": {},
   "source": [
    "## Errors at Artist"
   ]
  },
  {
   "cell_type": "code",
   "execution_count": 8,
   "metadata": {},
   "outputs": [
    {
     "data": {
      "text/html": [
       "<div>\n",
       "<style scoped>\n",
       "    .dataframe tbody tr th:only-of-type {\n",
       "        vertical-align: middle;\n",
       "    }\n",
       "\n",
       "    .dataframe tbody tr th {\n",
       "        vertical-align: top;\n",
       "    }\n",
       "\n",
       "    .dataframe thead th {\n",
       "        text-align: right;\n",
       "    }\n",
       "</style>\n",
       "<table border=\"1\" class=\"dataframe\">\n",
       "  <thead>\n",
       "    <tr style=\"text-align: right;\">\n",
       "      <th></th>\n",
       "      <th>text</th>\n",
       "      <th>Artist_true</th>\n",
       "      <th>Artist_pred</th>\n",
       "    </tr>\n",
       "  </thead>\n",
       "  <tbody>\n",
       "    <tr>\n",
       "      <th>6</th>\n",
       "      <td>songs similar to melody noir patrick watson</td>\n",
       "      <td>[patrick watson]</td>\n",
       "      <td>[noir, patrick watson]</td>\n",
       "    </tr>\n",
       "    <tr>\n",
       "      <th>11</th>\n",
       "      <td>request | super heavy dubstep i believe that i...</td>\n",
       "      <td>NaN</td>\n",
       "      <td>[deathstep]</td>\n",
       "    </tr>\n",
       "    <tr>\n",
       "      <th>18</th>\n",
       "      <td>a similar emotional production vibe to molly f...</td>\n",
       "      <td>[brandon urie, lil dicky]</td>\n",
       "      <td>[molly, brandon urie]</td>\n",
       "    </tr>\n",
       "    <tr>\n",
       "      <th>19</th>\n",
       "      <td>need music like the times they are a changin</td>\n",
       "      <td>NaN</td>\n",
       "      <td>[the times]</td>\n",
       "    </tr>\n",
       "    <tr>\n",
       "      <th>31</th>\n",
       "      <td>grundge elliot smith type of band</td>\n",
       "      <td>[elliot smith]</td>\n",
       "      <td>[grundge, elliot smith]</td>\n",
       "    </tr>\n",
       "    <tr>\n",
       "      <th>...</th>\n",
       "      <td>...</td>\n",
       "      <td>...</td>\n",
       "      <td>...</td>\n",
       "    </tr>\n",
       "    <tr>\n",
       "      <th>716</th>\n",
       "      <td>recommendations for music like this poolside r...</td>\n",
       "      <td>[poolside, neil young]</td>\n",
       "      <td>[neil young]</td>\n",
       "    </tr>\n",
       "    <tr>\n",
       "      <th>720</th>\n",
       "      <td>looking for the genre of searching youth 83</td>\n",
       "      <td>[youth 83]</td>\n",
       "      <td>[searching youth]</td>\n",
       "    </tr>\n",
       "    <tr>\n",
       "      <th>730</th>\n",
       "      <td>songs like vincent or imagine</td>\n",
       "      <td>NaN</td>\n",
       "      <td>[vincent, imagine]</td>\n",
       "    </tr>\n",
       "    <tr>\n",
       "      <th>743</th>\n",
       "      <td>gently wind | joshua speedy</td>\n",
       "      <td>[joshua speedy]</td>\n",
       "      <td>NaN</td>\n",
       "    </tr>\n",
       "    <tr>\n",
       "      <th>745</th>\n",
       "      <td>would really appreciate sone recommendations</td>\n",
       "      <td>NaN</td>\n",
       "      <td>[sone]</td>\n",
       "    </tr>\n",
       "  </tbody>\n",
       "</table>\n",
       "<p>100 rows × 3 columns</p>\n",
       "</div>"
      ],
      "text/plain": [
       "                                                  text  \\\n",
       "6          songs similar to melody noir patrick watson   \n",
       "11   request | super heavy dubstep i believe that i...   \n",
       "18   a similar emotional production vibe to molly f...   \n",
       "19        need music like the times they are a changin   \n",
       "31                   grundge elliot smith type of band   \n",
       "..                                                 ...   \n",
       "716  recommendations for music like this poolside r...   \n",
       "720        looking for the genre of searching youth 83   \n",
       "730                      songs like vincent or imagine   \n",
       "743                        gently wind | joshua speedy   \n",
       "745       would really appreciate sone recommendations   \n",
       "\n",
       "                   Artist_true              Artist_pred  \n",
       "6             [patrick watson]   [noir, patrick watson]  \n",
       "11                         NaN              [deathstep]  \n",
       "18   [brandon urie, lil dicky]    [molly, brandon urie]  \n",
       "19                         NaN              [the times]  \n",
       "31              [elliot smith]  [grundge, elliot smith]  \n",
       "..                         ...                      ...  \n",
       "716     [poolside, neil young]             [neil young]  \n",
       "720                 [youth 83]        [searching youth]  \n",
       "730                        NaN       [vincent, imagine]  \n",
       "743            [joshua speedy]                      NaN  \n",
       "745                        NaN                   [sone]  \n",
       "\n",
       "[100 rows x 3 columns]"
      ]
     },
     "execution_count": 8,
     "metadata": {},
     "output_type": "execute_result"
    }
   ],
   "source": [
    "data.loc[mask_artist, [\"text\", \"Artist_true\", \"Artist_pred\"]]\n"
   ]
  },
  {
   "cell_type": "markdown",
   "metadata": {},
   "source": [
    "# Ideas\n",
    "### Stabilize\n",
    "- Always: \"Does the entity X refer to a Work of Art or a musical Artist?\"\n",
    "- If no entity found: \"Is there no entity referring to a Work of Art (WoA) or a musical Artist?\"\n",
    "### Understandability\n",
    "- If there is a WoA in this text, how did you identify it?\n",
    "- If there is an Artist in this text, how did you identify it?\n",
    "- Did you use linguistic knowledge to identify entities or did you \n"
   ]
  },
  {
   "cell_type": "code",
   "execution_count": 9,
   "metadata": {},
   "outputs": [
    {
     "name": "stderr",
     "output_type": "stream",
     "text": [
      "/data/miniconda3/envs/torch21/lib/python3.11/site-packages/tqdm/auto.py:21: TqdmWarning: IProgress not found. Please update jupyter and ipywidgets. See https://ipywidgets.readthedocs.io/en/stable/user_install.html\n",
      "  from .autonotebook import tqdm as notebook_tqdm\n",
      "/data/miniconda3/envs/torch21/lib/python3.11/site-packages/transformers/utils/hub.py:123: FutureWarning: Using `TRANSFORMERS_CACHE` is deprecated and will be removed in v5 of Transformers. Use `HF_HOME` instead.\n",
      "  warnings.warn(\n",
      "2024-06-24 13:25:07 urllib3.connectionpool DEBUG: Starting new HTTPS connection (1): huggingface.co:443\n",
      "2024-06-24 13:25:07 urllib3.connectionpool DEBUG: https://huggingface.co:443 \"HEAD /meta-llama/Meta-Llama-3-8B-Instruct/resolve/main/config.json HTTP/1.1\" 200 0\n",
      "Downloading shards: 100%|██████████| 4/4 [00:00<00:00, 4960.74it/s]\n",
      "2024-06-24 13:25:08 accelerate.utils.modeling INFO: We will use 90% of the memory on device 0 for storing the model, and 10% for the buffer to avoid OOM. You can set `max_memory` in to a higher value to use more memory (at your own risk).\n",
      "Loading checkpoint shards: 100%|██████████| 4/4 [00:12<00:00,  3.14s/it]\n",
      "2024-06-24 13:25:20 urllib3.connectionpool DEBUG: https://huggingface.co:443 \"HEAD /meta-llama/Meta-Llama-3-8B-Instruct/resolve/main/generation_config.json HTTP/1.1\" 200 0\n",
      "2024-06-24 13:25:21 urllib3.connectionpool DEBUG: https://huggingface.co:443 \"HEAD /meta-llama/Meta-Llama-3-8B-Instruct/resolve/main/tokenizer_config.json HTTP/1.1\" 200 0\n",
      "Special tokens have been added in the vocabulary, make sure the associated word embeddings are fine-tuned or trained.\n"
     ]
    }
   ],
   "source": [
    "import os\n",
    "import sys\n",
    "sys.path.append(os.path.abspath('..'))\n",
    "from src.Wrapper import LlamaWrapper\n",
    "\n",
    "model_id = \"meta-llama/Meta-Llama-3-8B-Instruct\"\n",
    "llama = LlamaWrapper(model_id=model_id)\n"
   ]
  },
  {
   "cell_type": "code",
   "execution_count": 29,
   "metadata": {},
   "outputs": [
    {
     "name": "stdout",
     "output_type": "stream",
     "text": [
      "You are an excellent linguist. The utterance 'melody' in the sentence 'songs similar to melody noir song by patrick watson' refers to (a) 'WoA' (eg. song title, album name) or (b) an 'Artist'?. \n"
     ]
    },
    {
     "data": {
      "text/plain": [
       "{'answer': 'b',\n",
       " 'full_utterance': 'songs similar to melody noir song by patrick wat',\n",
       " 'explanation': \"The word'melody' in the sentence refers\"}"
      ]
     },
     "execution_count": 29,
     "metadata": {},
     "output_type": "execute_result"
    }
   ],
   "source": [
    "system_prompt = \"You are an excellent linguist. \"\n",
    "utt = \"melody\"\n",
    "sentence = \"songs similar to melody noir song by patrick watson\"\n",
    "task = f\"The utterance '{utt}' in the sentence '{sentence}' refers to (a) 'WoA' (eg. song title, album name) or (b) an 'Artist'?. \"\n",
    "user_prompt = system_prompt + task\n",
    "print(user_prompt)\n",
    "schema =    {\n",
    "            \"type\": \"object\",\n",
    "            \"properties\": {\n",
    "                \"answer\": {\"type\": \"string\"},\n",
    "                \"full_utterance\": {\"type\": \"string\"},\n",
    "                \"explanation\": {\"type\": \"string\"}\n",
    "                }\n",
    "            }\n",
    "\n",
    "llama.prompt_to_json(\n",
    "    #system_prompt=system_prompt,\n",
    "    prompt=system_prompt + user_prompt,\n",
    "    json_schema=schema,\n",
    "    temperature=0.00001\n",
    ")\n"
   ]
  },
  {
   "cell_type": "code",
   "execution_count": null,
   "metadata": {},
   "outputs": [],
   "source": []
  }
 ],
 "metadata": {
  "kernelspec": {
   "display_name": "torch21",
   "language": "python",
   "name": "python3"
  },
  "language_info": {
   "codemirror_mode": {
    "name": "ipython",
    "version": 3
   },
   "file_extension": ".py",
   "mimetype": "text/x-python",
   "name": "python",
   "nbconvert_exporter": "python",
   "pygments_lexer": "ipython3",
   "version": "3.11.5"
  }
 },
 "nbformat": 4,
 "nbformat_minor": 2
}
