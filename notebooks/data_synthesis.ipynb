{
 "cells": [
  {
   "cell_type": "code",
   "execution_count": 13,
   "metadata": {},
   "outputs": [],
   "source": [
    "import random\n",
    "\n",
    "def perturb_characters(text, num_chars_to_perturb):\n",
    "    \"\"\"\n",
    "    Perturb a specific number of characters in the input text.\n",
    "    \n",
    "    Args:\n",
    "        text (str): The original text to perturb.\n",
    "        num_chars_to_perturb (int): The number of characters to perturb.\n",
    "        \n",
    "    Returns:\n",
    "        str: The perturbed text.\n",
    "    \"\"\"\n",
    "    characters = list(text)\n",
    "    text_length = len(characters)\n",
    "\n",
    "    if num_chars_to_perturb > text_length:\n",
    "        num_chars_to_perturb = text_length\n",
    "\n",
    "    for _ in range(num_chars_to_perturb):\n",
    "        perturbation_type = random.choice([\"substitution\", \"deletion\", \"insertion\"])\n",
    "        index = random.randint(0, len(characters) - 1)\n",
    "        \n",
    "        if perturbation_type == \"substitution\":\n",
    "            # Replace the character with a random one\n",
    "            characters[index] = random.choice(\"abcdefghijklmnopqrstuvwxyzABCDEFGHIJKLMNOPQRSTUVWXYZ\")\n",
    "        elif perturbation_type == \"deletion\" and len(characters) > 1:\n",
    "            # Remove the character\n",
    "            characters.pop(index)\n",
    "        elif perturbation_type == \"insertion\":\n",
    "            # Insert a random character\n",
    "            characters.insert(index, random.choice(\"abcdefghijklmnopqrstuvwxyzABCDEFGHIJKLMNOPQRSTUVWXYZ\"))\n",
    "    \n",
    "    return ''.join(characters)\n",
    "\n"
   ]
  },
  {
   "cell_type": "code",
   "execution_count": 30,
   "metadata": {},
   "outputs": [
    {
     "data": {
      "text/plain": [
       "'The beatles'"
      ]
     },
     "execution_count": 30,
     "metadata": {},
     "output_type": "execute_result"
    }
   ],
   "source": [
    "perturb_characters(\"The beatles\", num_chars_to_perturb=1)\n"
   ]
  },
  {
   "cell_type": "code",
   "execution_count": null,
   "metadata": {},
   "outputs": [],
   "source": []
  }
 ],
 "metadata": {
  "kernelspec": {
   "display_name": "torch21",
   "language": "python",
   "name": "python3"
  },
  "language_info": {
   "codemirror_mode": {
    "name": "ipython",
    "version": 3
   },
   "file_extension": ".py",
   "mimetype": "text/x-python",
   "name": "python",
   "nbconvert_exporter": "python",
   "pygments_lexer": "ipython3",
   "version": "3.11.5"
  }
 },
 "nbformat": 4,
 "nbformat_minor": 2
}
