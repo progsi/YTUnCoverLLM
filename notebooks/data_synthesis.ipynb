{
 "cells": [
  {
   "cell_type": "code",
   "execution_count": 45,
   "metadata": {},
   "outputs": [],
   "source": [
    "import random\n",
    "\n",
    "def perturb_characters(text, num_chars_to_perturb):\n",
    "    \"\"\"\n",
    "    Perturb a specific number of characters in the input text.\n",
    "    \n",
    "    Args:\n",
    "        text (str): The original text to perturb.\n",
    "        num_chars_to_perturb (int): The number of characters to perturb.\n",
    "        \n",
    "    Returns:\n",
    "        str: The perturbed text.\n",
    "    \"\"\"\n",
    "    characters = list(text)\n",
    "    text_length = len(characters)\n",
    "\n",
    "    if num_chars_to_perturb > text_length:\n",
    "        num_chars_to_perturb = text_length\n",
    "\n",
    "    for _ in range(num_chars_to_perturb):\n",
    "        perturbation_type = random.choice([\"substitution\", \"deletion\", \"insertion\"])\n",
    "        index = random.randint(0, len(characters) - 1)\n",
    "        \n",
    "        if perturbation_type == \"substitution\":\n",
    "            # Replace the character with a random one\n",
    "            characters[index] = random.choice(\"abcdefghijklmnopqrstuvwxyz-./_=\")\n",
    "        elif perturbation_type == \"deletion\" and len(characters) > 1:\n",
    "            # Remove the character\n",
    "            characters.pop(index)\n",
    "        elif perturbation_type == \"insertion\":\n",
    "            # Insert a random character\n",
    "            characters.insert(index, random.choice(\"abcdefghijklmnopqrstuvwxyz-./=\"))\n",
    "    \n",
    "    return ''.join(characters)\n",
    "\n"
   ]
  },
  {
   "cell_type": "code",
   "execution_count": 49,
   "metadata": {},
   "outputs": [
    {
     "data": {
      "text/plain": [
       "'The beatlxes'"
      ]
     },
     "execution_count": 49,
     "metadata": {},
     "output_type": "execute_result"
    }
   ],
   "source": [
    "perturb_characters(\"The beatles\", num_chars_to_perturb=1)\n"
   ]
  },
  {
   "cell_type": "code",
   "execution_count": 50,
   "metadata": {},
   "outputs": [
    {
     "name": "stdout",
     "output_type": "stream",
     "text": [
      "This is example an text.\n"
     ]
    }
   ],
   "source": [
    "import random\n",
    "\n",
    "def perturb_tokens(text, perturbation_strength=0.1):\n",
    "    \"\"\"\n",
    "    Perturb tokens in the input text.\n",
    "    \n",
    "    Args:\n",
    "        text (str): The original text to perturb.\n",
    "        perturbation_strength (float): The proportion of tokens to perturb (0 to 1).\n",
    "        \n",
    "    Returns:\n",
    "        str: The perturbed text.\n",
    "    \"\"\"\n",
    "    tokens = text.split()\n",
    "    num_perturbations = int(len(tokens) * perturbation_strength)\n",
    "    \n",
    "    for _ in range(num_perturbations):\n",
    "        perturbation_type = random.choice([\"substitution\", \"deletion\", \"shuffle\"])\n",
    "        index = random.randint(0, len(tokens) - 1)\n",
    "        \n",
    "        if perturbation_type == \"substitution\":\n",
    "            # Replace the token with a random one (for simplicity, replacing with \"RANDOM\" token)\n",
    "            tokens[index] = \"RANDOM\"\n",
    "        elif perturbation_type == \"deletion\" and len(tokens) > 1:\n",
    "            # Remove the token\n",
    "            tokens.pop(index)\n",
    "        elif perturbation_type == \"shuffle\" and len(tokens) > 1:\n",
    "            # Shuffle the token with another random token\n",
    "            swap_index = random.randint(0, len(tokens) - 1)\n",
    "            tokens[index], tokens[swap_index] = tokens[swap_index], tokens[index]\n",
    "    \n",
    "    return ' '.join(tokens)\n",
    "\n",
    "# Example usage\n",
    "text = \"This is an example text.\"\n",
    "perturbed_text = perturb_tokens(text, perturbation_strength=0.2)\n",
    "print(perturbed_text)\n",
    "\n"
   ]
  }
 ],
 "metadata": {
  "kernelspec": {
   "display_name": "torch21",
   "language": "python",
   "name": "python3"
  },
  "language_info": {
   "codemirror_mode": {
    "name": "ipython",
    "version": 3
   },
   "file_extension": ".py",
   "mimetype": "text/x-python",
   "name": "python",
   "nbconvert_exporter": "python",
   "pygments_lexer": "ipython3",
   "version": "3.11.5"
  }
 },
 "nbformat": 4,
 "nbformat_minor": 2
}
