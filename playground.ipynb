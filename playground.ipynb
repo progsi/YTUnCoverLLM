{
 "cells": [
  {
   "cell_type": "code",
   "execution_count": 1,
   "metadata": {},
   "outputs": [
    {
     "name": "stderr",
     "output_type": "stream",
     "text": [
      "/data/miniconda3/envs/torch21/lib/python3.11/site-packages/tqdm/auto.py:21: TqdmWarning: IProgress not found. Please update jupyter and ipywidgets. See https://ipywidgets.readthedocs.io/en/stable/user_install.html\n",
      "  from .autonotebook import tqdm as notebook_tqdm\n",
      "/data/miniconda3/envs/torch21/lib/python3.11/site-packages/transformers/utils/hub.py:123: FutureWarning: Using `TRANSFORMERS_CACHE` is deprecated and will be removed in v5 of Transformers. Use `HF_HOME` instead.\n",
      "  warnings.warn(\n",
      "Downloading shards: 100%|██████████| 4/4 [00:00<00:00, 6525.56it/s]\n",
      "Loading checkpoint shards: 100%|██████████| 4/4 [00:02<00:00,  1.49it/s]\n",
      "Special tokens have been added in the vocabulary, make sure the associated word embeddings are fine-tuned or trained.\n"
     ]
    }
   ],
   "source": [
    "from src.Wrapper import LlamaWrapper\n",
    "\n",
    "model_id = \"meta-llama/Meta-Llama-3-8B-Instruct\"\n",
    "llama = LlamaWrapper(model_id=model_id)\n",
    "\n"
   ]
  },
  {
   "cell_type": "markdown",
   "metadata": {},
   "source": [
    "# Artist and Title"
   ]
  },
  {
   "cell_type": "code",
   "execution_count": 2,
   "metadata": {},
   "outputs": [
    {
     "name": "stderr",
     "output_type": "stream",
     "text": [
      "Setting `pad_token_id` to `eos_token_id`:128001 for open-end generation.\n"
     ]
    },
    {
     "data": {
      "text/plain": [
       "\"Here are the dictionaries per element with artists and titles:\\n\\n* {'artist': 'Dream Theater', 'title': 'Metropolis Pt. 1 (Live At Luna Park DVD)'}\\n* {'artist': 'Plini & David Maxim Micic', 'title': 'LIVE @ Vh1 Supersonic 2018 (full set)'}\""
      ]
     },
     "execution_count": 2,
     "metadata": {},
     "output_type": "execute_result"
    }
   ],
   "source": [
    "system_prompt = \"For the following list of video titles, return dictionaries per element with artists and titles.\"\n",
    "user_prompt = [\"Dream Theater Metropolis Pt. 1 (Live At Luna Park DVD)\", \"Plini & David Maxim Micic LIVE @ Vh1 Supersonic 2018 (full set)\"]\n",
    "\n",
    "temperature=0.1\n",
    "top_p=0.1\n",
    "\n",
    "output = llama.prompt_list(system_prompt, user_prompt, temperature=temperature, top_p=top_p)\n",
    "output\n"
   ]
  },
  {
   "cell_type": "markdown",
   "metadata": {},
   "source": [
    "# NER"
   ]
  },
  {
   "cell_type": "code",
   "execution_count": 3,
   "metadata": {},
   "outputs": [
    {
     "name": "stderr",
     "output_type": "stream",
     "text": [
      "Setting `pad_token_id` to `eos_token_id`:128001 for open-end generation.\n"
     ]
    },
    {
     "data": {
      "text/plain": [
       "\"Here is the list with dictionaries per user prompt which contain the entity types as keys mapping to named entities in the text:\\n\\n```\\n[\\n    {\\n        'ORGANIZATION': ['Dream Theater', 'Luna Park', 'Vh1', 'Supersonic'],\\n        'PERSON': ['Plini', 'David Maxim Micic']\\n    },\\n    {\\n        'ORGANIZATION': ['Plini', 'David Maxim Micic', 'Vh1', 'Supersonic'],\\n        'WORK_OF_ART': ['Metropolis Pt. 1', 'Live At Luna Park DVD']\\n    }\\n]\\n```\""
      ]
     },
     "execution_count": 3,
     "metadata": {},
     "output_type": "execute_result"
    }
   ],
   "source": [
    "system_prompt = \"Return a list with dictionaries per user prompt which contain the entity types as keys mapping to named entities in the text. Here is the list: \"\n",
    "\n",
    "temperature=0.1\n",
    "top_p=0.1\n",
    "\n",
    "output = llama.prompt_list(system_prompt, user_prompt, temperature=temperature, top_p=top_p)\n",
    "output\n"
   ]
  }
 ],
 "metadata": {
  "kernelspec": {
   "display_name": "torch21",
   "language": "python",
   "name": "python3"
  },
  "language_info": {
   "codemirror_mode": {
    "name": "ipython",
    "version": 3
   },
   "file_extension": ".py",
   "mimetype": "text/x-python",
   "name": "python",
   "nbconvert_exporter": "python",
   "pygments_lexer": "ipython3",
   "version": "3.11.5"
  }
 },
 "nbformat": 4,
 "nbformat_minor": 2
}
